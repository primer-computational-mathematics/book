{
 "cells": [
  {
   "cell_type": "code",
   "execution_count": null,
   "metadata": {},
   "outputs": [],
   "source": [
    "# This cell just imports necessary modules\n",
    "\n",
    "import numpy as np\n",
    "\n",
    "from sympy import pprint"
   ]
  },
  {
   "cell_type": "markdown",
   "metadata": {},
   "source": [
    "# Defining a matrix\n",
    "\n",
    "Lecture 4, slide 3\n",
    "\n",
    "Define matrices using numpy.matrix, and find their dimensions using numpy.shape"
   ]
  },
  {
   "cell_type": "code",
   "execution_count": null,
   "metadata": {},
   "outputs": [],
   "source": [
    "# mA is a SQUARE matrix\n",
    "mA = np.matrix([[2, 3, -4],\n",
    "                   [3, -1, 2],\n",
    "                   [4, 2, 2]])   \n",
    "# mB is a NON-SQUARE matrix\n",
    "mB = np.matrix([[2, -4, 1, -2],\n",
    "                   [7, 8, 0, 3]])   \n",
    "                  \n",
    "# REMEMBER: when stating the dimension of a matrix (e.g. 3 x 3, 2 x 4, etc)\n",
    "# it's *R*ows Fi*R*st, *C*olumns Se*C*ond.\n",
    "# So, mA is 3 x 3 matrix, mB is a 2 x 4 matrix.\n",
    "\n",
    "print(\"The dimension of A is \", np.shape(mA)) \n",
    "\n",
    "print(\"The dimension of B is \", np.shape(mB)) "
   ]
  },
  {
   "cell_type": "markdown",
   "metadata": {},
   "source": [
    "# Matrix-scalar multiplication\n",
    "\n",
    "Lecture 4, slide 5"
   ]
  },
  {
   "cell_type": "code",
   "execution_count": null,
   "metadata": {},
   "outputs": [],
   "source": [
    "mD = np.matrix([[2, -4, 1, -2],\n",
    "                   [7, 8, 0, 3]])  \n",
    "\n",
    "    \n",
    "print(\"3*D =\")\n",
    "pprint(3*mD)"
   ]
  },
  {
   "cell_type": "markdown",
   "metadata": {},
   "source": [
    "# Matrix addition and subtraction\n",
    "\n",
    "Lecture 4, slide 6, 7"
   ]
  },
  {
   "cell_type": "code",
   "execution_count": null,
   "metadata": {},
   "outputs": [],
   "source": [
    "mE = np.matrix([[2, -4],\n",
    "                   [7, 8]])\n",
    "                  \n",
    "mF = np.matrix([[4, 0],\n",
    "                   [2, -1]])\n",
    "\n",
    "    \n",
    "print(\"E + F =\") \n",
    "pprint(mE + mF) \n",
    "\n",
    "print(\"E - F =\") \n",
    "pprint(mE - mF) "
   ]
  },
  {
   "cell_type": "markdown",
   "metadata": {},
   "source": [
    "```{note}\n",
    "The two matrices must have the same dimension. If they do not, Python will give ValueError. \n",
    "\n",
    "Adding mE (2 x 2) and mB (2 x 4): \n",
    "```"
   ]
  },
  {
   "cell_type": "code",
   "execution_count": null,
   "metadata": {},
   "outputs": [],
   "source": [
    "pprint(mE + mB)"
   ]
  },
  {
   "cell_type": "markdown",
   "metadata": {},
   "source": [
    "# Matrix-matrix multiplication\n",
    "\n",
    "Lecture 4, slide 10"
   ]
  },
  {
   "cell_type": "code",
   "execution_count": null,
   "metadata": {},
   "outputs": [],
   "source": [
    "mE = np.matrix([[2, -4],\n",
    "                   [7, 8],\n",
    "                   [3, 2]])  \n",
    "mH = np.matrix([[4, 0, 0, 1],\n",
    "                   [2, -1, 3, -2]])                  \n",
    "\n",
    "print(\"E*H =\") \n",
    "pprint(mE*mH) "
   ]
  },
  {
   "cell_type": "markdown",
   "metadata": {},
   "source": [
    "# Matrix transpose\n",
    "\n",
    "Lecture 4, slide 12, 13\n",
    "\n",
    "Finding the transpose of a matrix using numpy.transpose"
   ]
  },
  {
   "cell_type": "code",
   "execution_count": null,
   "metadata": {},
   "outputs": [],
   "source": [
    "# Non-square matrix\n",
    "mB = np.matrix([[2, -4],\n",
    "                   [7, 8],\n",
    "                   [3, 2]])\n",
    "                  \n",
    "mB_transpose = np.transpose(mB)\n",
    "print(\"The transpose of (non-square) B =\") \n",
    "pprint(mB_transpose) \n",
    "\n",
    "# Square matrix\n",
    "mB = np.matrix([[2, 3, -4],\n",
    "                   [3, -1, 2],\n",
    "                   [4, 2, 2]])                 \n",
    "\n",
    "mB_transpose = np.transpose(mB)\n",
    "print(\"The transpose of (square) B =\") \n",
    "pprint(mB_transpose) "
   ]
  },
  {
   "cell_type": "markdown",
   "metadata": {},
   "source": [
    "# Identity matrix\n",
    "\n",
    "Lecture 4, slide 15\n",
    "\n",
    "Create identity matrix using numpy.identity"
   ]
  },
  {
   "cell_type": "code",
   "execution_count": null,
   "metadata": {},
   "outputs": [],
   "source": [
    "mI = np.identity(3)\n",
    "\n",
    "print(\"I=\")\n",
    "pprint(mI)\n",
    "\n",
    "mB = np.matrix([[2, 3, -4],\n",
    "                   [3, -1, 2],\n",
    "                   [4, 2, 2]])                 \n",
    "\n",
    "\n",
    "mIB = mI*mB\n",
    "print(\"I*B =\")\n",
    "pprint(mIB)\n",
    "\n",
    "# mIB should be equal to mB\n",
    "if np.allclose(mB, mIB) == True:\n",
    "    print(\"B = I*B\")\n",
    "else:\n",
    "    print(\"Error\")"
   ]
  },
  {
   "cell_type": "markdown",
   "metadata": {},
   "source": [
    "# Determinants\n",
    "\n",
    "Lecture 4, slide 16\n",
    "\n",
    "Finding determinants of matrices using numpy.linalg.deg"
   ]
  },
  {
   "cell_type": "code",
   "execution_count": null,
   "metadata": {},
   "outputs": [],
   "source": [
    "# 2 x 2 example\n",
    "mD = np.matrix([[1, 4],\n",
    "                   [-3, 5]])            \n",
    "sDet = np.linalg.det(mD)\n",
    "print(\"det(D) = %.2f\" % sDet) \n",
    "\n",
    "# 3 x 3 example\n",
    "mA = np.matrix([[1, 2, 4],\n",
    "                   [-3, 1, -2],\n",
    "                   [3, 2, 5]])   \n",
    "det = np.linalg.det(mA)\n",
    "print(\"det(A) = %.2f\" % sDet) "
   ]
  },
  {
   "cell_type": "markdown",
   "metadata": {},
   "source": [
    "# Solving systems of linear equations \n",
    "\n",
    "Finding solutions to linear equations using numpy.linalg.solve"
   ]
  },
  {
   "cell_type": "code",
   "execution_count": null,
   "metadata": {},
   "outputs": [],
   "source": [
    "# Set up a system of the form Ax = b\n",
    "mA = np.matrix([[2, 3, -4],\n",
    "                   [3, -1, 2],\n",
    "                   [4, 2, 2]])               \n",
    "vb = np.array([10, 3, 8])\n",
    "\n",
    "# Solve the system of linear equations\n",
    "vX = np.linalg.solve(mA, vb)\n",
    "\n",
    "print(\"The solution to Ax = b is:\") \n",
    "pprint(vX) "
   ]
  },
  {
   "cell_type": "markdown",
   "metadata": {},
   "source": [
    "# Existence of solutions"
   ]
  },
  {
   "cell_type": "code",
   "execution_count": null,
   "metadata": {},
   "outputs": [],
   "source": [
    "# Compute the determinant of the square matrix A\n",
    "sDet = np.linalg.det(mA)\n",
    "print(\"Determinant of A = %.3f\" % sDet) \n",
    "if(sDet != 0):\n",
    "    print(\"The system Ax = b has a UNIQUE solution.\") \n",
    "else:\n",
    "    print(\"The system Ax = b has either infinite solutions or no solutions.\") "
   ]
  },
  {
   "cell_type": "markdown",
   "metadata": {},
   "source": [
    "# Inverse of a matrix\n",
    "\n",
    "Computing the inverse of a matrix using numpy.linalg.inv"
   ]
  },
  {
   "cell_type": "code",
   "execution_count": null,
   "metadata": {},
   "outputs": [],
   "source": [
    "# Compute the inverse of A\n",
    "mA_inv = np.linalg.inv(mA)\n",
    "print(\"The inverse of A is:\") \n",
    "pprint(mA_inv) \n",
    "\n",
    "\n",
    "# Check that A*A_inv gives the identity matrix I\n",
    "# NOTE: You may find that some elements of the matrix\n",
    "# are around 1e-16 (i.e. 10**(-16)) instead of exactly zero.\n",
    "print(\"A*A_inv=\") \n",
    "pprint(mA*mA_inv) \n",
    "\n",
    "mI = np.identity(3)\n",
    "\n",
    "if np.allclose(mI, mA*mA_inv) == True:\n",
    "    print(\"A*A_inv gives the identity matrix\")\n",
    "else:\n",
    "    print(\"Error\")"
   ]
  },
  {
   "cell_type": "markdown",
   "metadata": {},
   "source": [
    "```{note}\n",
    "A is an object with a set of methods (you'll learn more about these in the Programming for Geoscientists course). \n",
    "\n",
    "Therefore, you could also use the method getI() to compute the inverse by typing A.getI()\n",
    "```"
   ]
  }
 ],
 "metadata": {
  "kernelspec": {
   "display_name": "Python 3",
   "language": "python",
   "name": "python3"
  },
  "language_info": {
   "codemirror_mode": {
    "name": "ipython",
    "version": 3
   },
   "file_extension": ".py",
   "mimetype": "text/x-python",
   "name": "python",
   "nbconvert_exporter": "python",
   "pygments_lexer": "ipython3",
   "version": "3.7.6"
  }
 },
 "nbformat": 4,
 "nbformat_minor": 4
}
