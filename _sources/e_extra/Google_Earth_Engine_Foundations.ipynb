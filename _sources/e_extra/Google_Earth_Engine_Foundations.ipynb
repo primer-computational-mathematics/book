{
 "cells": [
  {
   "cell_type": "markdown",
   "metadata": {},
   "source": [
    "# Google Earth Engine foundations\n",
    "\n",
    "This notebooks aims to walk you through and clarify some of the basic concept of using the Google Earth engine by building upon our script step by step. Majority of this content has been borrowed from this [github repository](https://github.com/giswqs/earthengine-py-notebooks) containing over 360+ Jupyter Python notebooks examples to demonstrate the [Google Earth Engine guide](https://developers.google.com/earth-engine) in python notebooks."
   ]
  },
  {
   "cell_type": "markdown",
   "metadata": {},
   "source": [
    "## Setting up your notebook"
   ]
  },
  {
   "cell_type": "code",
   "execution_count": null,
   "metadata": {},
   "outputs": [],
   "source": [
    "# Installs geemap package\n",
    "import subprocess\n",
    "\n",
    "try:\n",
    "    import geemap\n",
    "except ImportError:\n",
    "    print('geemap package not installed. Installing ...')\n",
    "    subprocess.check_call([\"python\", '-m', 'pip', 'install', 'geemap'])\n",
    "\n",
    "# Checks whether this notebook is running on Google Colab\n",
    "try:\n",
    "    import google.colab\n",
    "    import geemap.eefolium as geemap\n",
    "except:\n",
    "    import geemap\n",
    "\n",
    "# Authenticates and initializes Earth Engine\n",
    "import ee\n",
    "\n",
    "try:\n",
    "    ee.Initialize()\n",
    "except Exception as e:\n",
    "    ee.Authenticate()\n",
    "    ee.Initialize()"
   ]
  },
  {
   "cell_type": "code",
   "execution_count": null,
   "metadata": {},
   "outputs": [],
   "source": [
    "#set map\n",
    "Map = geemap.Map(center=[40,-100], zoom=4)\n",
    "#Set a basemap, standard is google maps\n",
    "Map.add_basemap('SATELLITE')\n",
    "Map"
   ]
  },
  {
   "cell_type": "markdown",
   "metadata": {},
   "source": [
    "## Display an image"
   ]
  },
  {
   "cell_type": "code",
   "execution_count": null,
   "metadata": {},
   "outputs": [],
   "source": [
    "# Load an image.\n",
    "image = ee.Image('LANDSAT/LC08/C01/T1/LC08_044034_20140318')\n",
    "\n",
    "# Display the image.\n",
    "Map.addLayer(image, {}, 'Landsat 8 original image')\n",
    "Map.centerObject(image, 7)\n",
    "#show Map\n",
    "Map"
   ]
  },
  {
   "cell_type": "markdown",
   "metadata": {},
   "source": [
    "<img src=\"GEE_Foundations/1.png\" style=\"100%;\"/>"
   ]
  },
  {
   "cell_type": "markdown",
   "metadata": {},
   "source": [
    "## Visualise specific bands\n",
    "Remember multiple bands are displayed as RGB to our eyes."
   ]
  },
  {
   "cell_type": "code",
   "execution_count": null,
   "metadata": {},
   "outputs": [],
   "source": [
    "# Define visualization parameters in an object literal.\n",
    "vizParams = {'bands': ['B5', 'B4', 'B3'],\n",
    "            'min': 5000, 'max': 15000, 'gamma': 1.3}\n",
    "\n",
    "# Center the map on the image and display.\n",
    "Map.centerObject(image, 7)\n",
    "Map.addLayer(image, vizParams, 'Landsat 8 False color')\n",
    "Map"
   ]
  },
  {
   "cell_type": "markdown",
   "metadata": {},
   "source": [
    "<img src=\"GEE_Foundations/2.png\" style=\"100%;\"/>"
   ]
  },
  {
   "cell_type": "markdown",
   "metadata": {},
   "source": [
    "## Find an image\n",
    "it is highly recommended to first look at the [Google Earth Engine database](https://developers.google.com/earth-engine/datasets) before starting to filter for an image in your script. Each dataset on the website also has a few lines of code showing how to access it."
   ]
  },
  {
   "cell_type": "code",
   "execution_count": null,
   "metadata": {},
   "outputs": [],
   "source": [
    "#set location, easy to find on google maps\n",
    "point = ee.Geometry.Point(-122.262, 37.8719)\n",
    "\n",
    "#set filter criteria\n",
    "filteredCollection = ee.ImageCollection('LANDSAT/LC08/C01/T1') \\\n",
    "    .filterBounds(point) \\\n",
    "    .filterDate('2014-06-01','2014-10-01') \\\n",
    "    .sort('CLOUD_COVER', True)   #sort by cloudcover\n",
    "\n",
    "#see how many images in collection\n",
    "print(filteredCollection.size().getInfo())\n",
    "\n",
    "#take 1st image from collection, least cloudy one\n",
    "first = filteredCollection.first()\n",
    "\n",
    "# Define visualization parameters in an object literal.\n",
    "vizParams = {'bands': ['B5', 'B4', 'B3'],\n",
    "             'min': 5000, 'max': 15000, 'gamma': 1.3}\n",
    "\n",
    "# Center the map on the image and display.\n",
    "Map.centerObject(point, 9)\n",
    "Map.addLayer(first, vizParams, 'Landsat 8 image')\n",
    "Map"
   ]
  },
  {
   "cell_type": "markdown",
   "metadata": {},
   "source": [
    "# Band maths\n",
    "There are many more functions than the below which can be applied, they are found in the linked manuals. but here is a demonstration on how they work. "
   ]
  },
  {
   "cell_type": "code",
   "execution_count": null,
   "metadata": {},
   "outputs": [],
   "source": [
    "# find image\n",
    "point = ee.Geometry.Point(-122.262, 37.8719)\n",
    "\n",
    "filteredCollection = ee.ImageCollection('LANDSAT/LC08/C01/T1') \\\n",
    "    .filterBounds(point) \\\n",
    "    .filterDate('2014-06-01','2014-10-01') \\\n",
    "    .sort('CLOUD_COVER', True)   #sort by cloudcover\n",
    "\n",
    "#take 1st image from collection, least cloudy one\n",
    "first = filteredCollection.first()\n",
    "\n",
    "#define function to be applied to image\n",
    "def getNDWI(image):    # (B5 - B3)/(B5+B3)\n",
    "    return image.normalizedDifference(['B5', 'B3'])\n",
    "#apply function to image\n",
    "ndwi1 = getNDWI(first)\n",
    "\n",
    "# Define visualization parameters in an object literal.\n",
    "ndwiParams = {'min': -0.5, 'max': 0.5, 'palette': ['FF0000', 'FFFFFF', '0000FF']}\n",
    "\n",
    "# Center the map on the image and display.\n",
    "Map.centerObject(point, 9)\n",
    "Map.addLayer(ndwi1, ndwiParams, 'NDVI 1')\n",
    "Map"
   ]
  },
  {
   "cell_type": "markdown",
   "metadata": {},
   "source": [
    "<img src=\"GEE_Foundations/4.png\" style=\"100%;\"/>"
   ]
  },
  {
   "cell_type": "markdown",
   "metadata": {},
   "source": [
    "## Apply band math to an image collection"
   ]
  },
  {
   "cell_type": "code",
   "execution_count": null,
   "metadata": {},
   "outputs": [],
   "source": [
    "# Add Earth Engine dataset\n",
    "point = ee.Geometry.Point(-122.262, 37.8719)\n",
    "\n",
    "filteredCollection = ee.ImageCollection('LANDSAT/LC08/C01/T1') \\\n",
    "    .filterBounds(point) \\\n",
    "    .filterDate('2014-06-01','2014-10-01') \\\n",
    "    .sort('CLOUD_COVER', True)   #sort by cloudcover\n",
    "\n",
    "#visualise bands available for images in collection\n",
    "#Landsat 8 expected 11 bands\n",
    "bandNames = filteredCollection.first().bandNames()\n",
    "print(bandNames.getInfo())\n",
    "\n",
    "#carry out function and add output as an extra band\n",
    "def addNDVI(image):\n",
    "    return image.addBands(image.normalizedDifference(['B5', 'B3']))\n",
    "\n",
    "# Map the function over the collection.\n",
    "ndviCollection = filteredCollection.map(addNDVI)\n",
    "# you can see we created a new band containing our function above\n",
    "first = ndviCollection.first()\n",
    "bandNames = first.bandNames()\n",
    "print(bandNames.getInfo())"
   ]
  },
  {
   "cell_type": "markdown",
   "metadata": {},
   "source": [
    "## Reducing\n",
    "Reducing enhances common information between images and reduces noise like cloud cover by averaging multiple images."
   ]
  },
  {
   "cell_type": "code",
   "execution_count": null,
   "metadata": {},
   "outputs": [],
   "source": [
    "# Add Earth Engine dataset\n",
    "collection = ee.ImageCollection('LANDSAT/LC08/C01/T1') \\\n",
    "    .filterBounds(ee.Geometry.Point(-122.262, 37.8719)) \\\n",
    "    .filterDate('2014-01-01', '2014-12-31') \\\n",
    "    .sort('CLOUD_COVER')\n",
    "\n",
    "# Compute the median of each pixel for each band of the 5 least cloudy scenes.\n",
    "median = collection.limit(5).reduce(ee.Reducer.median())\n",
    "\n",
    "# Define visualization parameters in an object literal.\n",
    "vizParams = {'bands': ['B5_median', 'B4_median', 'B3_median'],\n",
    "             'min': 5000, 'max': 15000, 'gamma': 1.3}\n",
    "# display image\n",
    "Map.setCenter(-122.262, 37.8719, 10)\n",
    "Map.addLayer(median, vizParams, 'Median image')\n",
    "Map"
   ]
  },
  {
   "cell_type": "markdown",
   "metadata": {},
   "source": [
    "<img src=\"GEE_Foundations/5.png\" style=\"100%;\"/>"
   ]
  },
  {
   "cell_type": "markdown",
   "metadata": {},
   "source": [
    "## Obtain image statistics"
   ]
  },
  {
   "cell_type": "code",
   "execution_count": null,
   "metadata": {},
   "outputs": [],
   "source": [
    "# Add Earth Engine dataset\n",
    "image = ee.Image('LANDSAT/LC08/C01/T1_TOA/LC08_044034_20140318')\n",
    "Map.addLayer(image, {'bands': ['B4', 'B3', 'B2'], 'max': 0.3}, 'Landsat 8')\n",
    "\n",
    "# Create an arbitrary rectangle as a region and display it.\n",
    "region = ee.Geometry.Rectangle(-122.2806, 37.1209, -122.0554, 37.2413)\n",
    "Map.centerObject(ee.FeatureCollection(region), 9)\n",
    "Map.addLayer(ee.Image().paint(region, 0, 2), {}, 'Region')\n",
    "\n",
    "# Get a dictionary of means in the region. Keys are bandnames.\n",
    "mean = image.reduceRegion(**{\n",
    "  'reducer': ee.Reducer.mean(),\n",
    "  'geometry': region,\n",
    "  'scale': 30\n",
    "})\n",
    "\n",
    "print(mean.getInfo())\n",
    "Map"
   ]
  },
  {
   "cell_type": "markdown",
   "metadata": {},
   "source": [
    "<img src=\"GEE_Foundations/6.png\" style=\"100%;\"/>"
   ]
  },
  {
   "cell_type": "markdown",
   "metadata": {},
   "source": [
    "## Using masks\n",
    "The mask in the example below avoids us from including the water bodies in our data, this way we have a wider range of our colour palette available to show changes on land."
   ]
  },
  {
   "cell_type": "code",
   "execution_count": null,
   "metadata": {},
   "outputs": [],
   "source": [
    "# Load two Landsat 5 images, 20 years apart.\n",
    "image1 = ee.Image('LANDSAT/LT05/C01/T1_TOA/LT05_044034_19900604')\n",
    "image2 = ee.Image('LANDSAT/LT05/C01/T1_TOA/LT05_044034_20100611')\n",
    "\n",
    "\n",
    "# This function gets NDVI from Landsat 5 imagery.\n",
    "def getNDVI(image):\n",
    "    return image.normalizedDifference(['B4', 'B3'])\n",
    "\n",
    "# Compute NDVI from the scenes.\n",
    "ndvi1 = getNDVI(image1)\n",
    "ndvi2 = getNDVI(image2)\n",
    "\n",
    "# Compute the difference in NDVI.\n",
    "ndviDifference = ndvi2.subtract(ndvi1)\n",
    "\n",
    "# Load the land mask from the SRTM DEM.\n",
    "landMask = ee.Image('CGIAR/SRTM90_V4').mask()\n",
    "\n",
    "# Update the NDVI difference mask with the mask\n",
    "maskedDifference = ndviDifference.updateMask(landMask)\n",
    "\n",
    "# Display the masked result.\n",
    "vizParams = {'min': -0.5, 'max': 0.5,\n",
    "             'palette': ['FF0000', 'FFFFFF', '0000FF']}\n",
    "Map.setCenter(-122.2531, 37.6295, 9)\n",
    "Map.addLayer(maskedDifference, vizParams, 'NDVI difference')\n",
    "Map"
   ]
  },
  {
   "cell_type": "markdown",
   "metadata": {},
   "source": [
    "<img src=\"GEE_Foundations/7.png\" style=\"100%;\"/>"
   ]
  },
  {
   "cell_type": "markdown",
   "metadata": {},
   "source": [
    "## Inbuild CloudScore function"
   ]
  },
  {
   "cell_type": "code",
   "execution_count": null,
   "metadata": {},
   "outputs": [],
   "source": [
    "## mask clouds\n",
    "def cloudMask(img):\n",
    "    cloudscore = ee.Algorithms.Landsat.simpleCloudScore(img).select('cloud')\n",
    "    return img.updateMask(cloudscore.lt(50))\n",
    "\n",
    "# Add Earth Engine dataset\n",
    "collection = ee.ImageCollection('LANDSAT/LC8_L1T_TOA') \\\n",
    "                .filterDate('2014-12-10', '2016-12-31') \\\n",
    "                .filterBounds(ee.Geometry.Point(-122.262, 37.8719)) \\\n",
    "                .map(cloudMask) #hash in front to see difference\n",
    "\n",
    "print(collection.size().getInfo())\n",
    "\n",
    "#average images in collection\n",
    "median = collection.median()\n",
    "#display image\n",
    "Map.setCenter(-122.262, 37.8719, 9)\n",
    "vis = {'bands': ['B5', 'B4', 'B3'], 'max': 0.3}\n",
    "Map.addLayer(median,vis)\n",
    "Map"
   ]
  },
  {
   "cell_type": "markdown",
   "metadata": {},
   "source": [
    "With CloudMask function:\n",
    "<img src=\"GEE_Foundations/8.png\" style=\"50%\"/>\n",
    "Without CloudMask function:\n",
    "<img src=\"GEE_Foundations/9.png\" style=\"50%\"/>"
   ]
  }
 ],
 "metadata": {
  "kernelspec": {
   "display_name": "Python 3",
   "language": "python",
   "name": "python3"
  },
  "language_info": {
   "codemirror_mode": {
    "name": "ipython",
    "version": 3
   },
   "file_extension": ".py",
   "mimetype": "text/x-python",
   "name": "python",
   "nbconvert_exporter": "python",
   "pygments_lexer": "ipython3",
   "version": "3.7.3"
  }
 },
 "nbformat": 4,
 "nbformat_minor": 2
}
