{
 "cells": [
  {
   "cell_type": "markdown",
   "metadata": {},
   "source": [
    "(Back_Propagation) = \n",
    "# Chapter 9 -- Back Propagation"
   ]
  },
  {
   "cell_type": "markdown",
   "metadata": {},
   "source": [
    "The ultimate goal of neural network, don't forget, is to find the best weight and bias. So when we obtain the predicted $\\hat{y}$, we need to use it to compare with the actual result set $y$, and adjust weight and bias matrix $W$ in accordance."
   ]
  },
  {
   "cell_type": "markdown",
   "metadata": {},
   "source": [
    "The thought process is identical to the previous two layers neural network as we introduced before. However, we have three layers in this case, and potentially much more layers. We need to adjust and update the weight in each layer, instead of just one layer in the two layer example."
   ]
  },
  {
   "cell_type": "markdown",
   "metadata": {},
   "source": [
    "So we need to obtain the gradient of the cost function in order to update weights. Let's take the example of the first weight in the input layer in figure 8.1 in chapter 8. We need a longer chain rule to obtain the gradient because we have one more layer:"
   ]
  },
  {
   "cell_type": "markdown",
   "metadata": {},
   "source": [
    "$$\n",
    "    \\frac{\\delta C}{\\delta w^{(1)}_{11}} = \\frac{\\delta C}{\\delta\\hat{y}}\\frac{\\delta\\hat{y}}{\\delta h_2} \\frac{\\delta h_2}{\\delta h_1} \\frac{\\delta h_1}{\\delta w^{(1)}_{11}}\n",
    "    \\label{real chain rule}\n",
    "$$ (eq9_1)"
   ]
  },
  {
   "cell_type": "markdown",
   "metadata": {},
   "source": [
    "Note that the gradient of a weight is evaluated by the sum of all data/student ($y_i$), as explained in the previous example."
   ]
  },
  {
   "cell_type": "markdown",
   "metadata": {},
   "source": [
    "$$\n",
    "-\\frac{\\delta C}{w^{(1)}_{11}} = \\frac{1}{m} \\frac{\\delta}{\\delta w^{(1)}_{11}} [\\sum_{i=1}^m [y_i*ln(\\sigma(h_2)]+(1-y_i)*ln(1-\\sigma(h_2))]\n",
    "$$ (eq9_2)"
   ]
  },
  {
   "cell_type": "markdown",
   "metadata": {},
   "source": [
    "For simplicity, we just derive the gradient for weight $w^{(1)}_{11}$ for a single $y$, and use for loop to sum up them up and divide by $m$."
   ]
  },
  {
   "cell_type": "markdown",
   "metadata": {},
   "source": [
    "$$\n",
    "-\\frac{\\delta C}{w^{(1)}_{11}} = \\frac{\\delta}{\\delta w^{(1)}_{11}} [y*ln(\\sigma(h_2)]+(1-y)*ln(1-\\sigma(h_2))]\n",
    "$$ (eq9_3)"
   ]
  },
  {
   "cell_type": "markdown",
   "metadata": {},
   "source": [
    "Again, the $y$ is just a constant, so we put it outside of the differential equation."
   ]
  },
  {
   "cell_type": "markdown",
   "metadata": {},
   "source": [
    "$$\n",
    "-\\frac{\\delta C}{w^{(1)}_{11}} = y*\\frac{\\delta}{\\delta w^{(1)}_{11}} ln(\\sigma(h_2)]+ (1-y)*\\frac{\\delta}{\\delta w^{(1)}_{11}}ln(1-\\sigma(h_2))\n",
    "$$ (eq9_4)"
   ]
  },
  {
   "cell_type": "markdown",
   "metadata": {},
   "source": [
    "\n",
    "where $\\sigma(h_2) = \\hat{y}$."
   ]
  },
  {
   "cell_type": "markdown",
   "metadata": {},
   "source": [
    "We also know that"
   ]
  },
  {
   "cell_type": "markdown",
   "metadata": {},
   "source": [
    "$$\n",
    "h_2 = \\sigma(h_1)*w^{(2)}_{11} + \\sigma(h_2)*w^{(2)}_{21} + 1*w^{(2)}_{31} \n",
    "$$ (eq9_5)"
   ]
  },
  {
   "cell_type": "markdown",
   "metadata": {},
   "source": [
    "and"
   ]
  },
  {
   "cell_type": "markdown",
   "metadata": {},
   "source": [
    "$$\n",
    "h_1 = w^{(1)}_{11}*x_1 + w^{(1)}_{21}*x_2 + w^{(1)}_{31}*x_3 + w^{(1)}_{41}*1\n",
    "$$ (eq9_6)"
   ]
  },
  {
   "cell_type": "markdown",
   "metadata": {},
   "source": [
    "So, for the parts that can be combined into the chain rule:"
   ]
  },
  {
   "cell_type": "markdown",
   "metadata": {},
   "source": [
    "$$\n",
    "\\frac{\\delta C}{\\delta \\hat{y}} = \\frac{1-y}{1-\\hat{y}} - \\frac{y}{\\hat{y}}\n",
    "$$ (eq9_7)"
   ]
  },
  {
   "cell_type": "markdown",
   "metadata": {},
   "source": [
    "$$\n",
    "\\frac{\\delta \\hat{y}}{\\delta h_2} = \\sigma^{'}(h_2)= \\sigma(h_2)[1-\\sigma(h_2)]\n",
    "$$ (eq9_8)"
   ]
  },
  {
   "cell_type": "markdown",
   "metadata": {},
   "source": [
    "$$\n",
    "\\frac{\\delta h_2}{\\delta h_1} = w^{(2)}_{11}\\sigma^{'}(h_1)\n",
    "$$ (eq9_9)"
   ]
  },
  {
   "cell_type": "markdown",
   "metadata": {},
   "source": [
    "$$\n",
    "\\frac{\\delta h_1}{\\delta w^{(1)}_{11}} = x_1\n",
    "$$ (eq9_10)"
   ]
  },
  {
   "cell_type": "markdown",
   "metadata": {},
   "source": [
    "As a result, we have the gradient of $w_{11}^{(1)}$ from the input layer to the hidden layer as follow"
   ]
  },
  {
   "cell_type": "markdown",
   "metadata": {},
   "source": [
    "$$\n",
    "    -\\frac{\\delta C}{w^{(1)}_{11}} = (\\frac{1-y}{1-\\hat{y}} - \\frac{y}{\\hat{y}})*\\sigma^{'}(h_2)*w^{(2)}_{11}*\\sigma^{'}(h_1)*x_1\n",
    "    \\label{inputToHidden}\n",
    "$$ (eq9_11)"
   ]
  },
  {
   "cell_type": "markdown",
   "metadata": {},
   "source": [
    "On the other hand, we also want to get the gradient of weight (e.g. $w_{11}^{(2)}$) from the hidden layer to the output layer:"
   ]
  },
  {
   "cell_type": "markdown",
   "metadata": {},
   "source": [
    "$$\n",
    "     \\frac{\\delta C}{\\delta w^{(2)}_{11}} = \\frac{\\delta C}{\\delta\\hat{y}}\\frac{\\delta\\hat{y}}{\\delta h_2} \\frac{\\delta h_2}{\\delta  w^{(2)}_{11}}\n",
    "$$ (eq9_12)"
   ]
  },
  {
   "cell_type": "markdown",
   "metadata": {},
   "source": [
    "$$\n",
    "     \\frac{\\delta C}{\\delta w^{(2)}_{11}} = (\\frac{1-y}{1-\\hat{y}} - \\frac{y}{\\hat{y}})*\\sigma^{'}(h_2) * \\sigma(h_1)\n",
    "     \\label{hiddenToOutput}\n",
    "$$ (eq9_13)"
   ]
  },
  {
   "cell_type": "markdown",
   "metadata": {},
   "source": [
    "We realise that the first two terms are the same in equation {eq}`eq9_11` and {eq}`eq9_13`, so we define an `Error Term' $\\delta^{n-1}$ for simplicity ($n$ is the number of layers in the network, i.e. $n=3$):"
   ]
  },
  {
   "cell_type": "markdown",
   "metadata": {},
   "source": [
    "$$\n",
    "     \\delta^{n-1} = \\frac{\\delta C}{\\delta \\hat{y}}\\frac{\\delta \\hat{y}}{\\delta h_2} =  (\\frac{1-y}{1-\\hat{y}} - \\frac{y}{\\hat{y}})*\\sigma^{'}(h_2)\n",
    "$$ (eq9_14)"
   ]
  },
  {
   "cell_type": "markdown",
   "metadata": {},
   "source": [
    "So the weight $w_{11}^{(2)}$ from the hidden to output ($2nd$) layer in equation {eq}`eq9_13` can be expressed by the $\\delta^2$ for the $2nd$ layer as "
   ]
  },
  {
   "cell_type": "markdown",
   "metadata": {},
   "source": [
    "$$\n",
    "     \\frac{\\delta C}{\\delta w^{(2)}_{11}} = \\delta^{3-1} *\\sigma(h_1)\n",
    "$$ (eq9_15)"
   ]
  },
  {
   "cell_type": "markdown",
   "metadata": {},
   "source": [
    "And the weight $w_{11}^{(1)}$ from the input to hidden layer in equation {eq}`eq9_11` can be written as"
   ]
  },
  {
   "cell_type": "markdown",
   "metadata": {},
   "source": [
    "$$\n",
    "     \\frac{\\delta C}{\\delta w^{(1)}_{11}} = \\delta^{3-1} * w^{(2)}_{11} * \\sigma^{'}(h_1)*x_1\n",
    "     \\label{inputToHidden1}\n",
    "$$ (eq9_16)"
   ]
  },
  {
   "cell_type": "markdown",
   "metadata": {},
   "source": [
    "To further simplify, we have another `Error Term' $\\delta^{n-2}$ (i.e. $\\delta^{3-2}$ for the $1st$ layer)"
   ]
  },
  {
   "cell_type": "markdown",
   "metadata": {},
   "source": [
    "$$\n",
    "     \\delta^{n-2} = \\delta^{n-1} * w^{(2)}_{11} * \\sigma^{'}(h_1)\n",
    "$$ (eq9_17)"
   ]
  },
  {
   "cell_type": "markdown",
   "metadata": {},
   "source": [
    "where $\\delta^1$ is for the next layer to the left, in this 3 layer neural network example, it is for the weight between input and hidden layer. $\\delta^1$ is updated by multiplying the corresponding weight $w^{(2)}_{11}$ in the current layer and the derivative of sigma of the next layer to the left $\\sigma^{'}(h_1)$."
   ]
  },
  {
   "cell_type": "markdown",
   "metadata": {},
   "source": [
    "So the equation {eq}`eq9_16` for weights in the $1st$ layer can be written as"
   ]
  },
  {
   "cell_type": "markdown",
   "metadata": {},
   "source": [
    "$$\n",
    "     \\frac{\\delta C}{\\delta w^{(1)}_{11}} = \\delta^1 *x_1\n",
    "     \\label{inputToHidden2}\n",
    "$$ (eq9_18)"
   ]
  },
  {
   "cell_type": "markdown",
   "metadata": {},
   "source": [
    "So in a sense, in the back propagation, we update the weights in layers closer to the output layer first and then update towards the input layer. Every time we go back to one layer, we update the $\\delta^1$ based on the $\\delta^0$ in the previous layer."
   ]
  },
  {
   "cell_type": "markdown",
   "metadata": {},
   "source": [
    "For updating the weight from the hidden to the output ($2nd$) layer, we have"
   ]
  },
  {
   "cell_type": "markdown",
   "metadata": {},
   "source": [
    "$$\n",
    "w_i^{(2)'} = w_i^{(2)} - \\eta \\nabla C =  w_i^{(2)} - \\eta \\frac{\\delta C}{\\delta w_i} =   w_i^{(2)} - \\eta \\sum_{i=1}^m \\delta^2\\sigma(h_1)\n",
    "$$ (eq9_19)"
   ]
  },
  {
   "cell_type": "markdown",
   "metadata": {},
   "source": [
    "Remember that the $\\delta^0$ is a function of $y$, where we need to sum up all $y_i$ in the dataset."
   ]
  },
  {
   "cell_type": "markdown",
   "metadata": {},
   "source": [
    "For updating the weight from the input to the hidden ($1st$) layer, we have"
   ]
  },
  {
   "cell_type": "markdown",
   "metadata": {},
   "source": [
    "$$\n",
    "w_i^{(1)'} = w_i^{(1)} - \\eta \\nabla C =  w_i^{(1)} - \\eta \\frac{\\delta C}{\\delta w_i} =   w_i^{(1)} - \\eta \\sum_{i=1}^m \\delta^1 x_1\n",
    "$$ (9_20)"
   ]
  }
 ],
 "metadata": {
  "kernelspec": {
   "display_name": "Python 3",
   "language": "python",
   "name": "python3"
  },
  "language_info": {
   "codemirror_mode": {
    "name": "ipython",
    "version": 3
   },
   "file_extension": ".py",
   "mimetype": "text/x-python",
   "name": "python",
   "nbconvert_exporter": "python",
   "pygments_lexer": "ipython3",
   "version": "3.7.7"
  }
 },
 "nbformat": 4,
 "nbformat_minor": 4
}
