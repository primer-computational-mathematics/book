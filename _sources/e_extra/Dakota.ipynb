{
 "cells": [
  {
   "cell_type": "markdown",
   "metadata": {},
   "source": [
    "# Dakota\n",
    "```{index}\n",
    "Dakota\n",
    "```\n",
    "\n",
    "The **Dakota** project provides software for optimisation and uncertainty quantification. \n",
    "\n",
    "Dakota can be used for a broad range of computational tasks as it enables design exploration, risk analysis, model calibration, and quantification of margins and uncertainty with computational models.\n",
    "\n",
    "The intended use of Dakota is to aid computational methods developed to better understand the complex physical systems they simulate. In many cases these simulations are used to find the optimal design of a system, or to make prediction for systems that can not be directly tested. \n",
    "\n",
    "The use of these computational simulations can lead to better system designs and improved overall performance. Furthermore, a reduced dependence on physical testing can reduce development costs and quicken the design process.\n",
    "\n",
    "In this notebook, it will be presented how the Dakota library is used to automatize the parameter space investigated in a given computational model using python programming language."
   ]
  },
  {
   "cell_type": "markdown",
   "metadata": {},
   "source": [
    "## Installation\n",
    "\n",
    "```{margin} **Necessary packages**\n",
    "Before attempting to install Dakota you must ensure that the packages cmake and libboost are installed on your computer. If you don't, you will have to find someone with the necessary admin rights to install these. Some of the required tools and libraries are listed [here](https://dakota.sandia.gov/content/install-required-tools-and-libraries).\n",
    "```\n",
    "Dakota can be downloaded from [Sandia National Laboratories](https://dakota.sandia.gov/download.html) website. For the latest release, [download](https://dakota.sandia.gov/download.html) and extract a distribution file onto your computer. This tutorial will rely on the source code distribution (tar.gv files). The extracted directory will act as your Dakota installation directory.\n",
    "\n",
    "To extract the tar.gv file navigate to the file and type the following:"
   ]
  },
  {
   "cell_type": "markdown",
   "metadata": {},
   "source": [
    "<p style=\"background:black\">\n",
    "<code style=\"background:black;color:white\">tar xvzf file.tar.gz\n",
    "</code>\n",
    "</p>"
   ]
  },
  {
   "cell_type": "markdown",
   "metadata": {},
   "source": [
    "Once the file has been extracted, navigate to the unzipped Dakota source code and find the first folder containing a CMakeList.txt file. Once there type the following to access cmake:"
   ]
  },
  {
   "cell_type": "markdown",
   "metadata": {},
   "source": [
    "<p style=\"background:black\">\n",
    "<code style=\"background:black;color:white\">mkdir build <br>cd build<br>ccmake ..</code>\n",
    "</p>"
   ]
  },
  {
   "cell_type": "markdown",
   "metadata": {},
   "source": [
    "On the window which appears, press the c key to run configure once. Once configured scroll to CMAKE-INSTALL-PREFIX and edit the variable to something memorable (e.g /home/name/dakota). Press the c key again to configure and then the g key to exit back to the terminal.\n",
    "\n",
    "Once back in the terminal type the following to install Dakota:"
   ]
  },
  {
   "cell_type": "markdown",
   "metadata": {},
   "source": [
    "<p style=\"background:black\">\n",
    "<code style=\"background:black;color:white\">make -j4 <br>make install</code>\n",
    "</p>"
   ]
  },
  {
   "cell_type": "markdown",
   "metadata": {},
   "source": [
    "## Python template for Dakota\n",
    "\n",
    "To automatize the parameter space in your model using Dakota, you first need to have a Python script in which Dakota can adjust the parameters in the model simulations. To do this create a .py file with an editor of choice:"
   ]
  },
  {
   "cell_type": "markdown",
   "metadata": {},
   "source": [
    "<p style=\"background:black\">\n",
    "<code style=\"background:black;color:white\">gedit file.py\n",
    "</code>\n",
    "</p>"
   ]
  },
  {
   "cell_type": "markdown",
   "metadata": {},
   "source": [
    "Any parameter that is meant to be changed by Dakota, needs to be put in '{ }' brackets. Dakota will evaluate changes in the response functions - print statements. In this case the print statement will involve Parameter 1 and Parameter 2. This is implemented by the following:\n",
    "\n",
    "```python\n",
    "Parameter1 = {par1}\n",
    "Parameter2 = {par2}\n",
    "\n",
    "print(Parameter1*Parameter2)\n",
    "\n",
    "```\n",
    "```{note}\n",
    "Dakota can automatize more parameters for more complex studies. It only allows one print statement in the Python file used as a template. You can still save plots or other useful when running the code. However, make sure to use, for example sys library to print outputs to the terminal that are not to be recognised as response functions by Dakota.\n",
    "```"
   ]
  },
  {
   "cell_type": "markdown",
   "metadata": {},
   "source": [
    "## Dakota bash file\n",
    "\n",
    "The purpose of the bash file is to allow Dakota to investigate the selected parameters in the python file. In this case the bash file, e.g file.sh, creates a copy of the python file (the template file) and using Dakota executable 'dprepro', changes the values of parameters in curly brackets in the code. It then runs the Python script and returns the results. \n",
    "\n",
    "In the following bash file 'file.py', we use previously created Python file and 'file_temp.in' which is the template file (described in the next section)."
   ]
  },
  {
   "cell_type": "markdown",
   "metadata": {},
   "source": [
    "```\n",
    "#!/bin/sh\n",
    "# $1 is params.in FROM Dakota\n",
    "# $2 is results.out returned to Dakota\n",
    "#--------------\n",
    "#PRE-PROCESSING\n",
    "#--------------\n",
    "echo entered shell script\n",
    "dprepro $1 file.py file_temp.in\n",
    "echo dprepro finished\n",
    "# --------\n",
    "# ANALYSIS\n",
    "# --------\n",
    "python file_temp.in > results.tmp\n",
    "# ---------------\n",
    "# POST-PROCESSING\n",
    "# ---------------\n",
    "mv results.tmp $2\n",
    "```"
   ]
  },
  {
   "cell_type": "markdown",
   "metadata": {},
   "source": [
    "## Dakota input file\n",
    "\n",
    "The Dakota input file must consist of the following blocks: environment, method, model, variables, interface and responses. Details on these blocks can be found in the [Reference Manual and User’s Manual](https://dakota.sandia.gov/documentation.html).\n",
    "\n",
    "As an example, in this simple case Dakota puts values ranging between 1 and 2 instead of Parameter1 'par1', and values ranging between 3 and 4 instead of Parameter2 'par2' from the template. According to the code above, Dakota will then calculate the product of Parameter1 and Parameter2 and grab the print statement into the tabular file 'file.dat'. In this example, Dakota will use the efficient global optimisation algorithm that will guess subsequent 'par1' and 'par2' values to maximise the output, i.e. the print statement from the template file."
   ]
  },
  {
   "cell_type": "markdown",
   "metadata": {},
   "source": [
    "```\n",
    "environment\n",
    "    tabular_data\n",
    "        tabular_data_file = ’file.dat’\n",
    "        \n",
    "method\n",
    "    efficient_global\n",
    "        max_iterations 50\n",
    "        convergence_tolerance 1e-3\n",
    "        x_conv_tol 1e-3\n",
    "        gaussian_process\n",
    "            surfpack\n",
    "        export_approx_points_file ’file_surrogate.dat’ #interpolates results for points within the\n",
    "                                                       #parameter space that have not been calculated\n",
    "                                                       \n",
    "variables\n",
    "    continuous_design = 2 #number of parameters\n",
    "        initial_point   1.5 3.5\n",
    "        lower_bounds   1 3\n",
    "        upper_bounds   2 4\n",
    "        descriptors   ’par1’ ’par2’\n",
    "        \n",
    "model\n",
    "    single\n",
    "    \n",
    "interface\n",
    "    fork\n",
    "        analysis_driver = ’file.sh’ # bash file that connects Dakota and Python files\n",
    "    deactivate evaluation_cache restart_file\n",
    "    failure_capture continuation\n",
    "\n",
    "responses\n",
    "    objective_functions = 1\n",
    "        sense ’maximize’\n",
    "        descriptors ’max_power’ #prints the average power with the aim of finding the max average power\n",
    "    no_gradients\n",
    "    no_hessians\n",
    "    \n",
    "```"
   ]
  },
  {
   "cell_type": "markdown",
   "metadata": {},
   "source": [
    "Once the Python, bash and input files have been created, you can run the simulation with dakota using the following command line:"
   ]
  },
  {
   "cell_type": "markdown",
   "metadata": {},
   "source": [
    "```\n",
    "dakota -i file.in -o file.out\n",
    "```"
   ]
  },
  {
   "cell_type": "markdown",
   "metadata": {},
   "source": [
    "## References\n",
    "* https://dakota.sandia.gov"
   ]
  }
 ],
 "metadata": {
  "kernelspec": {
   "display_name": "Python 3",
   "language": "python",
   "name": "python3"
  },
  "language_info": {
   "codemirror_mode": {
    "name": "ipython",
    "version": 3
   },
   "file_extension": ".py",
   "mimetype": "text/x-python",
   "name": "python",
   "nbconvert_exporter": "python",
   "pygments_lexer": "ipython3",
   "version": "3.7.3"
  }
 },
 "nbformat": 4,
 "nbformat_minor": 4
}
