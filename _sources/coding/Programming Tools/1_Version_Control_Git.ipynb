{
 "cells": [
  {
   "cell_type": "markdown",
   "metadata": {},
   "source": [
    "(version_control_git)=\n",
    "# Version control git\n",
    "\n",
    "As a future researcher, professional or enthusiast you will find out that maintaing a high standard of code is a considerable challenge. This can get even harder when multiple programmers are involved. Coding can be very rewarding, but it is also full of pitfalls and requires a *trial-and-error* approach.  \n",
    "\n",
    "This is where **version control** comes in. It is a software which allows you to track the development of your coding project. It also enables your peers to work on different versions of the same structure. \n",
    "\n",
    "The most well known version control facility is [git](https://git-scm.com/) but there are others such as [mercurial](https://www.mercurial-scm.org/). We are going to tackle the former. There are many platforms that allow to host git repositories, but the most well known is [GitHub](https://github.com/). This is the one we are going to use. "
   ]
  },
  {
   "cell_type": "markdown",
   "metadata": {},
   "source": [
    "## Setting up Git\n",
    "\n",
    "If you are on macOS or most distributions of Linux, you have git already configured on your machine. \n",
    "For Windows, you will need to download and install [Git for Windows](https://gitforwindows.org/).\n",
    "We will be accessing git via the terminal (*Git Bash* on Windows)."
   ]
  },
  {
   "cell_type": "markdown",
   "metadata": {},
   "source": [
    "## My first Git repo\n",
    "\n",
    "There are two ways of initialising a github *repo* (= repository), one can be done via terminal only (with the ```git init``` command). In the second option we create a repository on Github and then connect to it with the terminal. \n",
    "\n",
    "If you want to try the first option, check out [this page](https://kbroman.org/github_tutorial/pages/init.html). Otherwise follow these steps.\n",
    "\n",
    "1) Create a GitHub account [here](https://github.com/join)\n",
    "\n",
    "2) Click your profile picture in the upper right corner -> Your Repositories -> New (Green)\n",
    "\n",
    "3) Choose a name (\"MyFirstRepo\"?)\n",
    "\n",
    "4) Set to Private\n",
    "\n",
    "5) Initialise this repository with a README (used to describe the repository)\n",
    "\n",
    "6) Create Repository (Green)\n",
    "\n",
    "Now your repository is on Github, time to connect it to your local machine.\n",
    "\n",
    "1) In the repository window click Code (Green)\n",
    "\n",
    "2) Copy the given link (you might have an option to use SHH or HTTPS - the latter will be simpler for now)\n",
    "\n",
    "3) Now go to the terminal\n",
    "\n",
    "4) Type  ```git clone <link>``` e.g  ```git clone https://github.com/funnyaccount/MyFirstRepoTutorial``` and hit enter. You might be asked for your GitHub  credentials.\n",
    "\n",
    "Congratulations, your repo is on your machine!"
   ]
  },
  {
   "cell_type": "markdown",
   "metadata": {},
   "source": [
    "## Basic Git commands\n",
    "\n",
    "Now we will go through different commands and their effect on the repository:\n",
    "\n",
    "* ```git clone <link>``` - creates a copy of the repo on your machine. \n",
    "\n",
    "* ```git add <file/directory>``` - stages changes for a commit. It is the first part of the two-step process of creating a new snapshot. Files must to be added before the commit. It needs to be run with an argument e.g.:\n",
    "\n",
    "    &ensp;```git add text.txt``` - stages the ```text.txt``` file\n",
    "    \n",
    "    &ensp;```git add dir``` - stages the whole ```dir```\n",
    "\n",
    "    &ensp;```git add . ``` - stages all the unstaged files, **very common**.\n",
    "\n",
    "* ```git commit -m \"message\"``` - saves the snapshot in the project hostory. It works like a photo, anything staged with ```git add``` will become a part of this snapshot. It is a good practice to run it with the ```-m``` flag followed by a brief message what was done. Without ```-m``` you might be prompted to do it in a terminal text editor such as Vim, read about the [Vim commands](https://www.fprintf.net/vimCheatSheet.html).\n",
    "\n",
    "* ```git status``` - shows which files are staged, modified or untracked.\n",
    "\n",
    "* ```git pull``` - updates the local repository with the changes made on the remote one. If you work in a team and you friend commited code, you might want to ```git pull``` to have those changes on your machine.\n",
    "\n",
    "* ```git push``` - updates the remote repository with your commits. **You need to us this command to update the code on GitHub**.\n",
    "\n",
    "\n",
    "### Advanced commands:\n",
    "\n",
    "* ```git init``` - initalizes a new Git repository and begins tracking the directory. Adds a hidden subfloder required for the version control. Have a look at the exercises if you want to try it! \n",
    "\n",
    "* ```git stash``` - this command is used quite unfrequently. It locally saves the work that is not ready to commit and gives a clean working directory. For instance, when working on a new feature that’s not complete, but an urgent bug needs attention:\n",
    "\n",
    "    &ensp;```git stash -u``` - saves the untracked files a well\n",
    "    \n",
    "    &ensp;```git stash pop``` - brings th stashed work back to the directory\n",
    "\n",
    "* ```git fetch``` - downloads meta-data but does not change the files on your machine. It allows you which files are changes in the latast version of a branch, but does no implement those changes. Follwed by  ```git merge FETCH_HEAD``` works the same as  ```git pull```\n",
    "\n",
    "* ```git log``` - shows a chronological commit history for a repo.\n",
    "\n",
    "    "
   ]
  },
  {
   "cell_type": "markdown",
   "metadata": {},
   "source": [
    "## Git workflow\n",
    "\n",
    "For now, the history of our project looks like that:\n",
    "\n",
    "```{figure} programming_tools_images/GitWorkFlowSingle.png\n",
    ":width: 100%\n",
    "```"
   ]
  },
  {
   "cell_type": "markdown",
   "metadata": {},
   "source": [
    "Where circle denotes pushed commits. \n",
    "\n",
    "The commands we have discussed enable us to work on one *branch*. A branch is a version of a project. The great power of Git comes when we work on multiple branches. Such multi-branch project can have the following structure:\n",
    "\n",
    "```{figure} programming_tools_images/GitWorkFlow.png\n",
    ":width: 100%\n",
    "```"
   ]
  },
  {
   "cell_type": "markdown",
   "metadata": {},
   "source": [
    "**Master** is usually the main branch of the project. All branches stem (immediately or not) from the master. When two braches become one, we say that they are *merged*. It is a good practice to merge all branches at the end of development process (unless the one of the branches is not relevant to the project). Cosider the branches from the diagram:\n",
    "\n",
    "* FixRunner - there was a broken runner function in the structure of the project. One of the developers branched from the Master branch to fix it and then merged them.\n",
    "\n",
    "* FrontEnd - the team working of the front end works created this branch not to intefere with the rest of developers. It is merged with the Master at the end of the production cycle.\n",
    "\n",
    "* OpenScreen - a feature developed by some people in the front end team.\n",
    "\n",
    "* Unused - branch that did not end end up contributing to the final verision of the project."
   ]
  },
  {
   "cell_type": "markdown",
   "metadata": {},
   "source": [
    "## Git branch commands\n",
    "\n",
    "Let us consider the commands dealing with branches:\n",
    "\n",
    "* Where circle denotes pushed commits. \n",
    "\n",
    "The commands we have discussed enable us to work on one *branch*. A branch is a version of a project. The great power of Git comes when we work on multiple branches. Such multi-branch project can have the following structure:\n",
    "\n",
    "* ```git branch``` - this command has multiple effects depending on the arguments:\n",
    "\n",
    "    &ensp;```git branch``` - shows the branches being worked on locally.\n",
    "    &ensp;```git branch -a``` - shows remote and local branches.\n",
    "    &ensp;```git branch <branch_name>``` - creates a new branch.\n",
    "    &ensp;```git branch -d <branch_name>``` - deletes a branch.  \n",
    "    \n",
    "* ```git checkout``` - used to switch branches:\n",
    "\n",
    "    &ensp;```git checkout <branch_name>``` - move to an existing branch.\n",
    "    &ensp;```git checkout -b <branch_name>``` - create a brnach and move to it.\n",
    "    \n",
    "* ```git merge <branch_name>``` - merges a a branch into the current working branch (```<branch_name>``` will no longer be an independent branch)."
   ]
  },
  {
   "cell_type": "markdown",
   "metadata": {},
   "source": [
    "## Examples\n",
    "\n",
    "------------------\n",
    "* **Contributing** Now your repository is in the home directory. Now you will need to enter this directory on your machine:\n",
    "\n",
    "```shell\n",
    "cd MyFirstRepoTutorial\n",
    "```\n",
    "Now we will create a new file in that folder:\n",
    "\n",
    "```shell\n",
    "vim Hello.txt\n",
    "```\n",
    "\n",
    "This will take you to the Vim text editor. Type ```i``` to enter the editing mode. Type some text, when finished type click the ```esc``` button. Then type ```w``` and enter. Finally type ```qa``` and enter. New file is created!\n",
    "\n",
    "Now type in terminal:\n",
    "\n",
    "```shell\n",
    "git status\n",
    "```\n",
    "\n",
    "This should tell you that ```Hello.txt``` is untracked. To change this:\n",
    "\n",
    "```shell\n",
    "git add .\n",
    "git status\n",
    "```\n",
    "Now the file is tracked, congrats! We now need to commit:\n",
    "\n",
    "\n",
    "```shell\n",
    "git commit -m 'Hello file created'\n",
    "```\n",
    "Finally:\n",
    "\n",
    "```shell\n",
    "git push\n",
    "```\n",
    "Now your new file is on GitHub!"
   ]
  },
  {
   "cell_type": "code",
   "execution_count": null,
   "metadata": {},
   "outputs": [],
   "source": []
  }
 ],
 "metadata": {
  "kernelspec": {
   "display_name": "Python 3",
   "language": "python",
   "name": "python3"
  },
  "language_info": {
   "codemirror_mode": {
    "name": "ipython",
    "version": 3
   },
   "file_extension": ".py",
   "mimetype": "text/x-python",
   "name": "python",
   "nbconvert_exporter": "python",
   "pygments_lexer": "ipython3",
   "version": "3.7.4"
  }
 },
 "nbformat": 4,
 "nbformat_minor": 2
}
