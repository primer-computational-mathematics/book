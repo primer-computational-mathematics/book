{
 "cells": [
  {
   "cell_type": "markdown",
   "metadata": {},
   "source": [
    "(version_control_git)=\n",
    "# Version control git\n",
    "\n",
    "As a future researcher, professional or enthusiast you will find out that maintaing a high standard of code is a considerable challenge. This can get even harder when multiple programmers are involved. Coding can be very rewarding, but it is also full of pitfalls and requires a *trial-and-error* approach.  \n",
    "\n",
    "This is where **version control** comes in. It is a software which allows you to track the development of your coding project. It also enables your peers to work on different versions of the same structure. \n",
    "\n",
    "The most well known version control facility is [git](https://git-scm.com/) but there are others such as [mercurial](https://www.mercurial-scm.org/). We are going to tackle the former. There are many platforms that allow to host git repositories, but the most well known is [GitHub](https://github.com/). This is the one we are going to use. "
   ]
  },
  {
   "cell_type": "markdown",
   "metadata": {},
   "source": [
    "## Setting up Git\n",
    "\n",
    "If you are on macOS or most distributions of Linux, you have git already configured on your machine. \n",
    "For Windows, you will need to download and install [Git for Windows](https://gitforwindows.org/).\n",
    "We will be accessing git via the terminal (*Git Bash* on Windows)."
   ]
  },
  {
   "cell_type": "markdown",
   "metadata": {},
   "source": [
    "## My first Git repo\n",
    "\n",
    "There are two ways of initialising a github *repo* (= repository), one can be done via terminal only (with the ```git init``` command). In the second option we create a repository on Github and then connect to it with the terminal. \n",
    "\n",
    "If you want to try the first option, check out [this page](https://kbroman.org/github_tutorial/pages/init.html). Otherwise follow these steps.\n",
    "\n",
    "1) Create a GitHub account [here](https://github.com/join)\n",
    "\n",
    "2) Click your profile picture in the upper right corner -> Your Repositories -> New (Green)\n",
    "\n",
    "3) Choose a name (\"MyFirstRepo\"?)\n",
    "\n",
    "4) Set to Private\n",
    "\n",
    "5) Initialise this repository with a README (used to describe the repository)\n",
    "\n",
    "6) Create Repository (Green)\n",
    "\n",
    "Now your repository is on Github, time to connect it to your local machine.\n",
    "\n",
    "1) In the repository window click Code (Green)\n",
    "\n",
    "2) Copy the given link (you might have an option to use SHH or HTTPS - the latter will be simpler for now)\n",
    "\n",
    "3) Now go to the terminal\n",
    "\n",
    "4) Type  ```git clone LINKYOUCOPIED``` e.g  ```git clone https://github.com/funnyaccount/MyFirstRepoTutorial``` and hit enter. You might be asked for your GitHub  credentials.\n",
    "\n",
    "Congratulations, your repo is on your machine!"
   ]
  },
  {
   "cell_type": "markdown",
   "metadata": {},
   "source": [
    "## Basic Git commands\n",
    "\n",
    "Now we will go through different commands and their effect on the repository:\n",
    "* ```git init``` - initalizes a new Git repository and begins tracking the directory. Adds a hidden subfloder required for the version control. Have a look at the exercises if you want to try it! \n",
    "\n",
    "* ```git clone LINK``` - creates a copy of the repo on your machine. \n",
    "\n",
    "* ```git add FILE/DIRECTORY``` - stages changes for a commit. It is the first part of the two-step process of creating a new snapshot. Files must to be added before the commit. It needs to be run with an argument e.g.:\n",
    "\n",
    "    &ensp;```git add text.txt``` - stages the ```text.txt``` file\n",
    "    \n",
    "    &ensp;```git add dir``` - stages the whole ```dir```\n",
    "\n",
    "    &ensp;```git add . ``` - stages all the unstaged files, **very common**.\n",
    "\n",
    "* ```git commit -m \"message\"``` - saves the snapshot in the project hostory. It works like a photo, anything staged with ```git add``` will become a part of this snapshot.\n",
    "\n",
    "* ```git status``` - shows which files are staged, modified or untracked.\n",
    "\n",
    "* ```git pull``` - updates the local repository with the changes made on the remote one. If you work in a team and you friend commited code, you might want to ```git pull``` to have those changes on your machine.\n",
    "\n",
    "* ```git push``` - updates the remote repository with your commits. **You need to us this command to update the code on GitHub**."
   ]
  },
  {
   "cell_type": "markdown",
   "metadata": {},
   "source": [
    "## Git workflow\n",
    "\n"
   ]
  }
 ],
 "metadata": {
  "kernelspec": {
   "display_name": "Python 3",
   "language": "python",
   "name": "python3"
  },
  "language_info": {
   "codemirror_mode": {
    "name": "ipython",
    "version": 3
   },
   "file_extension": ".py",
   "mimetype": "text/x-python",
   "name": "python",
   "nbconvert_exporter": "python",
   "pygments_lexer": "ipython3",
   "version": "3.7.4"
  }
 },
 "nbformat": 4,
 "nbformat_minor": 2
}
