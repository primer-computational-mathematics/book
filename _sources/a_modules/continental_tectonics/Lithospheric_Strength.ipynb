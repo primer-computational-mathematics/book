{
 "cells": [
  {
   "cell_type": "markdown",
   "metadata": {},
   "source": [
    "# Lithospheric Strength"
   ]
  },
  {
   "cell_type": "code",
   "execution_count": 9,
   "metadata": {},
   "outputs": [],
   "source": [
    "import numpy as np\n",
    "import matplotlib.pyplot as plt"
   ]
  },
  {
   "cell_type": "markdown",
   "metadata": {},
   "source": [
    "## What is it?\n",
    "Lithospheric strength is controlled by rheology, which depends on temperature, composition and presence of volatiles (e.g. water). These features interact to control the strength of the lithosphere. The lithosphere can deform by brittle and ductile deformation. The deformation processes have their own yield strengths, beyond which their deformation is non-elastic.\n",
    "\n"
   ]
  },
  {
   "cell_type": "markdown",
   "metadata": {},
   "source": [
    "## Brittle Yield Strength\n",
    "The brittle yield strength is assumed to be related to pressure (depth) in the crust. It is independent of strain rate, temperature and composition. For oceanic lithosphere we can use Anderson’s theory of faulting to express the dip of a fault in terms of the coefficient of friction. \n",
    "\n",
    "The tectonic stress required to cause faulting under $\\textbf{tension}$ is:\n",
    "\n",
    "$${\\Delta}{\\sigma}_{xx}=\\frac{-2f_{s}({\\rho}gy-p_{w})}{(1+f_{s}^{2})^{\\frac{1}{2}}+f_{s}}$$\n",
    "\n",
    "The tectonic stress required to cause faulting under $\\textbf{compression}$ is:\n",
    "\n",
    "$${\\Delta}{\\sigma}_{xx}=\\frac{2f_{s}({\\rho}gy-p_{w})}{(1+f_{s}^{2})^{\\frac{1}{2}}-f_{s}}$$\n",
    "\n",
    "where ${\\sigma}_{xx}$ is the deviatoric stress (i.e. non-hydrostatic stress; related to shape change), $f_{s}$ is the static component of friction, ${\\rho}gy$ is the lithostatic stress (${\\rho}$ = 3.3 g/cm3, $y$ = depth), and $p_{w}$ is the pore pressure. To find the failure stress of the brittle part of the lithosphere (e.g. the crust) we assume that the pore pressure is hydrostatic, so $p_{w}={\\rho}gy$ and $f_{s}$ = 0.6."
   ]
  },
  {
   "cell_type": "markdown",
   "metadata": {},
   "source": [
    "### Practice 1\n",
    "Use these equations to sketch strength profiles of oceanic lithosphere to a depth of 40 km.\n",
    "Are rocks more prone to failure under tension or compression?"
   ]
  },
  {
   "cell_type": "code",
   "execution_count": 7,
   "metadata": {},
   "outputs": [],
   "source": [
    "f_s = 0.6\n",
    "rho = 3300           # mantle density\n",
    "rho_w = 1015\n",
    "alen = 40000         # depth range, m\n",
    "dy = 200             # depth sampling, m\n",
    "y = np.zeros(alen)\n",
    "g = 9.81"
   ]
  },
  {
   "cell_type": "code",
   "execution_count": 10,
   "metadata": {},
   "outputs": [
    {
     "data": {
      "image/png": "[encoded data removed]",
      "text/plain": [
       "<Figure size 432x288 with 1 Axes>"
      ]
     },
     "metadata": {
      "needs_background": "light"
     },
     "output_type": "display_data"
    }
   ],
   "source": [
    "# Calculate the stress profile over depth for tension. Note that  𝑝𝑤  depends on depth.\n",
    "sigmat = np.zeros(alen)\n",
    "pw = np.zeros(alen)\n",
    "\n",
    "for i in range (0, -alen, -dy) :\n",
    "  y[i] = np.real(i)\n",
    "  pw[i] = rho_w * g * y[i]\n",
    "  sigmat[i] = (-2. * f_s * ((rho * g * y[i]) - pw[i])) / ((1. + f_s**2.)**0.5 + f_s) # tension strength\n",
    "  \n",
    "plt.plot(sigmat/1e6, -1*y/1000)\n",
    "plt.gca().invert_yaxis()\n",
    "plt.ylabel('Depth, km')\n",
    "plt.xlabel('Strength, MPa')\n",
    "plt.show()"
   ]
  },
  {
   "cell_type": "code",
   "execution_count": 13,
   "metadata": {},
   "outputs": [
    {
     "data": {
      "image/png": "[encoded data removed]",
      "text/plain": [
       "<Figure size 432x288 with 1 Axes>"
      ]
     },
     "metadata": {
      "needs_background": "light"
     },
     "output_type": "display_data"
    },
    {
     "name": "stdout",
     "output_type": "stream",
     "text": [
      "What we can see is that the failure stress under tension is lower at any depth therefore rocks are always easier to break in tension.\n"
     ]
    }
   ],
   "source": [
    "# Calculate the stress profile over depth for compression. You shouldn't need to recalculate  𝑝𝑤 .\n",
    "sigmac = np.zeros(alen)\n",
    "\n",
    "for i in range (0, -alen, -dy) :\n",
    "  pw[i] = rho_w * g * y[i]\n",
    "  sigmac[i] = (-2. * f_s * ((rho * g * y[i]) - pw[i])) / ((1. + f_s**2.)**0.5 - f_s) # compression strength\n",
    "\n",
    "plt.plot(sigmat/1e6, -1*y/1000)\n",
    "plt.plot(sigmac/1e6, -1*y/1000)\n",
    "plt.gca().invert_yaxis()\n",
    "plt.ylabel('Depth, km')\n",
    "plt.xlabel('Strength, MPa')\n",
    "plt.show()\n",
    "\n",
    "print(\"What we can see is that the failure stress under tension is lower at any depth therefore rocks are always easier to break in tension.\")"
   ]
  },
  {
   "cell_type": "markdown",
   "metadata": {},
   "source": [
    "## Yield Strength\n",
    "Yield strength is the deformation changes from elastic to plastic. Brittle yield strength is related to pressure (depth) e.g. stress for faulting under tension. Ductile yield strength is dependent on strain rate, temperature, composition, dislocation creep and glide. Brittle and ductile strengths can be equal in some places which leads to the brittle ductile transition. Yield strength of lithosphere is the minimum of yield strength for brittle failure or ductile creep.\n",
    "\n",
    "Power-law creep as a function of temperature can be expressed as:\n",
    "\n",
    "$$\\dot{\\epsilon}=A{\\sigma}^{n}\\:{\\exp}(\\frac{-E_{a}}{RT})$$\n",
    "\n",
    "For olivine (i.e. mantle rocks) $A$ = 4.2 × 10^5 MPa−3 s−1, $E_{a}$ is the activation energy = 523 kJ/mol, and $n$ = 3. $R$ is the universal gas constant (8.314510 J mole−1 K−1).\n"
   ]
  },
  {
   "cell_type": "markdown",
   "metadata": {},
   "source": [
    "### Practice 2\n",
    "How far into the lithosphere does the Anderson theory extend? Taking strain rates of 10^−12 /s and 10^−14 /s calculate stress as a function of depth for a geothermal gradient of 25 K/km. At what depth and temperature does the strength of the lithosphere begin to depend on creep stresses? By integrating under strength curves we can estimate total tensional or compressional forces that oceanic lithosphere can support. Can ridge push forces be translated through oceanic lithosphere? Label the the brittle—ductile transition and plastic flow regimes on your strength curves. Where is the Moho? How might the strength profiles of continental lithosphere differ from those in the oceans (hint: consider the distribution of radiogenic elements)?"
   ]
  },
  {
   "cell_type": "code",
   "execution_count": 16,
   "metadata": {},
   "outputs": [
    {
     "data": {
      "image/png": "[encoded data removed]",
      "text/plain": [
       "<Figure size 432x288 with 1 Axes>"
      ]
     },
     "metadata": {
      "needs_background": "light"
     },
     "output_type": "display_data"
    },
    {
     "name": "stdout",
     "output_type": "stream",
     "text": [
      "Brittle-ductile transition at ∼30 km.\n"
     ]
    }
   ],
   "source": [
    "fs = 0.6          # friction coefficient\n",
    "rho = 3300.        # density of lithosphere, kg/m**3.\n",
    "g = 9.8         # gravitational acceleration, m/s**2\n",
    "rhow = 1000.       # density of water, kg/m**3.\n",
    "\n",
    "#A = 4.2e-15 # MPa**-3 s**-1 - does this need to be made into Pa?\n",
    "A = 4.2e-15 # MPa**-3 s**-1 - does this need to be made into Pa?\n",
    "\n",
    "#A = A * 1e6\n",
    "Ea = 523.          # activation energy, kJ / mole\n",
    "#Ea = 900.\n",
    "Ea = Ea * 1000    # joules / mole\n",
    "R = 8.3144         # universal gas constant J /mole /K\n",
    "n = 3              # creep power law exponent \n",
    "doteps = 10.**-12  # strain rate /s \n",
    "\n",
    "dtemp = 25.0 / 1000.       # geothermal gradient K/m\n",
    "\n",
    "alen = 40000         # depth range, m\n",
    "dy = 200             # depth sampling, m\n",
    "y = np.zeros(alen)\n",
    "temp = np.zeros(alen)\n",
    "sigmat = np.zeros(alen)\n",
    "sigmac = np.zeros(alen)\n",
    "sigma = np.zeros(alen)\n",
    "pw = np.zeros(alen)\n",
    "\n",
    "for i in range (0, -alen, -dy) :\n",
    "  y[i] = np.real(i)\n",
    "  \n",
    "  pw[i] = rhow * g * y[i]\n",
    "  sigmat[i] = (-2. * fs * ((rho * g * y[i]) - pw[i])) / ((1. + fs**2.)**0.5 + fs) # tension strength\n",
    "  sigmac[i] = (-2. * fs * ((rho * g * y[i]) - pw[i])) / ((1. + fs**2.)**0.5 - fs) # compression strength\n",
    "  \n",
    "  temp[i] = (-1. * np.real(i) * dtemp) + 273.15\n",
    "  b = (doteps / A) ** (1./n)\n",
    "  sigma[i] = b * np.exp(Ea / (n * R * temp[i]))\n",
    "\n",
    "  #print(sigma[i])\n",
    "    \n",
    "plt.plot(sigmat, y)\n",
    "plt.plot(sigmac, y)\n",
    "plt.scatter(sigma, y)\n",
    "plt.xlim(0,1400e6)\n",
    "plt.ylabel('Depth, km')\n",
    "plt.xlabel('Strength, MPa')\n",
    "\n",
    "\n",
    "\n",
    "doteps = 10.**-14  # strain rate /s \n",
    "y = np.zeros(alen)\n",
    "temp = np.zeros(alen)\n",
    "sigmat = np.zeros(alen)\n",
    "sigmac = np.zeros(alen)\n",
    "sigma = np.zeros(alen)\n",
    "pw = np.zeros(alen)\n",
    "\n",
    "for i in range (0, -alen, -dy) :\n",
    "  y[i] = np.real(i)\n",
    "  \n",
    "  pw[i] = rhow * g * y[i]\n",
    "  sigmat[i] = (-2. * fs * ((rho * g * y[i]) - pw[i])) / ((1. + fs**2.)**0.5 + fs) # tension strength\n",
    "  sigmac[i] = (-2. * fs * ((rho * g * y[i]) - pw[i])) / ((1. + fs**2.)**0.5 - fs) # compression strength\n",
    "  \n",
    "  temp[i] = (-1. * np.real(i) * dtemp) + 273.15\n",
    "  b = (doteps / A) ** (1./n)\n",
    "  sigma[i] = b * np.exp(Ea / (n * R * temp[i]))\n",
    "\n",
    "\n",
    "plt.scatter(sigma,y)\n",
    "\n",
    "plt.show()\n",
    "\n",
    "print(\"Brittle-ductile transition at ∼30 km.\")"
   ]
  },
  {
   "cell_type": "markdown",
   "metadata": {},
   "source": [
    "Brittle–ductile transition is at crossover between brittle yield envelope (solid lines) and creep envelope (dashed lines). Note that the Moho is only at 7.1 km depth in this example (in the brittle failure regime). Maximum strength is at 30 km. The total compressional force that can be transmitted by oceanic lithosphere is the area under the curve and is approximately 2.2 x 10^13 N/m. Total tensional force that can be transmitted is about 8 x 10^12 N/m. In Practice 1 Ridge Push and Slab Pull, we estimated a ridge push force of 2.3 x 10^12 N/m and subduction pull as 2.5 x 10^13 N/m. So ridge push forces can be translated through old oceanic lithosphere."
   ]
  },
  {
   "cell_type": "markdown",
   "metadata": {},
   "source": [
    "### Reference\n",
    "2019 notes and practical from Lecture 1 of the module ESE 60028 Continental Tectonics."
   ]
  },
  {
   "cell_type": "code",
   "execution_count": null,
   "metadata": {},
   "outputs": [],
   "source": []
  }
 ],
 "metadata": {
  "kernelspec": {
   "display_name": "Python 3",
   "language": "python",
   "name": "python3"
  },
  "language_info": {
   "codemirror_mode": {
    "name": "ipython",
    "version": 3
   },
   "file_extension": ".py",
   "mimetype": "text/x-python",
   "name": "python",
   "nbconvert_exporter": "python",
   "pygments_lexer": "ipython3",
   "version": "3.8.3"
  }
 },
 "nbformat": 4,
 "nbformat_minor": 4
}
