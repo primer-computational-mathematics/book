{
 "cells": [
  {
   "cell_type": "markdown",
   "metadata": {},
   "source": [
    "# Self-similar solutions\n",
    "\n",
    "```{index} Self-similar solutions\n",
    "```\n",
    "\n",
    "Consider the diffusion (heat) equation in the semi-infinite domain $ 0 \\leq x < \\infty $ and for $t \\geq 0 $:\n",
    "\n",
    "$$ \\begin{aligned} u_t = ku_{xx} \\end{aligned} \n",
    "\\qquad \\begin{aligned}\n",
    "u = 0 \\quad & \\text{at} \\ t = 0, \\ x > 0 \\\\\n",
    "u = 1 \\quad & \\text{at} \\ x = 0, \\ t \\geq 0 \\\\\n",
    "u = 0 \\quad & \\text{at} \\ x = \\infty, \\ t > 0 \n",
    "\\end{aligned} $$ (heateq)\n",
    "\n",
    "In Part II of Mathematics for Scientists and Engineers, class exercise C6.3 asks us the following: demonstrate that if $u \\equiv u(x, t)$ is a solution to the diffusion equation then so is the rescaled function $v(x, t) = u(\\sqrt{a}x, at)$, where $a$ is any constant.\n",
    "\n",
    "It is not obvious why this is the case and why $v$ is of this form. But if any such rescaled function $v$ is also a solution, it means that our physical process is exactly the same if we look at large or small scale. Such a solution is therefore called a **self-similar solution**.\n",
    "\n",
    "We would expect to have a self-similar solution when there is no characteristic length or time scale in the system. This is the case in the above problem, where we are considering an infinitely long rod in the $x$ direction. In practice this, of course, only means that the length of the rod must be *very* long. \n",
    "\n",
    "For example, we can observe self-similar spreading of honey if we squeeze it onto a plate. This does not mean that we need an infinitely-long plate, but rather that we are far enough from the edges. In fact, even if we squeeze the honey such that it does not form a circular blob, the honey will correct for this and form a circular shape regardless of that and continue to spread as if it had started from a circular blob. Furthermore, the spreading rate will be the same regardless of how much honey there is at the beginning and its height profile will have the same shape at all times - if we \"zoom\" in onto the profile (or stretch it horizontally and vertically). This \"zooming\" is mathematically achieved through **affine transformations**.\n",
    "\n",
    "The majority of parabolic equations are solved this way."
   ]
  },
  {
   "cell_type": "markdown",
   "metadata": {},
   "source": [
    "## Finding a solution\n",
    "\n",
    "Let us see why {eq}`heateq` is invariant to the scaling $ v = u(\\sqrt{a} x, a t) $.\n",
    "\n",
    "If $u = F(x, t)$ is the solution, we need to find transformations such that the equations above are preserved (invariant transformations). We seek affine transformations of the form\n",
    "\n",
    "$$ u = A \\hat{u}, \\quad t = B \\hat{t}, \\quad x = C \\hat{x} $$\n",
    "\n",
    "where $A, B, C$ are constants. Let us find the derivatives:\n",
    "\n",
    "$$ \\frac{\\partial u}{\\partial t} = A \\frac{\\partial \\hat{u}}{\\partial t} = A \\frac{\\partial \\hat{u}}{\\partial \\hat{t}} \\frac{\\partial \\hat{t}}{\\partial t} = \\frac{A}{B} \\frac{\\partial \\hat{u}}{\\partial \\hat{t}} \\\\ \n",
    "\\frac{\\partial^2 u}{\\partial x^2} = \\frac{A}{C^2} \\frac{\\partial^2 \\hat{u}}{\\partial \\hat{x}^2} $$\n",
    "\n",
    "Substituting them into the original equation and dividing by $A$:\n",
    "\n",
    "$$ \\frac{1}{B} \\frac{\\partial \\hat{u}}{\\partial \\hat{t}} = k \\frac{1}{C^2} \\frac{\\partial^2 \\hat{u}}{\\partial \\hat{x}^2} $$\n",
    "\n",
    "Similarly, the initial and boundary conditions become:\n",
    "\n",
    "$$ \\begin{aligned}\n",
    "\\hat{u} = 0 \\quad & \\text{at} \\ \\hat{t} = 0 \\\\\n",
    "A \\hat{u} = 1 \\quad & \\text{at} \\ \\hat{x} = 0 \\\\ \n",
    "\\hat{u} = 0 \\quad & \\text{at} \\ \\hat{x} = \\infty \n",
    "\\end{aligned} $$\n",
    "\n",
    "Note that if we choose $A = 1$ and $B = C^2$ these coincide with the original equations, so $ \\hat{u} = F(\\hat{t}, \\hat{x})$ is also a solution, for any $C$. Returning to original variables:\n",
    "\n",
    "$$ \\hat{u} = F(\\hat{t}, \\hat{x}) \\quad \\longrightarrow \\quad \\frac{u}{A} = F \\left( \\frac{t}{B}, \\frac{x}{C} \\right) \\quad \\longrightarrow \\quad u = F \\left( \\frac{t}{C^2}, \\frac{x}{C} \\right) $$\n",
    "\n",
    "$C$ is an arbitrary constant so it can be treated as an additional independent variable. Still, it is artificially introduced so the solution does not really depend on it. To hide it, we can choose $C = \\sqrt{t}$ or $C = x$. Let us choose the former:\n",
    "\n",
    "$$ u = F \\left( 1, \\frac{x}{\\sqrt{t}} \\right) $$\n",
    "\n",
    "so the solution should be written in the form\n",
    "\n",
    "$$ u =  f(\\eta), \\quad \\eta = \\frac{x}{\\sqrt{t}} $$\n",
    "\n",
    "where the independent variable $\\eta$ is called the **similarity variable** and the solution in this form is called a self-similar solution. Going back to the problem class exercise C6.3, the parameter $a$ is in fact later chosen to be $t^{-1}$, so $v(x, t) = u(x / \\sqrt{t}, 1)$.\n",
    "\n",
    "However, we still do not know what $f$ actually is. For that, we need to again find the derivatives of $u$ and substitute them in the original equation. Note that now $u$ is a function of $\\eta$ so we need to again use the chain rule. For example:\n",
    "\n",
    "$$ \\frac{\\partial u}{\\partial t} = \\frac{\\partial u}{\\partial \\eta} \\frac{\\partial \\eta}{\\partial t} = f'(\\eta) $$\n",
    "\n",
    "Continuing this, the solution to {eq}`heateq` was found in Lecture 6 of Mathematics for Scientists and Engineers to be the complementary error function, $u(x, t) = f( \\eta) = \\text{erfc} (\\eta) $."
   ]
  },
  {
   "cell_type": "code",
   "execution_count": null,
   "metadata": {},
   "outputs": [],
   "source": []
  }
 ],
 "metadata": {
  "kernelspec": {
   "display_name": "Python 3",
   "language": "python",
   "name": "python3"
  },
  "language_info": {
   "codemirror_mode": {
    "name": "ipython",
    "version": 3
   },
   "file_extension": ".py",
   "mimetype": "text/x-python",
   "name": "python",
   "nbconvert_exporter": "python",
   "pygments_lexer": "ipython3",
   "version": "3.7.4"
  }
 },
 "nbformat": 4,
 "nbformat_minor": 4
}
