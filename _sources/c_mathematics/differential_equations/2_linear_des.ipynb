{
 "cells": [
  {
   "cell_type": "markdown",
   "metadata": {},
   "source": [
    "# Linear Differential Equations\n",
    "\n",
    "Text"
   ]
  },
  {
   "cell_type": "markdown",
   "metadata": {},
   "source": [
    "(ode_linear)=\n",
    "## Linear ODEs \n",
    "\n",
    "```{margin} Linear Operator\n",
    "\n",
    "An operator $L$ is linear if:\n",
    "\n",
    "$$ L(f + g) = Lf + Lg $$\n",
    "$$ L(\\lambda f) = \\lambda Lf $$\n",
    "\n",
    "for functions $f, g$ and a scalar $\\lambda$.\n",
    "\n",
    "```\n",
    "\n",
    "<div style=\"box-shadow: 0px 0px 7px 1px #9DC1BD; padding:15px;\">\n",
    "\n",
    "**Definition.** An ODE is **linear** if it is of the form $\\mathcal{L}_x[u] = f$, where $\\mathcal{L}_x$ is the linear differential operator\n",
    "\n",
    "$$ \\mathcal{L}_x = A_n(x) \\frac{d^n}{dx^n} + A_{n-1}(x) \\frac{d^{n-1}}{dx^{n-1}} + \\cdots + A_1(x) \\frac{d}{dx} + A_0(x) $$\n",
    "\n",
    "Linear ODEs of the form $\\mathcal{L}[u] = 0$ are termed **homogeneous**, otherwise **inhomogeneous**.</div>\n",
    "\n",
    "We will often want to work with the linear operator in *standard form*, meaning that the factor multiplying the highest derivative is $1$:\n",
    "\n",
    "$$ \\mathcal{L}_x = \\frac{d^n}{dx^n} + a_{n-1}(x) \\frac{d^{n-1}}{dx^{n-1}} + \\cdots + a_1(x) \\frac{d}{dx} + a_0(x) $$\n",
    "\n",
    "### Solutions\n",
    "\n",
    "Solutions of a homogeneous ODE satisfy the **superposition principle** (or *linearity principle*): if $u_1$ and $u_2$ are solutions of a linear ODE $\\mathcal{L}[u] = 0$ then any linear combination $\\alpha u_1 + \\beta u_2$ is also a solution:\n",
    "\n",
    "$$ \\mathcal{L}[\\alpha u_1 + \\beta u_2] = \\alpha \\mathcal{L}[u_1] + \\beta \\mathcal{L}[u_2] = 0 + 0 = 0 $$\n",
    "\n",
    "A **general solution** of an ODE is a solution $u = \\alpha u_1 + \\beta u_2$ where $u_1$ and $u_2$ are {doc}`linearly independent <../linear algebra/theory>` and they are called a **basis** of the set of solutions. A **particular solution** is obtained by assigning specific values to constants.\n",
    "\n",
    "Every element of the general solution of an ODE is a function of the form $u = u_p + u_h$, where $u_h$ is an element of the general solution of the homogeneous ODE and $u_p$ is a **particular integral**, the solution of the inhomogeneous problem:\n",
    "\n",
    "$$ \\mathcal{L}[u_p + u_h] = \\mathcal{L}[u_p] + \\mathcal{L}[u_h] = f + 0 = f $$\n",
    "\n",
    "### Solution methods\n",
    "\n",
    "- **Separation of variables** when we can algebraically transform the equation to the form $$ f(u) du = g(x) dx $$ which we can integrate directly\n",
    "- **Variation of parameters** where we find the solution to the homogeneous problem and use it as solution *ansatz* for a particular solution by allowing constants to become new unknown functions which we then seek\n",
    "- **Undetermined coefficients**\n",
    "- **Green's functions**\n",
    "- **Numerical methods**"
   ]
  },
  {
   "cell_type": "markdown",
   "metadata": {},
   "source": [
    "(pde_linear)=\n",
    "## Linear PDEs"
   ]
  },
  {
   "cell_type": "code",
   "execution_count": null,
   "metadata": {},
   "outputs": [],
   "source": []
  }
 ],
 "metadata": {
  "kernelspec": {
   "display_name": "Python 3",
   "language": "python",
   "name": "python3"
  },
  "language_info": {
   "codemirror_mode": {
    "name": "ipython",
    "version": 3
   },
   "file_extension": ".py",
   "mimetype": "text/x-python",
   "name": "python",
   "nbconvert_exporter": "python",
   "pygments_lexer": "ipython3",
   "version": "3.7.4"
  }
 },
 "nbformat": 4,
 "nbformat_minor": 4
}
