{
 "cells": [
  {
   "cell_type": "markdown",
   "metadata": {},
   "source": [
    "# Numerical Methods\n",
    "\n",
    "# Lecture 7: Numerical Linear Algebra III"
   ]
  },
  {
   "cell_type": "markdown",
   "metadata": {},
   "source": [
    "## Contents\n",
    "\n",
    "## I.     Ill - Conditioned Matrices\n",
    "## II.    Round Off Errors\n",
    "## III.   Algorithm Stability\n",
    "## IV.   Direct vs Iterative Methods\n",
    "## V.    Iterative Methods - Jacobi's Method\n",
    "## VI.   Iterative Methods - Gauss - Seidel Method\n",
    "## VII.  Sparse Matrices\n",
    "## VIII.  EXTRA: How to Guide"
   ]
  },
  {
   "cell_type": "markdown",
   "metadata": {},
   "source": [
    "## Learning objectives:\n",
    "\n",
    "* Introduce ill-conditioned matrices (via matrix norms and condition number)\n",
    "* Consider direct vs iterative/indirect methods\n",
    "* Example iterative algorithm: the Jacobi and Gauss-Seidel methods\n",
    "* Sparse matrices and a pointer to more advanced algorithms (supplementary readings)"
   ]
  },
  {
   "cell_type": "code",
   "execution_count": 14,
   "metadata": {},
   "outputs": [],
   "source": [
    "%matplotlib inline\n",
    "import matplotlib.pyplot as plt\n",
    "\n",
    "import numpy as np\n",
    "import scipy.linalg as sl"
   ]
  },
  {
   "cell_type": "markdown",
   "metadata": {},
   "source": [
    "## I.     Ill-conditioned matrices\n",
    "\n",
    "The conditioning (or lack of, i.e. the ill-conditioning) of matrices we are trying to invert (to obtain the inverse, or to find the solution to a linear matrix system) is incredibly important for the success of any algorithm.\n",
    "\n",
    "When we started talking about matrices we noted that as long as the matrix is non-singular, i.e. $\\det(A)\\ne 0$, then an inverse exists, and a linear system with that $A$ has a unique solution.\n",
    "\n",
    "But what happens when we consider a matrix that is nearly singular, i.e. $\\det(A)$ is very small?\n",
    "\n",
    "Well smallness is a relative term and so we need to ask the question of how large or small $\\det(A)$ is compared to something.\n",
    "\n",
    "That something is the *norm* of the matrix.\n",
    "\n",
    "Basically matrices come in all shape and sizes, and their determinants come in all kinds of values. We know that a ill conditioned matrix has a determinant that is small in absolute terms, but the size of determinants is a relative thing, and we need some kind of comparison who determine what is \"small\" and what is \"large\". Thus, we can create such a reference calculating the Norms of the matrix. For now, we will explore how to find the norm, and some slides later, we will explore how does the Norm relate to the ill conditioning of the matrix. \n",
    "\n",
    "Note: for Norms, we are always talking in absolute terms, meaning Norms are always positive. \n",
    "\n",
    "Note: for Norms, we use the $||||$\n",
    "\n",
    "#### Vector norms\n",
    "\n",
    "Just as for vectors $\\pmb{v}$ (assumed a $n\\times 1$ column vector) where we have multiple possible norms to help us decide quantify the magnitude of a vector:\n",
    "\n",
    "\\begin{align}\n",
    "\\|\\pmb{v}\\|_2 & = \\sqrt{v_1^2 + v_2^2 + \\ldots + v_n^2} = \\left(\\sum_{i=1}^n v_i^2 \\right)^{1/2}, &\\quad{\\textrm{the two-norm or Euclidean norm}}\\\\\n",
    "\\|\\pmb{v}\\|_1  & = |v_1| + |v_2| + \\ldots + |v_n| = \\sum_{i=1}^n |v_i|, &\\quad{\\textrm{the one-norm or taxi-cab norm}}\\\\\n",
    "\\|\\pmb{v}\\|_{\\infty}  &= \\max\\{|v_1|,|v_2|, \\ldots, |v_n| = \\max_{i=1}^n |v_i|, &\\quad{\\textrm{the max-norm or infinity norm}}\n",
    "\\end{align}\n",
    "\n",
    "#### Matrix norms\n",
    "\n",
    "We can define measures of the size of matrices, e.g. for $A$ which for complete generality we will assume is of shape $m\\times n$:\n",
    "\n",
    "\\begin{align}\n",
    "\\|A\\|_F & = \\left(\\sum_{i=1}^m \\sum_{j=1}^n A_{ij}^2 \\right)^{1/2}, &\\quad{\\textrm{the matrix Euclidean or Frobenius norm}}\\\\\n",
    "\\|A\\|_{\\infty} & = \\max_{i=1}^m \\sum_{j=1}^n|A_{i,j}|, &\\quad{\\textrm{the maximum absolute row-sum norm}}\\\\\n",
    "\\end{align}\n",
    "\n",
    "Note that while these norms give different results (in both the vector and matrix cases), they are consistent or equivalent in that they are always within a constant factor of one another (a result that is true for finite-dimensional or discrete problems as here). This means we don't really need to worry too much about which norm we're using.\n",
    "\n",
    "Let's evaluate some examples.\n",
    "\n"
   ]
  },
  {
   "cell_type": "code",
   "execution_count": null,
   "metadata": {},
   "outputs": [],
   "source": []
  },
  {
   "cell_type": "code",
   "execution_count": 17,
   "metadata": {},
   "outputs": [
    {
     "name": "stdout",
     "output_type": "stream",
     "text": [
      "[[10.  2.  1.]\n",
      " [ 6.  5.  4.]\n",
      " [ 1.  4.  7.]]\n"
     ]
    }
   ],
   "source": [
    "A = np.array([[10., 2., 1.],[6., 5., 4.],[1., 4., 7.]])\n",
    "print(A)"
   ]
  },
  {
   "cell_type": "code",
   "execution_count": 18,
   "metadata": {},
   "outputs": [
    {
     "name": "stdout",
     "output_type": "stream",
     "text": [
      "15.748015748023622\n"
     ]
    }
   ],
   "source": [
    "print(sl.norm(A))"
   ]
  },
  {
   "cell_type": "code",
   "execution_count": 19,
   "metadata": {},
   "outputs": [
    {
     "name": "stdout",
     "output_type": "stream",
     "text": [
      "15.748015748023622\n"
     ]
    }
   ],
   "source": [
    "# the Frobenius norm - the default\n",
    "print(sl.norm(A,'fro'))"
   ]
  },
  {
   "cell_type": "code",
   "execution_count": 20,
   "metadata": {},
   "outputs": [
    {
     "name": "stdout",
     "output_type": "stream",
     "text": [
      "15.0\n"
     ]
    }
   ],
   "source": [
    "# the maximum absolute row-sum\n",
    "print(sl.norm(A,np.inf))"
   ]
  },
  {
   "cell_type": "code",
   "execution_count": 21,
   "metadata": {},
   "outputs": [
    {
     "name": "stdout",
     "output_type": "stream",
     "text": [
      "17.0\n"
     ]
    }
   ],
   "source": [
    "# the maximum absolute column-sum\n",
    "print(sl.norm(A,1))"
   ]
  },
  {
   "cell_type": "code",
   "execution_count": 22,
   "metadata": {},
   "outputs": [
    {
     "name": "stdout",
     "output_type": "stream",
     "text": [
      "13.793091098640064\n"
     ]
    }
   ],
   "source": [
    "# the two-norm - note not the same as the Frobenius norm - also termed the spectral norm\n",
    "print(sl.norm(A,2))"
   ]
  },
  {
   "cell_type": "code",
   "execution_count": 23,
   "metadata": {},
   "outputs": [
    {
     "name": "stdout",
     "output_type": "stream",
     "text": [
      "13.793091098640064\n"
     ]
    }
   ],
   "source": [
    "# which is defined as (!!!!)\n",
    "print(np.sqrt(np.real((np.max(sl.eigvals( A.T @ A))))))"
   ]
  },
  {
   "cell_type": "markdown",
   "metadata": {},
   "source": [
    "### <span style=\"color:blue\">Exercise 7.1: matrix norms</span>\n",
    "\n",
    "Write some code to explicitly compute the two matrix norms defined mathematically above (i.e. the Frobenius and the maximum absolute row-sum norms) and compare against the values found above using in-built scipy functions.\n",
    "\n",
    "Also, based on the above code and comments, what is the mathematical definition of the 1-norm and the 2-norm?\n"
   ]
  },
  {
   "cell_type": "code",
   "execution_count": null,
   "metadata": {},
   "outputs": [],
   "source": []
  },
  {
   "cell_type": "markdown",
   "metadata": {},
   "source": [
    "### Matrix conditioning\n",
    "\n",
    "The (ill-)conditioning of a matrix is measured with the matrix condition number:\n",
    "\n",
    "$$\\textrm{cond}(A) = \\|A\\|\\|A^{-1}\\|$$\n",
    "\n",
    "If this is close to one then $A$ is termed well-conditioned; the value increases with the degree of ill-conditioning, reaching infinity for a singular matrix.\n",
    "\n",
    "Let's evaluate the condition number for the matrix above.\n"
   ]
  },
  {
   "cell_type": "code",
   "execution_count": 9,
   "metadata": {},
   "outputs": [
    {
     "name": "stdout",
     "output_type": "stream",
     "text": [
      "[[10.  2.  1.]\n",
      " [ 6.  5.  4.]\n",
      " [ 1.  4.  7.]]\n",
      "10.713371881346792\n",
      "10.713371881346786\n",
      "12.463616561943589\n",
      "12.463616561943587\n"
     ]
    }
   ],
   "source": [
    "A = np.array([[10., 2., 1.],[6., 5., 4.],[1., 4., 7.]])\n",
    "\n",
    "print(A)\n",
    "print(np.linalg.cond(A))  # let's use the in-built condition number function\n",
    "print(sl.norm(A,2)*sl.norm(sl.inv(A),2))  # so the default condition number uses the matrix two-norm\n",
    "print(np.linalg.cond(A,'fro'))\n",
    "print(sl.norm(A,'fro')*sl.norm(sl.inv(A),'fro'))"
   ]
  },
  {
   "cell_type": "markdown",
   "metadata": {},
   "source": [
    "The condition number is expensive to compute, and so in practice the relative size of the determinant of the matrix can be gauged based on the magnitude of the entries of the matrix.\n",
    "\n",
    "#### Example\n",
    "\n",
    "We know that a singular matrix does not result in a unique solution to its corresponding linear matrix system. But what are the consequences of near-singularity (ill-conditioning)?\n",
    "\n",
    "Consider the following example\n",
    "\n",
    "\n",
    "$$\n",
    "\\left(\n",
    "  \\begin{array}{cc}\n",
    "    2 & 1 \\\\\n",
    "    2 & 1 + \\epsilon  \\\\\n",
    "  \\end{array}\n",
    "\\right)\\left(\n",
    "  \\begin{array}{c}\n",
    "    x \\\\\n",
    "    y \\\\\n",
    "  \\end{array}\n",
    "\\right) = \\left(\n",
    "  \\begin{array}{c}\n",
    "    3 \\\\\n",
    "    0 \\\\\n",
    "  \\end{array}\n",
    "\\right)\n",
    "$$\n",
    "\n",
    "Clearly when $\\epsilon=0$ the two columns/rows are not linear independent, and hence the determinant of this matrix is zero, the condition number is infinite, and the linear system does not have a solution (as the two equations would be telling us the contradictory information that $2x+y$ is equal to 3 and is also equal to 0)."
   ]
  },
  {
   "cell_type": "markdown",
   "metadata": {},
   "source": [
    "### <span style=\"color:blue\">Exercise 7.2: Ill-conditioned matrix</span>\n",
    "\n",
    "For the example above, consider a range of small values for $\\epsilon$ and calculate the matrix determinant and condition number."
   ]
  },
  {
   "cell_type": "code",
   "execution_count": null,
   "metadata": {},
   "outputs": [],
   "source": []
  },
  {
   "cell_type": "markdown",
   "metadata": {},
   "source": [
    "You should find for $\\epsilon=0.001$ that $\\det(A)=0.002$ (i.e. quite a lot smaller than the other coefficients in the matrix) and $\\textrm{cond}(A)\\approx 5000$.\n",
    "\n",
    "Using `sl.inv(A) @ b` you should also be able to compute the solution $\\pmb{x}=(1501.5,-3000.)^T$.\n",
    "\n",
    "What happens when you make a very small change to the coefficients of the matrix (e.g. set $\\epsilon=0.002$)?\n",
    "\n",
    "You should find that this change of just $0.1\\%$ in one of the coefficients of the matrix results in a $100\\%$ change in both components of the solution!\n",
    "\n",
    "<span style=\"color:red\">This is the consequence of the matrix being ill-conditioned - we should not trust the numerical solution to ill-conditioned problems.</span>\n",
    "\n",
    "A way to see this is to recognise that computers do not perform arithmetic exactly - they necessarily have to [truncate numbers](http://www.mathwords.com/t/truncating_a_number.htm) at a certain number of significant figures, performing multiple operations with these truncated numbers can lead to an erosion of accuracy. Often this is not a problem, but these so-called [roundoff](http://mathworld.wolfram.com/RoundoffError.html) errors in algorithms generating $A$, or operating on $A$ as in Gaussian elimination, will lead to small inaccuracies in the coefficients of the matrix. Hence, in the case of ill-conditioned problems, will fall foul of the issue seen above where a very small error in an input to the algorithm led to a far larger error in an output."
   ]
  },
  {
   "cell_type": "code",
   "execution_count": null,
   "metadata": {},
   "outputs": [],
   "source": []
  },
  {
   "cell_type": "markdown",
   "metadata": {},
   "source": [
    "## II.    Roundoff errors\n",
    "\n",
    "Note that in this course we have largely ignored the limitations of the floating point arithmetic performed by computers, including round-off errors.  \n",
    "\n",
    "This is often the topic of the first lecture of courses, or first chapter of books, on Numerical Methods or Numerical Analysis - do take a look at some examples if you are interested.  \n",
    "\n",
    "Also take a look at *D. Goldberg 1991: What every computer scientist should know about floating-point arithmetic, ACM Computing Surveys 23, Pages 5-48*.\n",
    "\n",
    "For some examples of catastrophic failures due to round off errors see <https://www.ma.utexas.edu/users/arbogast/misc/disasters.html> and <a href=\"https://profs.info.uaic.ro/~ancai/CN/bibliografie/CN_disasters.htm\">Prof. Kees Vuik page link updated since previous one had access restriction</a> and [the sinking of the Sleipner A offshore platform](http://www.ima.umn.edu/~arnold/disasters/sleipner.html).\n",
    "\n",
    "As an example, consider the mathematical formula\n",
    "\n",
    "$$f(x)=(1-x)^{10}.$$\n",
    "\n",
    "We can of course relatively easily expand this out by hand\n",
    "\n",
    "$$f(x)=1- 10x + 45x^2 - 120x^3 + 210x^4 - 252x^5 + 210x^6 - 120x^7 + 45x^8 - 10x^9 + x^{10}.$$\n",
    "\n",
    "Mathematically these two expressions for $f(x)$ are identical; when evaluated by a computer different operations will be performed, which (we hope) should give the same answer. For numbers $x$ away from $1$ these two expressions do return (pretty much) the same answer.  \n",
    "\n",
    "However, for $x$ close to 1 the second expression adds and subtracts individual terms of increasing size which should largely cancel out, but they don't to sufficient accuracy due to round off errors; these errors accumulate with more and more operations, leading a loss of significance <https://en.wikipedia.org/wiki/Loss_of_significance>"
   ]
  },
  {
   "cell_type": "code",
   "execution_count": 10,
   "metadata": {},
   "outputs": [
    {
     "name": "stdout",
     "output_type": "stream",
     "text": [
      "0.00010485760000000006 0.00010485760000436464 4.1623815505431594e-11\n",
      "1.0239999999999978e-07 1.0240001356576212e-07 1.3247813024364063e-07\n",
      "9.765625000000086e-14 1.2378986724570495e-13 0.21111273343425307\n"
     ]
    }
   ],
   "source": [
    "def f1(x):\n",
    "    return (1. - x)**10\n",
    "\n",
    "def f2(x):\n",
    "    return (1. - 10.*x + 45.*x**2 - 120.*x**3 +\n",
    "           210.*x**4 - 252.*x**5 + 210.*x**6 -\n",
    "           120.*x**7 + 45.*x**8 - 10.*x**9 + x**10)\n",
    "\n",
    "x=0.6\n",
    "print(f1(x),f2(x),1.-f1(x)/f2(x)) # values computed in different ways and their relative difference\n",
    "x=0.8\n",
    "print(f1(x),f2(x),1.-f1(x)/f2(x)) \n",
    "x=0.95\n",
    "print(f1(x),f2(x),1.-f1(x)/f2(x)) "
   ]
  },
  {
   "cell_type": "code",
   "execution_count": 14,
   "metadata": {},
   "outputs": [
    {
     "data": {
      "image/png": "[encoded data removed]",
      "text/plain": [
       "<Figure size 432x288 with 1 Axes>"
      ]
     },
     "metadata": {
      "needs_background": "light"
     },
     "output_type": "display_data"
    },
    {
     "data": {
      "image/png": "[encoded data removed]",
      "text/plain": [
       "<Figure size 432x288 with 1 Axes>"
      ]
     },
     "metadata": {
      "needs_background": "light"
     },
     "output_type": "display_data"
    },
    {
     "data": {
      "image/png": "[encoded data removed]",
      "text/plain": [
       "<Figure size 1440x720 with 1 Axes>"
      ]
     },
     "metadata": {
      "needs_background": "light"
     },
     "output_type": "display_data"
    }
   ],
   "source": [
    "import matplotlib.pyplot as plt\n",
    "import numpy as np\n",
    "\n",
    "def f1(x):\n",
    "    return (1. - x)**10\n",
    "\n",
    "def f2(x):\n",
    "    return (1. - 10.*x + 45.*x**2 - 120.*x**3 +\n",
    "           210.*x**4 - 252.*x**5 + 210.*x**6 -\n",
    "           120.*x**7 + 45.*x**8 - 10.*x**9 + x**10)\n",
    "\n",
    "xi = np.linspace(0, 2, 1000)\n",
    "plt.plot(xi, f1(xi), label = \"(1. - x)**10 Unexpanded\")\n",
    "plt.plot(xi, f2(xi), label = \"(1. - x)**10 Expanded\")\n",
    "plt.grid(\"True\")\n",
    "plt.title(\"Seems Not Different, right?\")\n",
    "plt.legend()\n",
    "plt.show()\n",
    "plt.close()\n",
    "\n",
    "plt.plot(xi, 1. -f1(xi)/f2(xi) * 100, label=\"Relative Difference in %\")\n",
    "plt.grid(\"True\")\n",
    "plt.title(\"That's exactly why it's dangerous!!!\")\n",
    "plt.legend()\n",
    "plt.show()\n",
    "plt.close()\n",
    "\n",
    "## Zoomed in Plot\n",
    "plt.figure(figsize=(20, 10))\n",
    "plt.xlim(0.75, 1.25)\n",
    "plt.plot(xi, 1. -f1(xi)/f2(xi) * 100, label=\"Relative Difference in %\")\n",
    "plt.grid(\"True\")\n",
    "plt.title(\"That's exactly why it's DANGERous!!! But with the DANGER ZOOMED AND ALL CAPPED\")\n",
    "plt.legend()\n",
    "plt.show()\n",
    "plt.close()\n",
    "\n",
    "\n",
    "\n"
   ]
  },
  {
   "cell_type": "markdown",
   "metadata": {},
   "source": [
    "## III.    Algorithm stability\n",
    "\n",
    "<span style=\"color:red\">The susceptibility for a numerical algorithm to dampen (inevitable) errors, rather than to magnify them as we have seen in examples above, is termed *stability*.  This is a concern for numerical linear algebra as considered here, as well as for the numerical solution of differential equations as you will see in NM2.  In that case you don't want small errors to grow and accumulate as you propagate the solution to an ODE or PDE forward in time say.</span>\n",
    "\n",
    "<span style=\"color:red\">If your algorithm is not inherently stable, or has other limitation, you need to understand and appreciate this, as it can cause catastrophic failures!</span> \n"
   ]
  },
  {
   "cell_type": "markdown",
   "metadata": {},
   "source": [
    "## IV.    Direct vs Iterative Methods\n",
    "\n",
    "Two types/families of methods exist to solve matrix systems.  These are termed *direct* methods and *iterative* (or *indirect*) methods.\n",
    "\n",
    "Direct methods perform operations on the linear equations (the matrix system), e.g. the substitution of one equation into another which we performed two weeks ago for your example $2\\times 2$ system considered in MM1. This (and the subsequent Gaussian elimination algorithm) transformed the equations making up the linear system into equivalent ones with the aim of eliminating unknowns from some of the equations and hence allowing for easy solution through back (or forward) substitution.\n",
    "\n",
    "Also, in MM1 you (may have) learnt Cramer's rule which gives an explicit formula for the inverse of a matrix, or for the solution of a linear matrix system.  It was pointed out that the computational cost (in terms of arithmetic operations required; also termed complexity) scaled like $(n+1)!$, whereas the Gaussian elimination method (which is basically the substitution method descrined above, and implemented over the previous two lectures) scaled like $n^3$.  For large $n$ Gaussian elimination will clearly be more efficient - you considered the case where $n=100$ in MM1 for example. $n$ here refers to the number of unknowns or equations, or sometimes termed the *degrees of freedom* of the problem.\n",
    "\n",
    "An advantage of direct methods is that they provide the exact solution (assuming exact arithmetic, i.e. ignoring the round off related issues mentioned above) in a finite number of operations.\n",
    "\n",
    "However, as pointed out previously, $n$ could be billions for hard-core applications such as in numerical weather forecasting. In this case the $n^3$ operations required of a direct algorithm such as Gaussian elimination is completely prohibitive. In an attempt to further reduce this cost *iterative* algorithms were devised.\n",
    "\n",
    "These algorithms start with an initial guess at the solution ($\\pmb{x}_0$), and *iteratively* improve this producing a series of approximate answers $\\pmb{x}_k$. For the *exact* answer to the matrix system $A\\pmb{x} = \\pmb{b}$, we know that the residual vector $\\pmb{r} = A\\pmb{x}-\\pmb{b}$ is zero. For our iterative procedure, we can use the norm of the residual vector $\\pmb{r}_k = A\\pmb{x}_k-\\pmb{b}$ based on the approximate solution $\\pmb{x}_k$, as a measure of how close we are to solving the equation (the norm $\\|\\pmb{r}_k\\|$ expresses this as a single number). As we iterate further, we hope to drive down this number and we may stop the iterations at some small (non-zero) residual norm tolerance level. The final iteration gives us an answer $\\pmb{x}_k$ which is still an approximation to the solution and not the exact solution we would obtain with direct methods.  The residual norm tolerance stopping criteria therefore needs to be thought about carefully, e.g. depending on how accurate a solution $\\pmb{x}$ we require.\n",
    "\n",
    "Since well through iterative methods, $\\pmb{x}_k$ is still very much an approximation rather than an exact answer, you could imagine why weather forecasting, which uses iterative methods, is still very much an approximation rather than an exact answer. However, our current exact methods are prohibitively expensive in terms of time taken, so iterative method is the best we have. You could imagine why weather forecasting is very strict on time. For large agricultural farms which use remote sensing for weather monitoring and forecast, it would be useless to tell them the exact solution to a storm a long time after the storm has passed and devastated the crop production because you tried to solve the equations involved exactly, and from the time the storm was on the horizon it took you such a long time to find the exact solution, assuming that such an exact solution even exist in the 1st place. Our most powerful supercomputers are needed for weather forecasting even if we used iterative methods, and many of us in the department will still find the computational power insufficient to tackle some of the problems at hand.\n",
    "\n",
    "We have already considered Gaussian elimination (and back substitution) as examples of direct solution methods. We'll consider an example of an iterative method now."
   ]
  },
  {
   "cell_type": "markdown",
   "metadata": {},
   "source": [
    "## V.    Iterative methods - Jacobi's method\n",
    "\n",
    "Consider our matrix system\n",
    "\n",
    "$$A\\pmb{x}=\\pmb{b} \\quad \\iff \\quad \\sum_{j=1}^nA_{ij}x_j=b_i,\\quad \\textrm{for}\\quad i=1,2,\\ldots, n.$$\n",
    "\n",
    "Let's rewrite this by pulling out the term involving $x_i$ (i.e. for each row $i$ pull out the diagonal from the summation):\n",
    "\n",
    "$$A_{ii}x_i + \\sum_{\\substack{j=1\\\\ j\\ne i}}^nA_{ij}x_j=b_i,\\quad  i=1,2,\\ldots, n.$$\n",
    "\n",
    "We can then come up with a formula for our unknown $x_i$:\n",
    "\n",
    "$$x_i = \\frac{1}{A_{ii}}\\left(b_i- \\sum_{\\substack{j=1\\\\ j\\ne i}}^nA_{ij}x_j\\right),\\quad  i=1,2,\\ldots, n.$$\n",
    "\n",
    "Now of course for each individual $x_i$, all the other components of $\\pmb{x}$ appearing on the RHS are also unknown and so this is an example of an implicit formula which doesn't help us directly, but does suggest the following iterative scheme:\n",
    "\n",
    "\n",
    "* Starting from a guess at the solution $\\pmb{x}^{(0)}$\n",
    "\n",
    "\n",
    "\n",
    "* iterate for $k>0$\n",
    "$$x_i^{(k)} = \\frac{1}{A_{ii}}\\left(b_i- \\sum_{\\substack{j=1\\\\ j\\ne i}}^nA_{ij}x_j^{(k-1)}\\right),\\quad  i=1,2,\\ldots, n.$$\n",
    "\n",
    "\n",
    "Note that for this iteration, for a fixed $k$, it does not matter in which order we perform the operations over $i$ as the right hand side only contains the entries of $\\pmb{x}$ at the previous iteration."
   ]
  },
  {
   "cell_type": "code",
   "execution_count": 11,
   "metadata": {},
   "outputs": [
    {
     "data": {
      "image/png": "[encoded data removed]",
      "text/plain": [
       "<Figure size 432x288 with 1 Axes>"
      ]
     },
     "metadata": {
      "needs_background": "light"
     },
     "output_type": "display_data"
    },
    {
     "name": "stdout",
     "output_type": "stream",
     "text": [
      "[-0.16340811 -0.01532703  0.27335262  0.36893551]\n",
      "[-0.16340816 -0.01532706  0.27335264  0.36893555]\n"
     ]
    }
   ],
   "source": [
    "A = np.array([[10., 2., 3., 5.],[1., 14., 6., 2.],[-1., 4., 16., -4],[5. ,4. ,3. ,11. ]])\n",
    "b = np.array([1., 2., 3., 4.])\n",
    "\n",
    "# an initial guess at the solution - here just a vector of zeros of length the number of rows in A\n",
    "x = np.zeros(A.shape[0]) \n",
    "\n",
    "tol = 1.e-6 # iteration tolerance\n",
    "it_max = 1000 # upper limit on iterations if we don't hit tolerance\n",
    "residuals=[] # store residuals\n",
    "\n",
    "for it in range(it_max):\n",
    "    x_new = np.zeros(A.shape[0])  # initialise the new solution vector\n",
    "    for i in range(A.shape[0]):\n",
    "        x_new[i] = (1./A[i, i]) * (b[i] - np.dot(A[i, :i], x[:i]) \n",
    "                                   - np.dot(A[i, i + 1:], x[i + 1:]))\n",
    "\n",
    "    residual = sl.norm(A @ x - b)  # calculate the norm of the residual r=Ax-b for this latest guess\n",
    "    residuals.append(residual) # store it for later plotting\n",
    "    if (residual < tol): # if less than our required tolerance jump out of the iteration and end.\n",
    "        break\n",
    "\n",
    "    x = x_new # update old solution\n",
    "\n",
    "# plot the log of the residual against iteration number \n",
    "fig = plt.figure(figsize=(6, 4))\n",
    "ax1 = plt.subplot(111)\n",
    "ax1.semilogy(residuals) # plot the log of the residual against iteration number \n",
    "ax1.set_xlabel('Iteration')\n",
    "ax1.set_ylabel('Residual')\n",
    "ax1.set_title('Convergence plot')\n",
    "plt.show()\n",
    "\n",
    "print(x_new) # our solution vector\n",
    "print(sl.inv(A) @ b)  # check against scipy"
   ]
  },
  {
   "cell_type": "markdown",
   "metadata": {},
   "source": [
    "## VI.    Iterative methods - Gauss-Seidel's method\n",
    "\n",
    "We can make a small improvement to Jacobi's method using the updated components of the solution vector as soon as they become available:\n",
    "\n",
    "\n",
    "* Starting from a guess at the solution $\\pmb{x}^{(0)}$\n",
    "\n",
    "\n",
    "\n",
    "* iterate for $k>0$\n",
    "$$x_i^{(k)} = \\frac{1}{A_{ii}}\\left(b_i- \\sum_{\\substack{j=1\\\\ j< i}}^nA_{ij}x_j^{(k)} - \\sum_{\\substack{j=1\\\\ j> i}}^nA_{ij}x_j^{(k-1)}\\right),\\quad  i=1,2,\\ldots, n.$$\n",
    "\n",
    "Note that as opposed to Jacobi, we can overwrite the entries of $\\pmb{x}$ as they are updated, with Jacobi we need to store both the new as well as the old iteration (i.e. not overwrite the old entries until we have finished with them - which was not until the end of every iteration).\n",
    "\n",
    "As we are using updated knowledge immediately, the Gauss-Seidel algorithm should converge faster than Jacobi, but note that this convergence can only be *guaranteed* for matrices which are diagonally dominant (for every row, the magnitude of value on the main diagonal is greater than the sum of the magnitudes of all the other entries in that row), or if the matrix is *symmetric positive definite* (a property we won't define in this course).  \n",
    "\n"
   ]
  },
  {
   "cell_type": "markdown",
   "metadata": {},
   "source": [
    "### <span style=\"color:blue\">Exercise 7.3: Implement Gauss-Seidel's method.</span>\n",
    "\n",
    "Generalise the Jacobi code to solve the matrix problem using Gauss-Seidel's method."
   ]
  },
  {
   "cell_type": "markdown",
   "metadata": {},
   "source": [
    "## VIII.    Sparse matrices\n",
    "\n",
    "Note that the matrices which result from the numerical solution of differential equations are generally  *sparse* (<https://en.wikipedia.org/wiki/Sparse_matrix>) which means that most entries are zero (the alternative is termed *dense*).  Knowing which entries are zero means that we can devise more efficient matrix storage methods, as well as more efficient implementations of the above algorithms (e.g. by not bothering to do operations that we know involve multiplications by zero - we know the answer will be zero).\n",
    "\n",
    "As an example, for the two iterative methods shown above (Jacobi and Gauss Seidel), the cost of *each* iteration is quadratically dependent on the number of unknowns $n$, since we need to loop through all the entries of the $n\\times n$ matrix $A$. For a fixed number of iterations the computational cost of these methods therefore scales as $n^2$. If we know that each row only contains a fixed, small number of non-zero entries however (as for example the matrix in the example below), we can simply skip the zero entries and the cost *per iteration* becomes linear in $n$. These scalings of $n^2$ for *dense* and $n$ for *sparse* matrices for the cost per iteration are typical for iterative methods. Unfortunately this does not mean that the overall cost of an iterative method is also $n^2$ or $n$, as the number of iterations that is needed to achieve a certain accuracy quite often also increases for larger problem sizes. The number of required iterations typically only increases very slowly however, so that the cost of the method is still considerably cheaper than direct methods, in particular for very large problems.\n",
    "\n",
    "A huge range of iterative solution methods exist and the literature on this topic is massive. Below is an example of using scipy to access the Conjugate Gradient algorithm which is a popular example of a method suitable for matrices which result from the numerical solution of differential equations."
   ]
  },
  {
   "cell_type": "code",
   "execution_count": 12,
   "metadata": {},
   "outputs": [
    {
     "name": "stdout",
     "output_type": "stream",
     "text": [
      "[[-2.          0.01579799  0.         ...  0.          0.\n",
      "   0.        ]\n",
      " [ 0.01579799 -2.          0.96907927 ...  0.          0.\n",
      "   0.        ]\n",
      " [ 0.          0.96907927 -2.         ...  0.          0.\n",
      "   0.        ]\n",
      " ...\n",
      " [ 0.          0.          0.         ... -2.          0.293628\n",
      "   0.        ]\n",
      " [ 0.          0.          0.         ...  0.293628   -2.\n",
      "   0.02000908]\n",
      " [ 0.          0.          0.         ...  0.          0.02000908\n",
      "  -2.        ]]\n",
      "This is the same matrix but now stored in a sparse matrix data structure.\n",
      "  (0, 0)\t-2.0\n",
      "  (0, 1)\t0.01579798887096051\n",
      "  (1, 0)\t0.01579798887096051\n",
      "  (1, 1)\t-2.0\n",
      "  (1, 2)\t0.9690792657586554\n",
      "  (2, 1)\t0.9690792657586554\n",
      "  (2, 2)\t-2.0\n",
      "  (2, 3)\t0.4426848628892317\n",
      "  (3, 2)\t0.4426848628892317\n",
      "  (3, 3)\t-2.0\n",
      "  (3, 4)\t0.33287797242853423\n",
      "  (4, 3)\t0.33287797242853423\n",
      "  (4, 4)\t-2.0\n",
      "  (4, 5)\t0.8349961890669807\n",
      "  (5, 4)\t0.8349961890669807\n",
      "  (5, 5)\t-2.0\n",
      "  (5, 6)\t0.2759243129018931\n",
      "  (6, 5)\t0.2759243129018931\n",
      "  (6, 6)\t-2.0\n",
      "  (6, 7)\t0.5899642313423469\n",
      "  (7, 6)\t0.5899642313423469\n",
      "  (7, 7)\t-2.0\n",
      "  (7, 8)\t0.5338100213881314\n",
      "  (8, 7)\t0.5338100213881314\n",
      "  (8, 8)\t-2.0\n",
      "  :\t:\n",
      "  (41, 41)\t-2.0\n",
      "  (41, 42)\t0.6990321498971347\n",
      "  (42, 41)\t0.6990321498971347\n",
      "  (42, 42)\t-2.0\n",
      "  (42, 43)\t0.44120676550363935\n",
      "  (43, 42)\t0.44120676550363935\n",
      "  (43, 43)\t-2.0\n",
      "  (43, 44)\t0.6627012118552\n",
      "  (44, 43)\t0.6627012118552\n",
      "  (44, 44)\t-2.0\n",
      "  (44, 45)\t0.08354089874916015\n",
      "  (45, 44)\t0.08354089874916015\n",
      "  (45, 45)\t-2.0\n",
      "  (45, 46)\t0.06076481090638697\n",
      "  (46, 45)\t0.06076481090638697\n",
      "  (46, 46)\t-2.0\n",
      "  (46, 47)\t0.2600948682739955\n",
      "  (47, 46)\t0.2600948682739955\n",
      "  (47, 47)\t-2.0\n",
      "  (47, 48)\t0.29362800321791604\n",
      "  (48, 47)\t0.29362800321791604\n",
      "  (48, 48)\t-2.0\n",
      "  (48, 49)\t0.02000907848336786\n",
      "  (49, 48)\t0.02000907848336786\n",
      "  (49, 49)\t-2.0\n",
      "Now we execute the CG algorithm on our problem, with our callback function returning information on the residual at each iteration.\n",
      "1 2.3562251696335856\n",
      "2 1.0239182056504734\n",
      "3 0.401992541842747\n",
      "4 0.223770573282838\n",
      "5 0.10784772944319773\n",
      "6 0.04528275512406776\n",
      "7 0.016783187792529596\n",
      "8 0.007841550759271124\n",
      "9 0.003427366089593852\n",
      "10 0.0013261858767582826\n",
      "11 0.0005783870772007964\n",
      "12 0.0002434899030345161\n",
      "13 7.049175749160568e-05\n",
      "14 2.7297491399353727e-05\n",
      "15 9.758147321408194e-06\n",
      "16 2.1383778140400358e-06\n",
      "17 8.453340360899756e-07\n",
      "18 4.027234283292924e-07\n",
      "19 1.244334213076751e-07\n",
      "20 3.765897211891967e-08\n",
      "21 1.380157208085994e-08\n",
      "22 3.2245429787673083e-09\n",
      "23 1.211810534395043e-09\n",
      "24 3.697853422438397e-10\n"
     ]
    }
   ],
   "source": [
    "import scipy.sparse.linalg\n",
    "\n",
    "n = 50\n",
    "main_diag = np.ones(n)   #just a vector of ones\n",
    "off_diag = np.random.random(n-1)  # to make it a bit more interesting make the off-diagonals random\n",
    "A = np.diag(-2*main_diag,0) + np.diag(1.*off_diag,1) + np.diag(1.*off_diag,-1)\n",
    "# A random RHS vector\n",
    "b = np.random.random(A.shape[0])\n",
    "\n",
    "print(A) # print our A in \"dense\" matrix format\n",
    "\n",
    "sA = scipy.sparse.csr_matrix(A) # The same matrix in a \"sparse\" matrix data structure where only non-zeros stored\n",
    "print('This is the same matrix but now stored in a sparse matrix data structure.')\n",
    "print(sA)\n",
    "\n",
    "# now use a scipy iterative algorithm (Conjugate Gradient) to solve\n",
    "\n",
    "# First define a (callback) function which we are allowed to pass to the solver; here this is coded such that it will store and print the iteration numbers and residuals - basically a method to output some diagnostic information on the solver as it executes\n",
    "def gen_callback_cg():\n",
    "    diagnostics = dict(it=0, residuals=[]) \n",
    "    def callback(xk):   # xk is the solution computed by CG at each iteration\n",
    "        diagnostics[\"it\"] += 1\n",
    "        diagnostics[\"residuals\"].append(sl.norm(A @ xk - b))\n",
    "        print(diagnostics[\"it\"], sl.norm(A @ xk - b))\n",
    "    return callback    \n",
    "\n",
    "print('Now we execute the CG algorithm on our problem, with our callback function returning information on the residual at each iteration.')\n",
    "x_sol = scipy.sparse.linalg.cg(A,b,x0=None, tol=1e-10, maxiter=1000, callback=gen_callback_cg())"
   ]
  },
  {
   "cell_type": "markdown",
   "metadata": {
    "collapsed": true
   },
   "source": [
    "## An example of a sparse matrix\n",
    "\n",
    "Let us consider an electric circuit arranged in a regular grid of $n$ rows and $m$ columns. The nodes in the grid are numbered from 0 to $nm-1$ as indicated in the diagram below.\n",
    "\n",
    "![bla](images/circuit.png)\n",
    "\n",
    "We want to calculate the electric potential $V_i$ in all of the nodes $i$. A node $i$ somewhere in the middle of the circuit is connected via resistor to nodes $i-1$ and $i+1$ to the left and right respectively, and to the nodes $i-m$ and $i+m$ in the rows above and below. For simplicity we assume that all resistors have the same resistance value $R$. The first and last node of the circuit (0 and $nm-1$) to a battery via two additional resistors, with the same resistance value $R$.\n",
    "\n",
    "The sum of the currents coming into a node is zero (if we use a sign convention where a current coming into a node is positive and a current going out is negative. The currents between two nodes can be calculated using Ohm's law: $I=V/R$ where $R$ is the resistance of the resistor, and $V$ is the potential difference between two nodes, say $V=V_i-V_{i-1}$. Therefore we can write:\n",
    "\n",
    "\\begin{eqnarray}\n",
    "  0 &=& I_{i-1\\to i} + I_{i+1\\to i} + I_{i-m\\to i} + I_{i+m\\to i} \\\\\n",
    "    &=& V_{i-1\\to i}/R + V_{i+1\\to i}/R + V_{i-m\\to i}/R + V_{i+m\\to i}/R \\\\\n",
    "    &=& (V_{i}-V_{i-1})/R + (V_{i}-V_{i+1})/R + (V_{i}-V_{i-m})/R + (V_{i}-V_{i+m})/R \\\\\n",
    "    &=& (4V_{i}-V_{i-1}-V_{i+1}-V_{i-m}-V_{i+m})/R\n",
    "\\end{eqnarray}\n",
    "\n",
    "This gives us one linear equation for each node in the circuit (with slight modifications for nodes that are not in the interior). These can be combined into a linear system $Ax=b$ which is assembled in the code below:"
   ]
  },
  {
   "cell_type": "code",
   "execution_count": 13,
   "metadata": {},
   "outputs": [
    {
     "name": "stdout",
     "output_type": "stream",
     "text": [
      "[[ 3. -1.  0. -1.  0.  0.  0.  0.  0.  0.  0.  0.]\n",
      " [-1.  3. -1.  0. -1.  0.  0.  0.  0.  0.  0.  0.]\n",
      " [ 0. -1.  2.  0.  0. -1.  0.  0.  0.  0.  0.  0.]\n",
      " [-1.  0.  0.  3. -1.  0. -1.  0.  0.  0.  0.  0.]\n",
      " [ 0. -1.  0. -1.  4. -1.  0. -1.  0.  0.  0.  0.]\n",
      " [ 0.  0. -1.  0. -1.  3.  0.  0. -1.  0.  0.  0.]\n",
      " [ 0.  0.  0. -1.  0.  0.  3. -1.  0. -1.  0.  0.]\n",
      " [ 0.  0.  0.  0. -1.  0. -1.  4. -1.  0. -1.  0.]\n",
      " [ 0.  0.  0.  0.  0. -1.  0. -1.  3.  0.  0. -1.]\n",
      " [ 0.  0.  0.  0.  0.  0. -1.  0.  0.  2. -1.  0.]\n",
      " [ 0.  0.  0.  0.  0.  0.  0. -1.  0. -1.  3. -1.]\n",
      " [ 0.  0.  0.  0.  0.  0.  0.  0. -1.  0. -1.  3.]]\n"
     ]
    }
   ],
   "source": [
    "n = 4 # number of rows\n",
    "m = 3 # number of columns\n",
    "V_battery = 5.0 # voltage on the right of the battery\n",
    "\n",
    "A = np.zeros((n*m, n*m))\n",
    "for row in range(n):\n",
    "    for column in range(m):\n",
    "        i = row*m + column # node number\n",
    "        if column>0: # left neighbour\n",
    "            A[i,i-1] += -1.0\n",
    "            A[i,i] += 1.0\n",
    "        if column<m-1: # right neighbour\n",
    "            A[i,i+1] += -1.0\n",
    "            A[i,i] += 1.0\n",
    "        if row>0: # neighbour above\n",
    "            A[i,i-m] += -1.0\n",
    "            A[i,i] += 1.0\n",
    "        if row<n-1: # neighbour below\n",
    "            A[i,i+m] += -1.0\n",
    "            A[i,i] += 1.0\n",
    "\n",
    "# connecting node 0 to the battery: I = (V_0 - 0)/R\n",
    "A[0,0] += 1.0 \n",
    "# connecting last node nm-1 to the battery: I = (V_0 - V_battery)/R = V_0/R - V_battery/R\n",
    "A[n*m-1,n*m-1] += 1.0\n",
    "# the V_battery/R term is a constant that does not depend on the unknowns, so ends up in the rhs vector b\n",
    "b = np.zeros(n*m)\n",
    "b[n*m-1] = V_battery\n",
    "print(A)"
   ]
  },
  {
   "cell_type": "markdown",
   "metadata": {},
   "source": [
    "## EXTRA.    How - to - Guide"
   ]
  },
  {
   "cell_type": "markdown",
   "metadata": {},
   "source": [
    "Always check the solvability before actually trying to solve it! You could use determinant and Norms, or the Gaussian - Jordan to check!\n",
    "\n",
    "For system of linear equations\n",
    "\n",
    "- If the problem you are solving has very few unknowns and very few equations, i.e. 3 or less, maybe more for some of you who are more math savvy, then solve it by hand\n",
    "\n",
    "- If the problem you are solving has few unknowns and few equations, use Gaussian Elimination, preferably through LU decomposition using Doolittle Algorithm and maybe implement partial pivoting for $0$ on the diagonal\n",
    "\n",
    "- f the problem you are solving has lots of unknowns and lots of equation, and finding the exact solution would take ages, and well you don't have ages of time to solve the problem, then preferably Iterative Methods, such as the Jacobi Method or Gauss - Seidel Method. \n",
    "\n",
    "For numerical solutions to differential equations that are generally sparse - maybe use Conjugate Gradient Algorithm or some other algorithm that reduces the number of operations for sparse matrices, especially for very large sparse matrices. "
   ]
  },
  {
   "cell_type": "code",
   "execution_count": null,
   "metadata": {},
   "outputs": [],
   "source": []
  }
 ],
 "metadata": {
  "celltoolbar": "Slideshow",
  "kernelspec": {
   "display_name": "Python 3",
   "language": "python",
   "name": "python3"
  },
  "language_info": {
   "codemirror_mode": {
    "name": "ipython",
    "version": 3
   },
   "file_extension": ".py",
   "mimetype": "text/x-python",
   "name": "python",
   "nbconvert_exporter": "python",
   "pygments_lexer": "ipython3",
   "version": "3.8.2"
  },
  "toc": {
   "base_numbering": 1,
   "nav_menu": {},
   "number_sections": false,
   "sideBar": false,
   "skip_h1_title": false,
   "title_cell": "Table of Contents",
   "title_sidebar": "Contents",
   "toc_cell": false,
   "toc_position": {
    "height": "calc(100% - 180px)",
    "left": "10px",
    "top": "150px",
    "width": "213.809px"
   },
   "toc_section_display": false,
   "toc_window_display": false
  }
 },
 "nbformat": 4,
 "nbformat_minor": 1
}
