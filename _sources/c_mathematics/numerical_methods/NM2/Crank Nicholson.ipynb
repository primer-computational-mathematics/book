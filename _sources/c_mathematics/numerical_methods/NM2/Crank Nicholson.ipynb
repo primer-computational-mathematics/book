{
 "cells": [
  {
   "cell_type": "markdown",
   "metadata": {},
   "source": []
  },
  {
   "cell_type": "markdown",
   "metadata": {},
   "source": [
    "# Crank Nicholson"
   ]
  },
  {
   "cell_type": "markdown",
   "metadata": {},
   "source": [
    "Ok, so by this point, I will be assuming that you have had a good grasp upon the finite difference method, and understood both the FTCS scheme and the BTCS schemes. Also, that you have had a good grasp on the heat transfer equation and understood it, so I will not go into detail explaining it. \n",
    "\n",
    "Do revise FTCS and BTCS beforehand before working on Crank Nicholson, it will help alot! "
   ]
  },
  {
   "cell_type": "markdown",
   "metadata": {},
   "source": [
    "## Contents \n",
    "\n",
    "## I.    Introduction\n",
    "## II.   Equation\n",
    "## III.  Example\n",
    "## IV.  Comparison between FTCS, BTCS and Crank Nicholson"
   ]
  },
  {
   "cell_type": "markdown",
   "metadata": {},
   "source": [
    "## Introduction"
   ]
  },
  {
   "cell_type": "markdown",
   "metadata": {},
   "source": [
    "Well, now we have both the FTCS and BTCS. While the FTCS is faster and less computationally expensive, there is the risk of computational instability. While BTCS is slower and more computationally expensive, it has unconditional stability. Well, is there a way to combine FTCS and BTCS?\n",
    "\n",
    "Well, introduce the Crank Nicholson Method. \n",
    "\n",
    "Below the scheme used in the Crank Nicholson Method\n",
    "\n",
    "<img src =\"https://upload.wikimedia.org/wikipedia/commons/1/1e/Crank-Nicolson-stencil.svg\">\n",
    "\n",
    "Like in BTCS and FTCS, our objective is to find the point with \\\\((j, n+1)\\\\), and from the stencil we see that we will use the points \\\\((j,n)\\\\), \\\\((j-1,n)\\\\), \\\\((j+1,n)\\\\), \\\\((j-1,n+1)\\\\) and \\\\((j+1,n +1)\\\\). \n",
    "\n",
    "From our previous timestep, we already know about the points \\\\((j,n)\\\\), \\\\((j-1,n)\\\\), \\\\((j+1,n)\\\\). However, Crank Nicholson is not an explicit, but an implicit scheme, because we do not know immediately what are \\\\((j-1,n+1)\\\\) and \\\\((j+1,n +1)\\\\), so we have to use the boundary conditions to help us like in the BTCS scheme. \n",
    "\n",
    "\n"
   ]
  },
  {
   "cell_type": "markdown",
   "metadata": {},
   "source": [
    "## Equations"
   ]
  },
  {
   "cell_type": "markdown",
   "metadata": {},
   "source": [
    "Let's write some equations that we are going to use for the Crank Nicholson\n",
    "\n",
    "Since Crank Nicholson scheme is a combination of the FTCS scheme and the BTCS scheme then let's see how?\n",
    "\n",
    "For FTCS, the central differencing, done for the derivatives in space, were done using the points \\\\((j,n)\\\\), \\\\((j-1,n)\\\\), \\\\((j+1,n)\\\\) and thus we have\n",
    "\n",
    "\\\\[ \\frac{\\partial u}{\\partial x} _ {FTCS} \\approx \\frac{u_{j+1}^{n}-u_{j-1}^{n}}{2\\Delta x} \\\\]\n",
    "\n",
    "\\\\[ \\frac{\\partial^2 u}{\\partial x^2} _ {FTCS} \\approx \\frac{u_{j+1}^{n}-2u_{j}^{n}+u_{j-1}^{n}}{\\Delta x^2} \\\\]\n",
    "\n",
    "For BTCS, the central differencing, done for the derivatives in space, were done using the points \\\\((j,n + 1)\\\\), \\\\((j-1,n + 1)\\\\), \\\\((j+1,n + 1)\\\\) and thus we have\n",
    "\n",
    "\\\\[ \\frac{\\partial u}{\\partial x} _ {BTCS} \\approx \\frac{u_{j+1}^{n + 1}-u_{j-1}^{n + 1}}{2\\Delta x} \\\\]\n",
    "\n",
    "\\\\[ \\frac{\\partial^2 u}{\\partial x^2} _ {BTCS} \\approx \\frac{u_{j+1}^{n + 1}-2u_{j}^{n + 1}+u_{j-1}^{n + 1}}{\\Delta x^2} \\\\]\n",
    "\n",
    "For Crank Nicholson, (so the one with subscript \\\\(CN\\\\) because my low dexterity stat means I will defo mistype Crank Nicholson), it takes the average of the FTCS and the BTCS so \n",
    "\n",
    "\\\\[ \\frac{\\partial u}{\\partial x} _ {CN} = \\frac{1}{2} \\left( \\frac{\\partial u}{\\partial x} _ {FTCS} + \\frac{\\partial u}{\\partial x} _ {BTCS} \\right) \\\\] \n",
    "\n",
    "\\\\[ \\frac{\\partial^2 u}{\\partial x^2} _ {CN} = \\frac{1}{2} \\left( \\frac{\\partial^2 u}{\\partial x^2} _ {FTCS} + \\frac{\\partial^2 u}{\\partial x^2} _ {BTCS} \\right) \\\\] \n",
    "\n",
    "Expanding the above will give us\n",
    "\n",
    "\\\\[ \\frac{\\partial u}{\\partial x} _ {CN} = \\frac{1}{2} \\left(  \\frac{u_{j+1}^{n}-u_{j-1}^{n}}{2\\Delta x}  + \\frac{u_{j+1}^{n + 1}-u_{j-1}^{n + 1}}{2\\Delta x} \\right) \\\\] \n",
    "\n",
    "\\\\[ \\frac{\\partial^2 u}{\\partial x^2} _ {CN} = \\frac{1}{2} \\left( \\frac{u_{j+1}^{n}-2u_{j}^{n}+u_{j-1}^{n}}{\\Delta x^2} + \\frac{u_{j+1}^{n + 1}-2u_{j}^{n + 1}+u_{j-1}^{n + 1}}{\\Delta x^2} \\right) \\\\] \n",
    "\n",
    "Expanding a bit more will give us\n",
    "\n",
    "\\\\[ \\frac{\\partial u}{\\partial x} _ {CN} =   \\frac{u_{j+1}^{n}-u_{j-1}^{n}}{4\\Delta x}  + \\frac{u_{j+1}^{n + 1}-u_{j-1}^{n + 1}}{4\\Delta x}  \\\\] \n",
    "\n",
    "\\\\[ \\frac{\\partial^2 u}{\\partial x^2} _ {CN} = \\frac{u_{j+1}^{n}-2u_{j}^{n}+u_{j-1}^{n}}{2\\Delta x^2} + \\frac{u_{j+1}^{n + 1}-2u_{j}^{n + 1}+u_{j-1}^{n + 1}}{2\\Delta x^2}  \\\\] \n",
    "\n",
    "We already know that FTCS and BTCS both use Forward Euler for their time derivative, and both use the points \\\\((j,n)\\\\) and \\\\((j, n+1)\\\\), and the equation for the time derivative for both FTCS and BTCS are identical, unlike the space derivative shown above. Thus, if you have two things that are the same, and you take average of these two, then the average you obtain will be the same as any of the two things that are the same. Thus, we write\n",
    "\n",
    "\\\\[ \\frac{\\partial u}{\\partial t}_{CN} \\approx \\frac{u_{j}^{n+1}-u_{j}^{n}}{\\Delta t} \\\\]"
   ]
  },
  {
   "cell_type": "markdown",
   "metadata": {},
   "source": [
    "## Example"
   ]
  },
  {
   "cell_type": "markdown",
   "metadata": {},
   "source": [
    "For example for our 1D heat equation, i.e. \n",
    "\n",
    "\\\\[ \\frac{\\partial u}{\\partial t} = \\alpha \\frac{\\partial^2 u}{\\partial x^2} \\\\]\n",
    "\n",
    "If we apply our Crank Nicholson method to it, then we will obtain \n",
    "\n",
    "\\\\[ \\frac{u_{j}^{n+1}-u_{j}^{n}}{\\Delta t} = \\alpha \\left( \\frac{u_{j+1}^{n}-2u_{j}^{n}+u_{j-1}^{n}}{2\\Delta x^2} + \\frac{u_{j+1}^{n + 1}-2u_{j}^{n + 1}+u_{j-1}^{n + 1}}{2\\Delta x^2} \\right) \\\\]\n",
    "\n",
    "Our Crank Nicholson method uses the points at \\\\((j,n)\\\\), \\\\((j-1,n)\\\\), \\\\((j+1,n)\\\\), \\\\((j-1,n+1)\\\\) and \\\\((j+1,n +1)\\\\). Amongst which, the points at \\\\((j,n)\\\\), \\\\((j-1,n)\\\\), \\\\((j+1,n)\\\\) are already known, since these are from the previous timestep. The points \\\\((j-1,n+1)\\\\) and \\\\((j+1,n +1)\\\\) are in the future timestep, and require the help of boundary conditions to solve.\n",
    "\n",
    "The first timestep is always the initial condition of the system, since you always begin at \\\\(t_0\\\\). The first timestep will be the initial condition, i.e \\\\((j,0)\\\\), \\\\((j-1,0)\\\\), \\\\((j+1,0)\\\\) and the next timestep for this one will be at \\\\(t_1\\\\), i.e. \\\\((j,1)\\\\), \\\\((j-1,1)\\\\), \\\\((j+1,1)\\\\). If we can solve for what is in the next timestep and find out what is \\\\(t_1\\\\), (remember that the current timestep will be \\\\(t_0\\\\) and the future timestep will be \\\\(t_1\\\\)) , i.e. \\\\((j,1)\\\\), \\\\((j-1,1)\\\\), \\\\((j+1,1)\\\\), then we can do the same (remember that the current timestep will be \\\\(t_1\\\\) and the future timestep will be \\\\(t_2\\\\) now!) and find out \\\\(t_2\\\\), i.e. \\\\((j,2)\\\\), \\\\((j-1,2)\\\\), \\\\((j+1,2)\\\\), and then do the same and find out \\\\((j,3)\\\\), \\\\((j-1,3)\\\\), \\\\((j+1,3)\\\\) and so on and so forth!\n",
    "\n",
    "Similar to highschool algebra, we could manipulate our equation from above, so that we leave the points that we already know to one side of the equation, and the points we do not know to the another side of the equation. Because we are going to use \\\\(\\pmb{Ax = b}\\\\), let's move the points that we don't know to the LHS, and the points we do know to the RHS. We will not worry about \\\\(\\alpha\\\\) which is usually given as a constant, or at least given in a form simple enough that is trivial to compute; neither will we worry about \\\\(\\Delta x\\\\) or \\\\(\\Delta t\\\\) because we are the ones controlling their size. Thus we can write, \n",
    "\n",
    "\\\\[ \\pmb{LHS}\\;\\; with\\;\\; (j,n + 1), (j-1,n + 1), (j+1,n + 1) =  \\pmb{RHS}\\;\\; with\\;\\; (j,n), (j-1,n), (j+1,n) \\\\]\n",
    "\n",
    "For the \\\\(LHS\\\\), we know that there will be coefficients in front of the  \\\\((j,n + 1), (j-1,n + 1), (j+1,n + 1)\\\\), therefore, let's say that \n",
    "\n",
    "The coefficient for \\\\( (j,n + 1)\\\\) is  \\\\( a_j \\\\)\n",
    "\n",
    "The coefficient for \\\\( (j-1,n + 1)\\\\) is  \\\\( c_j \\\\)\n",
    "\n",
    "The coefficient for \\\\( (j+1,n + 1)\\\\) is  \\\\( b_j \\\\)\n",
    "\n",
    "The coefficients should be obvious once you have manipulated the equation a bit. If not sure, you could look up the BTCS scheme. \n",
    "\n",
    "For the RHS, because we already know the values for \\\\((j,n), (j-1,n), (j+1,n) \\\\), and since we know that their coefficients must be made from \\\\(\\alpha\\\\), \\\\(\\Delta x\\\\) or \\\\(\\Delta t\\\\), whose value are either known, trivial to compute, or set up by us, and since there is nothing unknown to us in the RHS, we could just lump the entire RHS into let's say \\\\( f_j \\\\). We use the index \\\\(j\\\\) here because our objective is to find the point at \\\\((j, n+1)\\\\)\n",
    "\n",
    "Thus, we can rewrite our equation into the form \n",
    "\n",
    "\\\\[ c_j u_{j - 1}^{n + 1} + a_j u_{j }^{n + 1} + b_j u_{j + 1}^{n + 1} = f_j  \\\\]\n",
    "\n",
    "The equation looks oddly familiar, and well, it's almost the same as the BTCS Scheme's equation of \n",
    "\n",
    "\\\\[ c_j u_{j - 1}^{n + 1} + a_j u_{j }^{n + 1} + b_j u_{j + 1}^{n + 1} = d_j  \\\\]\n",
    "\n",
    "Except that in BTCS \\\\(d_j\\\\) contained only \\\\((j, n)\\\\) while the CN \\\\(f_j\\\\) contained \\\\((j,n), (j-1,n), (j+1,n) \\\\). Also, the exact values for \\\\(c_j, a_j, b_j\\\\) may be different. But nonetheless, since the form is the same, you can very much just copy the same scheme we used in BTCS to solve this one too. \n",
    "\n",
    "You will transform the above equations into a matrix of the form \\\\(\\pmb{Ax = b}\\\\), perform Gaussian elimination if you don't care about memory, or LU factorization if you care about memory, and then solve for \\\\(\\pmb{x}\\\\). And then rinse and repeat for the next timestep and next timestep etc. \n",
    "\n"
   ]
  },
  {
   "cell_type": "markdown",
   "metadata": {},
   "source": [
    "## Comparison between FTCS, BTCS and Crank Nicholson "
   ]
  },
  {
   "cell_type": "markdown",
   "metadata": {},
   "source": [
    "Wikipedia actually has a nice, short, succint, concise section on this, so I will just quote it here. "
   ]
  },
  {
   "cell_type": "markdown",
   "metadata": {},
   "source": [
    "To summarize, usually the Crank–Nicolson scheme is the most accurate scheme for small time steps. For larger time steps, the implicit scheme works better since it is less computationally demanding. The explicit scheme is the least accurate and can be unstable, but is also the easiest to implement and the least numerically intensive.\n",
    "\n",
    "In the following image, the FTCS is compared to the Exact, the BTCS is compared to the exact, and the Crank Nicholson is compared to the exact, sequentially. What the images failed to show is process going from the initial conditions to the final timestep, and the computational expense of each method, which, well, you could do it yourself, now that you are a Master of FTCS, BTCS and Crank Nicholson, by experimenting the schemes with different problems at hand! Why not start with the 1D Heat Equation that we have previously discussed?"
   ]
  },
  {
   "cell_type": "markdown",
   "metadata": {},
   "source": [
    "<img src =\"https://upload.wikimedia.org/wikipedia/commons/4/43/HeatEquationExplicitApproximate.svg\">\n",
    "<img src =\"https://upload.wikimedia.org/wikipedia/commons/b/bc/HeatEquationImplicitApproximate.svg\">\n",
    "<img src =\"https://upload.wikimedia.org/wikipedia/commons/4/42/HeatEquationCNApproximate.svg\">"
   ]
  },
  {
   "cell_type": "markdown",
   "metadata": {},
   "source": []
  }
 ],
 "metadata": {
  "kernelspec": {
   "display_name": "Python 3",
   "language": "python",
   "name": "python3"
  },
  "language_info": {
   "codemirror_mode": {
    "name": "ipython",
    "version": 3
   },
   "file_extension": ".py",
   "mimetype": "text/x-python",
   "name": "python",
   "nbconvert_exporter": "python",
   "pygments_lexer": "ipython3",
   "version": "3.8.5"
  }
 },
 "nbformat": 4,
 "nbformat_minor": 4
}
