{
 "cells": [
  {
   "cell_type": "markdown",
   "metadata": {},
   "source": [
    "# Boundary Conditions"
   ]
  },
  {
   "cell_type": "markdown",
   "metadata": {},
   "source": [
    "Due to the limits of our computational power, and due to being a sensible person, who cannot try to numerically solve PDEs for infinite space and infinite time, and we must confine ourselves to a limited scope when using our PDEs. Often, we would limit ourselves to solving PDEs within a certain shape or size. For example, in engineering, when studying the PDEs concerning the heat trasnfer within the component, for example from the location of combustion to the outer rims of the gear, the boundaries which confine our PDE could be the shape of the object. \n",
    "\n",
    "The conditions of the boundary is of utmost importance to the success of your PDEs, as you may have learnt in your math modules. The conditions of the boundary are also of utmost importance to schemes of numericaly solving PDEs, like the BTCS or the Crank Nicholson scheme. We have a myriad of different PDE problems in nature, and thus, there are a myriad of possible boundary conditions. We will discuss here the 3 main types of boundaries, that is, the Dirichlet boundary, the Neumann boundary and the Robin boundary. "
   ]
  },
  {
   "cell_type": "markdown",
   "metadata": {},
   "source": [
    "## I.    Dirichlet Boundary Conditions\n",
    "## II.   Neumann Boundary Conditions\n",
    "## III.  Robin Boundary Conditions"
   ]
  },
  {
   "cell_type": "markdown",
   "metadata": {},
   "source": [
    "## I. Dirichlet Boundary Conditions\n",
    "\n"
   ]
  },
  {
   "cell_type": "markdown",
   "metadata": {},
   "source": [
    "Dirichlet Boundary Conditions are the simplest type of boundary conditions. Simply put, Dirichlet boundary is a type of boundary conditions where the value of the dependent variable is equal to some sort of function. \n",
    "\n",
    "\\\\[ u = f \\\\]\n",
    "\n",
    "Where \\\\(u\\\\) is our dependent variable and \\\\(f\\\\) is some arbitrary function\n",
    "\n",
    "A classical example for a Dirichlet boundary condition would be to state that the value of the independent variable at the boundary is equal to a number. For example, to state that the temperature, the dependent variable from our heat transfer equation, is equal to a certain number. Let's say that we have a rod, and the rod has two ends, the left end, i.e. position 0 is kept at \\\\(0\\\\) and the right end, i.e. position L is kept at \\\\(100\\\\), regardless of the time elapsed.  Thus, we write our Dirichlet boundary conditions as\n",
    "\n",
    "\\\\[u(0, t) = 0\\\\]\n",
    "\\\\[u(L, t) = 100\\\\]\n",
    "\n",
    "However, Dirichlet simply states that it needs to be equal to a function, and well, does not neccesarily have to be a number. For example, I could have a cubic hot block of metal and the temperature of the metal block, whose boundaries are such that it is cool at one corner, and graduatally gets hotter till the opposite corner \n",
    "\n",
    "\\\\[u(x, t) = x \\\\]\n",
    "\\\\[u(y, t) = y \\\\]\n",
    "\n",
    "I could also have something like \n",
    "\n",
    "\\\\[u(x, t) = x + 100 \\\\]\n",
    "\\\\[u(y, t) = y + 200\\\\]\n"
   ]
  },
  {
   "cell_type": "markdown",
   "metadata": {},
   "source": [
    "## II. Neumann Boundary Conditions"
   ]
  },
  {
   "cell_type": "markdown",
   "metadata": {},
   "source": [
    "###  II. 1 Neumann Boundary -  Introduction"
   ]
  },
  {
   "attachments": {},
   "cell_type": "markdown",
   "metadata": {},
   "source": [
    "Neumann Boundary Conditions are Boundary Conditions where the gradient of the dependent variable is specified at the boundary to be equal to some sort of function We understand that for a boundary in 2D space, or actually any D space, the gradient that is specified in the Neumann boundary condition is the gradient of the dependent variable that is perpendicular to the surface of the boundary. Thus we have\n",
    "\n",
    "\\\\[ \\nabla u \\bullet \\textbf{n} = g(x,y) \\\\]\n",
    "\n",
    "Where you may remember from your math modules that \\\\( \\nabla \\\\) refers to the gradient, and doing dot product of the gradient with \\\\( textbf{n} \\\\), which is the unit normal to the boundary, will result in the gradient that is perpendicular to your boundary, since doing dot product maps the gradient to the direction of the unit normal. \n",
    "\n",
    "Thus, the directionality of your gradient is also important, since there could be the gradient could be into the domain or pointing out of the domain. \n",
    "\n",
    "Where \\\\(g\\\\) is just a letter I used there to denote some arbitrary function\n"
   ]
  },
  {
   "cell_type": "markdown",
   "metadata": {},
   "source": [
    "### II.  2 Neumann Boundary - Cases 1, 2, 3, 4"
   ]
  },
  {
   "cell_type": "markdown",
   "metadata": {},
   "source": [
    "For a horizontal boundary, the unit normal to the boundary will be in the vertical direction. Since we are mapping the gradient based on the unit normal to the boundary, we understand that the gradient will also be mapped accordingly, and become the gradient in the direction normal to the boundary, so the gradient in the vertical direction. \n",
    "\n",
    "We can therefore write our boundary condition as such, assuming that y is in the vertical direction, and x is in the horizontal direction\n",
    "\n",
    "For horizontal boundary:\n",
    "\n",
    "\\\\[ \\frac{\\partial u}{\\partial y} = g(x) \\\\]\n",
    "\n",
    "Where \\\\(g\\\\) is just a letter I used there to denote some arbitrary function\n",
    "\n",
    "It may seem strange that we are using a derivative w.r.t to \\\\(y\\\\) for the boundary condition for our horizontal boundary; however, you need to think about the physical meaning for the Neumann boundary. Unlike the Dirichlet boundary, which states the boundary as being a number or simply a function, Neumann boundary actually specifies the change in the values across the boundary. If you had a horizontal boundary, calculating the change in the values across the boundary would mean you would need a value on one side of the boundary, and another value on the other side of the boundary, so you need a derivative w.r.t to the direction perpendicular to the horizontal in order to include the two points on different side of the boundary for your calculations. \n",
    "\n",
    "Notice how for the horizontal boundary, compared to the general equation, the \\\\(y\\\\) in the arbitrary function disappeared, and well, was only left with \\\\(x\\\\), meaning that the boundary conditions depend not on \\\\(y\\\\), but only on the position of \\\\(x\\\\). This is reasonable as we are talking about a horizontal boundary here, and well, moving from one end of a horizontal boundary to the other, \\\\(y\\\\) does not change. Since \\\\(y\\\\) along the horizontal boundary is the same and does not change, the change in the value of \\\\(y\\\\) cannot affect our boundary condition because there is no change in the value of \\\\(y\\\\). Along our horizontal boundary, we only have change in \\\\(x\\\\).\n",
    "\n",
    "You can always write \\\\( \\frac{\\partial u}{\\partial y} = g(x, y = some\\;\\;constant) \\\\) if it makes you more comfortable. \n",
    "\n",
    "For a vertical boundary, the unit normal to the boundary will be in the horizontal direction. Since we are mapping the gradient based on the unit normal to the boundary, we understand that the gradient will also be mapped accordingly, and become the gradient in the direction normal to the boundary, so the gradient in the horizontal direction. \n",
    "\n",
    "We can therefore write our boundary condition as such, assuming that y is in the vertical direction, and x is in the horizontal direction\n",
    "\n",
    "For vertical boundary: \n",
    "\n",
    "\\\\[ \\frac{\\partial u}{\\partial x} = g(y) \\\\]\n",
    "\n",
    "Where \\\\(g\\\\) is just a letter I used there to denote some arbitrary function\n",
    "\n",
    "It may seem strange that we are using a derivative w.r.t to x for the boundary condition for our vertical boundary; however, you need to think about the physical meaning for the Neumann boundary. Unlike the Dirichlet boundary, which states the boundary as being a number or simply a function, Neumann boundary actually specifies the change in the values across the boundary. If you had a vertical boundary, calculating the change in the values across the boundary would mean you would need a value on one side of the boundary, and another value on the other side of the boundary, so you need a derivative w.r.t to the direction perpendicular to the vertical in order to include the two points on different side of the boundary for your calculations. \n",
    "\n",
    "Notice how for the vertical boundary, compared to the general equation, the \\\\(x\\\\) in the arbitrary function disappeared, and well, was only left with \\\\(y\\\\), meaning that the boundary conditions depend not on \\\\(x\\\\), but only on the position of \\\\(y\\\\). This is reasonable as we are talking about a vertical boundary here, and well, moving from one end of a vertical boundary to the other, \\\\(x\\\\) does not change. Since \\\\(x\\\\) along the vertical boundary is the same and does not change, the change in the value of \\\\(x\\\\) cannot affect our boundary condition because there is no change in the value of \\\\(x\\\\). Along our horizontal boundary, we only have change in \\\\(y\\\\). \n",
    "\n",
    "You can always write \\\\( \\frac{\\partial u}{\\partial x} = g(x = some\\;\\;constant, y) \\\\) if it makes you more comfortable. \n",
    "\n",
    "For boundaries that are neither vertical nor horizontal, you might have to adopt a more complicate scheme to help calculate the unit normal to the surface. Since the boundary is neither vertical nor horizontal, the unit normal will also not be horizontal or vertical. Mapping our gradient using our unit normal that is neither horizontal or vertical will not result in sumply \\\\( \\frac{\\partial u}{\\partial y} = g(x,y) \\\\) or \\\\( \\frac{\\partial u}{\\partial x} = h(x,y) \\\\) but something containing both \\\\( \\frac{\\partial u}{\\partial y} \\\\)  and  \\\\(\\frac{\\partial u}{\\partial x} \\\\) for a single boundary! \n",
    "\n",
    "Since we are having 1st order partial derivatives in our conditions, to numerically compute it, we have to use the values at the boundary, and either forward or backward approximation. \n",
    "\n",
    "As the point being considered is, by definition, on the edge of the valid domain, the central difference can’t be used, since we are going to use a point that is out of bounds!\n",
    "\n",
    "We could either use a forward or backward approximation is used depends on which side of the domain the boundary is. For example, if we use forward approximation, if the \\\\(j+1\\\\) term goes outside the boundary, then we cannot use forward approximation. Likewise, if we use forward approximation, if the \\\\(j-1\\\\) term goes outside the boundary, then we cannot use backward approximation. \n",
    "\n",
    "We can consider the following situations, where \\\\(\\vert\\\\) is used to represent the boundary. \n",
    "Let's assume that our position index increases to the right, and also increases downwards. (Think about index of Python arrays!) NOTE: PROPER INDEXING IS REALLY IMPORTANT!\n",
    "\n",
    "Case 1:\n",
    "\n",
    "\\\\[domain \\;\\;\\vert\\;\\; out\\;\\; of\\;\\;domain\\\\]\n",
    "\\\\[\\dots j - 1\\;\\; j\\;\\; \\vert \\;\\; j +1 \\ldots \\\\]\n",
    "\n",
    "If we use forward approximation i.e. \\\\(j\\\\) and  \\\\(j + 1\\\\), then we are using an out of bound value, so we cannot use forward approximation here, and only backward approximation, which uses i.e. \\\\(j - 1\\\\) and  \\\\(j \\\\)\n",
    "\n",
    "Case 2:\n",
    "\n",
    "\\\\[out\\;\\; of\\;\\;domain \\;\\;\\vert\\;\\; domain \\\\]\n",
    "\\\\[\\dots j - 1\\;\\; \\vert j\\;\\;  \\;\\; j +1 \\ldots \\\\]\n",
    "\n",
    "If we use backward approximation i.e. \\\\(j\\\\) and  \\\\(j - 1\\\\), then we are using an out of bound value, so we cannot use backward approximation here, and only forward approximation, which uses i.e. \\\\(j + 1\\\\) and  \\\\(j \\\\)\n",
    "\n",
    "Case 3 (we change the index here to \\\\(i\\\\), to avoid confusion with \\\\(j\\\\)):\n",
    "\n",
    "\\\\[domain \\\\]\n",
    "\\\\[-------------\\\\]\n",
    "\\\\[out\\;\\; of\\;\\;domain\\\\]\n",
    "\n",
    "in other words, \n",
    "\n",
    "\\\\[i - 1 \\\\]\n",
    "\\\\[i \\\\]\n",
    "\\\\[-------------\\\\]\n",
    "\\\\[i + 1 \\\\]\n",
    "\n",
    "If we use forward approximation i.e. \\\\(i\\\\) and  \\\\(i + 1\\\\), then we are using an out of bound value, so we cannot use forward approximation here, and only backward approximation, which uses i.e. \\\\(i - 1\\\\) and  \\\\(i \\\\)\n",
    "\n",
    "Case 4 (we change the index here to \\\\(i\\\\), to avoid confusion with \\\\(j\\\\)):\n",
    "\n",
    "\\\\[out\\;\\; of\\;\\;domain\\\\]\n",
    "\\\\[-------------\\\\]\n",
    "\\\\[domain\\\\]\n",
    "\n",
    "in other words, \n",
    "\n",
    "\\\\[i - 1 \\\\]\n",
    "\\\\[-------------\\\\]\n",
    "\\\\[i \\\\]\n",
    "\\\\[i + 1 \\\\]\n",
    "\n",
    "If we use backward approximation i.e. \\\\(i\\\\) and  \\\\(i - 1\\\\), then we are using an out of bound value, so we cannot use backward approximation here, and only forward approximation, which uses i.e. \\\\(i + 1\\\\) and  \\\\(i \\\\)\n",
    "\n",
    "\n",
    "We can see all four types of boundary easily if we consider for exaple a rectangle domain, where everything inside the rectangle is the domain and everything outisde is out of domain. We see \n",
    "\n",
    "Case1 at the right hand boundary, if you put your hand on the domain, the right hand boundary is to the right of your hand. \n",
    "\n",
    "Case2 at the left hand boundary, if you put your hand on the domain, the left hand boundary is to the left of your hand. \n",
    "\n",
    "Case 3 at the bottom boundary\n",
    "\n",
    "Case 4 at the top boundary \n",
    "\n",
    "\n",
    "\\\\[ |---------------|  \\\\]\n",
    "\\\\[ |\\;\\;\\;\\;\\;\\;\\;\\;\\;\\;\\;\\;\\;\\;\\;\\;\\;\\;\\;\\;\\;\\;\\;\\;\\;\\;\\;\\;\\;\\;\\;\\;\\;\\;\\;\\;\\;\\;\\;\\;\\;\\;\\;\\;\\;|  \\\\]\n",
    "\\\\[ |\\;\\;\\;\\;\\;\\;\\;\\;\\;\\;\\;\\;\\;\\;\\;\\;\\;\\;\\;\\;\\;\\;\\;\\;\\;\\;\\;\\;\\;\\;\\;\\;\\;\\;\\;\\;\\;\\;\\;\\;\\;\\;\\;\\;\\;|  \\\\]\n",
    "\\\\[ |\\;\\;\\;\\;\\;\\;\\;\\;\\;\\;\\;\\;\\;\\;\\;DOMAIN\\;\\;\\;\\;\\;\\;\\;\\;\\;\\;\\;\\;\\;\\;\\;\\;|  \\\\]\n",
    "\\\\[ |\\;\\;\\;\\;\\;\\;\\;\\;\\;\\;\\;\\;\\;\\;\\;\\;\\;\\;\\;\\;\\;\\;\\;\\;\\;\\;\\;\\;\\;\\;\\;\\;\\;\\;\\;\\;\\;\\;\\;\\;\\;\\;\\;\\;\\;|  \\\\]\n",
    "\\\\[ |\\;\\;\\;\\;\\;\\;\\;\\;\\;\\;\\;\\;\\;\\;\\;\\;\\;\\;\\;\\;\\;\\;\\;\\;\\;\\;\\;\\;\\;\\;\\;\\;\\;\\;\\;\\;\\;\\;\\;\\;\\;\\;\\;\\;\\;|  \\\\]\n",
    "\\\\[ |\\;\\;\\;\\;\\;\\;\\;\\;\\;\\;\\;\\;\\;\\;\\;\\;\\;\\;\\;\\;\\;\\;\\;\\;\\;\\;\\;\\;\\;\\;\\;\\;\\;\\;\\;\\;\\;\\;\\;\\;\\;\\;\\;\\;\\;|  \\\\]\n",
    "\\\\[ |---------------|  \\\\]"
   ]
  },
  {
   "cell_type": "markdown",
   "metadata": {},
   "source": [
    "### II. 3 Neumann Boundary - Finding the Boundary Condition to Apply"
   ]
  },
  {
   "cell_type": "markdown",
   "metadata": {},
   "source": [
    "Since we know the boundary conditions, let's try to find the values corresponding to our boundary conditions, so that our values at the boundary match the boundary conditions that we have stated. We are going to discuss left hand, right hand, top and bottom boundary, \n",
    "\n",
    "Note that the Indexing we use is the same as the one used by Python for its arrays, with \\\\(i\\\\) increasing downwards and \\\\(j\\\\) increasing righwards. \n",
    "\n",
    "Let's begin with our Case 1, i.e. the right hand boundary\n",
    "\n",
    "I know that for my right hand boundary, because it is a vertical boundary, I will use \n",
    "\n",
    "\\\\[ \\frac{\\partial u}{\\partial x} = g(y) \\\\]\n",
    "\n",
    "Since it is my right hand boundary, I know that from the analysis beforehand that we must use backward approximation, since forward approximation will go out of bounds.\n",
    "\n",
    "I also remind myself that \\\\(\\Delta\\\\) can mean both the Laplacian operator, and also a small change\n",
    "\n",
    "Therefore, using backward approximation, I obtain that \n",
    "\n",
    "\\\\[ \\frac{u_j - u_{j-1}}{\\Delta x} = \\frac{\\partial u}{\\partial x} \\\\]\n",
    "\n",
    "Since we are setting our \\\\(\\frac{\\partial u}{\\partial x} = g(y) \\\\)\n",
    "\n",
    "I can also write this as \n",
    "\n",
    "\\\\[ u_j - u_{j-1} = g(y) \\Delta x \\\\]\n",
    "\n",
    "Let's continue with our Case 2, i.e. the left hand boundary\n",
    "\n",
    "I know that for my left hand boundary, because it is a vertical boundary, I will use \n",
    "\n",
    "\\\\[ \\frac{\\partial u}{\\partial x} = g(y) \\\\]\n",
    "\n",
    "Since it is my left hand boundary, I know that from the analysis beforehand that we must use forward approximation, since backward approximation will go out of bounds.\n",
    "\n",
    "I also remind myself that \\\\(\\Delta\\\\) can mean both the Laplacian operator, and also a small change\n",
    "\n",
    "Therefore, using forward approximation, I obtain that \n",
    "\n",
    "\\\\[ \\frac{u_{j+1} - u_{j}}{\\Delta x} = \\frac{\\partial u}{\\partial x} \\\\]\n",
    "\n",
    "I can also write this as \n",
    "\n",
    "\\\\[ u_{j+1} - u_{j} = g(y) \\Delta x \\\\]\n",
    "\n",
    "Let's continue with our Case 3, i.e. the bottom boundary\n",
    "\n",
    "I know that for my bottom boundary, because it is a horizontal boundary, I will use \n",
    "\n",
    "\\\\[ \\frac{\\partial u}{\\partial y} = g(x) \\\\]\n",
    "\n",
    "Since it is my bottom boundary, I know that from the analysis beforehand that we must use backward approximation, since forward approximation will go out of bounds.\n",
    "\n",
    "I also remind myself that \\\\(\\Delta\\\\) can mean both the Laplacian operator, and also a small change\n",
    "\n",
    "Therefore, using backward approximation, I obtain that \n",
    "\n",
    "\\\\[ \\frac{u_{i} - u_{i-1}}{\\Delta y} = \\frac{\\partial u}{\\partial y} \\\\]\n",
    "\n",
    "I can also write this as \n",
    "\n",
    "\\\\[ u_{i} - u_{i-1} = g(x) \\Delta y \\\\]\n",
    "\n",
    "Let's finish with our Case 4, i.e. the top boundary\n",
    "\n",
    "I know that for my top boundary, because it is a top boundary, I will use \n",
    "\n",
    "\\\\[ \\frac{\\partial u}{\\partial y} = g(x) \\\\]\n",
    "\n",
    "Since it is my top boundary, I know that from the analysis beforehand that we must use forward approximation, since backward approximation will go out of bounds.\n",
    "\n",
    "I also remind myself that \\\\(\\Delta\\\\) can mean both the Laplacian operator, and also a small change\n",
    "\n",
    "Therefore, using forward approximation, I obtain that \n",
    "\n",
    "\\\\[ \\frac{u_{i + 1} - u_{i}}{\\Delta y} = \\frac{\\partial u}{\\partial y} \\\\]\n",
    "\n",
    "I can also write this as \n",
    "\n",
    "\\\\[ u_{i + 1} - u_{i} = g(x) \\Delta y \\\\]\n"
   ]
  },
  {
   "cell_type": "markdown",
   "metadata": {},
   "source": [
    "Place a fancy separating line here\n",
    "\n",
    "We can make some observations about the cases above. \n",
    "\n",
    "- All of the cases used two of \\\\( u_{i,j}, u_{i+1, j}, u_{i-1, j}, u_{i, j +1}, u_{i , j -1}  \\\\), which are basically thw four points above, below, left and right of \\\\( u_{i,j}\\\\\n",
    "\n",
    "- All of the cases can be rewritten to give either \\\\(g(x)\\Delta y\\\\) or \\\\(g(y)\\Delta x\\\\)\n",
    "\n",
    "We note that from above we understand that \\\\(g(x\\\\) and \\\\(g(y)\\\\) are both actually variations of the same general equations, i.e. \\\\(g(x,y)\\\\)\n",
    "\n",
    "We also note that we can set \\\\(\\Delta x = \\Delta y\\\\) to make our life easier. \n",
    "\n",
    "Thus the RHS Side of the rewritten equation can be generalized as \\\\(g(x,y) \\Delta x\\\\) or  \\\\(g(x,y) \\Delta y\\\\). We will use \\\\(g(x,y) \\Delta x\\\\)  from now on. \n",
    "\n",
    "The left hand side of the equation can be generalized as \n",
    "\n",
    "\\\\[ e u_{i,j} + a u_{i+1, j} + b u_{i-1, j} + c u_{i, j +1} + d u_{i , j -1}  \\\\]\n",
    "\n",
    "Where \\\\(e\\\\) is the coefficient of \\\\(u_{i, j}\\\\) , \\\\(a\\\\) is the coefficient of \\\\(u_{i+1, j}\\\\) etc. etc. You get the idea\n",
    "\n",
    "And thus, we can arrive at a general form for all the cases written as \n",
    "\n",
    "\\\\[ e u_{i,j} + a u_{i+1, j} + b u_{i-1, j} + c u_{i, j +1} + d u_{i , j -1} = g(x,y) \\Delta x\\\\ \\\\]\n",
    "\n",
    "For each of our cases, we can set the coefficients to be of a different value\n",
    "\n",
    "For example, take the right hand boundary case \n",
    "\n",
    "\\\\[ u_j - u_{j-1} = g(y) \\Delta x \\\\]\n",
    "\n",
    "To obtain this form from our more general form, we observe the coefficients of this form, and the coefficients of the general form, and we write \n",
    "\n",
    "\\\\[e = 1\\\\]\n",
    "\\\\[a = 0\\\\]\n",
    "\\\\[b = 0\\\\]\n",
    "\\\\[c = 0\\\\]\n",
    "\\\\[d = -1\\\\]\n",
    "\n",
    "RHS becomes \\\\( g(y) \\Delta x\\\\)\n",
    "\n",
    "Thus, we say that, in the situation where the boundary is the left hand boundary, we can use the set of \\\\(a, b, c, d, e, RHS \\\\) we found for the left hand boundary to adapt our general form to the left hand boundary. \n",
    "\n",
    "We can do the same procedure for the other boundaries, to find sets of \\\\(a, b, c, d, e, RHS \\\\) we found for the specific hand boundary to adapt our general form to that specific boundary. Do this as an exercise. Hint: You are expected to find that 3 of \\\\(a, b, c, d, e\\\\) are actually \\\\(0\\\\) for any boundary, since for any boundary case we only used two of them, so the two that we used will not be \\\\(0\\\\) while those that we did not use in that particular boundary case (but used in other boundary cases!). \n",
    "\n",
    "\n"
   ]
  },
  {
   "cell_type": "markdown",
   "metadata": {},
   "source": [
    "### II. 4 Neumann Boundary - Application"
   ]
  },
  {
   "cell_type": "markdown",
   "metadata": {},
   "source": [
    "In actual application, we will be given the \\\\(g(x,y)\\\\) as the boundary condition. We will also set \\\\(\\Delta x = \\Delta y = stepsize\\\\), so we will know both \\\\(g(x,y)\\\\) and \\\\(\\Delta x = \\Delta y = stepsize\\\\)\n",
    "\n",
    "1. Adapt \\\\(g(x,y)\\\\) to be either \\\\(g(x)\\\\) or \\\\(g(y)\\\\) \n",
    "2. From the general form, based on the case of the boundary, set the coefficients as needed. \n",
    "\n",
    "Let's take our left hand boundary, that, after the above two steps, should arrive to \n",
    "\n",
    "\\\\[ u_j - u_{j-1} = g(y) \\Delta x \\\\]\n",
    "\n",
    "The value at the boundary will be \\\\( u_j\\\\), and making it the subject yields \n",
    "\n",
    "\\\\[ u_j = u_{j-1} + g(y) \\Delta x \\\\]\n",
    "\n",
    "We are concerned with the boundary conditions, so with the values at the boundary, and not the value one step away from the boundary. We are going to solve the equation above by substituting the values of \\\\( u_{j-1}, g(y), \\Delta x \\\\) that we already know, to obtain a new value for \\\\(u_j\\\\) that we will replace our old value for \\\\(u_j\\\\) with. \n",
    "\n",
    "Similar procedures can be applied to any other boundary case"
   ]
  },
  {
   "cell_type": "markdown",
   "metadata": {},
   "source": [
    "### II. 5 Neumann Real World"
   ]
  },
  {
   "cell_type": "markdown",
   "metadata": {},
   "source": [
    "This boundary condition is often found in potential flow problems\n",
    "\n",
    "E.g. If the flux, i.e.  through the boundary is specified and the potential i.e.\\\\( P\\\\) from below is the dependent variable\n",
    "\n",
    "\\\\[ F_{in} = -k \\nabla P \\bullet \\textbf{n} \\\\]\n",
    "\n",
    "Don't worry about \\\\(k\\\\), it's just there as the constant of proportionality, it actually has differnt physical meaning depending on exactly what the equation describes, but is usually given as a constant, or rather trivial to solve. \n",
    "\n",
    "Where \\\\(F_{in}\\\\) is the flux in through the boundary and the unit normal points into the domain\n",
    "\n",
    "A no flux boundary condition in potential flow must be a zero gradient, which is a special case of the Neumann boundary condition\n"
   ]
  },
  {
   "cell_type": "markdown",
   "metadata": {},
   "source": [
    "## III.  Robin Boundary"
   ]
  },
  {
   "cell_type": "markdown",
   "metadata": {},
   "source": [
    "###  III. 1   Introduction to Robin Boundary"
   ]
  },
  {
   "cell_type": "markdown",
   "metadata": {},
   "source": [
    "Well, Robin Boundary is a linear combination of the Dirichlet Boundary and the Neumman Boundary. If you have fully understood how does the Neuamnn Boundary worked, Robin Boundary should be no problem. ;) \n",
    "\n",
    "Robin boundary has the form of \n",
    "\n",
    "\\\\[\\nabla u \\bullet \\textbf{n} + t(x,y) u = h(x,y) \\\\]\n",
    "\n",
    "Where \\\\(t\\\\) and \\\\(h\\\\) are just arbitrary functions\n",
    "\n",
    "Robin boundary can similarly be written in the general form below\n",
    "\n",
    "\\\\[ e u_{i,j} + a u_{i+1, j} + b u_{i-1, j} + c u_{i, j +1} + d u_{i , j -1} = h(x,y) \\Delta x\\\\ \\\\]"
   ]
  },
  {
   "cell_type": "markdown",
   "metadata": {},
   "source": [
    "### III.  2  Example for Robin Boundary"
   ]
  },
  {
   "cell_type": "markdown",
   "metadata": {},
   "source": [
    "Robin boundary has the form of \n",
    "\n",
    "\\\\[\\nabla u \\bullet \\textbf{n} + t(x,y) u = h(x,y) \\\\]\n",
    "\n",
    "For example, take the right hand boundary case, and since we are on a vertical boundary, we ignore the \\\\(x\\\\) in \\\\(t(x,y)\\\\) and \\\\(h(x,y)\\\\), and we obtain\n",
    "\n",
    "\\\\[\\nabla u \\bullet \\textbf{n} + t(y) u = h(y) \\\\]\n",
    "\n",
    "For our right hand boundary case, from our Neumann boundary, we know that the Neumann part of the Robin boundary i.e. \\\\(\\nabla u \\bullet \\textbf{n}\\\\) will be transformed into \n",
    "\n",
    "\\\\[\\frac{\\partial u}{\\partial x}\\\\]\n",
    "\n",
    "Which can then be transformed into:\n",
    "\n",
    "\\\\[ \\frac{ u_j - u_{j-1}}{\\Delta x} \\\\]\n",
    "\n",
    "Thus we can write \n",
    "\n",
    "\\\\[\\frac{ u_j - u_{j-1}}{\\Delta x} + t(y) u = h(y) \\\\]\n",
    "\n",
    "To avoid dividing by small numbers, let's multiply everyhing by \\\\(\\Delta x\\\\), thus we obtain\n",
    "\n",
    "\\\\[{ u_j - u_{j-1}} + \\Delta x t(y) u = \\Delta x h(y) \\\\]\n",
    "\n",
    "Since we know that the \\\\(u\\\\) here actually refers to \\\\(u_{i,j}\\\\) is the same as \\\\(u_j\\\\), with \\\\(u_j\\\\) being the equivalent \\\\(u_{i,j}\\\\), just with \\\\(i\\\\) forgotten, we can organize them to become\n",
    "\n",
    "(Yeah, I know the above is a bit confusing, but stick with me )\n",
    "\n",
    "\\\\[{ u_j (1 + \\Delta x t(y)) - u_{j-1}}  = \\Delta x h(y) \\\\]\n",
    "\n",
    "To obtain this form from our more general form, we observe the coefficients of this form, and the coefficients of the general form, and we write \n",
    "\n",
    "\\\\[e = 1 + \\Delta x t(x,y)\\\\]\n",
    "\\\\[a = 0\\\\]\n",
    "\\\\[b = 0\\\\]\n",
    "\\\\[c = 0\\\\]\n",
    "\\\\[d = -1\\\\]\n",
    "\n",
    "RHS becomes \\\\( \\Delta x h(x,y)\\\\)\n",
    "\n",
    "Thus, we say that, in the situation where the boundary is the left hand boundary, we can use the set of \\\\(a, b, c, d, e, RHS \\\\) we found for the left hand boundary to adapt our general form to the left hand boundary. \n",
    "\n",
    "We can do the same procedure for the other boundaries, to find sets of \\\\(a, b, c, d, e, RHS \\\\) we found for the specific hand boundary to adapt our general form to that specific boundary. Do this as an exercise. Hint: You are expected to find that 3 of \\\\(a, b, c, d, e\\\\) are actually \\\\(0\\\\) for any boundary, since for any boundary case we only used two of them, so the two that we used will not be \\\\(0\\\\) while those that we did not use in that particular boundary case (but used in other boundary cases!). \n",
    "\n",
    "We can use the same way we used for applying Neumann Condition to PDEs, i.e. solving for \\\\(u_j\\\\) by manipulating the equation and then replacing the old \\\\(u_j\\\\) with the newly calcualted \\\\(u_j\\\\), for Robin boundaries, noting that Neumann and Robin do not have the same value for the \\\\(a,b,c,d,e, RHS\\\\)!\n"
   ]
  },
  {
   "cell_type": "markdown",
   "metadata": {},
   "source": [
    "## III.   Robin Real World"
   ]
  },
  {
   "attachments": {},
   "cell_type": "markdown",
   "metadata": {},
   "source": [
    "Robin boundary conditions are encountered in convective-diffusive problems. Convective-diffusive problems are ones in which a flux is proportional to the sum of a zero order (convective) term and a 1st order (diffusive) term. \n",
    "\n",
    "For example, let's say you have a hot cup of tea, and you decide to add some sugar cubes to the tea. The teacup feels hot because there is heat transfer through diffusion between the hot tea and the teacup. The sugar cubes are cooler than the hot tea, and with energy coming from your stirring, hot steam exits from the hot tea, so you have heat transfer through convection too. \n",
    "\n",
    "Note that  when substituted into a continuity equation the convective term becomes 1st order and the diffusive 2nd order\n",
    "\n",
    "A flux with a convective and diffusive component takes the following form:\n",
    "\n",
    "\\\\[ \\textbf{F} = \\textbf{v} u - D \\Delta u \\\\]\n",
    "\n",
    "Where \\\\(F_{in}\\\\) is the flux of \\\\(u\\\\) and \\\\(v\\\\) is the convective velocity and \\\\(D\\\\) is the diffusion coefficient\n",
    "\n",
    "If the flux through the boundary is \\\\(F_{in}\\\\) and \\\\(n\\\\) is the inward normal, then the flux boundary condition for a convective-diffusive problem is:\n",
    "\n",
    "\\\\[ \\textbf{F}_{in} = (\\textbf{v}\\textbf{n}) u - D \\Delta u \\textbf{n} \\\\]\n",
    "\n",
    "This thus takes the form of a Robin boundary condition \n"
   ]
  },
  {
   "cell_type": "code",
   "execution_count": null,
   "metadata": {},
   "outputs": [],
   "source": []
  }
 ],
 "metadata": {
  "kernelspec": {
   "display_name": "Python 3",
   "language": "python",
   "name": "python3"
  },
  "language_info": {
   "codemirror_mode": {
    "name": "ipython",
    "version": 3
   },
   "file_extension": ".py",
   "mimetype": "text/x-python",
   "name": "python",
   "nbconvert_exporter": "python",
   "pygments_lexer": "ipython3",
   "version": "3.8.5"
  }
 },
 "nbformat": 4,
 "nbformat_minor": 4
}
