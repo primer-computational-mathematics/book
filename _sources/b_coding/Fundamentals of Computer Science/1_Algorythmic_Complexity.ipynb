{
 "cells": [
  {
   "cell_type": "markdown",
   "metadata": {},
   "source": [
    "(algorythmic_complexity)=\n",
    "# Algorithmic complexity\n",
    "``` {index} Algorithmic Complexity\n",
    "```\n",
    "\n",
    "In order to make our programs efficient (or, at least, not horribly inefficient), we can consider how the execution time varies depending on the input size \\\\(n\\\\). Let us define a measure of this efficiency as a function \\\\( T(n)\\\\). Of course, the time it takes to execute a code will vary largely depending on the processor, compiler or disk speed. \\\\( T(n)\\\\) goes around this variance by measuring *asymptotic* complexity. In this case, only (broadly defined) *steps* will determine the time it takes to execute an algorithm."
   ]
  },
  {
   "cell_type": "markdown",
   "metadata": {},
   "source": [
    "Now, say we want to add two \\\\(n\\\\)-bit binary digits. One way to do this is to go bit by bit and add the two. We can see that \\\\(n\\\\) operations are involved. \n",
    "\\\\[T(n) = c*n\\\\]\n",
    "where \\\\(c\\\\) is the time it takes to add two bits on a machine. On different machines, the value of \\\\(c\\\\) may vary, but the linearity of this function is the common factor. Our aim is to abstract away from the details of implementation and think about the fundamental usage of computing resources. "
   ]
  },
  {
   "cell_type": "markdown",
   "metadata": {},
   "source": [
    "## Big O notation\n",
    "\n",
    "The mathematical definiton of this concept can be found [**here**](https://primer-computational-mathematics.github.io/book/mathematics/mathematical_notation/Big_O_notation.html). In simple terms, we say that:\n",
    "\n",
    "\\\\[f(n) = O(g(n))\\\\] \n",
    "if there exists \\\\(c>0\\\\) and \\\\(n_0>0\\\\) such that \n",
    "\n",
    "\\\\[f(n) \\leq c * g(n)\\\\] for all \\\\(n \\geq n_0\\\\).\n",
    "\n",
    "\\\\(g(n)\\\\) can be thought of as an *upper bound* of \\\\(f(n)\\\\) as \\\\(n\\\\) tends to infinity. In some publications *big Theta* notation is used. \\\\(\\Theta(n)\\\\) can be considered the *least upper bound*, in algorithm analysis we ofter use both notations interchangeably.\n",
    "\n",
    "Here are a couple of examples:\n",
    "\n",
    "\\\\[ 3n + 4 = O(n)\\\\]\n",
    "\\\\[ n^2 + 17n = O(n^2)\\\\]\n",
    "\\\\[2^n = O(2^n)\\\\]\n",
    "\\\\[42 = O(1)\\\\]\n",
    "but also:\n",
    "\n",
    "\\\\[log(n) = O(n)\\\\]\n",
    "\\\\[n = O(n^2)\\\\]\n",
    "\n",
    "We will now consider different time complexities of algorithms."
   ]
  },
  {
   "cell_type": "markdown",
   "metadata": {},
   "source": [
    "----------------\n",
    "### Constant time \\\\(O(1)\\\\)\n",
    "\n",
    "An algorithm is said to run in *constant* time if its complexity is \\\\(O(1)\\\\). This is usually considered the *fastest* case (which is true but only in the *asymptotic* sense). No matter what the input size is, the program will take the same amount of time to terminate. Let us consider some examples:\n",
    "\n",
    "* ```Hello World!```: "
   ]
  },
  {
   "cell_type": "code",
   "execution_count": 4,
   "metadata": {},
   "outputs": [],
   "source": [
    "def f(n):\n",
    "    print(\"Hello World!\")"
   ]
  },
  {
   "cell_type": "markdown",
   "metadata": {},
   "source": [
    "No matter what ```n``` is, the function does the same thing, which takes the same time. Therefore its complexity is constant."
   ]
  },
  {
   "cell_type": "markdown",
   "metadata": {},
   "source": [
    "* Checking if an integer is odd or not:"
   ]
  },
  {
   "cell_type": "code",
   "execution_count": 26,
   "metadata": {},
   "outputs": [
    {
     "name": "stdout",
     "output_type": "stream",
     "text": [
      "True\n",
      "False\n"
     ]
    }
   ],
   "source": [
    "import time\n",
    "\n",
    "def f(n):\n",
    "    return n & 1 == 1\n",
    "print(f(7))\n",
    "print(f(2349017324987123948729382))"
   ]
  },
  {
   "cell_type": "markdown",
   "metadata": {},
   "source": [
    "In this case, we only need to check if the zeroth bit of the binary representation is set to 1. The number of operations does not depend on the value or the size of the input number."
   ]
  },
  {
   "cell_type": "markdown",
   "metadata": {},
   "source": [
    "* Searching a dictionary:"
   ]
  },
  {
   "cell_type": "code",
   "execution_count": 27,
   "metadata": {},
   "outputs": [
    {
     "name": "stdout",
     "output_type": "stream",
     "text": [
      "2\n"
     ]
    }
   ],
   "source": [
    "d = {}\n",
    "d['A'] = 1\n",
    "d['B'] = 2\n",
    "d['C'] = 3\n",
    "\n",
    "print(d['B'])"
   ]
  },
  {
   "cell_type": "markdown",
   "metadata": {},
   "source": [
    "Dictionaries are data structures which can be queried in constant time. If we have a key, we can retrieve an element instantaneously."
   ]
  },
  {
   "cell_type": "markdown",
   "metadata": {},
   "source": [
    "----------------\n",
    "### Linear time \\\\(O(n)\\\\)\n",
    "\n",
    "This complexity appears in real-life problems much more frequently than constant time. The program is said to run in *linear* time if the time it takes is proportional to the input size:"
   ]
  },
  {
   "cell_type": "markdown",
   "metadata": {},
   "source": [
    "* Finding a maximum in an unsorted list:"
   ]
  },
  {
   "cell_type": "code",
   "execution_count": 29,
   "metadata": {},
   "outputs": [
    {
     "name": "stdout",
     "output_type": "stream",
     "text": [
      "9\n"
     ]
    }
   ],
   "source": [
    "def f(l):\n",
    "    _max = l[0]\n",
    "    for i in l:\n",
    "        if i > _max:\n",
    "            _max  = i       \n",
    "    return _max\n",
    "\n",
    "print(f([1,4,7,4,3,9,0,4,-3]))"
   ]
  },
  {
   "cell_type": "markdown",
   "metadata": {},
   "source": [
    "As we do not know anything about the order of elements in this list, we need to check every element in order to *see* if it is not the greatest. The longer the list, the more such checks are needed. In general, when we need to go trough some data structure a constant number of times, we are dealing with linear time."
   ]
  },
  {
   "cell_type": "markdown",
   "metadata": {},
   "source": [
    "----------------\n",
    "### Quadratic time \\\\(O(n^2)\\\\)\n",
    "The *quadratic* time complexity is also a very popular case. It often might not be the most efficient solution and can point to better complexities such as \\\\(O(n*log(n))\\\\). However, there are problems in which such traversal is necessary. "
   ]
  },
  {
   "cell_type": "markdown",
   "metadata": {},
   "source": [
    "* **Selection sort**:"
   ]
  },
  {
   "cell_type": "code",
   "execution_count": 30,
   "metadata": {},
   "outputs": [
    {
     "name": "stdout",
     "output_type": "stream",
     "text": [
      "[2, 3, 3, 4, 5, 6, 7, 8, 9]\n"
     ]
    }
   ],
   "source": [
    "def swap(i,j,l):\n",
    "    temp = l[i]\n",
    "    l[i] = l[j]\n",
    "    l[j] = temp\n",
    "\n",
    "def selectionSort(l):\n",
    "    \n",
    "    i = 0\n",
    "    \n",
    "    while i < len(l)-1:\n",
    "        swap(i,i+l[i:].index(min(l[i:])),l)\n",
    "        i+=1\n",
    "        \n",
    "    return l\n",
    "    \n",
    "print(selectionSort([3,4,5,6,7,8,9,3,2]))"
   ]
  },
  {
   "cell_type": "markdown",
   "metadata": {},
   "source": [
    "The algorithm works as follows:\n",
    "\n",
    "1) Find the minimum of the list and swap it with the first element.\n",
    "\n",
    "2) Now consider all elements behind the first index\n",
    "\n",
    "3) Find the minimum of this sublist and swap it with the first element (of the sublist)S\n",
    "\n",
    "A diagram says more than a 1000 words:\n",
    "\n",
    "```{figure} algo_images/SelectionSort.png\n",
    ":width: 60%\n",
    "```\n",
    "\n",
    "If we calculate the sum of operations (arithmetic series) we get \\\\(\\frac{n*(n+1)}{2} = O(n^2)\\\\). Selection Sort is considered a rather inefficient sorting algorithm."
   ]
  },
  {
   "cell_type": "markdown",
   "metadata": {},
   "source": [
    "* Adding Matrices:"
   ]
  },
  {
   "cell_type": "code",
   "execution_count": 33,
   "metadata": {},
   "outputs": [
    {
     "name": "stdout",
     "output_type": "stream",
     "text": [
      "[[4, 4, 4], [4, 4, 4], [4, 4, 4]]\n"
     ]
    }
   ],
   "source": [
    "#Adds two square matrices of the same size\n",
    "def addMatrix(A,B):\n",
    "    res = []\n",
    "    for i in range(len(A)):\n",
    "        temp = []\n",
    "        for j in range(len(A[i])):\n",
    "            \n",
    "            temp.append(A[i][j] + B[i][j])\n",
    "            \n",
    "        res.append(temp)\n",
    "        \n",
    "    return res\n",
    "            \n",
    "        \n",
    "print(addMatrix([[1,2,3],[1,2,3],[1,2,3]],[[3,2,1],[3,2,1],[3,2,1]]))"
   ]
  },
  {
   "cell_type": "markdown",
   "metadata": {},
   "source": [
    "When we want to add two matrices of side length \\\\(n\\\\), we have to access all of the cells in the matrix, therefore perform \\\\(n^2\\\\) additions."
   ]
  },
  {
   "cell_type": "markdown",
   "metadata": {},
   "source": [
    "------------------\n",
    "## Different complexities \n",
    "Apart from the three complexities, there are many more which show up quite often. The most notable ones are (we will discuss some of them later)\n",
    "\n",
    "1) Logarythmic \\\\(O(log(n))\\\\) - present in e.g. Binary Search. \n",
    "\n",
    "2) Loglinear \\\\(O(n*log(n))\\\\) - e.g. Merge Sort.\n",
    "\n",
    "3) Multi-variable \\\\(O(n*k)\\\\) - e.g. searching for a substing of length \\\\(k\\\\) in a string of length \\\\(n\\\\).\n",
    "\n",
    "4) Exponential \\\\(O(a^n)\\\\), \\\\(a > 1\\\\) - this is bad.\n",
    "\n",
    "5) Factorial \\\\(O(n!)\\\\) - even worse (producing all permutations of a string)."
   ]
  },
  {
   "cell_type": "markdown",
   "metadata": {},
   "source": [
    "----------------\n",
    "## Best, worst and average case runtimes\n",
    "\n",
    "While analyzing algorithms, it is worth considering how the program behaves based on different inputs. \n",
    "\n",
    "* Best-case runtime complexity is a function defined by the minimum number of steps taken on any input. \n",
    "* Worst-case runtime complexity considers the maximum number of steps taken by the algorithm.\n",
    "* Average case runtime complexity is probably the most accurate measure of the performance of an algorithm and takes into account the behaviour of the program when fed with an *average* input.\n",
    "\n",
    "In production, both worst and average runtime complexities are considered (imagine an algorithm with an average \\\\(O(n^2)\\\\) and worst-case \\\\(O(n!)\\\\) - that could be easily exploited!)"
   ]
  },
  {
   "cell_type": "markdown",
   "metadata": {},
   "source": [
    "Let us now perform an analysis on a simple search algorithm which finds the number \\\\(x\\\\) in a list \\\\(l\\\\)"
   ]
  },
  {
   "cell_type": "code",
   "execution_count": 36,
   "metadata": {},
   "outputs": [
    {
     "name": "stdout",
     "output_type": "stream",
     "text": [
      "5\n"
     ]
    }
   ],
   "source": [
    "def simpleSearch(x,l):\n",
    "    for i in range(len(l)):\n",
    "        if x == l[i]:\n",
    "            return i\n",
    "    return -1\n",
    "            \n",
    "print(simpleSearch(1,[3,4,5,6,7,1,23,4]))"
   ]
  },
  {
   "cell_type": "markdown",
   "metadata": {},
   "source": [
    "Our assumption is that \\\\(x\\\\) is in the list and that the probability that it is at a particular index is uniform.\n",
    "\n",
    "1) Best-case: \\\\(O(1)\\\\) - in is the zeroth cell\n",
    "\n",
    "2) Worst-case: \\\\(O(n)\\\\) - have to go through the whole list\n",
    "\n",
    "3) Average case: \\\\(O(\\frac{n}{2}) = O(n)\\\\) - the element will be *somewhere in the middle*\n",
    "\n",
    "In this case, we can predict that the program will run in linear time."
   ]
  },
  {
   "cell_type": "markdown",
   "metadata": {},
   "source": [
    "------------\n",
    "## Exercises\n"
   ]
  },
  {
   "cell_type": "markdown",
   "metadata": {},
   "source": [
    "* **Which Big O** category do these functions fall into (least upper bound):\n",
    "\n",
    "1) \\\\( 4n^3 + 2n\\\\)\n",
    "\n",
    "2) \\\\(\\sum_{i=0}^{n} i^2\\\\)\n",
    "\n",
    "3) \\\\(log(log(n))\\\\)\n",
    "\n",
    "4) 34562"
   ]
  },
  {
   "cell_type": "markdown",
   "metadata": {},
   "source": [
    "```{admonition} Anwser\n",
    ":class: dropdown\n",
    "\n",
    "1) \\\\(O(n^3)\\\\)\n",
    "\n",
    "2) \\\\(O(n^3)\\\\)\n",
    "\n",
    "3) \\\\(O(log(log(n))\\\\)\n",
    "\n",
    "4) \\\\(O(1)\\\\)\n",
    "\n",
    "```"
   ]
  },
  {
   "cell_type": "markdown",
   "metadata": {},
   "source": [
    "------\n",
    "* **Multiplying Matrices** We want to multiply two square matrices of side length \\\\(n\\\\) of the same size using the following code:"
   ]
  },
  {
   "cell_type": "code",
   "execution_count": 37,
   "metadata": {},
   "outputs": [
    {
     "name": "stdout",
     "output_type": "stream",
     "text": [
      "[[3, 6, 9], [6, 12, 18], [9, 18, 27]]\n"
     ]
    }
   ],
   "source": [
    "def mulMatrix(A,B):\n",
    "    \n",
    "    C = [([0]*len(A)) for i in range(len(A))]\n",
    "    \n",
    "    for i in range(len(A)):\n",
    "        for j in range(len(A)):\n",
    "            for k in range(len(A)):\n",
    "                C[i][j] += (A[i][k]*B[k][j])\n",
    "                \n",
    "    return C\n",
    "\n",
    "\n",
    "print(mulMatrix([[1,1,1],[2,2,2],[3,3,3]],\n",
    "                [[1,2,3],[1,2,3],[1,2,3]]))"
   ]
  },
  {
   "cell_type": "markdown",
   "metadata": {},
   "source": [
    "**What is the algorythmic complexity of this algorithm?**"
   ]
  },
  {
   "cell_type": "markdown",
   "metadata": {},
   "source": [
    "```{admonition} Anwser\n",
    ":class: dropdown\n",
    "        \n",
    "\\\\(O(n^3)\\\\)\n",
    " \n",
    "```"
   ]
  },
  {
   "cell_type": "markdown",
   "metadata": {},
   "source": [
    "----------\n",
    "* **Insertion Sort** algorithm works according to the steps:\n",
    "\n",
    "1) Take the minimum element from the list and swap it with the first element.\n",
    "\n",
    "2) Now elements before index 1 are sorted\n",
    "\n",
    "3) Take the minimum element from the unsorted portion of the list and put it at an appropriate position in the sorted portion.\n",
    "\n",
    "4) Repeat untill the whole list is sorted.\n",
    "\n",
    "The following GIF should be helpful:\n",
    "\n",
    "<img src=\"https://upload.wikimedia.org/wikipedia/commons/9/9c/Insertion-sort-example.gif\" width=\"80%\">\n",
    "\n",
    "Source: [Wikimedia Commons](https://upload.wikimedia.org/wikipedia/commons/9/9c/Insertion-sort-example.gif)\n",
    "\n",
    "**What is the algorythmic complexity of this algorithm?**"
   ]
  },
  {
   "cell_type": "markdown",
   "metadata": {},
   "source": [
    "```{admonition} Anwser\n",
    ":class: dropdown\n",
    "        \n",
    "\\\\(O(n^2)\\\\)\n",
    " \n",
    "```"
   ]
  },
  {
   "cell_type": "markdown",
   "metadata": {},
   "source": [
    "-------\n",
    "## References:\n",
    "\n",
    "* Victor S.Adamchik, CMU, 2009 [Algorythmic Complexity](https://www.cs.cmu.edu/~adamchik/15-121/lectures/Algorithmic%20Complexity/complexity.html)\n",
    "\n",
    "* Adrian Mejia, Medium, 2018 [8 time complexity examples that every programmer should know](https://medium.com/@amejiarosario/8-time-complexity-examples-that-every-programmer-should-know-171bd21e5ba) "
   ]
  }
 ],
 "metadata": {
  "kernelspec": {
   "display_name": "Python 3",
   "language": "python",
   "name": "python3"
  },
  "language_info": {
   "codemirror_mode": {
    "name": "ipython",
    "version": 3
   },
   "file_extension": ".py",
   "mimetype": "text/x-python",
   "name": "python",
   "nbconvert_exporter": "python",
   "pygments_lexer": "ipython3",
   "version": "3.7.4"
  }
 },
 "nbformat": 4,
 "nbformat_minor": 2
}
