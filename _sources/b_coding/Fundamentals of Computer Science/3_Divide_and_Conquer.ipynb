{
 "cells": [
  {
   "cell_type": "markdown",
   "metadata": {},
   "source": [
    "(divide_and_conquer)=\n",
    "# Divide and Conquer\n",
    "``` {index} Divide and Conquer\n",
    "```\n",
    "*Divide and Conquer* algorithms are one of the major groups in the computer problem solving. The main idea is to split the more complicated tasks into independent subproblems that can be composed  in the solution. The term is closely related to [recursion](https://primer-computational-mathematics.github.io/book/b_coding/Fundamentals%20of%20Computer%20Science/3_Recursion.html#recursion), but the approach does not always lead to recursive solutions."
   ]
  },
  {
   "cell_type": "markdown",
   "metadata": {},
   "source": [
    "## Examples\n",
    "\n",
    "* **Binary Search** is a method of efficiently finding membership in a *sorted* list. Le us say we want to find if the element `x` is in `l`:\n",
    "\n",
    "1) Check the middle element of `l` is equal to x, if yes, return `True`, otherwise:\n",
    "\n",
    "&ensp; a) If the element is greater, search the right half of the array with the same procedure.\n",
    "\n",
    "&ensp; b) Otherwise, search the left half\n",
    "\n",
    "Have a look at the iterative solution:"
   ]
  },
  {
   "cell_type": "code",
   "execution_count": 11,
   "metadata": {},
   "outputs": [
    {
     "name": "stdout",
     "output_type": "stream",
     "text": [
      "True\n",
      "False\n"
     ]
    }
   ],
   "source": [
    "def binary_search(arr, x): \n",
    "    low = 0\n",
    "    high = len(arr) - 1\n",
    "    mid = 0\n",
    "  \n",
    "    while low <= high: \n",
    "  \n",
    "        mid = (high + low) // 2\n",
    "  \n",
    "        # Check if x is present at mid \n",
    "        if arr[mid] < x: \n",
    "            low = mid + 1\n",
    "  \n",
    "        # If x is greater, ignore left half \n",
    "        elif arr[mid] > x: \n",
    "            high = mid - 1\n",
    "  \n",
    "        # If x is smaller, ignore right half \n",
    "        else: \n",
    "            return True \n",
    "  \n",
    "    # If we reach here, then the element was not present \n",
    "    return False\n",
    "  \n",
    "    \n",
    "l = [1,2,3,4,5]    \n",
    "\n",
    "print(binary_search(l,2))\n",
    "print(binary_search(l,7))"
   ]
  },
  {
   "cell_type": "markdown",
   "metadata": {},
   "source": [
    "This leads to the algorithm with \\\\(O(log(n))\\\\) complexity. On each iteration, we decrease the size of the seach space by a factor of 2."
   ]
  },
  {
   "cell_type": "markdown",
   "metadata": {},
   "source": [
    "* **Merge Sort** Is a vary famous and ingenious example of Divide and Conquer approach. The aim is to sort an array. This could be done using using the [Selection Sort](https://primer-computational-mathematics.github.io/book/b_coding/Fundamentals%20of%20Computer%20Science/1_Algorythmic_Complexity.html#algorythmic-complexity) which is \\\\(O(n^2)\\\\). Now, consider the following approach:\n",
    "\n",
    "1) List is of length 0 or 1: it is already sorted.\n",
    "2) List is longer: divide it into two lists of equal (almost equal) length and sort them using the general method. After those are returned, merge the two lists, so the resulting one is sorted. \n",
    "\n",
    "Merging of the lists is executed by taking the minimum elements of the two lists and putting them in the resulting list untill the both lists are empty. This time we implement the algorithm recursively:"
   ]
  },
  {
   "cell_type": "code",
   "execution_count": 12,
   "metadata": {},
   "outputs": [
    {
     "name": "stdout",
     "output_type": "stream",
     "text": [
      "[1, 2, 3]\n",
      "[2, 2, 2, 3, 3, 3, 4, 6, 7, 7, 8, 9]\n",
      "[]\n"
     ]
    }
   ],
   "source": [
    "def merge(a, b):\n",
    "    if len(a) == 0:\n",
    "        return b\n",
    "    elif len(b) == 0:\n",
    "        return a\n",
    "    res = []\n",
    "    while len(a) > 0 and len(b) > 0:\n",
    "        if a[0] <= b[0]:\n",
    "            res.append(a.pop(0))\n",
    "        else:\n",
    "            res.append(b.pop(0))\n",
    "    while len(a):\n",
    "        res.append(a.pop(0))\n",
    "    while len(b):\n",
    "        res.append(b.pop(0))\n",
    "        \n",
    "    return res\n",
    "\n",
    "def mergeSort(arr):\n",
    "    if len(arr) < 2:\n",
    "        return arr\n",
    "    else:\n",
    "        mid = len(arr)//2\n",
    "        a = mergeSort(arr[:mid])\n",
    "        b = mergeSort(arr[mid:])   \n",
    "        return merge(a,b)\n",
    "\n",
    "print(mergeSort([3,2,1]))       \n",
    "print(mergeSort([2,3,2,2,4,7,8,9,3,6,7,3]))\n",
    "print(mergeSort([]))"
   ]
  },
  {
   "cell_type": "markdown",
   "metadata": {},
   "source": [
    "Now, let us consider the time complexity of this solution.\n"
   ]
  }
 ],
 "metadata": {
  "kernelspec": {
   "display_name": "Python 3",
   "language": "python",
   "name": "python3"
  },
  "language_info": {
   "codemirror_mode": {
    "name": "ipython",
    "version": 3
   },
   "file_extension": ".py",
   "mimetype": "text/x-python",
   "name": "python",
   "nbconvert_exporter": "python",
   "pygments_lexer": "ipython3",
   "version": "3.7.4"
  }
 },
 "nbformat": 4,
 "nbformat_minor": 2
}
