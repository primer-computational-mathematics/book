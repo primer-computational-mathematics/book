{
 "cells": [
  {
   "cell_type": "markdown",
   "metadata": {},
   "source": [
    "(Dynamic_programming)=\n",
    "# Dynamic Programming\n",
    "``` {index} Dynamic programming\n",
    "```\n",
    "\n",
    "Dynamic algorithms are a family of programs which (broadly speaking) share the feature of utilising solutions to subproblems in coming up with an optimal solution. We will discuss the conditions which problems need to satisfy to be solved dynamically but let us first have a look at some basic examples. The concept is quite challenging to digest, so there are many examples in this section.\n",
    "\n",
    "## Simple Examples\n",
    "\n",
    "* **Dynamic Fibonacci** If you have read the section about [recursion](https://primer-computational-mathematics.github.io/book/b_coding/Fundamentals%20of%20Computer%20Science/2_Recursion.html#recursion) you probably know that the basic implementation for generating Fibonacci numbers is very inefficient (\\\\(O(2^n)\\\\)!). Now, as we generate the next numbers in the Fibonacci sequence, we will remember them for further use. The *trade-off between memory and time* is dramatic in this case. Compare the two versions of the function:"
   ]
  },
  {
   "cell_type": "code",
   "execution_count": 52,
   "metadata": {},
   "outputs": [
    {
     "name": "stdout",
     "output_type": "stream",
     "text": [
      "3524578\n",
      "Time for brute:0.8238296508789062\n",
      "3524578\n",
      "Time for dynamic:0.0\n"
     ]
    }
   ],
   "source": [
    "# For comparing the running times\n",
    "import time\n",
    "\n",
    "# Inefficient\n",
    "def fib(n):\n",
    "    assert n >= 0\n",
    "    if n < 2:\n",
    "        return 1\n",
    "    else:\n",
    "        return fib(n-1) + fib(n-2)\n",
    "    \n",
    "# Dynamic version\n",
    "def dynamicFib(n):\n",
    "    assert n >= 0\n",
    "    #prepare a table for memoizing\n",
    "    prevFib = 1\n",
    "    prevPrevFib = 1\n",
    "    temp = 0\n",
    "\n",
    "    #build up on your previous results\n",
    "    for i in range(2,n+1):\n",
    "        temp = prevFib + prevPrevFib\n",
    "        prevPrevFib = prevFib\n",
    "        prevFib = temp\n",
    "    return prevFib\n",
    "    \n",
    "start = time.time()\n",
    "print(fib(32))\n",
    "end = time.time()\n",
    "print(\"Time for brute:\" + str(end - start))\n",
    "\n",
    "start = time.time()\n",
    "print(dynamicFib(32))\n",
    "end = time.time()\n",
    "print(\"Time for dynamic:\" + str(end - start))"
   ]
  },
  {
   "cell_type": "markdown",
   "metadata": {},
   "source": [
    "The time difference is enormous! As you can probably spot, `dynamicFib` is \\\\(O(n)\\\\)! With the use of three integer variables (`prevFib`, `prevPrevFib` and `temp`) we brought exponential time complexity down to linear. How did it happen? Let us now depict the work done by `fib(5)` on a graph:\n",
    "\n",
    "```{figure} algo_images/FibTree.png\n",
    ":width: 60%\n",
    "```\n",
    "\n",
    "Wow! This is quite a tree! However, the worst feature is that many of the nodes are repeated (e.g. node \\\\(2\\\\) appears 3 times). These repeated results which are constantly recomputed bring us to the exponential complexity. Consider the dynamic solution graph:\n",
    "\n",
    "```{figure} algo_images/FibDyn.png\n",
    ":width: 10%\n",
    "```\n",
    "\n",
    "Now, the number of nodes grows linearly with \\\\(n\\\\). We have `merged` the subproblems to avoid redundancy."
   ]
  },
  {
   "cell_type": "markdown",
   "metadata": {},
   "source": [
    "-----------------\n",
    "* **Shortest Path on a Grid** Dynamic programming is often used for optimisation problems. Consider a square grid with numbers from 0 to 9 in each square. An example would be:\n",
    "\n",
    "```\n",
    "+-+-+-+-+\n",
    "|1|0|8|4| \n",
    "+-+-+-+-+\n",
    "|3|5|1|0|\n",
    "+-+-+-+-+\n",
    "|6|8|9|3|\n",
    "+-+-+-+-+\n",
    "|1|2|4|5|\n",
    "+-+-+-+-+\n",
    "```\n",
    "\n",
    "It is allowed to move only **down or right**. What is the value of the minimum path from the upper-left corner to the lower-right corner?\n",
    "\n",
    "The initial approach to the problem might be to check all the possible paths and return the minimal one. This is exponential and too slow. To come up with a faster approach we need to find subproblems.\n",
    "\n",
    "Let us imagine that we have reached the lower-right corner (hurray!). We could get there from the tile above it and left of it. This might at first seem like a *Divide and Conquer* problem, but let us keep on looking for an overlap:\n",
    "\n",
    "```{figure} algo_images/DownRightGrid.png\n",
    ":width: 30%\n",
    "```"
   ]
  },
  {
   "cell_type": "markdown",
   "metadata": {},
   "source": [
    "In the simplest case of four tiles, we can already see that the upper-left tile is considered twice. We should then leverage this repetition. This overlapping generalises for larger grids. In our algorithm, we will remember the optimal path to the tiles already visited and build on this knowledge:"
   ]
  },
  {
   "cell_type": "code",
   "execution_count": 60,
   "metadata": {},
   "outputs": [
    {
     "name": "stdout",
     "output_type": "stream",
     "text": [
      "15\n"
     ]
    }
   ],
   "source": [
    "# grid is a square matrix\n",
    "def shortestPathDownRight(grid):\n",
    "    # dictionary that will keep the optimal paths \n",
    "    # to the already visited tiles\n",
    "    table = {}\n",
    "    # n - length of the side of the square\n",
    "    n = len(grid)\n",
    "    assert n == 0 or len(grid[0]) == n\n",
    "    table[(0,0)] = grid[0][0]\n",
    "    # top and most left column have trival optimal paths\n",
    "    for i in range(1, n):\n",
    "        table[(0,i)] = table[(0,i-1)] + grid[0][i]\n",
    "        table[(i,0)] = table[(i-1,0)] + grid[i][0]\n",
    "    # the dynamic magic    \n",
    "    for i in range(1,n):\n",
    "        for j in range(1,n):\n",
    "            table[(i,j)] = min(table[(i-1,j)],table[(i,j-1)]) + grid[i][j]\n",
    "            \n",
    "    return table[(n-1,n-1)]\n",
    "\n",
    "grid = [[1,0,8,4],[3,5,1,0],[6,8,9,3],[1,2,4,5]]\n",
    "print(shortestPathDownRight(grid))"
   ]
  },
  {
   "cell_type": "markdown",
   "metadata": {},
   "source": [
    "What is the time complexity of this algorithm? Based on the nested loop we can deduce that it is \\\\(O(n^2)\\\\). Quite an improvement!\n",
    "\n",
    "--------\n",
    "### Space Complexity\n",
    "\n",
    "We usually do not concern ourselves with the amount of memory a program utilises. Dynamic programs are an exception to this rule. The amount of memory they use can be a limiting factor for some machines, so we need to take it into account. In the case of `dynamicFib` this was \\\\(O(1)\\\\) as we only needed to keep track of the last two Fibonacci numbers. In case of `shortestPathDownRight` we need to create a grid of size \\\\(n \\times n\\\\), so \\\\(O(n^2)\\\\). The notion of space complexity is very similar to time complexity, so we will not discuss it in depth.\n",
    "\n",
    "--------"
   ]
  },
  {
   "cell_type": "markdown",
   "metadata": {},
   "source": [
    "* **Cutting Rods** We are given a rod of integer length \\\\(n\\\\) and a list of length `prices` \\\\(n\\\\). The \\\\(i\\\\)th entry in the list corresponds to the profit we can get from selling the rod of length \\\\(i\\\\). How should we cut the rod so we maximise our profit?\n",
    "The key to our dynamic algorithm will be the observation that:\n",
    "\n",
    "We cut the rod at position \\\\(k\\\\). Now we have a rod of lenght \\\\(k\\\\) and \\\\(n-k\\\\). Let us assume we know the maximum price for these two rods. Now we need to consider all the \\\\(0 \\leq k \\leq \\lfloor \\frac{n}{2} \\rfloor + 1\\\\) (the problem is symmetric so computing for \\\\(\\frac{n}{2} \\leq k\\\\) would be redundant. For \\\\(k=0\\\\) we just take `prices[n]`. The cutting introduces subproblems which are smaller than the initial problem and they are overlapping! Let us put this into code:\n"
   ]
  },
  {
   "cell_type": "code",
   "execution_count": 61,
   "metadata": {},
   "outputs": [
    {
     "name": "stdout",
     "output_type": "stream",
     "text": [
      "66\n",
      "Time for brute:1.457252025604248\n",
      "66\n",
      "Time for dynamic:0.0029768943786621094\n"
     ]
    }
   ],
   "source": [
    "# For comparing the running times\n",
    "import time\n",
    "# For testing\n",
    "from random import randint\n",
    "\n",
    "def dynamicCutRod(n,prices):\n",
    "    # setting the initial values of variables\n",
    "    assert n >= 0 and n == len(prices)\n",
    "    # trival cases\n",
    "    if n == 0:\n",
    "        return 0\n",
    "    if n == 1:\n",
    "        return prices[0]\n",
    "    \n",
    "    # setting up needed variables\n",
    "    table = {}\n",
    "    currLen = 2\n",
    "    table[0] = 0\n",
    "    table[1] = prices[0]\n",
    "    while currLen < n + 1:\n",
    "        # no cuts for a given len\n",
    "        table[currLen] = prices[currLen - 1]\n",
    "        # considering all possible cuts for a give len\n",
    "        for k in range(1,currLen//2 + 1):\n",
    "            # take the maximal one\n",
    "            if table[currLen] < table[k] + table[currLen - k]:\n",
    "                table[currLen] = table[k] + table[currLen - k]     \n",
    "        currLen += 1\n",
    "    return table[n]\n",
    "        \n",
    "# for testing purposes\n",
    "def bruteForceRecursive(n,prices):\n",
    "    assert n >=0\n",
    "    if n == 0:\n",
    "        return 0\n",
    "    if n == 1:\n",
    "        return prices[0]\n",
    "    currLen = n\n",
    "    res = prices[n-1]\n",
    "    for k in range(1,n//2 + 1):\n",
    "        res = max(res, bruteForceRecursive(k,prices) + bruteForceRecursive(n-k,prices))\n",
    "    return res\n",
    "\n",
    "# testing\n",
    "for i in range(1, 11):\n",
    "    prices = []\n",
    "    for j in range(i):\n",
    "        prices.append(randint(1,10))\n",
    "        \n",
    "    assert bruteForceRecursive(len(prices),prices) == dynamicCutRod(len(prices),prices)\n",
    "    \n",
    "# comparing times\n",
    "prices = []\n",
    "for i in range(20):\n",
    "    prices.append(randint(1,10))\n",
    "    \n",
    "start = time.time()\n",
    "print(bruteForceRecursive(len(prices),prices))\n",
    "end = time.time()\n",
    "print(\"Time for brute:\" + str(end - start))\n",
    "\n",
    "start = time.time()\n",
    "print(dynamicCutRod(len(prices),prices))\n",
    "end = time.time()\n",
    "print(\"Time for dynamic:\" + str(end - start))"
   ]
  },
  {
   "cell_type": "markdown",
   "metadata": {},
   "source": [
    "Time complexity? For each \\\\(0\\leq i \\leq n \\\\) we need to consider \\\\(i\\\\) different cuts. This is the sum of arithmetic series so \\\\(O(n^2)\\\\). We memoize only the optimal solutions to subproblems, therefore space complexity is \\\\(O(n)\\\\)."
   ]
  },
  {
   "cell_type": "markdown",
   "metadata": {},
   "source": [
    "## Characteristic features of dynamic problems\n",
    "\n",
    "All problems which can be tackled with the use of Dynamic Programming (DP) have two main features:\n",
    "\n",
    "1) **Optimal substructure**: In broad terms, that solution to the problem can be formulated in terms of independent subproblems. Then you choose a solution/combination of optimal solutions to subproblems and show that this choice leads to an optimal global solution. For example, for the `shortestPath` problem we choose between the optimal solution to the tile above and tile to the left. For the rod problem, we choose between all possible \\\\(n\\\\) cuts of a rod and assume we have solutions to the shorter rods.  \n",
    "\n",
    "2) **Overlapping subproblems**: The subproblems which we split the main question into should repeat. Eliminating the need to recompute the subproblems (by memoising them) should speed up our algorithm. For example, `dynamicFib` used two variables to keep the results of computing previous Fibonacci numbers."
   ]
  },
  {
   "cell_type": "markdown",
   "metadata": {},
   "source": [
    "## Common approaches to DP\n",
    "\n",
    "There are two main schools of thought when it comes to solving DP algorithms:\n",
    "\n",
    "1) ***Memoization*** is using the *memory-time trade-off*. It remembers the results to the subproblems in a dictionary `memo` and recalls them when needed. If we have the result in memory, we take if from there, otherwise compute it.\n",
    "\n",
    "2) ***Bottom-up*** approach starts with the trivial cases of the problem and builds on them. I relies on the the fact that subproblems can be sorted. So we first compute the optimal cutting for a rod of length 1 and then length 2 and so on...\n",
    "\n",
    "Both usually lead to the same time complexities."
   ]
  },
  {
   "cell_type": "markdown",
   "metadata": {},
   "source": [
    "## Advanced Examples\n",
    "\n",
    "* **0-1 Knapsack** The problem is about a backpack (knapsack) of an integer volume \\\\(S\\\\), we are given lists `spaces` and `vals` which correspond to the size and value of the objects we might want to pack. The trick is to pack the objects of the highest accumulate value which fit into the backpack. We will consider prefixes of the `sizes` list in order of length and put the intermediate results in a table. Compare the bottom-up and memoized approaches:  "
   ]
  },
  {
   "cell_type": "code",
   "execution_count": 55,
   "metadata": {},
   "outputs": [
    {
     "name": "stdout",
     "output_type": "stream",
     "text": [
      "135\n",
      "Time for brute:0.019960880279541016\n",
      "135\n",
      "Time for bottom-up:0.00098419189453125\n",
      "135\n",
      "Time for memoized:0.0009658336639404297\n"
     ]
    }
   ],
   "source": [
    "# For comparing the running times\n",
    "import time\n",
    "# For testing\n",
    "from random import randint\n",
    "\n",
    "# bottom up approach\n",
    "def knapSack(wt, val, W, n): \n",
    "    K = [[0 for x in range(W + 1)] for x in range(n + 1)] \n",
    "  \n",
    "    # Build table K[][] in bottom up manner \n",
    "    for i in range(n + 1): \n",
    "        for w in range(W + 1): \n",
    "            if i == 0 or w == 0: \n",
    "                K[i][w] = 0\n",
    "            elif wt[i-1] <= w: \n",
    "                K[i][w] = max(val[i-1] + K[i-1][w-wt[i-1]],  K[i-1][w]) \n",
    "            else: \n",
    "                K[i][w] = K[i-1][w] \n",
    "  \n",
    "    return K[n][W] \n",
    "\n",
    "# memoized\n",
    "memo = {}\n",
    "def knapSackMemo(wt,val, W, n):\n",
    "    # base case\n",
    "    if n == 0 or W == 0:\n",
    "        memo[(n,W)] = 0\n",
    "        return 0\n",
    "    # check if memoized\n",
    "    if (n,W) in memo:\n",
    "        return memo[(n,W)]\n",
    "    # if not, calcuate\n",
    "    else:\n",
    "        if wt[n-1] <= W:\n",
    "            memo[(n,W)] = max(knapSackMemo(wt,val,W-wt[n-1],n-1)+val[n-1],\n",
    "                              knapSackMemo(wt,val,W,n-1))\n",
    "            return memo[(n,W)]\n",
    "        else:\n",
    "            memo[(n,W)] = knapSackMemo(wt,val,W,n-1)\n",
    "            return memo[(n,W)]\n",
    "        \n",
    "# brute force for testing\n",
    "def bruteForce(wt, val, W):\n",
    "    res = 0\n",
    "    # all combinations of the elements\n",
    "    for i in range(2**len(wt)):\n",
    "        sumSize = 0\n",
    "        sumVal = 0\n",
    "        for j in range(len(wt)):\n",
    "            if (i >> j) & 1:\n",
    "                sumSize += wt[j]\n",
    "                sumVal += val[j]\n",
    "            if sumSize > W:\n",
    "                sumVal = 0\n",
    "                break    \n",
    "        res = max(sumVal, res)\n",
    "    return res\n",
    "\n",
    "# testing\n",
    "for _ in range(10):\n",
    "    sizes = []\n",
    "    vals = []\n",
    "    S = randint(0,200)\n",
    "    memo = {}\n",
    "    for _ in range(13):\n",
    "        sizes.append(randint(1,10))\n",
    "        vals.append(randint(1,20))\n",
    "    \n",
    "    br = bruteForce(sizes,vals, S)\n",
    "    btup  = knapSack(sizes,vals,S,len(sizes))\n",
    "    mem = knapSackMemo(sizes,vals,S,len(sizes))\n",
    "    \n",
    "    assert btup == br and mem == br\n",
    "    \n",
    "start = time.time()\n",
    "print(bruteForce(sizes,vals, S))\n",
    "end = time.time()\n",
    "print(\"Time for brute:\" + str(end - start))\n",
    "\n",
    "start = time.time()\n",
    "print(knapSack(sizes,vals,S,len(sizes)))\n",
    "end = time.time()\n",
    "print(\"Time for bottom-up:\" + str(end - start))\n",
    "\n",
    "memo = {}\n",
    "start = time.time()\n",
    "print(knapSackMemo(sizes,vals,S,len(sizes)))\n",
    "end = time.time()\n",
    "print(\"Time for memoized:\" + str(end - start))"
   ]
  },
  {
   "cell_type": "markdown",
   "metadata": {},
   "source": [
    "In this case, the memoized approach is the fastest as it does not usually require to consider all `(n,W)` pairs. However, both bottom-up and memoized approach have space (and time) complexity of \\\\(O(nS)\\\\). The brute force has time complexity of \\\\(O(2^n)\\\\), where \\\\(n\\\\) is the length of the `sizes` list."
   ]
  },
  {
   "cell_type": "markdown",
   "metadata": {},
   "source": [
    "-------------\n",
    "* **Scheduling** With all the chaos that COVID caused universities are going fully remote. The head of your department asked the lecturers to send the timeslots in which they can do lectures. This is a list `timeslots` which consist of pairs of integers -  the start and end of the timeslot. If timeslots overlap, then we choose only one of them. Lectures can start at the same time the previous lecture finished. You aim to pick the subset of `timeslots` which assures that the sum of teaching hours is maximum. Return the maximum number of hours.\n",
    "\n",
    "The question is similar to the previous one. We are given a list of items (`timeslots`) and need to come up with an optimisation. The value of each subset is the sum of hours of its elements. To speed things up in later stages, we will sort the timeslots by the ending time. This is done in \\\\(O(nlog(n))\\\\). We will then consider the prefixes of the sorted array and memoize optimal results. `memo[n]` will store the maximum number of hours from the prefix of `n` length."
   ]
  },
  {
   "cell_type": "code",
   "execution_count": 62,
   "metadata": {},
   "outputs": [
    {
     "name": "stdout",
     "output_type": "stream",
     "text": [
      "82\n",
      "Time for brute:0.14516472816467285\n",
      "82\n",
      "Time for memo:0.0010349750518798828\n"
     ]
    }
   ],
   "source": [
    "# For comparing the running times\n",
    "import time\n",
    "# For testing\n",
    "from random import randint\n",
    "\n",
    "# utility function to speed up the search\n",
    "def binarySearch(timeslots,s,low,high):\n",
    "    if low >= high:\n",
    "        return low\n",
    "    mid  = (low + high) //2\n",
    "    if timeslots[mid][1] <= s:\n",
    "        return binarySearch(timeslots, s, mid+1, high)\n",
    "    else:\n",
    "         return binarySearch(timeslots, s, low, mid)\n",
    "\n",
    "# init memo\n",
    "memo = {}\n",
    "# assumes that timeslots array is sorted by ending time\n",
    "def schedule(timeslots, n):\n",
    "    # base case\n",
    "    if n == 0:\n",
    "        memo[0] = 0\n",
    "        return 0\n",
    "    # memoized case\n",
    "    elif n in memo:\n",
    "        return memo[n]\n",
    "    # else calculate\n",
    "    else:\n",
    "        s,e = timeslots[n-1]\n",
    "        # in log time\n",
    "        ind = min(binarySearch(timeslots,s,0,len(timeslots)),n-1)\n",
    "        memo[n] = max(schedule(timeslots,n-1), schedule(timeslots,ind) + (e - s))\n",
    "        return memo[n]\n",
    "    \n",
    "# brute force for testing\n",
    "def bruteForce(timeslots):\n",
    "    res = 0\n",
    "    # all combinations of the elements\n",
    "    for i in range(2**len(timeslots)):\n",
    "        sumHours = 0\n",
    "        already_chosen = []\n",
    "        for j in range(len(timeslots)):\n",
    "            if (i >> j) & 1:\n",
    "                s, e = timeslots[j]\n",
    "                sumHours += e - s\n",
    "                already_chosen.append(timeslots[j])\n",
    "            # checking if a valid combination of timeslots                 \n",
    "            for k in range(len(already_chosen)-1):\n",
    "                if not (s >= already_chosen[k][1] or e <= already_chosen[k][0]):\n",
    "                    sumHours = 0\n",
    "                    break                 \n",
    "        res = max(sumHours, res)\n",
    "    return res    \n",
    "    \n",
    "# testing\n",
    "for _ in range(10):\n",
    "    memo = {}\n",
    "    timeslots = []    \n",
    "    for _ in range(12):\n",
    "        s = randint(0,100)\n",
    "        e = randint(s,100)\n",
    "        timeslots.append((s,e))\n",
    "    timeslots.sort(key = lambda slot: (slot[1],slot[0]))\n",
    "    \n",
    "    br = bruteForce(timeslots)\n",
    "    mem = schedule(timeslots,len(timeslots))  \n",
    "    assert br == mem\n",
    "    \n",
    "start = time.time()\n",
    "print(bruteForce(timeslots))\n",
    "end = time.time()\n",
    "print(\"Time for brute:\" + str(end - start))\n",
    "\n",
    "memo = {}\n",
    "start = time.time()\n",
    "print(schedule(timeslots,len(timeslots)))\n",
    "end = time.time()\n",
    "print(\"Time for memo:\" + str(end - start))"
   ]
  },
  {
   "cell_type": "markdown",
   "metadata": {},
   "source": [
    "Time complexity of this solution is \\\\(O(nlog(n))\\\\). Why?"
   ]
  },
  {
   "cell_type": "markdown",
   "metadata": {},
   "source": [
    "## Exercises\n",
    "* **Tiling problem** You are given a \\\\(2 \\times n\\\\) board and \\\\(2 \\times 1\\\\) tiles. Count the number of ways the tiles can be arranged (horizontally and vertically) on the board.\n",
    "\n",
    "**HINT**: You have seen this algorithm before."
   ]
  },
  {
   "cell_type": "markdown",
   "metadata": {},
   "source": [
    "```{admonition} Answer\n",
    ":class: dropdown\n",
    "\n",
    "Consider the end of the board. There are two cases, we can either have to fill in a \\\\(2 \\times 2\\\\) subboard or \\\\(1 \\times 2\\\\) subboard. We assume that the rest of the board is already covered and this is the same problem but smaller. There are two ways of arranging tiles on the \\\\(2 \\times 2\\\\) board and one way to do this on \\\\(1 \\times 2\\\\) board. Watch out though! The case in which we place tiles vertically on the \\\\(2 \\times 2\\\\) board covers some of the cases when we fill \\\\(1 \\times 2\\\\). Therefore we should ignore it. The final formula is as follow:\n",
    "\n",
    "\\\\[ count[n] = count[n-1] + count[n-2] \\\\]\n",
    "\n",
    "That is Fibonacci numbers. \n",
    "```"
   ]
  },
  {
   "cell_type": "markdown",
   "metadata": {},
   "source": [
    "------------\n",
    "* **Maximum sum subarray** You are given an array with \\\\(1\\\\) and \\\\(-1\\\\) elements only. Find the array of the maximum sum in \\\\(O(n)\\\\). Return this maximal sum. E.g. [-1,1,1,-1,1,1,1,-1] -> 4.\n",
    "\n",
    "**HINT**: Consider the sums of prefixes of the array."
   ]
  },
  {
   "cell_type": "markdown",
   "metadata": {},
   "source": [
    "````{admonition} Answer\n",
    ":class: dropdown\n",
    "\n",
    "```python\n",
    "def maxSubarray(arr):\n",
    "    assert len(arr) > 0\n",
    "    sumPref = 0\n",
    "    minSum = 0\n",
    "    maxSum = 0\n",
    "    for i in range(0,len(arr)):\n",
    "        # current prefix sum\n",
    "        sumPref = sumPref + arr[i]\n",
    "        # keep track of the minimal sum (can be negative)\n",
    "        minSum = min(minSum, sumPref)\n",
    "        # take away the minSum, this will give max\n",
    "        maxSum = max(maxSum, sumPref-minSum)   \n",
    "    return maxSum\n",
    "    \n",
    "print(maxSubarray([-1,1,1,-1,1,1,1,-1]))\n",
    "\n",
    "```\n",
    "````"
   ]
  },
  {
   "cell_type": "markdown",
   "metadata": {},
   "source": [
    "---------\n",
    "* **Longest snake sequence** You are given a grid of natural numbers. A snake is a sequence of numbers which goes down or to the right. The adjacent numbers in a snake differ by a maximum 1. Define a dynamic function which will return the length of the longest snake. E.g.\n",
    "\n",
    "**9**, 6, 5, 2\n",
    "\n",
    "**8**, **7**, **6**, **5**\n",
    "\n",
    "7, 3, 1, **6**\n",
    "\n",
    "1, 1, 1, **7** \n",
    "\n",
    "-> 7"
   ]
  },
  {
   "cell_type": "markdown",
   "metadata": {},
   "source": [
    "````{admonition} Answer\n",
    ":class: dropdown\n",
    "\n",
    "```python\n",
    "\n",
    "def longestSnake(grid):\n",
    "    #dictionary that will keep the optimal paths to the already visited tiles\n",
    "    table = {}\n",
    "    # n - length of the side of the square\n",
    "    n = len(grid)\n",
    "    assert n == 0 or len(grid[0]) == n\n",
    "    table[(0,0)] = 1\n",
    "    # top and most left column have trival optimal paths\n",
    "    for i in range(1, n):\n",
    "        table[(0,i)] = table[(0,i-1)] + 1 if abs(grid[0][i] - grid[0][i-1]) < 2 else 1\n",
    "        table[(i,0)] = table[(i-1,0)] + 1 if abs(grid[i][0] - grid[i-1][0]) < 2 else 1\n",
    "    # the dynamic magic    \n",
    "    for i in range(1,n):\n",
    "        for j in range(1,n):\n",
    "            table[(i,j)] = max( \n",
    "                table[(i-1,j)] + 1 if abs(grid[i][j] - grid[i-1][j]) < 2 else 1,\n",
    "                table[(i,j-1)] + 1 if abs(grid[i][j] - grid[i][j-1]) < 2 else 1)\n",
    "                \n",
    "    return max(table.values())\n",
    "\n",
    "mat = [[9, 6, 5, 2], \n",
    "       [8, 7, 6, 5], \n",
    "       [7, 3, 1, 6], \n",
    "       [1, 1, 1, 7]] \n",
    "\n",
    "print(longestSnake(mat))\n",
    "\n",
    "```\n",
    "````"
   ]
  },
  {
   "cell_type": "markdown",
   "metadata": {},
   "source": [
    "## References\n",
    "* Cormen, Leiserson, Rivest, Stein, \"Introduction to Algorithms\", Third Edition, MIT Press, 2009\n",
    "* Prof. Erik Demaine, Prof. Srini Devadas, MIT OCW 6.006 [\"Introduction to Algorithms\"](https://ocw.mit.edu/courses/electrical-engineering-and-computer-science/6-006-introduction-to-algorithms-fall-2011/), Fall 2011\n",
    "* GeeksforGeeks, [Find maximum length Snake sequence](https://www.geeksforgeeks.org/find-maximum-length-snake-sequence/)\n",
    "* Polish Informatics Olimpiad, \"Advetures of Bajtazar, 25 Years of Informatics Olympiad\", PWN 2018"
   ]
  }
 ],
 "metadata": {
  "kernelspec": {
   "display_name": "Python 3",
   "language": "python",
   "name": "python3"
  },
  "language_info": {
   "codemirror_mode": {
    "name": "ipython",
    "version": 3
   },
   "file_extension": ".py",
   "mimetype": "text/x-python",
   "name": "python",
   "nbconvert_exporter": "python",
   "pygments_lexer": "ipython3",
   "version": "3.8.8"
  }
 },
 "nbformat": 4,
 "nbformat_minor": 2
}
