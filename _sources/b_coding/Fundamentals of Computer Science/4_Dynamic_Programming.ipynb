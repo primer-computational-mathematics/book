{
 "cells": [
  {
   "cell_type": "markdown",
   "metadata": {},
   "source": [
    "(dynamic_programming)=\n",
    "# Dynamic Programming\n",
    "``` {index} Dynamic Programming\n",
    "```\n",
    "\n",
    "Dynamic algorithms are a family of programs which (broadly speaking) share the feature of utilising solutions to subproblems is coming up with optimal solutions. We will discuss the conditions which problems need to satisfy in order to be solved dinamically but let us first have a look at some basic examples. The contcept is quite challenging to digest, so there are many examples in this section.\n",
    "\n",
    "## Simple Examples\n",
    "\n",
    "* **Dynamic Fibonnacci** If you have read the section about [recursion](https://primer-computational-mathematics.github.io/book/b_coding/Fundamentals%20of%20Computer%20Science/2_Recursion.html#recursion) you probably know that the basic inplementation for generating Fibonacci numbers is very inefficient (\\\\(O(2^n)\\\\)!). Now, as we generate next numbers in the Fibonacci sequence, we will memoize them for further use. This *trade-of between memory and time* is dramatic in this case. Compare the two versions of the function:"
   ]
  },
  {
   "cell_type": "code",
   "execution_count": 39,
   "metadata": {},
   "outputs": [
    {
     "name": "stdout",
     "output_type": "stream",
     "text": [
      "3524578\n",
      "Time for brute:0.815772533416748\n",
      "3524578\n",
      "Time for dynamic:0.0\n"
     ]
    }
   ],
   "source": [
    "# For comparing the running times\n",
    "import time\n",
    "\n",
    "# Inefficient\n",
    "def fib(n):\n",
    "    assert n >= 0\n",
    "    if n < 2:\n",
    "        return 1\n",
    "    else:\n",
    "        return fib(n-1) + fib(n-2)\n",
    "    \n",
    "# Dynamic version\n",
    "def dynamicFib(n):\n",
    "    assert n >= 0\n",
    "    #prepare a table for memoizing\n",
    "    prevFib = 1\n",
    "    prevPrevFib = 1\n",
    "    temp = 0\n",
    "\n",
    "    #build up on your previous results\n",
    "    for i in range(2,n+1):\n",
    "        temp = prevFib + prevPrevFib\n",
    "        prevPrevFib = prevFib\n",
    "        prevFib = temp\n",
    "    return prevFib\n",
    "    \n",
    "start = time.time()\n",
    "print(fib(32))\n",
    "end = time.time()\n",
    "print(\"Time for brute:\" + str(end - start))\n",
    "\n",
    "start = time.time()\n",
    "print(dynamicFib(32))\n",
    "end = time.time()\n",
    "print(\"Time for dynamic:\" + str(end - start))"
   ]
  },
  {
   "cell_type": "markdown",
   "metadata": {},
   "source": [
    "The time difference is dramatic! As you can probably spot, `dynamicFib` is \\\\(O(n)\\\\)! With a use of three integer variables (`prevFib`, `prevPrevFib` and `temp`) we brought exponential time complexity down to linear. How did it happen? Let us now depict the work done by `fib(5)` on a graph:\n",
    "\n",
    "```{figure} algo_images/FibTree.png\n",
    ":width: 60%\n",
    "```\n",
    "\n",
    "Wow! This is quite a tree! However, the worst feature is that many of the nodes are repeated (e.g. node \\\\(2\\\\) appears 3 times). These repeated results which are constantly recomputed bring us to the exponential complexity. Consider the the dynamic solution graph:\n",
    "\n",
    "```{figure} algo_images/FibDyn.png\n",
    ":width: 10%\n",
    "```\n",
    "\n",
    "Now, the number of nodes grows linearly with \\\\(n\\\\). We have `merged` the subproblems to avoid redundancy."
   ]
  },
  {
   "cell_type": "markdown",
   "metadata": {},
   "source": [
    "* **Shortest Path on a Grid** Dynamic programming is often used for optimisation problems. Consider a square grid with numbers from 0 to 9 in each square. An example would be:\n",
    "\n",
    "```\n",
    "+-+-+-+-+\n",
    "|1|0|8|4| \n",
    "+-+-+-+-+\n",
    "|3|5|1|0|\n",
    "+-+-+-+-+\n",
    "|6|8|9|3|\n",
    "+-+-+-+-+\n",
    "|1|2|4|5|\n",
    "+-+-+-+-+\n",
    "```\n",
    "\n",
    "It is allowed to move only **down or right**. What is the value of the minimum path from the upper-left corner to the lower-right corner?\n",
    "\n",
    "The initial approach to the problem might be to check all the possible paths and return the minimal one. This is clearly exponetial and too slow. To come up with a faster approach we need to find *overlapping* subproblems (this feature is often called ***optimal substructure***).\n",
    "\n",
    "Let us imagine that we have reached the lower-right corner (hurray!). We could get there from the tile above it and left of it. This might at first seem like a *Divide and Conquer* problem, but let us keep on looking for an overlap:\n",
    "\n",
    "```{figure} algo_images/DownRightGrid.png\n",
    ":width: 60%\n",
    "```"
   ]
  },
  {
   "cell_type": "markdown",
   "metadata": {},
   "source": [
    "In the simplest case of four tiles, we can already see that the upper-left tile is considered twice. We should then levrage this repetition. This overlapping generalises for larger grids. In our alorithm, we will remember (***memoize***) the optimal path to the tiles already visited and build on this knowledge:"
   ]
  },
  {
   "cell_type": "code",
   "execution_count": 23,
   "metadata": {},
   "outputs": [
    {
     "name": "stdout",
     "output_type": "stream",
     "text": [
      "15\n"
     ]
    }
   ],
   "source": [
    "# grid is a square matrix\n",
    "def shortestPathDownRight(grid):\n",
    "    #dictionary that will keep the optimal paths to the already visited tiles\n",
    "    memo = {}\n",
    "    # n - length of the side of the square\n",
    "    n = len(grid)\n",
    "    assert n == 0 or len(grid[0]) == n\n",
    "    memo[(0,0)] = grid[0][0]\n",
    "    # top and most left column have trival optimal paths\n",
    "    for i in range(1, n):\n",
    "        memo[(0,i)] = memo[(0,i-1)] + grid[0][i]\n",
    "        memo[(i,0)] = memo[(i-1,0)] + grid[i][0]\n",
    "    # the dynamic magic    \n",
    "    for i in range(1,n):\n",
    "        for j in range(1,n):\n",
    "            memo[(i,j)] = min(memo[(i-1,j)],memo[(i,j-1)]) + grid[i][j]\n",
    "            \n",
    "    return memo[(n-1,n-1)]\n",
    "\n",
    "grid = [[1,0,8,4],[3,5,1,0],[6,8,9,3],[1,2,4,5]]\n",
    "print(shortestPathDownRight(grid))"
   ]
  },
  {
   "cell_type": "markdown",
   "metadata": {},
   "source": [
    "What is the time complexity of this algorithm? Based on the nested loop we can deduce that it is \\\\(O(n^2)\\\\). Quite an inprovement!\n",
    "\n",
    "### Space Complexity\n",
    "\n",
    "We usually do not concern ourselves with the amount of memory a program utilises. Dynamic programs are an exception to this rule. The amount of memory they use can be a limiting factor for some machines, so we need to take it into account. In case of `dynamicFib` this was \\\\(O(1)\\\\) as we only needed to keep track of the last two Fibonacci numbers. In case of `shortestPathDownRight` we need do create a grid of size \\\\(n \\times n\\\\), so \\\\(O(n^2)\\\\). The notion of space complexity is very similai to time complexity, so we will not discuss it in depth."
   ]
  },
  {
   "cell_type": "markdown",
   "metadata": {},
   "source": [
    "\n",
    "\n",
    "* **Cutting Rods** We are given a rod of integer length \\\\(n\\\\) and a list of lenght `prices` \\\\(n\\\\). The \\\\(i\\\\)th entry in the list correspods to the profit we can get from selling the rod of length \\\\(i\\\\). How should we cut the rod so we maximise our profit?\n",
    "The key to our dynamic algorithm will be the observation that:\n",
    "\n",
    "We cut the rod at position \\\\(k\\\\). Now we have a rod of lenght \\\\(k\\\\) and \\\\(n-k\\\\). Let us assume we know the maximum price for these two rods. Now we need to consider all the \\\\(0 \\leq k \\leq \\lfloor \\frac{n}{2} \\rfloor + 1\\\\) (the problem is symmetric so computing for \\\\(\\frac{n}{2} \\leq k\\\\) would be redundant. For \\\\(k=0\\\\) we just take `prices[n]`. The cutting introduces subproblems which are smaller than the initial problem and they are overlapping! Let us put this into code:"
   ]
  },
  {
   "cell_type": "code",
   "execution_count": 44,
   "metadata": {},
   "outputs": [
    {
     "name": "stdout",
     "output_type": "stream",
     "text": [
      "200\n",
      "Time for brute:0.2918405532836914\n",
      "200\n",
      "Time for dynamic:0.0\n"
     ]
    }
   ],
   "source": [
    "# For comparing the running times\n",
    "import time\n",
    "# For testing\n",
    "from random import randint\n",
    "\n",
    "def dynamicCutRod(n,prices):\n",
    "    #setting the initial values of variables\n",
    "    assert n >= 0 and n == len(prices)\n",
    "    # trival cases\n",
    "    if n == 0:\n",
    "        return 0\n",
    "    if n == 1:\n",
    "        return prices[0]\n",
    "    \n",
    "    # setting up needed variables\n",
    "    memo = {}\n",
    "    currLen = 2\n",
    "    memo[0] = 0\n",
    "    memo[1] = prices[0]\n",
    "    while currLen < n + 1:\n",
    "        # no cuts for a given len\n",
    "        memo[currLen] = prices[currLen - 1]\n",
    "        # considering all possible cuts for a give len\n",
    "        for k in range(1,currLen//2 + 1):\n",
    "            # take the maximal one\n",
    "            if memo[currLen] < memo[k] + memo[currLen - k]:\n",
    "                memo[currLen] = memo[k] + memo[currLen - k]     \n",
    "        currLen += 1\n",
    "    return memo[n]\n",
    "        \n",
    "# for testing purposes\n",
    "def bruteForceRecursive(n,prices):\n",
    "    assert n >=0\n",
    "    if n == 0:\n",
    "        return 0\n",
    "    if n == 1:\n",
    "        return prices[0]\n",
    "    currLen = n\n",
    "    res = prices[n-1]\n",
    "    for k in range(1,n//2 + 1):\n",
    "        res = max(res, bruteForceRecursive(k,prices) + bruteForceRecursive(n-k,prices))\n",
    "    return res\n",
    "\n",
    "\n",
    "for i in range(1, 11):\n",
    "    prices = []\n",
    "    for j in range(i):\n",
    "        prices.append(randint(1,10))\n",
    "        \n",
    "    assert bruteForceRecursive(len(prices),prices) == dynamicCutRod(len(prices),prices)\n",
    "\n",
    "prices = []\n",
    "for i in range(20):\n",
    "    prices.append(randint(1,10))\n",
    "    \n",
    "start = time.time()\n",
    "print(bruteForceRecursive(len(prices),prices))\n",
    "end = time.time()\n",
    "print(\"Time for brute:\" + str(end - start))\n",
    "\n",
    "start = time.time()\n",
    "print(dynamicCutRod(len(prices),prices))\n",
    "end = time.time()\n",
    "print(\"Time for dynamic:\" + str(end - start))"
   ]
  },
  {
   "cell_type": "markdown",
   "metadata": {},
   "source": [
    "Time complexity? For each \\\\(0\\leq i \\leq n \\\\) we need to consider \\\\(i\\\\) different cuts. This is the sum of arithmetic series so \\\\(O(n^2)\\\\). We memoize only the optimal solutions to subproblems, therefore \\\\(O(n)\\\\)."
   ]
  },
  {
   "cell_type": "markdown",
   "metadata": {},
   "source": [
    "## Characteristic features of dynamic problems\n",
    "\n",
    "All problems which can be tackled with the use of Dynamic Programming (DP) have two main features:\n",
    "\n",
    "1) Optimal substructure: In broad terms, that solution to the problem can be formulated in terms of independent subproblems. Then you choose solution/combination of optimal solutions to subproblems and show that this choice leads to an optimal global solution. For example, for the `shortestPath` problem we choose between the optimal solution to the tile above and tile to the left. For the rod problem, we choose between all possible \\\\(n\\\\) cuts of a rod and assume we have solutions to the shorter rods.  \n",
    "\n",
    "2) Overlapping subproblems: The subproblems which we split the main question into should repeat. Eliminating the need to recompute the subproblems (by memoising them) should speed up out algorythm. For example, `dynamicFib` used two variables to keep the results of computing previous Fibonacci numbers."
   ]
  },
  {
   "cell_type": "markdown",
   "metadata": {},
   "source": [
    "## Common approaches to DP\n",
    "\n",
    "There are two main schools of thought when it comes to solving DP algorithms:\n",
    "\n",
    "1) ***Memoization*** is using the *memory-time trade-off*. It remembers the results to the subproblems in a dictionary `memo` and recalls them when needed. If we have the result in memory, we take if from there, otherwise compute it.\n",
    "\n",
    "2) ***Bottom-up*** approach starts with the trivial cases of the problem and builds on them. I relies on the the fact that subproblems can be sorted. So we first compute the optimal cutting for a rod of length 1 and then length 2 and so on...\n"
   ]
  },
  {
   "cell_type": "code",
   "execution_count": null,
   "metadata": {},
   "outputs": [],
   "source": []
  }
 ],
 "metadata": {
  "kernelspec": {
   "display_name": "Python 3",
   "language": "python",
   "name": "python3"
  },
  "language_info": {
   "codemirror_mode": {
    "name": "ipython",
    "version": 3
   },
   "file_extension": ".py",
   "mimetype": "text/x-python",
   "name": "python",
   "nbconvert_exporter": "python",
   "pygments_lexer": "ipython3",
   "version": "3.7.4"
  }
 },
 "nbformat": 4,
 "nbformat_minor": 2
}
