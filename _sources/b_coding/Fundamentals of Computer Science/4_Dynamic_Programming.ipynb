{
 "cells": [
  {
   "cell_type": "markdown",
   "metadata": {},
   "source": [
    "(dynamic_programming)=\n",
    "# Dynamic Programming\n",
    "``` {index} Dynamic Programming\n",
    "```\n",
    "\n",
    "Dynamic algorithms are a family of programs which (broadly speaking) share the the feature of utilising solutions to subproblems is coming up with optimal solutions. We will discuss the conditions which problems need to satisfy in order  to be solved dinamically but let us first have a look at some basic examples.\n",
    "\n",
    "## Simple Examples\n",
    "\n",
    "* **Dynamic Fibonnacci** If you have read the section about [recursion](https://primer-computational-mathematics.github.io/book/b_coding/Fundamentals%20of%20Computer%20Science/2_Recursion.html#recursion) you probably know that the basic inplementation for generating Fibonacci numbers is very inefficient (\\\\(O(2^n)\\\\)!). Now, as we generate next numbers in the Fibonacci sequence, we will memoize them for further use. This *trade-of between memory and time* is dramatic in this case. Compare the two versions of the function:"
   ]
  },
  {
   "cell_type": "code",
   "execution_count": 15,
   "metadata": {},
   "outputs": [
    {
     "name": "stdout",
     "output_type": "stream",
     "text": [
      "3524578\n",
      "0.8298194408416748\n",
      "3524578\n",
      "0.0\n"
     ]
    }
   ],
   "source": [
    "# For comparing the running times\n",
    "import time\n",
    "\n",
    "# Inefficient\n",
    "def fib(n):\n",
    "    assert n >= 0\n",
    "    if n < 2:\n",
    "        return 1\n",
    "    else:\n",
    "        return fib(n-1) + fib(n-2)\n",
    "    \n",
    "# Dynamic version\n",
    "def dynamicFib(n):\n",
    "    assert n >= 0\n",
    "    #prepare a table for memoizing\n",
    "    prevFib = 1\n",
    "    prevPrevFib = 1\n",
    "    temp = 0\n",
    "\n",
    "    #build up on your previous results\n",
    "    for i in range(2,n+1):\n",
    "        temp = prevFib + prevPrevFib\n",
    "        prevPrevFib = prevFib\n",
    "        prevFib = temp\n",
    "    return prevFib\n",
    "    \n",
    "start = time.time()\n",
    "print(fib(32))\n",
    "end = time.time()\n",
    "print(end - start)\n",
    "\n",
    "start = time.time()\n",
    "print(dynamicFib(32))\n",
    "end = time.time()\n",
    "print(end - start)"
   ]
  },
  {
   "cell_type": "markdown",
   "metadata": {},
   "source": [
    "The time difference is dramatic! As you can probably spot, `dynamicFib` is \\\\(O(n)\\\\)! With a use of three integer variables (`prevFib`, `prevPrevFib` and `temp`) we brought exponential time complexity down to linear. How did it happen? Let us now depict the work done by `fib(5)` on a graph:\n",
    "\n",
    "```{figure} algo_images/FibTree.png\n",
    ":width: 80%\n",
    "```\n",
    "\n",
    "Wow! This is quite a tree! However, the worst feature is that many of the nodes are repeated (e.g. node \\\\(2\\\\) appears 3 times). These repeated results which are constantly recomputed bring us to the exponential complexity. Consider the the dynamic solution graph:\n",
    "\n",
    "```{figure} algo_images/FibDyn.png\n",
    ":width: 10%\n",
    "```"
   ]
  },
  {
   "cell_type": "code",
   "execution_count": null,
   "metadata": {},
   "outputs": [],
   "source": []
  }
 ],
 "metadata": {
  "kernelspec": {
   "display_name": "Python 3",
   "language": "python",
   "name": "python3"
  },
  "language_info": {
   "codemirror_mode": {
    "name": "ipython",
    "version": 3
   },
   "file_extension": ".py",
   "mimetype": "text/x-python",
   "name": "python",
   "nbconvert_exporter": "python",
   "pygments_lexer": "ipython3",
   "version": "3.7.4"
  }
 },
 "nbformat": 4,
 "nbformat_minor": 2
}
