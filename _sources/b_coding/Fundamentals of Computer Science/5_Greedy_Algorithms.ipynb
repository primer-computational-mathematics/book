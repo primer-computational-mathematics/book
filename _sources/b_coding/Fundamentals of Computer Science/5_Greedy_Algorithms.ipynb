{
 "cells": [
  {
   "cell_type": "markdown",
   "metadata": {},
   "source": [
    "(Greedy algorithms)=\n",
    "# Greedy Algorithms\n",
    "``` {index} Greedy Algorithms\n",
    "```\n",
    "\n",
    "Greedy Algorithms are one of the paradigms of algorithmic problem-solving. All greedy algorithms share the assumption that local optimal steps lead to the globally optimal solution. Quite surprisingly, this is often a valid assertion. \n",
    "\n",
    "If you want to have a good grasp on the topic, please have a look at [Dynamic Programming](https://primer-computational-mathematics.github.io/book/b_coding/Fundamentals%20of%20Computer%20Science/4_Dynamic_Programming.html#dynamic-programming) section beforehand.\n",
    "\n",
    "\n",
    "\n",
    "## Basic Examples\n",
    "\n",
    "* **Greedy Scheduling** We are given a list `timeslots` with each element being a tuple \\\\((s,f)\\\\) where \\\\(s\\\\) is the starting time of the event and \\\\(f\\\\) its the finish time. We need to choose a subset of non-overlapping `timeslots` that has the most elements. Return the number of elements in that subset.\n",
    "\n",
    "First, let us assume that `timeslots` is sorted by \\\\(f\\\\) (non-decreasing).\n",
    "\n",
    "Let us show that the problem has an optimal substructure. Let \\\\(S_{ij}\\\\) denote a set of events which start after event \\\\(a_i\\\\) and finish before the event \\\\(a_j\\\\) and \\\\(A_{ij}\\\\) be the optimal subset of \\\\(S_{ij}\\\\). We can see that \\\\(A_{ij} = A_{ik} + a_k + A_{kj}\\\\) for \\\\(i\\leq k \\leq j\\\\). Now \\\\(A_{ik}\\\\) is the solution for  \\\\(S_{ik}\\\\) and \\\\(A_{kj}\\\\) solves \\\\(S_{kj}\\\\). These are two independent subproblems, so the problem has an optimal substructure.\n",
    "\n",
    "Now, you can have a thought about how, based on this information, one can implement Dynamic solution. However, let us jump straight into greedy:\n",
    "\n",
    "Our hypothesis is to always choose the task that ends the earliest. We will show that (some optimal) \\\\(A_{ij}\\\\) always contains the earliest ending task \\\\(a_m\\\\) of \\\\(S_{ij}\\\\). Then, inductively, we know that this leads to a globally optimal arrangement. \n",
    "\n",
    "**Proof**: Let \\\\(a_n\\\\) be the earliest ending task in \\\\(A_{ij}\\\\) (does not have to be the same as \\\\(a_m\\\\)). If \\\\(a_n = a_m\\\\) then we are done. Otherwise, it is possible to swap \\\\(a_n\\\\) with \\\\(a_m\\\\) keeping \\\\(A_{ij}\\\\) valid. As \\\\(A_{ij}\\\\) was optimal, such swap still makes it optimal. \n",
    "\n",
    "Have a look at the following code:"
   ]
  },
  {
   "cell_type": "code",
   "execution_count": 2,
   "metadata": {},
   "outputs": [],
   "source": [
    "from random import randint\n",
    "\n",
    "def greedyScheduling(timeslots):\n",
    "    timeslots.sort(key = lambda x: x[1])\n",
    "    #edge case\n",
    "    if not len(timeslots):\n",
    "        return 0\n",
    "    # setting up the initial vars\n",
    "    curr = timeslots[0]\n",
    "    res = 1 \n",
    "    for i in range(1,len(timeslots)):\n",
    "        if curr[1] <= timeslots[i][0]:\n",
    "            curr = timeslots[i]\n",
    "            res += 1       \n",
    "    return res\n",
    "\n",
    "# brute force for testing\n",
    "def bruteForce(timeslots):\n",
    "    res = 0\n",
    "    # all combinations of the elements\n",
    "    for i in range(2**len(timeslots)):\n",
    "        temp = 0\n",
    "        already_chosen = []\n",
    "        for j in range(len(timeslots)):\n",
    "            if (i >> j) & 1:\n",
    "                s, e = timeslots[j]\n",
    "                temp += 1\n",
    "                already_chosen.append(timeslots[j])\n",
    "            # checking if a valid combination of timeslots                 \n",
    "            for k in range(len(already_chosen)-1):\n",
    "                if not (s >= already_chosen[k][1] or e <= already_chosen[k][0]):\n",
    "                    temp = 0\n",
    "                    break                 \n",
    "        res = max(temp, res)\n",
    "    return res    \n",
    "    \n",
    "# testing\n",
    "for _ in range(20):\n",
    "    timeslots = []    \n",
    "    for _ in range(12):\n",
    "        s = randint(0,99)\n",
    "        e = randint(s+1,100)\n",
    "        timeslots.append((s,e))\n",
    "    br = bruteForce(timeslots)\n",
    "    gr = greedyScheduling(timeslots)  \n",
    "    assert gr == br"
   ]
  },
  {
   "cell_type": "markdown",
   "metadata": {},
   "source": [
    "The time complexity is \\\\(O(nlog(n))\\\\) but this is due to sorting the events. If the events were sorted initially it would be \\\\(O(n)\\\\).\n",
    "\n",
    "------------------\n",
    "* **Cover a set of points with given length intervals** You are given a list `points` of \\\\(x\\\\)-coordinates of points and `l` - the length of the interval. How many intervals do we need to cover the points?\n",
    "\n",
    "\n",
    "Let \\\\(A_{ij}\\\\) denote the optimal set of intervals that cover the points. Take the element from this set \\\\((s_k,e_k)\\\\) then \\\\(A_{ij} = A_{ik} + a_k + A_{kj}\\\\). Similair analysis as in the previous example leads to the conclusion that the problem has an optimal substructure.\n",
    "\n",
    "Now let us show that greedy choices lead to the optimal solution:\n",
    "\n",
    "Let us sort the points in the non-decreasing order. We insert an interval where the first begins (an can cover other points) and continue such insertion until we are done.\n",
    "\n",
    "Now, consider the optimal solution \\\\(A_{ij}\\\\) and its first interval. If it does start where the first point, we can replace it with such interval and the solution remains optimal. Done!\n",
    "\n",
    "Here is the code implementation:"
   ]
  },
  {
   "cell_type": "code",
   "execution_count": 3,
   "metadata": {},
   "outputs": [],
   "source": [
    "def intervals(points,l):\n",
    "    # sort the points\n",
    "    points.sort()\n",
    "    if not len(points):\n",
    "        return 0\n",
    "    # set the initial vars\n",
    "    res = 1\n",
    "    border = points[0] + l\n",
    "    # go through the list\n",
    "    for i in range(1,len(points)):\n",
    "        if points[i] > border:\n",
    "            res += 1\n",
    "            border = points[i] + l      \n",
    "    return res"
   ]
  },
  {
   "cell_type": "markdown",
   "metadata": {},
   "source": [
    "Similarly depending whether the `points` are sorted we have \\\\(O(nlog(n))\\\\) or \\\\(O(n)\\\\).\n",
    "\n",
    "## Conditions needed for Greedy Solution\n",
    "\n",
    "There are two conditions which need to be met for the greedy solution to work:\n",
    "\n",
    "1) **Optimal substructure**: the problem should be expressed in terms of independent subproblems, just like in [Dynamic Programming](https://primer-computational-mathematics.github.io/book/b_coding/Fundamentals%20of%20Computer%20Science/4_Dynamic_Programming.html#dynamic-programming)!\n",
    "\n",
    "2) **Greedy choices lead to optimal solution**: This is usually done by the *copy and paste* argument that shows that there exists an optimal solution that involves the proposed Greedy hypothesis. It has an inductive flavour, which means that the Greedy choice leaves us with the same *smaller* problem. You can assume that the input is sorted somehow, it might be very helpful!"
   ]
  },
  {
   "cell_type": "markdown",
   "metadata": {},
   "source": [
    "## Advanced Examples\n",
    "\n",
    "Here are several examples which might be a little more involving:\n",
    "\n",
    "------------------------\n",
    "\n",
    "* **Fractional Knapsack** You are given two lists `vals` and `weights` as well as an integer `W` - the total weight of a backpack. You are allowed to take any fraction of any item in the list so that the sum of their weights is no bigger than `W`. All numbers in the input are positive. Return the maximum possible value:\n",
    "\n",
    "**Optimal substructure** Let \\\\(val(i, w_j,w)\\\\) denote the *maixmum* value we can get by taking \\\\(w_j \\leq w_i \\\\) of item  \\\\(i\\\\) (\\\\(w_i\\\\) is the weight of the object), considering the object up to the \\\\(i\\\\)th. \\\\(w\\\\) is the weight left in the Knapsack. The solution uses the following recursion:\n",
    "\n",
    "\\\\[val(i, w_j,W) = max(val(i+1, w_j,w - w_j) + w_j \\times \\frac{v_i}{w_i}, val(i+1, w_j,w))\\\\]\n",
    "\n",
    "**Greedy choices lead to optimal solution** We will be taking the aveliable items of the greatest *density* \\\\(\\frac{v_i}{w_i}\\\\).\n",
    "\n",
    "Imagine a sequence of the optimal \\\\(w_j\\\\)s. Let us take such item \\\\(k\\\\) that \\\\(\\frac{v_k}{w_k}\\\\) is no smaller than any such ratio in the sequence. If such item is already in the sequence, we check if the weight taken is maximum possible, if not we can improve or keep the result equal. Since the solution is optimal we cannot improve. If the item is not, we can replace with other items and improve or stay the same, again the solution is optimal so the result can only stay the same. Therefore such replacement will result in an optimal solution:"
   ]
  },
  {
   "cell_type": "code",
   "execution_count": 3,
   "metadata": {},
   "outputs": [
    {
     "name": "stdout",
     "output_type": "stream",
     "text": [
      "4.5\n"
     ]
    }
   ],
   "source": [
    "# vals and weights have positive values only \n",
    "# W is positive as well\n",
    "def fractionalKnapsack(vals,weights, W):\n",
    "    assert len(vals) and len(weights) and W and len(vals) == len(weights)\n",
    "    wDensity = list(zip(weights,vals))\n",
    "    # sort according to density\n",
    "    wDensity.sort(key =  lambda x: x[1] / x[0])\n",
    "    \n",
    "    #set up the inital values\n",
    "    i = 0\n",
    "    res = 0\n",
    "    while W > 0 and i < len(wDensity):\n",
    "        if W >= wDensity[i][0]:\n",
    "            res += wDensity[i][1]\n",
    "            W -= wDensity[i][0]\n",
    "        else:\n",
    "            res += W * wDensity[i][1]/wDensity[i][0]\n",
    "            W = 0\n",
    "        i+=1  \n",
    "    return res\n",
    "    \n",
    "    \n",
    "print(fractionalKnapsack([1,2,3],[4,5,6],12))"
   ]
  },
  {
   "cell_type": "markdown",
   "metadata": {},
   "source": [
    "------------------------\n",
    "* **Coin Changing**: We are given an integer list of coin denominations `m` with each entry in cents/pence. For the British system it would be `[1,2,5,10,20,50,100,200]`. We are also given `W` - the sum we would like to receive having an infinite supply of all the coins. Return the minimum amount of coins we need to return such amount.\n",
    "\n",
    "This problem can be solved using Dynamic Programming, but for many cases (called [canonical coin systems](https://graal.ens-lyon.fr/~abenoit/algo09/coins2.pdf) greedy approach works as well. Many modern coin systems, such as EUR, GBP or USD are canonical. \n",
    "\n",
    "**Optimal substructure** Try to imagine the following: each solution to the problem for given amount of money \\\\(W\\\\) can be represented as a sorted (non-increasing) seqence of coin denominations which sums up to \\\\(W\\\\). Now let \\\\(coins(n,w)\\\\) denote the *minimum* number of coins needed to return \\\\(W\\\\), using the first \\\\(n\\\\) coin denominations. Optimal substructure is exhibited in the following equation:\n",
    "\n",
    "\\\\[coins(n,w) = min(1 + coins(n, W-c_n),coins(n-1, W))\\\\]\n",
    "\n",
    "Where \\\\(c_n\\\\) is the vaule of the \\\\(n\\\\)th coin.\n",
    "\n",
    "**Greedy approach** We will we be supplying the coin of the greatest denomination until it is possible (the amount left remains non-negative) and then we will continue to smaller denominations until completion. The proof that this is optimal is beyond the scope of this course. However, you might think of a simplified case when coin denominations are consecutive powers of a positive integer \\\\(c\\\\) greater than \\\\(1\\\\) so \\\\(c^0,c^1,c^2,c^3...\\\\). The proof should be challenging in this case. Feel free to give it a go!"
   ]
  },
  {
   "cell_type": "code",
   "execution_count": 2,
   "metadata": {},
   "outputs": [
    {
     "name": "stdout",
     "output_type": "stream",
     "text": [
      "4\n"
     ]
    }
   ],
   "source": [
    "# we assume that1 is in m, so the algorithm can always terminate\n",
    "# W should be positive\n",
    "def coinChangingGreedy(m,W):\n",
    "    assert len(m) and 1 in m and W > 0\n",
    "    # sort non-increasing\n",
    "    m.sort()\n",
    "    m = m[::-1]\n",
    "    # set up the vars\n",
    "    res = 0\n",
    "    i = 0\n",
    "    while W > 0:\n",
    "        if W >= m[i]:\n",
    "            W -= m[i]\n",
    "            res += 1\n",
    "        else:\n",
    "            i += 1 \n",
    "            \n",
    "    return res\n",
    "\n",
    "print(coinChangingGreedy([1,2,5,10,20],65))"
   ]
  },
  {
   "cell_type": "markdown",
   "metadata": {},
   "source": [
    "## Exercises\n",
    "* **Mice to Holes** There are `N` mice and `N` holes on a straight line. You are given a list `mice` with mice coordinates and `holes` with holes' coordinates. A mouse can move 1 unit to the left or right per time step. Calculate the minimum number of timesteps for all mice to reach the hole.\n",
    "\n",
    "**HINT**: You want to sort both lists.\n",
    "\n",
    "````{admonition} Answer\n",
    ":class: dropdown\n",
    "\n",
    "The greedy approach pairs the holes with mice by their order in the sorted arrays. Let \\\\(m_1 < m_2\\\\) and \\\\(h1 < h2 \\\\). We will look for the longest mouse-hole distance as this will be our anwser. Clearly:\n",
    "\n",
    "\\\\[ max(|m_1 - h_1|, |m_2 - h_2|) < max(|m_1 - h_2|, |m_2 - h_1|) \\\\]\n",
    "\n",
    "as \\\\(|m_1 - h_2|\\\\) is the longest of all four. We can therefore make any mice-holes assignment better by a series of swaps until it is sorted. This leads to an optimal solution.\n",
    "\n",
    "```python\n",
    "def miceToHoles(mice, holes):\n",
    "    assert len(mice) and len(mice) == len(holes)\n",
    "    mice.sort()\n",
    "    holes.sort()\n",
    "    # you can read about the python zip function\n",
    "    # very useful functional  untility\n",
    "    return max([abs(m - h) for (m,h) in zip(mice, holes)])\n",
    "    \n",
    "# test on some cases!\n",
    "print(miceToHoles([-1,7,8],[5,6,9]))\n",
    "\n",
    "```\n",
    "````"
   ]
  },
  {
   "cell_type": "markdown",
   "metadata": {},
   "source": [
    "----------------\n",
    "* **Hotel booking** You are given a list of `arrivals` and `departures` of guests in a hotel. The hotel has `K` rooms. Decide if the hotel can accommodate all bookings.\n",
    "\n",
    "````{admonition} Answer\n",
    ":class: dropdown\n",
    "\n",
    "We will mark the arrivals and departures and keep the counter of how many rooms are occupied. Then we will merge the two lists and sort them. We will increase this counter when an arrival happens and decrease it upon departure. If the counter exceeds `K` we will return `False`.\n",
    "\n",
    "```python\n",
    "def hotelBooking(arrivals, departures,K):\n",
    "    # marking the lists\n",
    "    arrivals = [(x,1) for x in arrivals]\n",
    "    departures = [(x,-1) for x in departures]\n",
    "    \n",
    "    moves = arrivals + departures\n",
    "    moves.sort()\n",
    "    counter = 0\n",
    "    for i in moves:\n",
    "        counter += i[1]\n",
    "        if counter > K:\n",
    "            return False\n",
    "        \n",
    "    return True\n",
    "    \n",
    "print(hotelBooking([1,3,5],[2,6,8],1))\n",
    "\n",
    "```\n",
    "````"
   ]
  },
  {
   "cell_type": "markdown",
   "metadata": {},
   "source": [
    "## References\n",
    "* Cormen, Leiserson, Rivest, Stein, \"Introduction to Algorithms\", Third Edition, MIT Press, 2009\n",
    "* GeeksforGeeks, [Assign Mice to Holes](https://www.geeksforgeeks.org/assign-mice-holes/)\n",
    "* Sebastian Raschka, Github, [Introduction to Greedy Algorithms](https://nbviewer.jupyter.org/github/rasbt/algorithms_in_ipython_notebooks/blob/master/ipython_nbs/essentials/greedy-algorithm-intro.ipynb)"
   ]
  }
 ],
 "metadata": {
  "kernelspec": {
   "display_name": "Python 3",
   "language": "python",
   "name": "python3"
  },
  "language_info": {
   "codemirror_mode": {
    "name": "ipython",
    "version": 3
   },
   "file_extension": ".py",
   "mimetype": "text/x-python",
   "name": "python",
   "nbconvert_exporter": "python",
   "pygments_lexer": "ipython3",
   "version": "3.8.8"
  }
 },
 "nbformat": 4,
 "nbformat_minor": 2
}
