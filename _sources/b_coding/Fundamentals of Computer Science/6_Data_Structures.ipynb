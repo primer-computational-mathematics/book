{
 "cells": [
  {
   "cell_type": "markdown",
   "metadata": {},
   "source": [
    "(data_structures)=\n",
    "# Data Structures\n",
    "``` {index} Data Structures\n",
    "```\n",
    "\n",
    "*Data structures* allow us to speed our algorithms up often by many orders of magnitude. They arrange the data that is suitable for the problem being solved and usually simplify the workings of the algorithm. In this notebook we will implement some of the most popular data structures in computer science:"
   ]
  },
  {
   "cell_type": "markdown",
   "metadata": {},
   "source": [
    "## Array\n",
    "\n",
    "Arrays are lists of objects. In older programming languages arrays were objects of fixed length and type (e.g. list of 10 integers). In Python, arrays can be implemented using `list`s, which provide a litte more flexibility by hosting multiple types and variable lenght. Arrays/lists support the following operation in complexity:\n",
    "\n",
    "* Set item (at index i smaller than the length): \\\\(O(1)\\\\)\n",
    "* Get item: \\\\(O(1)\\\\)\n",
    "* Deletion is no really supported as we assume that the array is of fixed lenght, for Python lists it is \\\\(O(n)\\\\).\n",
    "\n",
    "Arrays are used in many programming problems where collections of data are used."
   ]
  },
  {
   "cell_type": "code",
   "execution_count": 15,
   "metadata": {},
   "outputs": [
    {
     "name": "stdout",
     "output_type": "stream",
     "text": [
      "2\n"
     ]
    }
   ],
   "source": [
    "arr = [1,2,3]\n",
    "# constant\n",
    "arr[2] = 4\n",
    "# constant\n",
    "print(arr[1])"
   ]
  },
  {
   "cell_type": "markdown",
   "metadata": {},
   "source": [
    "## Stack\n",
    "\n",
    "Stack is a structure that follows that **LIFO** (last in, first out) rule. Elements can be `push`ed on top of the stack or `pop`ped of it. Those are the only two operations that this structure supports:"
   ]
  },
  {
   "cell_type": "code",
   "execution_count": 18,
   "metadata": {},
   "outputs": [
    {
     "name": "stdout",
     "output_type": "stream",
     "text": [
      "1\n",
      "ERROR: Stack is empty\n",
      "2\n",
      "[1, 3]\n"
     ]
    }
   ],
   "source": [
    "class Stack:\n",
    "    def __init__(self):\n",
    "        self.contents = []\n",
    "    def pop(self):\n",
    "        if len(self.contents):\n",
    "            temp = self.contents[-1]\n",
    "            self.contents = self.contents[:-1]\n",
    "            return temp\n",
    "        else:\n",
    "            print(\"ERROR: Stack is empty\")\n",
    "    def push(self, elem):\n",
    "        self.contents.append(elem)\n",
    "\n",
    "st = Stack()\n",
    "st.push(1)\n",
    "print(st.pop())\n",
    "st.pop()\n",
    "\n",
    "# Python lists also support these operations, push is called append!\n",
    "\n",
    "l = [1,2]\n",
    "print(l.pop())\n",
    "l.append(3)\n",
    "print(l)"
   ]
  },
  {
   "cell_type": "markdown",
   "metadata": {},
   "source": [
    "Operations/complexity:\n",
    "* push: \\\\(O(1)\\\\)\n",
    "* pop: \\\\(O(1)\\\\)\n",
    "\n",
    "One of the popular problems utilizing stacks is checking whether an expression has balanced brackets. Let us limit ourselves to expressions consisting of `[{,},(,)]`. We will push the opening brackets on the stack and pop them when closing bracket is approached. Of course, the types of brackets must match:"
   ]
  },
  {
   "cell_type": "code",
   "execution_count": 19,
   "metadata": {},
   "outputs": [
    {
     "name": "stdout",
     "output_type": "stream",
     "text": [
      "True\n",
      "False\n",
      "True\n",
      "False\n",
      "True\n"
     ]
    }
   ],
   "source": [
    "def checkIfValidBracketing(expr):\n",
    "    # our stack :)\n",
    "    st = []\n",
    "    for i in expr:\n",
    "        # not a bracket\n",
    "        if i not in [\"{\",\"}\",\"(\",\")\"]:\n",
    "            continue\n",
    "        # push the opening bracket on the stack\n",
    "        elif i in [\"{\",\"(\"]:\n",
    "            st.append(i)\n",
    "        # check when closing bracket approached    \n",
    "        elif i in [\"}\",\")\"]:\n",
    "            try:\n",
    "                temp = st.pop()\n",
    "                if (i == \"}\" and temp == \"{\") or (i == \")\" and temp == \"(\"):\n",
    "                    continue\n",
    "                # invalid bracketing    \n",
    "                else:\n",
    "                    return False\n",
    "            except IndexError:\n",
    "                return False\n",
    "    return not len(st)\n",
    "\n",
    "# Basic testing\n",
    "print(checkIfValidBracketing(\"{}()\"))    \n",
    "print(checkIfValidBracketing(\"{(\")) \n",
    "print(checkIfValidBracketing(\"({()})\")) \n",
    "print(checkIfValidBracketing(\")\")) \n",
    "print(checkIfValidBracketing(\"\")) "
   ]
  },
  {
   "cell_type": "markdown",
   "metadata": {},
   "source": [
    "The following algorithm has \\\\(O(n)\\\\) time and space complexity."
   ]
  },
  {
   "cell_type": "markdown",
   "metadata": {},
   "source": [
    "## Linked list\n",
    "\n",
    "Linked lists are the simplest node-based structures. They are inherently recursive in nature. A linked list consist of a `head` pointing to the `next` which itself is a linked list. Base case is an empty list:\n",
    "\n",
    "```{figure} algo_images/LinkedList.png\n",
    ":width: 60%\n",
    "```\n",
    "\n",
    "A simple implementation would be:"
   ]
  },
  {
   "cell_type": "code",
   "execution_count": 39,
   "metadata": {},
   "outputs": [
    {
     "name": "stdout",
     "output_type": "stream",
     "text": [
      "\n",
      "True\n",
      "0->\n",
      "True\n",
      "0->1->\n",
      "True\n",
      "0->2->1->\n",
      "True\n",
      "0->2->\n",
      "True\n",
      "True\n",
      "2->\n",
      "False\n",
      "True\n",
      "False\n"
     ]
    }
   ],
   "source": [
    "class Node:\n",
    "    def __init__(self,val):\n",
    "        self.val = val\n",
    "        self.next = None\n",
    "        \n",
    "class LinkedList:\n",
    "    def __init__(self):\n",
    "        self.head = None\n",
    "        \n",
    "    # insert at a position index  \n",
    "    # false is index out of range, true otherwise\n",
    "    def insert(self,x, index):\n",
    "        assert index >= 0\n",
    "        newNode = Node(x)\n",
    "        if not index:\n",
    "            newNode.next = self.head\n",
    "            self.head = newNode\n",
    "            return True\n",
    "        else:\n",
    "            curr = self.head \n",
    "            for _ in range(index-1):\n",
    "                if curr is None:\n",
    "                    return False\n",
    "                curr = curr.next\n",
    "            if curr is None:\n",
    "                return False\n",
    "            newNode.next = curr.next\n",
    "            curr.next = newNode\n",
    "            return True\n",
    "            \n",
    "    # remove item at index position  \n",
    "    # return true if the element was actually removed, \n",
    "    # false otherwise\n",
    "    def remove(self,index):\n",
    "        assert index >= 0\n",
    "        # Removing head\n",
    "        if not index:\n",
    "            if self.head is not None:\n",
    "                self.head = self.head.next\n",
    "                return True\n",
    "            else:\n",
    "                return False\n",
    "        # index > 0\n",
    "        else:\n",
    "            curr = self.head\n",
    "            for _ in range(index-1):\n",
    "                if curr is None:\n",
    "                    return False\n",
    "                curr = curr.next\n",
    "            if curr is None:\n",
    "                return False\n",
    "            else:\n",
    "                if curr.next is None:\n",
    "                    return False\n",
    "                else:\n",
    "                    curr.next = curr.next.next\n",
    "                    return True\n",
    "                \n",
    "    # returns true if x in the list, false otherwise            \n",
    "    def search(self,x):\n",
    "        curr = self.head\n",
    "        while curr is not None:\n",
    "            if curr.val == x:\n",
    "                return True\n",
    "            curr = curr.next\n",
    "        return False\n",
    "    \n",
    "    # for testing and nice representation\n",
    "    def __str__(self):\n",
    "        res = \"\"\n",
    "        curr = self.head\n",
    "        while curr is not None:\n",
    "            res += str(curr.val) + \"->\"\n",
    "            curr = curr.next\n",
    "        return res\n",
    "        \n",
    "    \n",
    "ll = LinkedList()\n",
    "print(ll)\n",
    "print(ll.insert(0,0))\n",
    "print(ll)\n",
    "print(ll.insert(1,1))\n",
    "print(ll)\n",
    "print(ll.insert(2,1))\n",
    "print(ll)\n",
    "print(ll.remove(2))\n",
    "print(ll)\n",
    "print(ll.search(2))\n",
    "print(ll.remove(0))\n",
    "print(ll)\n",
    "print(ll.search(0))\n",
    "print(ll.remove(0))\n",
    "print(ll.remove(0))"
   ]
  },
  {
   "cell_type": "markdown",
   "metadata": {},
   "source": [
    "All of these operations (`insert`,`remove`,`search`) take \\\\(O(n)\\\\) which is usually not optimal. There are numerous versions of linked lists e.g. doubly linked list which has nodes that point both to the previous and next nodes. Linked lists are often used to implement other data structures such as queues."
   ]
  },
  {
   "cell_type": "markdown",
   "metadata": {},
   "source": [
    "## Queue\n",
    "\n",
    "Ques are similair to stacks but utilize the **FIFO** (first in, first out) rule. Basic ques support `enque` and `deque` operations. A linked list implementation would be:"
   ]
  },
  {
   "cell_type": "code",
   "execution_count": 48,
   "metadata": {},
   "outputs": [
    {
     "name": "stdout",
     "output_type": "stream",
     "text": [
      "\n",
      "1->2->3->\n",
      "1\n",
      "2->3->\n",
      "2\n",
      "3->\n",
      "3\n",
      "\n",
      "None\n"
     ]
    }
   ],
   "source": [
    "class Node:\n",
    "    def __init__(self, item):\n",
    "        self.item = item\n",
    "        self.next = None\n",
    "        self.previous = None\n",
    "\n",
    "\n",
    "class Queue:\n",
    "    def __init__(self):\n",
    "        self.length = 0\n",
    "        self.head = None\n",
    "        self.tail = None\n",
    "\n",
    "    def enqueue(self, x):\n",
    "        newNode = Node(x)\n",
    "        if self.head == None:\n",
    "            self.head = self.tail = newNode\n",
    "        else:\n",
    "            self.tail.next = newNode\n",
    "            newNode.previous = self.tail\n",
    "            self.tail = newNode\n",
    "        self.length += 1\n",
    "\n",
    "\n",
    "    def dequeue(self):\n",
    "        if not self.length:\n",
    "            return None\n",
    "        item = self.head.item\n",
    "        self.head = self.head.next \n",
    "        self.length -= 1\n",
    "        if self.length == 0:\n",
    "            self.tail = None\n",
    "        return item\n",
    "    \n",
    "    def __str__(self):\n",
    "        res = \"\"\n",
    "        curr = self.head\n",
    "        while curr is not None:\n",
    "            res += str(curr.item) + \"->\"\n",
    "            curr = curr.next\n",
    "        return res\n",
    "\n",
    "queue = Queue()\n",
    "print(queue)\n",
    "queue.enqueue(1)\n",
    "queue.enqueue(2)\n",
    "queue.enqueue(3)\n",
    "print(queue)\n",
    "print(queue.dequeue())\n",
    "print(queue)\n",
    "print(queue.dequeue())\n",
    "print(queue)\n",
    "print(queue.dequeue())\n",
    "print(queue)\n",
    "print(queue.dequeue())"
   ]
  },
  {
   "cell_type": "markdown",
   "metadata": {},
   "source": [
    "With this implementation `enuqueue` and `dequeue` are \\\\(O(1)\\\\). Queues are used in numerous problems, such as graph traversals (BFS). "
   ]
  },
  {
   "cell_type": "markdown",
   "metadata": {},
   "source": [
    "## Binary search tree (BST)\n",
    "\n",
    "*Binary tree* is another node-based structure also recursive in nature. The tree consists of a *root* which points to at most two children which are also binary trees. *Binary search trees* are a type of binary trees which have the property that the key of the left child is no greater than the root key. Right child's key is greater than the root key. An example binary search tree is as follows:\n",
    "\n",
    "```{figure} algo_images/BST.png\n",
    ":width: 80%\n",
    "```\n",
    "\n",
    "An example implementation for BST with integers is as follows:"
   ]
  },
  {
   "cell_type": "code",
   "execution_count": null,
   "metadata": {},
   "outputs": [],
   "source": [
    "# implemented as a set, will not containg duplicates\n",
    "def BST:\n",
    "    def __init__(self,val=None):\n",
    "        self.val = val\n",
    "        self.left = None\n",
    "        self.right = None\n",
    "        \n",
    "    # true if the insert changes the BST    \n",
    "    def insert(self,x):\n",
    "        if self.val is None:\n",
    "            self.val = x\n",
    "            return True\n",
    "        # already in the set\n",
    "        elif self.val == x:\n",
    "            return False\n",
    "        elif self.val > x:\n",
    "            if self.left is None:\n",
    "                self.left = BST(x)\n",
    "                return True\n",
    "            else:\n",
    "                return self.left.insert(x)\n",
    "        else:\n",
    "            if self.right is None:\n",
    "                self.right = BST(x)\n",
    "                return True\n",
    "            else:\n",
    "                return self.right.insert(x)\n",
    "            \n",
    "    # seach for x in BST\n",
    "    def search(self,x):\n",
    "        if self.val is None:\n",
    "            return False\n",
    "        elif self.val == x:\n",
    "            return True\n",
    "        elif self.val > x:\n",
    "            if self.left is None:\n",
    "                return False\n",
    "            else:\n",
    "                return self.left.search(x)\n",
    "        else:\n",
    "            if self.right is None:\n",
    "                return False\n",
    "            else:\n",
    "                return self.right.search(x)            "
   ]
  },
  {
   "cell_type": "markdown",
   "metadata": {},
   "source": [
    "Node removal is a bit more involved and will be a subject of an exercise. All basic operations can be done in \\\\(O(log(n))\\\\). BST can be used to speed up many problems that require repetitive searching of the data. Consider the following problem:\n",
    "\n",
    "**Numbers smaller than the given number in an array** You are given an array of integers. You should provide a data structure which should return the number of elements smaller than any chosen element in the array.\n",
    "\n",
    "We will solve the question by constructing a BST out of the array that will store the the number of nodes to the left of the node (its rank):"
   ]
  },
  {
   "cell_type": "code",
   "execution_count": 50,
   "metadata": {},
   "outputs": [
    {
     "name": "stdout",
     "output_type": "stream",
     "text": [
      "3\n",
      "8\n",
      "-1\n"
     ]
    }
   ],
   "source": [
    "class newNode:\n",
    "    def __init__(self, data):\n",
    "        self.data = data \n",
    "        self.left = self.right = None\n",
    "        self.leftSize = 0\n",
    "        \n",
    "# Inserting a new Node. \n",
    "def insert(root, data):\n",
    "    if root is None: \n",
    "        return newNode(data) \n",
    " \n",
    "    # Updating size of left subtree. \n",
    "    if data <= root.data: \n",
    "        root.left = insert(root.left, data) \n",
    "        root.leftSize += 1\n",
    "    else:\n",
    "        root.right = insert(root.right, data)\n",
    "    return root\n",
    " \n",
    "# Function to get Rank of a Node x. \n",
    "def getRank(root, x):\n",
    "     \n",
    "   \n",
    "    if root.data == x:\n",
    "        return root.leftSize \n",
    " \n",
    "\n",
    "    if x < root.data: \n",
    "        if root.left is None: \n",
    "            return -1\n",
    "        else:\n",
    "            return getRank(root.left, x)\n",
    " \n",
    "\n",
    "    else: \n",
    "        if root.right is None: \n",
    "            return -1\n",
    "        else: \n",
    "            rightSize = getRank(root.right, x)\n",
    "            if rightSize == -1:\n",
    "                # x not found in right sub tree, i.e. not found in stream\n",
    "                return -1\n",
    "            else:\n",
    "                return root.leftSize + 1 + rightSize\n",
    " \n",
    "arr = [5, 1, 4, 4, 5, 9, 7, 13, 3] \n",
    "root = None\n",
    "for i in range(len(arr)):\n",
    "    root = insert(root, arr[i])\n",
    "    \n",
    "print(getRank(root, 4))\n",
    "print(getRank(root, 13))\n",
    "print(getRank(root, 8))"
   ]
  },
  {
   "cell_type": "markdown",
   "metadata": {},
   "source": [
    "This algorith will work in \\\\(O(log(n))\\\\) time on average. However, of the array was initially sorted the formed tree will be degenerate (it will basically form a linked list). We will learn how to solve such cases in AVL trees."
   ]
  },
  {
   "cell_type": "markdown",
   "metadata": {},
   "source": [
    "## Heap\n",
    "\n",
    "*Heaps* (especially *binary heaps*) are tree like structures that have two properties:\n",
    "\n",
    "1) They are a complete tree (all levels of the tree are completly filled except possibly the last level).\n",
    "2) It is either a min heap or a max heap. In the first case root is smaller or equal to its children. The oppositie is true for the max heap.\n",
    "\n",
    "Let us implement a min heap storing integers. It will support taking the top element (which is the minimum) as well as inserting new elements. Interestingly, we will implement it using a Python list. It is an important fact to spot that a parent of an element at index `i` is at index `i//2`."
   ]
  },
  {
   "cell_type": "code",
   "execution_count": 65,
   "metadata": {},
   "outputs": [
    {
     "name": "stdout",
     "output_type": "stream",
     "text": [
      "[1, 2, 2, 5, 3, 3, 4, 6, 6, 8, 7, 3, 8]\n",
      "[1, 2, 2, 3, 3, 3, 4, 5, 6, 6, 7, 8, 8]\n"
     ]
    }
   ],
   "source": [
    "# utility functions\n",
    "def swap(arr, x, y):\n",
    "    temp = arr[x]\n",
    "    arr[x] = arr[y]\n",
    "    arr[y] = temp\n",
    "    \n",
    "class MinHeap:\n",
    "    def __init__(self):\n",
    "        self.contents = []\n",
    "        self.size = 0\n",
    "        \n",
    "    # utility function    \n",
    "    def heapifyUp(self, i):\n",
    "        while i // 2 > 0:\n",
    "            if self.contents[i-1] < self.contents[i // 2 - 1]:\n",
    "                swap(self.contents,  i-1, i // 2 - 1)\n",
    "            i //= 2\n",
    "    \n",
    "    def insert(self,val):\n",
    "        self.size += 1\n",
    "        self.contents.append(val)\n",
    "        self.heapifyUp(self.size)\n",
    "        \n",
    "    def heapifyDown(self,i):\n",
    "        while (2 * i + 1) < self.size:\n",
    "            mc = self.minChild(i)\n",
    "            if self.contents[i] > self.contents[mc]:\n",
    "                swap(self.contents, i, mc)\n",
    "            i = mc\n",
    "            \n",
    "    def minChild(self, i):\n",
    "        if 2 * i + 2 >= self.size:\n",
    "            return 2 * i + 1\n",
    "        else:\n",
    "            if self.contents[2 * i + 1] < self.contents[2 * i + 2]:\n",
    "                return 2 * i + 1\n",
    "            else:\n",
    "                return 2 * i + 2\n",
    "        \n",
    "    def getMin(self):\n",
    "        assert self.size > 0\n",
    "        self.size -= 1\n",
    "        res = self.contents[0]\n",
    "        swap(self.contents,0, self.size)\n",
    "        self.contents.pop()\n",
    "        self.heapifyDown(0)\n",
    "        return res\n",
    "        \n",
    "#Heapsort -  a O(nlog(n)) sorting algorithm.\n",
    "\n",
    "arr = [1,3,2,6,8,3,4,5,6,7,2,3,8]\n",
    "heap = MinHeap()\n",
    "\n",
    "for j in range(len(arr)):\n",
    "    heap.insert(arr[j])\n",
    "\n",
    "print(heap.contents)   \n",
    "arr = []\n",
    "while heap.size:\n",
    "    arr.append(heap.getMin())\n",
    "print(arr)    "
   ]
  },
  {
   "cell_type": "markdown",
   "metadata": {},
   "source": [
    "Heaps have many, many uses. One of such is HeapSort - a \\\\(O(nlog(n))\\\\) sorting algorithm (see above). Heaps are also used in *priority queues* - queues which have the elements sorted by some *priority* such as objects sorted by their value. "
   ]
  },
  {
   "cell_type": "markdown",
   "metadata": {},
   "source": [
    "## AVL Trees"
   ]
  },
  {
   "cell_type": "markdown",
   "metadata": {},
   "source": [
    "## Tries"
   ]
  },
  {
   "cell_type": "markdown",
   "metadata": {},
   "source": [
    "## Hash Tables"
   ]
  },
  {
   "cell_type": "markdown",
   "metadata": {},
   "source": [
    "https://www.geeksforgeeks.org/rank-element-stream/\n",
    "https://runestone.academy/runestone/books/published/pythonds/Trees/BinaryHeapImplementation.html"
   ]
  }
 ],
 "metadata": {
  "kernelspec": {
   "display_name": "Python 3",
   "language": "python",
   "name": "python3"
  },
  "language_info": {
   "codemirror_mode": {
    "name": "ipython",
    "version": 3
   },
   "file_extension": ".py",
   "mimetype": "text/x-python",
   "name": "python",
   "nbconvert_exporter": "python",
   "pygments_lexer": "ipython3",
   "version": "3.7.4"
  }
 },
 "nbformat": 4,
 "nbformat_minor": 4
}
