{
 "cells": [
  {
   "cell_type": "markdown",
   "metadata": {},
   "source": [
    "(Recursion)=\n",
    "# Recursion\n",
    "``` {index} Recursion\n",
    "```\n",
    " \n",
    "*Recursion* is a method of solving Computer Science problems by considering smaller instances of the same problem. Recursive solutions are usually implemented with functions that call themselves. Consider the example of the factorial function:"
   ]
  },
  {
   "cell_type": "code",
   "execution_count": 20,
   "metadata": {},
   "outputs": [
    {
     "name": "stdout",
     "output_type": "stream",
     "text": [
      "1\n",
      "120\n"
     ]
    }
   ],
   "source": [
    "def fact(n):\n",
    "    assert n >=0\n",
    "\n",
    "    if n == 0:\n",
    "        return 1\n",
    "    elif n == 1:\n",
    "        return 1\n",
    "    else:\n",
    "        return n*fact(n-1)\n",
    "          \n",
    "print(fact(1))\n",
    "print(fact(5))"
   ]
  },
  {
   "cell_type": "markdown",
   "metadata": {},
   "source": [
    "Usually, a recursively defined function has two basic building blocks:\n",
    "\n",
    "1) Base case (cases): Which are used for specific (finite) subsets of possible inputs. In the example, this will be when $n=0$ or $n=1$. In these cases, the function should not refer to itself.\n",
    "\n",
    "2) Recursive case (cases): This case builds on the *smaller* version of the same problem. In this case, we are decrementing the value of $n$ before calling the function again.\n",
    "\n",
    "The broad idea that recursive cases should assure that the function reaches one of the base cases."
   ]
  },
  {
   "cell_type": "markdown",
   "metadata": {},
   "source": [
    "## Famous examples\n",
    "\n",
    "* **Greatest common divisor** Probably the most well known recursive algorithm developed by Euclid:"
   ]
  },
  {
   "cell_type": "code",
   "execution_count": 5,
   "metadata": {},
   "outputs": [
    {
     "name": "stdout",
     "output_type": "stream",
     "text": [
      "1\n",
      "3\n"
     ]
    }
   ],
   "source": [
    "def gcd(a,b):\n",
    "    if b == 0:#base case\n",
    "        return a\n",
    "    else: #recursive case\n",
    "        return gcd(b,a%b)\n",
    "        \n",
    "print(gcd(1,9))\n",
    "print(gcd(15,12))"
   ]
  },
  {
   "cell_type": "markdown",
   "metadata": {},
   "source": [
    "______________\n",
    "* **Fibonacci Sequence** To compute the $n$-th term of the Fibonacci, we can utilise one of its definitions as in the code below: "
   ]
  },
  {
   "cell_type": "code",
   "execution_count": 7,
   "metadata": {},
   "outputs": [
    {
     "name": "stdout",
     "output_type": "stream",
     "text": [
      "1\n",
      "89\n"
     ]
    }
   ],
   "source": [
    "def fib(n):\n",
    "    assert n >=0\n",
    "    \n",
    "    if n == 0: #Base case\n",
    "        return 1\n",
    "    elif n == 1: #Base case\n",
    "        return 1\n",
    "    else: #Inductive case\n",
    "        return fib(n-2)+fib(n-1)\n",
    "    \n",
    "    \n",
    "print(fib(1))\n",
    "print(fib(10))"
   ]
  },
  {
   "cell_type": "markdown",
   "metadata": {},
   "source": [
    "**REMARK**: This is a very inefficient solution. As you can spot, each `fib` call leads to two `fib` calls (unless it reaches a base case). This solution is of $O(2^n)$, which is very slow. We can use [Dynamic Programming](LINK) to speed it up."
   ]
  },
  {
   "cell_type": "markdown",
   "metadata": {},
   "source": [
    "-------------------\n",
    "* **Towers of Hanoi** In this problem, we have three rods and some disks of different sizes. Our aim is to move all disks from one rod to another using the third rod. The following rules apply:\n",
    "\n",
    "1) Only one disk can be moved at a time.\n",
    "\n",
    "2) Each move consists of taking the upper disk from one of the stacks and placing in on the other.\n",
    "\n",
    "3) No larger disk may be placed on top of a smaller disk.\n",
    "\n",
    "<img src=\"https://upload.wikimedia.org/wikipedia/commons/8/8d/Iterative_algorithm_solving_a_6_disks_Tower_of_Hanoi.gif\" width=\"70%\">\n",
    "\n",
    "Source: [Wikimedia Commons](https://upload.wikimedia.org/wikipedia/commons/8/8d/Iterative_algorithm_solving_a_6_disks_Tower_of_Hanoi.gif)\n",
    "\n",
    "The solution is likely one of the most beautiful recursive procedures:\n",
    "\n",
    "We are starting with $n$ disks on the **source** rod and want to move them to the **target** rod, with the help of the **spare** rod. The procedure is as follows:\n",
    "\n",
    "Base Case:\n",
    "\n",
    "1) There are zero disks, do nothing.\n",
    "\n",
    "Recursive case:\n",
    "\n",
    "1) Move $n-1$ disks from the **source** the the **spare** by the *main solving procedure*. This leaves disk $n$ on top of the **source** rod. \n",
    "\n",
    "2) Move the $n$ disk from the **source** to the **target**.\n",
    "\n",
    "3) Move $n-1$ disks from **spare** to the **source** by the *main solving procedure*.\n",
    "\n",
    "The code is as follows:"
   ]
  },
  {
   "cell_type": "code",
   "execution_count": 10,
   "metadata": {},
   "outputs": [
    {
     "name": "stdout",
     "output_type": "stream",
     "text": [
      "[4, 3, 2]\n",
      "[1]\n",
      "[]\n",
      "______________\n",
      "[4, 3]\n",
      "[1]\n",
      "[2]\n",
      "______________\n",
      "[4, 3]\n",
      "[]\n",
      "[2, 1]\n",
      "______________\n",
      "[4]\n",
      "[3]\n",
      "[2, 1]\n",
      "______________\n",
      "[4, 1]\n",
      "[3]\n",
      "[2]\n",
      "______________\n",
      "[4, 1]\n",
      "[3, 2]\n",
      "[]\n",
      "______________\n",
      "[4]\n",
      "[3, 2, 1]\n",
      "[]\n",
      "______________\n",
      "[]\n",
      "[3, 2, 1]\n",
      "[4]\n",
      "______________\n",
      "[]\n",
      "[3, 2]\n",
      "[4, 1]\n",
      "______________\n",
      "[2]\n",
      "[3]\n",
      "[4, 1]\n",
      "______________\n",
      "[2, 1]\n",
      "[3]\n",
      "[4]\n",
      "______________\n",
      "[2, 1]\n",
      "[]\n",
      "[4, 3]\n",
      "______________\n",
      "[2]\n",
      "[1]\n",
      "[4, 3]\n",
      "______________\n",
      "[]\n",
      "[1]\n",
      "[4, 3, 2]\n",
      "______________\n",
      "[]\n",
      "[]\n",
      "[4, 3, 2, 1]\n",
      "______________\n"
     ]
    }
   ],
   "source": [
    "def hanoi(n, source, target,spare):\n",
    "    assert n >= 0\n",
    "    if n > 0: \n",
    "        \n",
    "        #(1)\n",
    "        hanoi(n-1,source, spare, target)\n",
    "        #(2)\n",
    "        target.append(source.pop())\n",
    "        \n",
    "        print(A, B, C, '______________', sep='\\n')\n",
    "        #(3)\n",
    "        hanoi(n-1,spare,target,source)\n",
    "    \n",
    "A = [4,3, 2, 1]\n",
    "B = []\n",
    "C = []\n",
    "\n",
    "hanoi(4, A, C, B)"
   ]
  },
  {
   "cell_type": "markdown",
   "metadata": {},
   "source": [
    "## Recursive Data Structures\n",
    "\n",
    "Apart from the algorithms themselves, we can structure (or interpret) our data in a recursive way. Any time we can reduce an instance of the data structure to the same but somehow smaller, we can talk about a *recursively defined data structures*. It turns out that many structures can be defined this way:\n",
    "\n",
    "* **Lists** can be thought of as a single element (*head*) followed by a tail (*again a list*). The base case is an empty list."
   ]
  },
  {
   "cell_type": "code",
   "execution_count": 18,
   "metadata": {},
   "outputs": [
    {
     "name": "stdout",
     "output_type": "stream",
     "text": [
      "(3:(2:(1:[])))\n"
     ]
    }
   ],
   "source": [
    "import copy\n",
    "class RecList:\n",
    "    def __init__(self):\n",
    "        self.head = None\n",
    "        self.tail = None\n",
    "        \n",
    "    def add(self,elem):\n",
    "        self.tail = copy.deepcopy(self)\n",
    "        self.head = elem\n",
    "        \n",
    "    def __str__(self):\n",
    "        if self.tail is None:\n",
    "            return \"[]\"\n",
    "            \n",
    "        else:\n",
    "            return \"(\" + str(self.head) + \":\" + str(self.tail) + \")\"\n",
    "        \n",
    "        \n",
    "l = RecList()\n",
    "l.add(1)\n",
    "l.add(2)\n",
    "l.add(3)\n",
    "print(l)"
   ]
  },
  {
   "cell_type": "markdown",
   "metadata": {},
   "source": [
    "Where the `copy.deepcopy` returns a copy of the list. When defined this way, the list consists of a leading element and a list one-smaller than the parent list.\n",
    "\n",
    "We can now use this definition to sum up the elements of an integer list (with standard Python list implementation):"
   ]
  },
  {
   "cell_type": "code",
   "execution_count": 19,
   "metadata": {},
   "outputs": [
    {
     "data": {
      "text/plain": [
       "45"
      ]
     },
     "execution_count": 19,
     "metadata": {},
     "output_type": "execute_result"
    }
   ],
   "source": [
    "def array_sum(x):\n",
    "    if x == []:\n",
    "        return 0\n",
    "    else:\n",
    "        return x[0] + array_sum(x[1:])\n",
    "    \n",
    "array_sum([1,2,3,4,5,6,7,8,9])"
   ]
  },
  {
   "cell_type": "markdown",
   "metadata": {},
   "source": [
    "-------------\n",
    "* **Binary Trees** are types of graphs that do not have cycles and each node has at most two children and exactly one parent. They are self-similar as both of the subtrees of such binary tree are also trees. This is a characteristic feature of recursive data structures.\n",
    "\n",
    "```{figure} algo_images/BinaryTree.png\n",
    ":width: 80%\n",
    "```"
   ]
  },
  {
   "cell_type": "markdown",
   "metadata": {},
   "source": [
    "(recursion_exercises)=\n",
    "## Exercises\n",
    "* **Length of an array** Based on the `array_sum` function, define a recursive function which counts the number of elements in an array."
   ]
  },
  {
   "cell_type": "markdown",
   "metadata": {},
   "source": [
    "````{admonition} Answer\n",
    ":class: dropdown\n",
    "```python\n",
    "def array_len(a):\n",
    "    if a == []:\n",
    "        return 0\n",
    "    else:\n",
    "        return 1 + array_len(a[1:])     \n",
    "```\n",
    " \n",
    "````"
   ]
  },
  {
   "cell_type": "markdown",
   "metadata": {},
   "source": [
    "------------------\n",
    "* **Babylonian Square Roots** A method to find an approximation of a square root of a number $S$ is to pick a guess $x_0$ and iteratively improve the guess by applying the formula $x_1 = (x_0 + S/x_0)$. In the limit, this will give a square root. Unfortunately, we do not have time for an infinite number of operations, so return $x_1$ when the condition is satisfied:\n",
    "\n",
    "\n",
    "$$\\frac{|x_1-x_0|}{x_1} < 0.01$$\n"
   ]
  },
  {
   "cell_type": "markdown",
   "metadata": {},
   "source": [
    "\n",
    "````{admonition} Answer\n",
    ":class: dropdown\n",
    "```python\n",
    "def babSqrtHelper(S, x_0, x_1):\n",
    "    if abs(x_1-x_0)/x_1 < 0.01:\n",
    "        return x_1\n",
    "    else:\n",
    "        return babSqrtHelper(S,x_1,(x_1+S/x_1)/2)\n",
    "\n",
    "def babSqrt(S):\n",
    "    x_0 = S\n",
    "    x_1 = (x_0 + S/x_0)/2\n",
    "    return babSqrtHelper(S, x_0, x_1)\n",
    "\n",
    "print(babSqrt(1))\n",
    "print(babSqrt(2))\n",
    "print(babSqrt(3))\n",
    "print(babSqrt(4))    \n",
    "```\n",
    " \n",
    "````"
   ]
  },
  {
   "cell_type": "markdown",
   "metadata": {},
   "source": [
    "--------------\n",
    "* **Design** a `BinaryTree` data structure. Each node should have a left and right child fields as well as a value inside the node. Define also two other methods:\n",
    "\n",
    "1) Insert: inserts value into the tree if the element is greater than its parent it goes to the right subtree if smaller - to the left one. Finally, if the element is already in the tree, do not add it and inform the user about it.\n",
    "\n",
    "2) Search: search if the element is in the list."
   ]
  },
  {
   "cell_type": "markdown",
   "metadata": {},
   "source": [
    "````{admonition} Answer\n",
    ":class: dropdown\n",
    "```python\n",
    "class BinaryTree:\n",
    "    def __init__(self):\n",
    "        self.left = None\n",
    "        self.right = None\n",
    "        self.val = None\n",
    "\n",
    "    def insert(self,val):\n",
    "        if self.val is None:\n",
    "            self.val = val\n",
    "        elif self.val == val:\n",
    "            print(\"Value already in the tree!\")\n",
    "        elif self.val < val:\n",
    "            if self.right is None:\n",
    "                self.right = BinaryTree()\n",
    "            self.right.insert(val)\n",
    "        else:\n",
    "            if self.left is None:\n",
    "                self.left = BinaryTree()\n",
    "            self.left.insert(val)\n",
    "\n",
    "\n",
    "    def search(self,val):\n",
    "        if self.val is None:\n",
    "            return False\n",
    "        elif self.val < val:\n",
    "            if self.right is None:\n",
    "                return False\n",
    "            return self.right.search(val)\n",
    "        elif self.val > val:\n",
    "            if self.left is None:\n",
    "                return False\n",
    "            return self.left.search(val)\n",
    "        else:\n",
    "            return True\n",
    "            \n",
    "        \n",
    "root = BinaryTree()\n",
    "root.insert(1)\n",
    "root.insert(2)  \n",
    "root.insert(3) \n",
    "print(root.search(1))  \n",
    "print(root.search(0))   \n",
    "             \n",
    "```\n",
    " \n",
    "````\n"
   ]
  },
  {
   "cell_type": "markdown",
   "metadata": {},
   "source": [
    "## References\n",
    "* Sebastian Raschka, GitHub, [Algorithms in IPython Notebooks]( https://github.com/rasbt/algorithms_in_ipython_notebooks)\n",
    "* Cormen, Leiserson, Rivest, Stein, \"Introduction to Algorithms\", Third Edition, MIT Press, 2009"
   ]
  }
 ],
 "metadata": {
  "celltoolbar": "Tags",
  "kernelspec": {
   "display_name": "Python 3 (ipykernel)",
   "language": "python",
   "name": "python3"
  },
  "language_info": {
   "codemirror_mode": {
    "name": "ipython",
    "version": 3
   },
   "file_extension": ".py",
   "mimetype": "text/x-python",
   "name": "python",
   "nbconvert_exporter": "python",
   "pygments_lexer": "ipython3",
   "version": "3.9.8"
  }
 },
 "nbformat": 4,
 "nbformat_minor": 2
}
