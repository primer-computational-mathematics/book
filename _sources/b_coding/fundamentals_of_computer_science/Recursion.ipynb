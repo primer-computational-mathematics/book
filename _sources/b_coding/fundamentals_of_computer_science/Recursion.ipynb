{
 "cells": [
  {
   "cell_type": "markdown",
   "metadata": {},
   "source": [
    "(recursion)=\n",
    "# Recursion\n",
    " \n",
    "*Recursion* is a method of solving Computer Science problems by considering smaller instances of the same problem. Recursive solutions are usually implemented with functions that call themselves. Consider the example of the fatorial function:"
   ]
  },
  {
   "cell_type": "code",
   "execution_count": 3,
   "metadata": {},
   "outputs": [
    {
     "name": "stdout",
     "output_type": "stream",
     "text": [
      "1\n",
      "120\n"
     ]
    }
   ],
   "source": [
    "def fact(n):\n",
    "    assert n >=0\n",
    "\n",
    "    if n == 0:\n",
    "        return 1\n",
    "    elif n == 1:\n",
    "        return 1\n",
    "    else:\n",
    "        return n*fact(n-1)\n",
    "        \n",
    "  \n",
    "print(fact(1))\n",
    "print(fact(5))"
   ]
  },
  {
   "cell_type": "markdown",
   "metadata": {},
   "source": [
    "Usually, a recursively defined functions has two basic builidng blocks:\n",
    "\n",
    "1) Base case (cases): Which are used for specific (finite) subsets of possible inputs. In the example, this will be when \\\\(n=0\\\\) or \\\\(n=1\\\\). In these cases, the function should not refer to itself.\n",
    "\n",
    "2) Recursive case (cases): This case builds on the *smaller* version of the same problem. In this case we are decremeting the value of \\\\(n\\\\) befre calling the function again.\n",
    "\n",
    "The broad idea that recursive cases should assure that the function reaches one of the base cases."
   ]
  },
  {
   "cell_type": "markdown",
   "metadata": {},
   "source": [
    "## Famous examples\n",
    "\n",
    "* **Greatest common divisior** Probably the most well known recursive algorythm developed by Euclid:"
   ]
  },
  {
   "cell_type": "code",
   "execution_count": 5,
   "metadata": {},
   "outputs": [
    {
     "name": "stdout",
     "output_type": "stream",
     "text": [
      "1\n",
      "3\n"
     ]
    }
   ],
   "source": [
    "def gcd(a,b):\n",
    "    if b == 0:\n",
    "        return a\n",
    "    else:\n",
    "        return gcd(b,a%b)\n",
    "        \n",
    "print(gcd(1,9))\n",
    "print(gcd(15,12))"
   ]
  },
  {
   "cell_type": "code",
   "execution_count": null,
   "metadata": {},
   "outputs": [],
   "source": [
    "* ** "
   ]
  }
 ],
 "metadata": {
  "kernelspec": {
   "display_name": "Python 3",
   "language": "python",
   "name": "python3"
  },
  "language_info": {
   "codemirror_mode": {
    "name": "ipython",
    "version": 3
   },
   "file_extension": ".py",
   "mimetype": "text/x-python",
   "name": "python",
   "nbconvert_exporter": "python",
   "pygments_lexer": "ipython3",
   "version": "3.7.4"
  }
 },
 "nbformat": 4,
 "nbformat_minor": 2
}
