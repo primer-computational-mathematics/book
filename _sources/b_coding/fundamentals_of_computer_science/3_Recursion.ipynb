{
 "cells": [
  {
   "cell_type": "markdown",
   "metadata": {},
   "source": [
    "(recursion)=\n",
    "# Recursion\n",
    " \n",
    "*Recursion* is a method of solving Computer Science problems by considering smaller instances of the same problem. Recursive solutions are usually implemented with functions that call themselves. Consider the example of the fatorial function:"
   ]
  },
  {
   "cell_type": "code",
   "execution_count": 3,
   "metadata": {},
   "outputs": [
    {
     "name": "stdout",
     "output_type": "stream",
     "text": [
      "1\n",
      "120\n"
     ]
    }
   ],
   "source": [
    "def fact(n):\n",
    "    assert n >=0\n",
    "\n",
    "    if n == 0:\n",
    "        return 1\n",
    "    elif n == 1:\n",
    "        return 1\n",
    "    else:\n",
    "        return n*fact(n-1)\n",
    "        \n",
    "  \n",
    "print(fact(1))\n",
    "print(fact(5))"
   ]
  },
  {
   "cell_type": "markdown",
   "metadata": {},
   "source": [
    "Usually, a recursively defined functions has two basic builidng blocks:\n",
    "\n",
    "1) Base case (cases): Which are used for specific (finite) subsets of possible inputs. In the example, this will be when \\\\(n=0\\\\) or \\\\(n=1\\\\). In these cases, the function should not refer to itself.\n",
    "\n",
    "2) Recursive case (cases): This case builds on the *smaller* version of the same problem. In this case we are decremeting the value of \\\\(n\\\\) befre calling the function again.\n",
    "\n",
    "The broad idea that recursive cases should assure that the function reaches one of the base cases."
   ]
  },
  {
   "cell_type": "markdown",
   "metadata": {},
   "source": [
    "## Famous examples\n",
    "\n",
    "* **Greatest common divisior** Probably the most well known recursive algorythm developed by Euclid:"
   ]
  },
  {
   "cell_type": "code",
   "execution_count": 5,
   "metadata": {},
   "outputs": [
    {
     "name": "stdout",
     "output_type": "stream",
     "text": [
      "1\n",
      "3\n"
     ]
    }
   ],
   "source": [
    "def gcd(a,b):\n",
    "    if b == 0:#base case\n",
    "        return a\n",
    "    else: #recursive case\n",
    "        return gcd(b,a%b)\n",
    "        \n",
    "print(gcd(1,9))\n",
    "print(gcd(15,12))"
   ]
  },
  {
   "cell_type": "markdown",
   "metadata": {},
   "source": [
    "* **Fibonacci Sequence** To computhe the \\\\(nth\\\\) term of the Fibonacci, we can utilise on of its definitions as in the code below: "
   ]
  },
  {
   "cell_type": "code",
   "execution_count": 7,
   "metadata": {},
   "outputs": [
    {
     "name": "stdout",
     "output_type": "stream",
     "text": [
      "1\n",
      "89\n"
     ]
    }
   ],
   "source": [
    "def fib(n):\n",
    "    assert n >=0\n",
    "    \n",
    "    if n == 0: #Base case\n",
    "        return 1\n",
    "    elif n == 1: #Base case\n",
    "        return 1\n",
    "    else: #Inductive case\n",
    "        return fib(n-2)+fib(n-1)\n",
    "    \n",
    "    \n",
    "print(fib(1))\n",
    "print(fib(10))"
   ]
  },
  {
   "cell_type": "markdown",
   "metadata": {},
   "source": [
    "**REMARK**: This is a very inefficient solution to the problem. As you can spot, each `fib` call leads to two `fib` calls (unless it reaches a base case). This solution is of \\\\(O(2^n)\\\\), which is very slow. "
   ]
  },
  {
   "cell_type": "markdown",
   "metadata": {},
   "source": [
    "* **Towers of Hanoi** In this problem we are have three rods and a number of disks of different sizes. Our aim is to move all disks from one rod to another using the third rod. The following rules apply:\n",
    "\n",
    "1) Only one disk can be moved at a time.\n",
    "\n",
    "2) Each move consists of taking the upper disk from one of the stacks and placing in on the other.\n",
    "\n",
    "3) No larger disk may be placed on top of a smaller disk.\n",
    "\n",
    "<img src=\"https://upload.wikimedia.org/wikipedia/commons/8/8d/Iterative_algorithm_solving_a_6_disks_Tower_of_Hanoi.gif\" width=\"70%\">\n",
    "\n",
    "Source: [Wikimedia Commons](https://upload.wikimedia.org/wikipedia/commons/8/8d/Iterative_algorithm_solving_a_6_disks_Tower_of_Hanoi.gif)\n",
    "\n",
    "The solution is likely one of the most beutiful recursive procedures:\n",
    "\n",
    "We are starting with \\\\(n\\\\) disks on the **source** rod and want to move them to the **target** rod, with the help of the **spare** rod. The procedure is as follows:\n",
    "\n",
    "Base Case:\n",
    "\n",
    "\n",
    "\n",
    "Recursive case:\n",
    "\n",
    "1) Move \\\\(n-1\\\\) disks from the **source** the the **spare** by the *main solving procedure*. This leaves disk \\\\(n\\\\) on top of the **source** rod. \n",
    "\n",
    "2) Move the \\\\(n\\\\) disk from the **source** to the **target**.\n",
    "\n",
    "3) Move \\\\(n-1\\\\) disks from **spare** to the **source** by the *main sovling procedure*.\n",
    "\n",
    "The code is as follows:"
   ]
  },
  {
   "cell_type": "code",
   "execution_count": 10,
   "metadata": {},
   "outputs": [
    {
     "name": "stdout",
     "output_type": "stream",
     "text": [
      "[4, 3, 2]\n",
      "[1]\n",
      "[]\n",
      "______________\n",
      "[4, 3]\n",
      "[1]\n",
      "[2]\n",
      "______________\n",
      "[4, 3]\n",
      "[]\n",
      "[2, 1]\n",
      "______________\n",
      "[4]\n",
      "[3]\n",
      "[2, 1]\n",
      "______________\n",
      "[4, 1]\n",
      "[3]\n",
      "[2]\n",
      "______________\n",
      "[4, 1]\n",
      "[3, 2]\n",
      "[]\n",
      "______________\n",
      "[4]\n",
      "[3, 2, 1]\n",
      "[]\n",
      "______________\n",
      "[]\n",
      "[3, 2, 1]\n",
      "[4]\n",
      "______________\n",
      "[]\n",
      "[3, 2]\n",
      "[4, 1]\n",
      "______________\n",
      "[2]\n",
      "[3]\n",
      "[4, 1]\n",
      "______________\n",
      "[2, 1]\n",
      "[3]\n",
      "[4]\n",
      "______________\n",
      "[2, 1]\n",
      "[]\n",
      "[4, 3]\n",
      "______________\n",
      "[2]\n",
      "[1]\n",
      "[4, 3]\n",
      "______________\n",
      "[]\n",
      "[1]\n",
      "[4, 3, 2]\n",
      "______________\n",
      "[]\n",
      "[]\n",
      "[4, 3, 2, 1]\n",
      "______________\n"
     ]
    }
   ],
   "source": [
    "def hanoi(n, source, target,spare):\n",
    "    assert n >= 0\n",
    "    if n > 0: \n",
    "        \n",
    "        #(1)\n",
    "        hanoi(n-1,source, spare, target)\n",
    "        #(2)\n",
    "        target.append(source.pop())\n",
    "        \n",
    "        print(A, B, C, '______________', sep='\\n')\n",
    "        #(3)\n",
    "        hanoi(n-1,spare,target,source)\n",
    "    \n",
    "A = [4,3, 2, 1]\n",
    "B = []\n",
    "C = []\n",
    "\n",
    "hanoi(4, A, C, B)"
   ]
  },
  {
   "cell_type": "markdown",
   "metadata": {},
   "source": [
    "## Recursive Data Structures\n",
    "\n",
    "Apart from the algorytms themselves, we can structure (or interpret) our data in a recursive way. Any time we can reduce an instance of the data structure to the same but somehow smaller, we can talk about a *recursively defined datastructures*. It turns out that many structures can be defined this way:\n",
    "\n",
    "* **Lists** can be thought of as a single element (*head*) followed by a tail (*again a list*). Base case is an empty listy"
   ]
  },
  {
   "cell_type": "code",
   "execution_count": 18,
   "metadata": {},
   "outputs": [
    {
     "name": "stdout",
     "output_type": "stream",
     "text": [
      "(3:(2:(1:[])))\n"
     ]
    }
   ],
   "source": [
    "import copy\n",
    "class RecList:\n",
    "    def __init__(self):\n",
    "        self.head = None\n",
    "        self.tail = None\n",
    "        \n",
    "    def add(self,elem):\n",
    "        self.tail = copy.deepcopy(self)\n",
    "        self.head = elem\n",
    "        \n",
    "    def __str__(self):\n",
    "        if self.tail is None:\n",
    "            return \"[]\"\n",
    "            \n",
    "        else:\n",
    "            return \"(\" + str(self.head) + \":\" + str(self.tail) + \")\"\n",
    "        \n",
    "        \n",
    "l = RecList()\n",
    "l.add(1)\n",
    "l.add(2)\n",
    "l.add(3)\n",
    "print(l)"
   ]
  },
  {
   "cell_type": "markdown",
   "metadata": {},
   "source": [
    "Where the `copy.deepcopy` returns a copy of the list. When defined this way, the list constist of a leading element and a list one-smaller than the parent list.\n",
    "\n",
    "We can now use this definition to sum up the elements of an integer list (with standard Python list interpertation):"
   ]
  },
  {
   "cell_type": "code",
   "execution_count": 19,
   "metadata": {},
   "outputs": [
    {
     "data": {
      "text/plain": [
       "45"
      ]
     },
     "execution_count": 19,
     "metadata": {},
     "output_type": "execute_result"
    }
   ],
   "source": [
    "def array_sum(x):\n",
    "    if x == []:\n",
    "        return 0\n",
    "    else:\n",
    "        return x[0] + array_sum(x[1:])\n",
    "    \n",
    "array_sum([1,2,3,4,5,6,7,8,9])"
   ]
  },
  {
   "cell_type": "markdown",
   "metadata": {},
   "source": [
    "* **Binary Trees**"
   ]
  }
 ],
 "metadata": {
  "kernelspec": {
   "display_name": "Python 3",
   "language": "python",
   "name": "python3"
  },
  "language_info": {
   "codemirror_mode": {
    "name": "ipython",
    "version": 3
   },
   "file_extension": ".py",
   "mimetype": "text/x-python",
   "name": "python",
   "nbconvert_exporter": "python",
   "pygments_lexer": "ipython3",
   "version": "3.7.4"
  }
 },
 "nbformat": 4,
 "nbformat_minor": 2
}
