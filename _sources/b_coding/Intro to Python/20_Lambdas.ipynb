{
 "cells": [
  {
   "cell_type": "markdown",
   "metadata": {},
   "source": [
    "(lambdas)=\n",
    "# Lambdas\n",
    "``` {index} Lambdas\n",
    "```\n",
    "Lambdas are a way of defining small anonymous functions in Python. The name stems from functional programming. Anonymous means that these functions do not have a name. These functions can be treated as variables in a sense."
   ]
  },
  {
   "cell_type": "code",
   "execution_count": 3,
   "metadata": {},
   "outputs": [
    {
     "name": "stdout",
     "output_type": "stream",
     "text": [
      "100\n",
      "10000\n"
     ]
    }
   ],
   "source": [
    "# f will now refer to a function\n",
    "f = lambda q: q * 10\n",
    "print(f(10))\n",
    "# applied multiple times\n",
    "print(f(f(f(10))))"
   ]
  },
  {
   "cell_type": "markdown",
   "metadata": {},
   "source": [
    "Lambdas can have multiple arguments which also can be lambdas:"
   ]
  },
  {
   "cell_type": "code",
   "execution_count": 5,
   "metadata": {},
   "outputs": [
    {
     "data": {
      "text/plain": [
       "110"
      ]
     },
     "execution_count": 5,
     "metadata": {},
     "output_type": "execute_result"
    }
   ],
   "source": [
    "g = lambda a, d: d(a) + 10\n",
    "\n",
    "g(10,f)"
   ]
  },
  {
   "cell_type": "markdown",
   "metadata": {},
   "source": [
    "We can use lambdas in the `sort` method for arrays. This is especially useful if we want to sort by some different property of the elements. Imagine you have an array of tuples and you want to sort by their sum. If some elements are equal in this property, the order in which they appeared in the initial array will be preserved:"
   ]
  },
  {
   "cell_type": "code",
   "execution_count": 10,
   "metadata": {},
   "outputs": [
    {
     "name": "stdout",
     "output_type": "stream",
     "text": [
      "[(2, 1), (1, 2), (2, 5), (3, 9), (12, 7)]\n"
     ]
    }
   ],
   "source": [
    "tuples = [(2,1), (1,2), (3,9), (2,5), (12,7)]\n",
    "tuples.sort(key = lambda a: a[0]+a[1])\n",
    "print(tuples)"
   ]
  },
  {
   "cell_type": "markdown",
   "metadata": {},
   "source": [
    "Lambdas are usually small functions. Longer lambdas can make code unreadable."
   ]
  },
  {
   "cell_type": "markdown",
   "metadata": {},
   "source": [
    "(lambdas_exercises)=\n",
    "## Exercises\n",
    "* **Define** the following lambdas:\n",
    "\n",
    "1) \\\\(f(x) = x + 7\\\\)\n",
    "2) \\\\(f(x,y) = x * y + 8\\\\)\n",
    "3) \\\\(f(x,g) = 4 + g(x)\\\\)"
   ]
  },
  {
   "cell_type": "markdown",
   "metadata": {},
   "source": [
    "````{admonition} Answer\n",
    ":class: dropdown\n",
    "\n",
    "```python\n",
    "# 1)\n",
    "f = lambda x : x + 7  \n",
    "# 2)\n",
    "f = lambda x,y: x * y + 8\n",
    "# 3)\n",
    "f = lambda x, y: 4 + g(x)\n",
    "```\n",
    "\n",
    "````"
   ]
  },
  {
   "cell_type": "markdown",
   "metadata": {},
   "source": [
    "________________\n",
    "\n",
    "* **Sort** a list of tuples by the second element in non-increasing order."
   ]
  },
  {
   "cell_type": "markdown",
   "metadata": {},
   "source": [
    "````{admonition} Answer\n",
    ":class: dropdown\n",
    "\n",
    "```python\n",
    "tuples = [(1,2),(3,4),(5,3), (0,4), (2,7)]\n",
    "tuples.sort(key = lambda a : -a[1])\n",
    "```\n",
    "\n",
    "````"
   ]
  }
 ],
 "metadata": {
  "kernelspec": {
   "display_name": "Python 3",
   "language": "python",
   "name": "python3"
  },
  "language_info": {
   "codemirror_mode": {
    "name": "ipython",
    "version": 3
   },
   "file_extension": ".py",
   "mimetype": "text/x-python",
   "name": "python",
   "nbconvert_exporter": "python",
   "pygments_lexer": "ipython3",
   "version": "3.7.4"
  }
 },
 "nbformat": 4,
 "nbformat_minor": 4
}
