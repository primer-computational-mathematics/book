{
 "cells": [
  {
   "cell_type": "markdown",
   "metadata": {},
   "source": [
    "(importing)=\n",
    "# Importing in Python\n",
    "``` {index} Importing modules (python)\n",
    "```\n",
    "Python's growing popularity over the years has inevitably lead to the development of thousands of excellent libraries and python-based frameworks. This section will cover the basics of importing them, but also cover how to import your own classes, functions and much more.\n",
    "\n",
    "Often we will want to import many functions and objects from a certain module, so we would simply import the entire module: "
   ]
  },
  {
   "cell_type": "code",
   "execution_count": 1,
   "metadata": {},
   "outputs": [
    {
     "name": "stdout",
     "output_type": "stream",
     "text": [
      "0.0\n"
     ]
    }
   ],
   "source": [
    "import math\n",
    "\n",
    "print(math.sin(0))"
   ]
  },
  {
   "cell_type": "markdown",
   "metadata": {},
   "source": [
    "Importing the whole math module allows us to use everything inside it, such as the `sin` function. However, if we only need the `sin` function from the math module, it is good practice to import only that."
   ]
  },
  {
   "cell_type": "code",
   "execution_count": 2,
   "metadata": {},
   "outputs": [
    {
     "name": "stdout",
     "output_type": "stream",
     "text": [
      "0.0\n"
     ]
    }
   ],
   "source": [
    "from math import sin\n",
    "\n",
    "print(sin(0))"
   ]
  },
  {
   "cell_type": "markdown",
   "metadata": {},
   "source": [
    "When imported like this, we no longer need to use the `math.` prefix, because this also imported `sin` into our namespace. If we instead do:"
   ]
  },
  {
   "cell_type": "code",
   "execution_count": 3,
   "metadata": {},
   "outputs": [
    {
     "name": "stdout",
     "output_type": "stream",
     "text": [
      "1.0\n"
     ]
    }
   ],
   "source": [
    "from math import *\n",
    "\n",
    "print(cos(0))"
   ]
  },
  {
   "cell_type": "markdown",
   "metadata": {},
   "source": [
    "Here we have imported everything from the math module **and** we put everything from it into our namespace. This is generally **not** recommended, as it can overshadow our other functions with the same name. The same can happen if we import a single function. We can avoid this by renaming our imports."
   ]
  },
  {
   "cell_type": "code",
   "execution_count": 4,
   "metadata": {},
   "outputs": [
    {
     "name": "stdout",
     "output_type": "stream",
     "text": [
      "2.0\n",
      "[1. 1. 1. 1. 1.]\n"
     ]
    }
   ],
   "source": [
    "import numpy as np\n",
    "from math import sqrt as square_root\n",
    "\n",
    "print(square_root(4))\n",
    "print(np.ones(5))"
   ]
  },
  {
   "cell_type": "markdown",
   "metadata": {},
   "source": [
    "If we want to import a function from a specific file, say a file named `my_module.py` and it is located in the same folder as the python script into which we want to import it, we simply write:"
   ]
  },
  {
   "cell_type": "code",
   "execution_count": 22,
   "metadata": {},
   "outputs": [
    {
     "name": "stdout",
     "output_type": "stream",
     "text": [
      "9\n"
     ]
    }
   ],
   "source": [
    "from my_module import my_function\n",
    "\n",
    "print(my_function(3))"
   ]
  },
  {
   "cell_type": "markdown",
   "metadata": {},
   "source": [
    "Where `my_function` is just a square in this case. In general, we can specify a path to our module. For example, if our `my_module.py` file is on our Desktop, we could import it with:"
   ]
  },
  {
   "cell_type": "code",
   "execution_count": 26,
   "metadata": {},
   "outputs": [],
   "source": [
    "import os\n",
    "os.chdir(r'C:\\Users\\StudentShapers\\Desktop')\n",
    "import my_module"
   ]
  },
  {
   "cell_type": "markdown",
   "metadata": {},
   "source": [
    "(importing_exercises)=\n",
    "## Exercises\n",
    "------------\n",
    "\n",
    "* **Choose your function!** Mike decides to play a bit with Python functional interface and module importing, so he creates a strange list:\n",
    "\n",
    "```python\n",
    "        f = [math.sin, math.cos,math.tan, math.log, random.randrange]\n",
    "```\n",
    "        \n",
    "He wants to create a program which will take (at random) a function from the list and apply it to the number \\\\(a\\\\). The process should be repeated \\\\(n\\\\) times. Help Mike!"
   ]
  },
  {
   "cell_type": "markdown",
   "metadata": {},
   "source": [
    "````{admonition} Answer\n",
    ":class: dropdown\n",
    "\n",
    "```python\n",
    "import math\n",
    "import random\n",
    "\n",
    "f = [math.sin, math.cos, math.tan, math.log, random.randrange]\n",
    "\n",
    "a = 4\n",
    "n = 10\n",
    "for i in range(n):\n",
    "    j = random.randint(0,len(f)-1)  # random int between 0 and len(f)-1\n",
    "    \n",
    "    # print the name of function, a and result in an f-string\n",
    "    print(f\"{f[j].__name__}({a}) = {f[j](a)}\")\n",
    "    \n",
    "    # to print just the result: print(f[j](a))     \n",
    "```\n",
    "\n",
    "````"
   ]
  },
  {
   "cell_type": "code",
   "execution_count": null,
   "metadata": {},
   "outputs": [],
   "source": []
  }
 ],
 "metadata": {
  "kernelspec": {
   "display_name": "Python 3",
   "language": "python",
   "name": "python3"
  },
  "language_info": {
   "codemirror_mode": {
    "name": "ipython",
    "version": 3
   },
   "file_extension": ".py",
   "mimetype": "text/x-python",
   "name": "python",
   "nbconvert_exporter": "python",
   "pygments_lexer": "ipython3",
   "version": "3.7.3"
  }
 },
 "nbformat": 4,
 "nbformat_minor": 4
}
