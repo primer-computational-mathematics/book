{
 "cells": [
  {
   "cell_type": "markdown",
   "metadata": {},
   "source": [
    "(printing_intro)=\n",
    "# Printing and formatting statements\n",
    "\n",
    "## Basic printing\n",
    "\n",
    "(basic_printing)=\n",
    "### Printing text\n",
    "A line of code in Python is a _statement_:\n",
    "\n",
    "```python\n",
    "print(\"Hello world!\")\n",
    "```\n",
    "    \n",
    "`print()` is a function in Python that takes an argument in brackets () and prints it out to the terminal."
   ]
  },
  {
   "cell_type": "code",
   "execution_count": 1,
   "metadata": {},
   "outputs": [
    {
     "name": "stdout",
     "output_type": "stream",
     "text": [
      "Hello world!\n"
     ]
    }
   ],
   "source": [
    "print(\"Hello world!\")"
   ]
  },
  {
   "cell_type": "markdown",
   "metadata": {},
   "source": [
    "`print()` function can also print multiple lines, using `\\n` as a line separator in your text. Notice that you do not need to add spaces around `\\n` in the text:"
   ]
  },
  {
   "cell_type": "code",
   "execution_count": 2,
   "metadata": {},
   "outputs": [
    {
     "name": "stdout",
     "output_type": "stream",
     "text": [
      "Hello world!\n",
      "This is my first code.\n",
      "I love coding.\n"
     ]
    }
   ],
   "source": [
    "print(\"Hello world!\\nThis is my first code.\\nI love coding.\")"
   ]
  },
  {
   "cell_type": "markdown",
   "metadata": {},
   "source": [
    "Multiple lines can be also achieved by triple apostrophe `\"\"\"text\"\"\"`:"
   ]
  },
  {
   "cell_type": "code",
   "execution_count": 3,
   "metadata": {},
   "outputs": [
    {
     "name": "stdout",
     "output_type": "stream",
     "text": [
      "Hello world! \n",
      "This is my first code.\n",
      "    I love coding.\n"
     ]
    }
   ],
   "source": [
    "print(\"\"\"Hello world! \n",
    "This is my first code.\n",
    "    I love coding.\"\"\") # This # is a comment that has no effect on code\n",
    "\n",
    "# Note how added spaces in the last line are reflected in the printed statement"
   ]
  },
  {
   "cell_type": "markdown",
   "metadata": {},
   "source": [
    "### Printing numbers\n",
    "Apart from text, which we call a *string*, `print()` function can also take numbers and variables:"
   ]
  },
  {
   "cell_type": "code",
   "execution_count": 5,
   "metadata": {},
   "outputs": [
    {
     "name": "stdout",
     "output_type": "stream",
     "text": [
      "10\n",
      "10\n",
      "12\n",
      "51.5\n",
      "1000\n",
      "45\n",
      "26.0\n",
      "106.0\n"
     ]
    }
   ],
   "source": [
    "print(\"10\")     # Print a string '10'\n",
    "print(10)       # Print number 10\n",
    "print(10+5-3)   # Calculate 10+5-3\n",
    "print(10*5+3/2) # Multiply with *, divide with /\n",
    "print(10**3)    # To take powers, use **, here 10 to the power of 3\n",
    "\n",
    "a = 45\n",
    "print(a)\n",
    "\n",
    "# Finally more difficult calculation, brackets matter in order of calculation!!\n",
    "\n",
    "print(5.0*0.6+(100.0+15)/5.0) # With brackets\n",
    "print(5.0*0.6+100.0+15/5.0)   # Without brackets"
   ]
  },
  {
   "cell_type": "markdown",
   "metadata": {},
   "source": [
    "(formatted_printing)=\n",
    "## String formating\n",
    "``` {index} String formating (python)\n",
    "```\n",
    "Sometimes we want to insert certain texts (*strings*) or numbers into `print` statements.\n",
    "\n",
    "Inserting:\n",
    "* use `%s` in the statement where you want to insert text\n",
    "* use `%g` in the statement where you want to insert numbers, Python decides here how many significant figures are needed\n",
    "* use `%.xf`, where x is a number of significant figures you want displayed for your number\n",
    "\n",
    "The syntax (coding rules) for inserting numbers/text into `print` statement is:\n",
    "\n",
    "```python \n",
    "print(\"Text %s text text text\" % (\"text\"))\n",
    "```\n",
    "    \n",
    "An example below:"
   ]
  },
  {
   "cell_type": "code",
   "execution_count": 4,
   "metadata": {},
   "outputs": [
    {
     "name": "stdout",
     "output_type": "stream",
     "text": [
      "My name is <insert your name> and I am 18 years old.\n",
      "I am 1.63 m tall.\n"
     ]
    }
   ],
   "source": [
    "# Print your name and age inserted into text\n",
    "\n",
    "print(\"My name is %s and I am %g years old.\" % (\"<insert your name>\", 18))\n",
    "\n",
    "# Work out your height in meters, provided you are 5 ft 4 in and insert into text\n",
    "# 1 foot = 0.3048 m\n",
    "# 1 inch = 0.0254 m\n",
    "\n",
    "print(\"I am %.2f m tall.\" % (5*0.3048 + 4*0.0254))"
   ]
  },
  {
   "cell_type": "markdown",
   "metadata": {},
   "source": [
    "### Format() method and f-strings:\n",
    "This method allows to specify positions of the objects we want to insert into a string. For example:"
   ]
  },
  {
   "cell_type": "code",
   "execution_count": 6,
   "metadata": {},
   "outputs": [
    {
     "name": "stdout",
     "output_type": "stream",
     "text": [
      "I like dinosaurs and brachiopods.\n",
      "I like brachiopods and dinosaurs.\n"
     ]
    }
   ],
   "source": [
    "print(\"I like {0} and {1}.\".format('dinosaurs', 'brachiopods'))\n",
    "print(\"I like {1} and {0}.\".format('dinosaurs', 'brachiopods'))"
   ]
  },
  {
   "cell_type": "markdown",
   "metadata": {},
   "source": [
    "We can also specify a variable name that will go into the string:"
   ]
  },
  {
   "cell_type": "code",
   "execution_count": 7,
   "metadata": {},
   "outputs": [
    {
     "name": "stdout",
     "output_type": "stream",
     "text": [
      "I like dinosaurs, brachiopods and ammonites.\n"
     ]
    }
   ],
   "source": [
    "print(\"I like {0}, {1} and {other}.\".format('dinosaurs', 'brachiopods', other = 'ammonites'))"
   ]
  },
  {
   "cell_type": "markdown",
   "metadata": {},
   "source": [
    "Recent versions of python also support **f-strings** which allow us to do the above in a more simple way. They are called f-strings because they require `f` to be written in front of the quotation marks:"
   ]
  },
  {
   "cell_type": "code",
   "execution_count": 7,
   "metadata": {},
   "outputs": [
    {
     "name": "stdout",
     "output_type": "stream",
     "text": [
      "I like dinosaurs, brachiopods and ammonites.\n"
     ]
    }
   ],
   "source": [
    "a = 'dinosaurs'\n",
    "b = 'brachiopods'\n",
    "c = 'ammonites'\n",
    "\n",
    "print(f\"I like {a}, {b} and {c}.\")"
   ]
  },
  {
   "cell_type": "markdown",
   "metadata": {},
   "source": [
    "Apart from strings, we can also insert numbers:"
   ]
  },
  {
   "cell_type": "code",
   "execution_count": 8,
   "metadata": {},
   "outputs": [
    {
     "name": "stdout",
     "output_type": "stream",
     "text": [
      "This fossil is 12 cm long and 5.05 cm wide.\n",
      "This fossil is 12 cm long and 5.0500 cm wide.\n",
      "This fossil is 12 cm long and   5.0500 cm wide.\n"
     ]
    }
   ],
   "source": [
    "print(f\"This fossil is {0:d} cm long and {1:.2f} cm wide.\".format(12, 5.05))\n",
    "print(f\"This fossil is {0:g} cm long and {1:.4f} cm wide.\".format(12.0, 5.05))\n",
    "print(f\"This fossil is {0:g} cm long and {1:8.4f} cm wide.\".format(12.0, 5.05))"
   ]
  },
  {
   "cell_type": "markdown",
   "metadata": {},
   "source": [
    "All methods are valid so you can use whichever one suits you better!"
   ]
  },
  {
   "cell_type": "markdown",
   "metadata": {},
   "source": [
    "(printing_exercises)=\n",
    "## Exercises\n",
    "\n",
    "______________________\n",
    "\n",
    "* **Print the following:**"
   ]
  },
  {
   "cell_type": "code",
   "execution_count": 3,
   "metadata": {
    "tags": [
     "remove-input"
    ]
   },
   "outputs": [
    {
     "name": "stdout",
     "output_type": "stream",
     "text": [
      "Veni vidi vici\n"
     ]
    }
   ],
   "source": [
    "print(\"Veni vidi vici\")"
   ]
  },
  {
   "cell_type": "markdown",
   "metadata": {},
   "source": [
    "````{admonition} Anwser\n",
    ":class: dropdown\n",
    "\n",
    "```python\n",
    "print(\"Veni vidi vici\")\n",
    "```\n",
    "    \n",
    "````"
   ]
  },
  {
   "cell_type": "markdown",
   "metadata": {},
   "source": [
    "__________________\n",
    "* **Print the following:**    \n",
    "**HINT**: There are '\\t' and '\\n' which you might find useful"
   ]
  },
  {
   "cell_type": "code",
   "execution_count": 3,
   "metadata": {
    "scrolled": true,
    "tags": [
     "remove-input"
    ]
   },
   "outputs": [
    {
     "name": "stdout",
     "output_type": "stream",
     "text": [
      "First line\n",
      "Second line\n",
      "\tBOOM!\n"
     ]
    }
   ],
   "source": [
    "print(\"First line\\nSecond line\\n\\tBOOM!\")"
   ]
  },
  {
   "cell_type": "markdown",
   "metadata": {},
   "source": [
    "````{admonition} Anwser\n",
    ":class: dropdown\n",
    "\n",
    "```python\n",
    "print(\"First line\\nSecond line\\n\\tBOOM!\")\n",
    "```\n",
    "\n",
    "````\n"
   ]
  },
  {
   "cell_type": "markdown",
   "metadata": {},
   "source": [
    "____________\n",
    "* Some characters in printing statements can be a bit tricky to handle. Think about the following:\n",
    "\n",
    "_\"John is a great fan of Shakespeare, so he decided to reference the famous \"Be of not the be?\" from 'The Hamlet' is his latest essay\"_\n",
    "\n",
    "This confuses the Python parser because quotation marks are reserved for the beginning and end of a string. So we use backslash e.g. `\\\"` to *escape* certain characters (like we do with `\\n` and `\\t`). **Print the sentence from the example.**"
   ]
  },
  {
   "cell_type": "markdown",
   "metadata": {},
   "source": [
    "````{admonition} Answer\n",
    ":class: dropdown\n",
    "\n",
    "```python\n",
    "print(\"John is a great fan of Shakespeare, so he decided to reference the famous \\\"Be of not the be?\\\" from \\'The Hamlet\\' is his latest essay\")\n",
    "```\n",
    "\n",
    "````"
   ]
  },
  {
   "cell_type": "markdown",
   "metadata": {},
   "source": [
    "__________________\n",
    "* **Printing can be art!** Use some characters to show your creativity! Try a triangle for example:\n",
    "  \n",
    "  **HINT**: What about printing the backslash?\n"
   ]
  },
  {
   "cell_type": "markdown",
   "metadata": {},
   "source": [
    "```\n",
    "    /\\  \n",
    "   /  \\\n",
    "  /    \\  \n",
    " /      \\  \n",
    " --------\n",
    "```"
   ]
  },
  {
   "cell_type": "markdown",
   "metadata": {},
   "source": [
    "````{admonition} Answer\n",
    ":class: dropdown\n",
    "\n",
    "```python\n",
    "print('''\n",
    "    /\\\\\n",
    "   /  \\\\\n",
    "  /    \\\\\n",
    " /      \\\\\n",
    " ---------''')\n",
    "```\n",
    "\n",
    "We had to escape the backslash by putting another backslash in front of it. We could achieve the same with **raw strings**, which, similarly to f-strings, need to begin with `r` and they will escape the backslash `\\` automatically, i.e. the string will be printed *raw* - exactly as it is written, without any special features like `\\n` and `\\t`.\n",
    "\n",
    "```python\n",
    "print(r'''\n",
    "    /\\\n",
    "   /  \\\n",
    "  /    \\\n",
    " /      \\\n",
    " ---------''')\n",
    "```\n",
    "\n",
    "````"
   ]
  },
  {
   "cell_type": "markdown",
   "metadata": {},
   "source": [
    "If you want more inspiration, google ASCII art."
   ]
  },
  {
   "cell_type": "markdown",
   "metadata": {},
   "source": [
    "<pre>\n",
    "        __  _-==-=_,-.\n",
    "        /--`' \\_@-@.--<\n",
    "        `--'\\ \\   <___/.  \n",
    "             \\ \\\\   \" /  \n",
    "              >=\\\\_/`<\n",
    "  ____       /= |  \\_|/\n",
    "_'    `\\   _/=== \\___/\n",
    "`___/ //\\./=/~\\====\\\n",
    "    \\   // /   | ===:\n",
    "     |  ._/_,__|_ ==:        __\n",
    "      \\/    \\\\ \\\\`--|       / \\\\\n",
    "       |    _     \\\\:      /==:-\\\n",
    "       `.__' `-____/       |--|==:\n",
    "          \\    \\ ===\\      :==:`-'\n",
    "          _>    \\ ===\\    /==/\n",
    "         /==\\   |  ===\\__/--/\n",
    "        <=== \\  /  ====\\ \\\\/\n",
    "        _`--  \\/  === \\/--'\n",
    "       |       \\ ==== |\n",
    "        -`------/`--' /\n",
    "                \\___-'\n"
   ]
  },
  {
   "cell_type": "code",
   "execution_count": null,
   "metadata": {},
   "outputs": [],
   "source": []
  }
 ],
 "metadata": {
  "celltoolbar": "Tags",
  "kernelspec": {
   "display_name": "Python 3",
   "language": "python",
   "name": "python3"
  },
  "language_info": {
   "codemirror_mode": {
    "name": "ipython",
    "version": 3
   },
   "file_extension": ".py",
   "mimetype": "text/x-python",
   "name": "python",
   "nbconvert_exporter": "python",
   "pygments_lexer": "ipython3",
   "version": "3.7.3"
  }
 },
 "nbformat": 4,
 "nbformat_minor": 4
}
