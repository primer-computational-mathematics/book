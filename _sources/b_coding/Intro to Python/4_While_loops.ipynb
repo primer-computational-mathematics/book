{
 "cells": [
  {
   "cell_type": "markdown",
   "metadata": {},
   "source": [
    "(while_loops)=\n",
    "# While loops\n",
    "``` {index} Loops: while loops\n",
    "```\n",
    "`while` loops repeat instructions until certain condition is `False` (while the condition is `True`). The syntax is as follows:\n",
    "    \n",
    "```\n",
    "    while condition:\n",
    "        # Some code to be executed repeatedly as long as condition is True\n",
    "        \n",
    "    # Some more code to be executed once the while loop is over, executed once\n",
    "```\n",
    "    \n",
    "Some `while` loops are infinite, where the condition never becomes `False`. A `while` loop, like `if` statements, needs the code to be indented.\n",
    "\n",
    "## Example"
   ]
  },
  {
   "cell_type": "code",
   "execution_count": 5,
   "metadata": {},
   "outputs": [
    {
     "name": "stdout",
     "output_type": "stream",
     "text": [
      "Initial counter is:  0\n",
      "Entering while loop\n",
      "1\n",
      "2\n",
      "3\n",
      "4\n",
      "5\n",
      "6\n",
      "7\n",
      "8\n",
      "9\n",
      "10\n",
      "11\n",
      "While loop finished.\n",
      "Final counter is:  11\n"
     ]
    }
   ],
   "source": [
    "counter = 0  # Set counter\n",
    "print(\"Initial counter is: \", counter)\n",
    "\n",
    "print(\"Entering while loop\")\n",
    "while counter <= 10:\n",
    "    # Increase counter by 1 as long as it is <= 10\n",
    "    counter += 1\n",
    "    \n",
    "    print(counter)\n",
    "    \n",
    "print(\"While loop finished.\")\n",
    "print(\"Final counter is: \", counter)"
   ]
  },
  {
   "cell_type": "markdown",
   "metadata": {},
   "source": [
    "(while_loop_exercises)=\n",
    "## Exercises\n",
    "-----------\n",
    "\n",
    "* **Write a program** that prints all Fibonacci numbers smaller than 50. An example of a Fibonacci sequence is the following:\n",
    "\n",
    "\\\\[ F_0 = 0,\\quad F_1 = 1, \\quad F_{n}=F_{n-1}+F_{n-2}.\\\\]"
   ]
  },
  {
   "cell_type": "markdown",
   "metadata": {},
   "source": [
    "````{admonition} Answer\n",
    ":class: dropdown\n",
    "\n",
    "```python\n",
    "first = 0\n",
    "second = 1\n",
    "\n",
    "print(first)\n",
    "\n",
    "while second <= 50:\n",
    "    print(second)\n",
    "    temp = first + second\n",
    "    first = second\n",
    "    second = temp\n",
    "```\n",
    "\n",
    "````"
   ]
  },
  {
   "cell_type": "markdown",
   "metadata": {},
   "source": [
    "-----------\n",
    "\n",
    "* **Create a `while` loop** to find Celsius temperatures for Fahrenheit temperatures between 20\\\\(^\\circ\\\\)F and 80\\\\(^\\circ\\\\)F at 5\\\\(^\\circ\\\\)F increments. The Fahrenheit-Celsius conversion formula is:\n",
    "\n",
    "\\\\[ T_{Celsius} = \\frac{5}{9}*(T_{Fahrenheit}-32). \\\\]"
   ]
  },
  {
   "cell_type": "markdown",
   "metadata": {},
   "source": [
    "````{admonition} Answer\n",
    ":class: dropdown\n",
    "\n",
    "```python\n",
    "temp_F = 20           # Initial temperature in Fahrenheit\n",
    "dF = 5                # Increment in Fahrenheit\n",
    "\n",
    "while temp_F <= 80:\n",
    "    temp_C = 5./9.*(temp_F-32)  # Calculate the temperature in Celsius\n",
    "\n",
    "    # A nicely formatted f-string\n",
    "    print(f\"{temp_F:.2f} degrees Fahrenheit is {temp_C:.2f} degrees Celsius.\")\n",
    "\n",
    "    # Add increment to the temperature for the next iteration\n",
    "    temp_F = temp_F + dF\n",
    "```\n",
    "\n",
    "````"
   ]
  }
 ],
 "metadata": {
  "kernelspec": {
   "display_name": "Python 3",
   "language": "python",
   "name": "python3"
  },
  "language_info": {
   "codemirror_mode": {
    "name": "ipython",
    "version": 3
   },
   "file_extension": ".py",
   "mimetype": "text/x-python",
   "name": "python",
   "nbconvert_exporter": "python",
   "pygments_lexer": "ipython3",
   "version": "3.7.3"
  }
 },
 "nbformat": 4,
 "nbformat_minor": 4
}
