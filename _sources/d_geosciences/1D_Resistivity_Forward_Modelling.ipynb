{
 "cells": [
  {
   "cell_type": "markdown",
   "metadata": {
    "collapsed": true
   },
   "source": [
    "# 1D resistivity forward modelling\n",
    "\n",
    "This notebook allows for the forward modelling of 1D resistivity data based of a chosen input model. Modify the model parameters to reduce the error between our modelled resistivity and our field data. Different models can explain the same data, however the simpler model is commonly preferred. Unless there is alternative data to justify the more complex model."
   ]
  },
  {
   "cell_type": "code",
   "execution_count": 1,
   "metadata": {},
   "outputs": [],
   "source": [
    "#import required libraries\n",
    "import numpy as np\n",
    "import matplotlib.pyplot as plt\n",
    "from scipy import interpolate"
   ]
  },
  {
   "cell_type": "markdown",
   "metadata": {},
   "source": [
    "## Enter field data\n",
    "Change the below list to match field data."
   ]
  },
  {
   "cell_type": "code",
   "execution_count": 2,
   "metadata": {},
   "outputs": [],
   "source": [
    "# AB/2 (m)\n",
    "pos_field = [1.0,1.5,2.5,4.0,6.0,8.0,10.0,12.0,15.0,20.0,25.0,30.0,35.0,40.0,50.0,60.0,75.0,100.0,125.0,150.0,175.0,200.0,250.0,300.0,400.0,450.0,500.0,600.0]\n",
    "\n",
    "# resistivity (ohm m)\n",
    "res_field = [12.1,12.8,15.5,22.0,30.0,40.0,50.0,55.0,65.0,80.0,85.0,90.0,85.0,85.1,80.0,75.0,68.0,53.0,42.7,39.0,37.0,36.0,40.0,41.0,45.0,49.0,55.0,57.0]"
   ]
  },
  {
   "cell_type": "markdown",
   "metadata": {},
   "source": [
    "## Enter model parameters\n",
    "\n",
    "Change the below lists to modify the model. The script takes any number of layers."
   ]
  },
  {
   "cell_type": "code",
   "execution_count": 3,
   "metadata": {},
   "outputs": [],
   "source": [
    "## enter model parameters\n",
    "layer_no = 8\n",
    "depth_mdl = [1.75,5.00,8.50,18.00,64.00,200.00,320.00,1000.00]  #layer affected\n",
    "res_mdl = [11.00,650.00,17.00,200.00,9.00,320.00,5.00,70.00]   #layer affected\n"
   ]
  },
  {
   "cell_type": "markdown",
   "metadata": {},
   "source": [
    "## Model generation\n",
    "run all the cells below to process the input parameters and generate the final resistivity result. A complete curve matching method derived from the Bessel functions is used. This expression is suitable for solving any number of layers. Note that there is a large number of theoretical models that will fit the field data. Theoretical model obtained from reference 1."
   ]
  },
  {
   "cell_type": "code",
   "execution_count": 4,
   "metadata": {},
   "outputs": [],
   "source": [
    "#calculate layer thickness\n",
    "lyr_thickness = [depth_mdl[0]]    #layer affected\n",
    "\n",
    "for i in range(len(depth_mdl)):    #layer affected\n",
    "    try:\n",
    "        lyr_thickness.append(depth_mdl[i+1]-depth_mdl[i])    #layer affected\n",
    "    except:\n",
    "        break\n",
    "\n",
    "#required data lists\n",
    "L = np.linspace(-14,23,23+14+1)\n",
    "\n",
    "I = []\n",
    "for i in L: I.append(10**(i/6) / 1.14)  \n",
    "\n",
    "absica = np.linspace(0,14+23,14+23+1)\n",
    "\n",
    "K = [-0.000318,0.002072,-0.004978,0.01125,-0.02521,0.05812,-0.1436,0.393,-1.1324,2.7044,-3.4507,0.4248,1.1817,0.6194,0.2374,0.08688,0.0235,0.01284,-0.001198,0.003042]\n",
    "\n",
    "#transform data\n",
    "Transform = []  \n",
    "length = len(lyr_thickness)    #layer affected\n",
    "\n",
    "for j in I:\n",
    "    results = [None]*length\n",
    "    for i in range(length)[::-1]: \n",
    "        if lyr_thickness[i] == lyr_thickness[-1]:    #layer affected\n",
    "            results [i] = res_mdl[i]\n",
    "        else:\n",
    "            results [i] = (results[i+1] + res_mdl[i] * ((2/(1+np.exp(-2*lyr_thickness[i]/j)))-1)) / (1 + results[i+1]  * ((2/(1+np.exp(-2*lyr_thickness[i]/j)))-1)/ res_mdl[i])\n",
    "    Transform.append(results)"
   ]
  },
  {
   "cell_type": "code",
   "execution_count": 5,
   "metadata": {},
   "outputs": [],
   "source": [
    "#Apply lineal filters from O'Neil   #??is this the correct naming??\n",
    "Transform = np.array(Transform)   \n",
    "\n",
    "Lineal_Filters = []  #is this the correct naming?\"\"\n",
    "\n",
    "c = 0\n",
    "for i in K:\n",
    "    results = [None]*19\n",
    "    for j in range(19):\n",
    "        results [j] = i* Transform[j+c,0]\n",
    "    c += 1\n",
    "    Lineal_Filters.append(results)"
   ]
  },
  {
   "cell_type": "code",
   "execution_count": 6,
   "metadata": {},
   "outputs": [],
   "source": [
    "#sum all columns\n",
    "Lineal_Filters = np.array(Lineal_Filters)\n",
    "res= []\n",
    "\n",
    "for i in range(len(Lineal_Filters[0])):\n",
    "    res.append(np.sum(Lineal_Filters[:,i]))"
   ]
  },
  {
   "cell_type": "code",
   "execution_count": 7,
   "metadata": {},
   "outputs": [],
   "source": [
    "depth = [1]\n",
    "for i in range(len(res)-1):\n",
    "    depth.append(depth[i]*10**(1/6))"
   ]
  },
  {
   "cell_type": "markdown",
   "metadata": {},
   "source": [
    "## Calculate RMS"
   ]
  },
  {
   "cell_type": "code",
   "execution_count": 8,
   "metadata": {},
   "outputs": [],
   "source": [
    "#interpolate results at interval of field data\n",
    "f = interpolate.interp1d(depth,res)\n",
    "res_interp = f(pos_field)\n",
    "\n",
    "#find RMS\n",
    "res_interp= np.array(res_interp)\n",
    "res_field= np.array(res_field)\n",
    "RMS = np.sqrt(np.sum((res_field-res_interp)**2))"
   ]
  },
  {
   "cell_type": "markdown",
   "metadata": {},
   "source": [
    "## Plot results"
   ]
  },
  {
   "cell_type": "code",
   "execution_count": 9,
   "metadata": {},
   "outputs": [],
   "source": [
    "#create earth layers plot\n",
    "box_res = []\n",
    "for i in res_mdl: box_res.append(i),box_res.append(i)   #layer affected\n",
    "\n",
    "box_depth = [0]\n",
    "for i in depth_mdl:\n",
    "        box_depth.append(i), box_depth.append(i)      #layer affected\n",
    "box_depth = box_depth[:-1]"
   ]
  },
  {
   "cell_type": "code",
   "execution_count": 10,
   "metadata": {},
   "outputs": [
    {
     "data": {
      "image/png": "[encoded data removed]",
      "text/plain": [
       "<Figure size 432x288 with 1 Axes>"
      ]
     },
     "metadata": {
      "needs_background": "light"
     },
     "output_type": "display_data"
    }
   ],
   "source": [
    "plt.figure()\n",
    "plt.xlabel(\"depth (m)\"), plt.ylabel(\"resistivity (ohm m)\")\n",
    "plt.xscale('log'), plt.yscale('log')\n",
    "plt.plot (depth, res,label=\"model_results\")\n",
    "plt.plot (box_depth,box_res,label=\"input_model\")\n",
    "plt.plot (pos_field,res_field,'*',label=\"field_data\")\n",
    "plt.legend(loc=\"upper right\")\n",
    "\n",
    "plt.title ('RMS error = %2f'%RMS)\n",
    "plt.show ()"
   ]
  },
  {
   "cell_type": "markdown",
   "metadata": {},
   "source": [
    "You could generate a loop to test a variety of models and save the best fit models to memory."
   ]
  },
  {
   "cell_type": "markdown",
   "metadata": {},
   "source": [
    "## References\n",
    "\n",
    "1. Molano, C., 2020. Carlosmolanowebsite. [online] Sites.google.com. Available at: <https://sites.google.com/a/hidrogeocol.com.co/carlos_molano/Home> [Accessed 26 June 2020]. \n",
    "2. Telford, WM, Geldart, LP, & Sheriff, RE 1990, Applied Geophysics, Cambridge University Press, Cambridge. Available from: ProQuest Ebook Central. [26 June 2020]."
   ]
  }
 ],
 "metadata": {
  "kernelspec": {
   "display_name": "Python 3",
   "language": "python",
   "name": "python3"
  },
  "language_info": {
   "codemirror_mode": {
    "name": "ipython",
    "version": 3
   },
   "file_extension": ".py",
   "mimetype": "text/x-python",
   "name": "python",
   "nbconvert_exporter": "python",
   "pygments_lexer": "ipython3",
   "version": "3.7.3"
  }
 },
 "nbformat": 4,
 "nbformat_minor": 2
}
