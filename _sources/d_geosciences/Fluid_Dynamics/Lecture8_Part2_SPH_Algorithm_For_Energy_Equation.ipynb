{
 "cells": [
  {
   "cell_type": "markdown",
   "metadata": {},
   "source": [
    "(Lecture8_Part2_SPH_Algorithm_For_Energy_Equation)=\n",
    "# Lecture8_Part2_SPH_Algorithm_For_Energy_Equation"
   ]
  },
  {
   "cell_type": "markdown",
   "metadata": {},
   "source": [
    "Open Anaconda Prompt (anaconda 3), then type"
   ]
  },
  {
   "cell_type": "markdown",
   "metadata": {},
   "source": [
    "pip install ipyvolume"
   ]
  },
  {
   "cell_type": "markdown",
   "metadata": {},
   "source": [
    "pip install bqplot"
   ]
  },
  {
   "cell_type": "markdown",
   "metadata": {},
   "source": [
    "jupyter nbextension enable –py bqplot"
   ]
  },
  {
   "cell_type": "code",
   "execution_count": 39,
   "metadata": {},
   "outputs": [],
   "source": [
    "import ipyvolume as ipv\n",
    "import bqplot.scales\n",
    "import numpy as np\n",
    "from numpy import random\n",
    "import ipywidgets as widgets    # https://www.youtube.com/watch?v=hOKa8klJPyo\n",
    "import matplotlib.cm as cm    # for coloring temperature"
   ]
  },
  {
   "cell_type": "code",
   "execution_count": 40,
   "metadata": {},
   "outputs": [],
   "source": [
    "G = np.array([0.0,-9.8,0.0]); # external (gravitational) forces\n",
    "REST_DENS = 1000.0; # rest density of liquid\n",
    "GAS_CONST = 2000.0; # const for equation of state\n",
    "H = 16.0; # kernel radius\n",
    "HSQ = H*H; # radius^2 for optimization\n",
    "T0 = 1.0    # initial temperature of the fluid\n",
    "T_bottom = 1.5    # bottom heating temperature\n",
    "T_ceiling = 0.5    # upper cooling temperature\n",
    "alpha_v = 0.0002    # thermal expansion coefficient\n",
    "k = 0.0003    # thermal conductivity of the particle\n",
    "k_wall = 100.0    # thermal conductivity of the wall\n",
    "MASS = 65.0; # assume all particles have the same mass\n",
    "VISC = 250.0; # viscosity constant\n",
    "dt = 0.0008; # integration timestep\n",
    "\n",
    "# smoothing kernels defined in Müller and their gradients\n",
    "POLY6 = 315.0/(65.0*np.pi*H**9);\n",
    "SPIKY_GRAD = -45.0/(np.pi*H**6);\n",
    "VISC_LAP = 45.0/(np.pi*H**6);\n",
    "\n",
    "# simulation parameters\n",
    "EPS = H; # boundary epsilon\n",
    "BOUND_DAMPING_NORMAL = -0.0;    # particle does not bounce back vertically\n",
    "BOUND_DAMPING_HORIZONTAL = 0.0;    # no slip-boundary\n",
    "\n",
    "# solver data\n",
    "Fluid_Particles_list = [];\n",
    "X = [[],[],[]]    # positions for all particles\n",
    "Ts = []    # temperature of all particles\n",
    "\n",
    "# interaction\n",
    "MAX_PARTICLES = 3000;\n",
    "\n",
    "# rendering projection parameters\n",
    "WINDOW_WIDTH = 425;\n",
    "WINDOW_HEIGHT = 150;\n",
    "WINDOW_DEPTH = 300\n",
    "\n",
    "VIEW_WIDTH = 1.5*WINDOW_WIDTH;\n",
    "VIEW_HEIGHT = 1.5*WINDOW_HEIGHT;\n",
    "VIEW_DEPTH = 1.5*WINDOW_DEPTH;\n"
   ]
  },
  {
   "cell_type": "code",
   "execution_count": 41,
   "metadata": {},
   "outputs": [],
   "source": [
    "# particle data structure\n",
    "# stores position, velocity, and force for integration\n",
    "# stores density (rho) and pressure values for SPH\n",
    "class Particle:\n",
    "    def __init__(self, X, V, F, rho, p, T):\n",
    "        self.X = X   # x position vector\n",
    "\n",
    "        self.V = V    # velocity vector\n",
    "      \n",
    "        self.F = F    # force vector\n",
    "       \n",
    "        self.rho = 0.0    # density of the fluid at the position of the particle\n",
    "        self.p = p    # pressure of the fluid at the position of the particle\n",
    "        self.T = T0    # temperature of the fluid at the position of the particle\n"
   ]
  },
  {
   "cell_type": "code",
   "execution_count": 42,
   "metadata": {},
   "outputs": [],
   "source": [
    "def InitSPH():\n",
    "    global X\n",
    "    global fig\n",
    "    global scatter\n",
    "    global ipv\n",
    "    global Ts\n",
    "    \n",
    "    #for zi in range(int(2*EPS),int(WINDOW_DEPTH-EPS*2.0),int(H)):\n",
    "        #zi += H\n",
    "    for yi in range(int(1*EPS), int(WINDOW_HEIGHT-EPS*1.0), int(H*1/16)):\n",
    "        yi += H #+random.rand()*H/1000\n",
    "        for xi in range(0, int(WINDOW_WIDTH), int(H)):\n",
    "            if len(Fluid_Particles_list) < MAX_PARTICLES:\n",
    "                xi += H #+random.rand()*H/1000\n",
    "\n",
    "                Vx = 0.0    # gives the particle a random tiny initial velocity in the x-direction\n",
    "                Vy = 0.0    # gives the particle a random tiny initial velocity in the y-direction\n",
    "                Vz = 0.0\n",
    "                V = np.array([Vx,Vy,Vz])\n",
    "                \n",
    "                Fx = 0.0    # gives the particle a random tiny initial force in the x-direction\n",
    "                Fy = 0.0    # gives the particle a random tiny initial force in the y-direction\n",
    "                Fz = 0.0\n",
    "                F = np.array([Fx,Fy,Fz])\n",
    "                \n",
    "                rho = 0.0\n",
    "                p = 0.0\n",
    "                T = T0\n",
    "\n",
    "                zi = 2*EPS\n",
    "                \n",
    "                Xi = np.array([xi + np.random.random_sample(),yi + np.random.random_sample(),zi])# + np.random.random_sample()\n",
    "                \n",
    "                Fluid_Particles_list.append(Particle(Xi,V,F,rho,p,T))\n",
    "\n",
    "    for pi in Fluid_Particles_list:\n",
    "          \n",
    "        X[0].append(pi.X[0])\n",
    "        X[1].append(pi.X[1])\n",
    "        X[2].append(pi.X[2])\n",
    "        Ts.append(np.array([pi.T,pi.T,pi.T])) \n",
    "        \n",
    "    x = np.array(X[0])\n",
    "    y = np.array(X[1])\n",
    "    z = np.array(X[2])\n",
    "    \n",
    "    # the scale does not seem to work...\n",
    "    scales = {\n",
    "    'x': bqplot.scales.LinearScale(min=0, max=VIEW_WIDTH),\n",
    "    'y': bqplot.scales.LinearScale(min=0, max=VIEW_HEIGHT),\n",
    "    'z': bqplot.scales.LinearScale(min=0, max=VIEW_DEPTH),\n",
    "}\n",
    "    \n",
    "    fig = ipv.figure(scales=scales)\n",
    "    Ts = np.array(Ts)\n",
    "    Ts -= Ts.min()\n",
    "    Ts /= Ts.max()\n",
    "    colors = Ts\n",
    "    scatter = ipv.scatter(x,y,z,marker='sphere',color=colors)\n",
    "    \n",
    "    scatter.size = 3\n",
    "    \n",
    "    ipv.show()\n",
    "    print(\"initializing dam break with \" )\n",
    "    print(len(x))\n",
    "    print(\"particles\")"
   ]
  },
  {
   "cell_type": "code",
   "execution_count": 43,
   "metadata": {},
   "outputs": [],
   "source": [
    "def ComputeDensityPressureTemperature():\n",
    "    \n",
    "    for pi in Fluid_Particles_list:\n",
    "        pi.rho = 0.0\n",
    "        dT = 0.0\n",
    "        for pj in Fluid_Particles_list:\n",
    "            h = np.linalg.norm(pi.X - pj.X)\n",
    "            if (h<H):\n",
    "                pi.T += (pj.T - pi.T) * k * dt *POLY6*(HSQ-h**2)**3;\n",
    "                pi.rho += MASS*POLY6*(HSQ-h**2)**3;\n",
    "        \n",
    "        pi.rho -= pi.rho * alpha_v *(pi.T - T0)\n",
    "        pi.p = GAS_CONST*(pi.rho - REST_DENS) * pi.T;"
   ]
  },
  {
   "cell_type": "code",
   "execution_count": 44,
   "metadata": {},
   "outputs": [],
   "source": [
    "def ComputeForces():\n",
    "    \n",
    "    for pi in Fluid_Particles_list:\n",
    "        \n",
    "        fpress = 0.0\n",
    "        fvisc = 0.0\n",
    "\n",
    "        for pj in Fluid_Particles_list:\n",
    "            \n",
    "            d = pj.X - pi.X\n",
    "            h = np.linalg.norm(d)\n",
    "            r = d/h\n",
    "\n",
    "            \n",
    "            if (pi==pj):\n",
    "                continue;\n",
    "            \n",
    "            if (h<H):\n",
    "                \n",
    "                # compute pressure force contribution\n",
    "                fpress += - r * MASS * (pi.p + pj.p) / (2*pj.rho)  * SPIKY_GRAD * (H-h)**2\n",
    "              \n",
    "                # compute viscosity force contribution\n",
    "                fvisc += VISC * MASS * (pj.V - pi.V) / (pj.rho)  * VISC_LAP * (H-h);\n",
    "            \n",
    "\n",
    "        fgrav = G*pi.rho\n",
    "        pi.F = fpress + fvisc + fgrav    "
   ]
  },
  {
   "cell_type": "code",
   "execution_count": 45,
   "metadata": {},
   "outputs": [],
   "source": [
    "def Integrate():\n",
    "    for p in Fluid_Particles_list:\n",
    "        # forward Euler integration\n",
    "        p.V += dt*(p.F)/p.rho;\n",
    "        \n",
    "        p.V[2] = 0.0\n",
    "        \n",
    "        p.X += dt*p.V;\n",
    "  \n",
    "        if (p.X[0] - EPS < 0.0):    # left boundary condition\n",
    "            p.V[0] *= 1.0 #BOUND_DAMPING_NORMAL\n",
    "            p.X[0] = WINDOW_WIDTH - EPS    # coming out from the right boundary\n",
    "            p.V[1] *= BOUND_DAMPING_HORIZONTAL\n",
    "            #p.Vz *= BOUND_DAMPING_HORIZONTAL\n",
    "        \n",
    "        if (p.X[0] + EPS > WINDOW_WIDTH):    # right boundary condition\n",
    "            p.V[0] *= 1.0 #BOUND_DAMPING_NORMAL\n",
    "            p.X[0] = EPS    # coming out from the left boundary\n",
    "            p.V[1] *= BOUND_DAMPING_HORIZONTAL\n",
    "            #p.Vz *= BOUND_DAMPING_HORIZONTAL\n",
    "\n",
    "        if (p.X[1] - EPS < 0.0):    # bottom boundary condition\n",
    "            p.V[1] *= BOUND_DAMPING_NORMAL\n",
    "            p.X[1] = EPS\n",
    "            p.V[0] *= BOUND_DAMPING_HORIZONTAL\n",
    "            \n",
    "            p.T += (T_bottom - p.T) * k_wall * dt    # heating from the bottom\n",
    "            #p.Vz *= BOUND_DAMPING_HORIZONTAL\n",
    "            \n",
    "        if (p.X[1] + EPS > WINDOW_HEIGHT):    # upper boundary condition\n",
    "            p.V[1] *= BOUND_DAMPING_NORMAL\n",
    "            p.X[1] = WINDOW_HEIGHT - EPS \n",
    "            p.V[0] *= BOUND_DAMPING_HORIZONTAL\n",
    "            \n",
    "            p.T += (T_ceiling - p.T) * k_wall * dt    # cooling from the ceiling\n",
    "            #p.Vz *= BOUND_DAMPING_HORIZONTAL\n",
    "         \n",
    "        # only for 3D boundary condition (in the z-direction)\n",
    "        if (p.X[2] - EPS < 0.0):    # front boundary condition\n",
    "            p.V[2] *= BOUND_DAMPING_NORMAL\n",
    "            p.X[2] = EPS\n",
    "            #p.Vx *= BOUND_DAMPING_HORIZONTAL\n",
    "            #p.Vy *= BOUND_DAMPING_HORIZONTAL\n",
    "            \n",
    "        if (p.X[2] + EPS > WINDOW_DEPTH):    # back boundary condition\n",
    "            p.V[2] *= BOUND_DAMPING_NORMAL\n",
    "            p.X[2] = WINDOW_DEPTH - EPS \n",
    "            #p.Vx *= BOUND_DAMPING_HORIZONTAL\n",
    "            #p.Vy *= BOUND_DAMPING_HORIZONTAL"
   ]
  },
  {
   "cell_type": "code",
   "execution_count": 46,
   "metadata": {},
   "outputs": [],
   "source": [
    "def Update():\n",
    "    print(\"start updating\")\n",
    "    ComputeDensityPressureTemperature()\n",
    "    ComputeForces()\n",
    "    Integrate()    \n",
    "    x =[]\n",
    "    y =[]\n",
    "    z =[]\n",
    "    Ts = []\n",
    "    for pi in Fluid_Particles_list:\n",
    "        x.append(pi.X[0])\n",
    "        y.append(pi.X[1])\n",
    "        z.append(pi.X[2])\n",
    "        Ts.append(np.array([pi.T,pi.T,pi.T])) \n",
    "    \n",
    "    for n in Ts:\n",
    "        max_ = 1.5\n",
    "        min_ = 1.5\n",
    "        temperature = n[0]\n",
    "        if (temperature > max_):\n",
    "            max_ = temperature\n",
    "        if (temperature < min_):\n",
    "            min_ = temperature\n",
    "\n",
    "            \n",
    "    Ts = np.array(Ts)\n",
    "    Ts -= Ts.min()\n",
    "    Ts /= Ts.max()\n",
    "    colors = Ts\n",
    "    scatter.x=np.array(x)\n",
    "    scatter.y=np.array(y)\n",
    "    scatter.z=np.array(z)\n",
    "    scatter.color=colors"
   ]
  },
  {
   "cell_type": "code",
   "execution_count": 47,
   "metadata": {},
   "outputs": [
    {
     "name": "stderr",
     "output_type": "stream",
     "text": [
      "C:\\Users\\JianouJiang\\anaconda3\\lib\\site-packages\\ipykernel_launcher.py:57: RuntimeWarning: invalid value encountered in true_divide\n"
     ]
    },
    {
     "data": {
      "application/vnd.jupyter.widget-view+json": {
       "model_id": "fcffd637ef50431ea9a5eba9303e3450",
       "version_major": 2,
       "version_minor": 0
      },
      "text/plain": [
       "VBox(children=(Figure(camera=PerspectiveCamera(fov=46.0, position=(0.0, 0.0, 2.0), quaternion=(0.0, 0.0, 0.0, …"
      ]
     },
     "metadata": {},
     "output_type": "display_data"
    },
    {
     "name": "stdout",
     "output_type": "stream",
     "text": [
      "initializing dam break with \n",
      "3000\n",
      "particles\n"
     ]
    }
   ],
   "source": [
    "InitSPH()"
   ]
  },
  {
   "cell_type": "code",
   "execution_count": null,
   "metadata": {},
   "outputs": [
    {
     "name": "stdout",
     "output_type": "stream",
     "text": [
      "start iterating\n",
      "start updating\n"
     ]
    }
   ],
   "source": [
    "TotalTime = 1000\n",
    "iterations = int(TotalTime/dt)\n",
    "print(\"start iterating\")\n",
    "for time in range(iterations):\n",
    "    Update()\n",
    "\n",
    "    print(\"iterations\")\n",
    "    print(time)\n",
    "        "
   ]
  },
  {
   "cell_type": "code",
   "execution_count": null,
   "metadata": {},
   "outputs": [],
   "source": []
  }
 ],
 "metadata": {
  "kernelspec": {
   "display_name": "Python 3",
   "language": "python",
   "name": "python3"
  },
  "language_info": {
   "codemirror_mode": {
    "name": "ipython",
    "version": 3
   },
   "file_extension": ".py",
   "mimetype": "text/x-python",
   "name": "python",
   "nbconvert_exporter": "python",
   "pygments_lexer": "ipython3",
   "version": "3.7.7"
  }
 },
 "nbformat": 4,
 "nbformat_minor": 4
}
