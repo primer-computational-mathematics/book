{
 "cells": [
  {
   "cell_type": "markdown",
   "metadata": {},
   "source": [
    "(Lecture7_Pipe_Flow_with_Heat) =\n",
    "\n",
    "# Lecture7_Pipe_Flow_with_Heat"
   ]
  },
  {
   "cell_type": "markdown",
   "metadata": {},
   "source": [
    "Following the 1D pipe flow problem in lecture 5, we now turn to problems involving both fluid flow and heat transfer."
   ]
  },
  {
   "cell_type": "markdown",
   "metadata": {},
   "source": [
    "## Problem 6.26"
   ]
  },
  {
   "cell_type": "markdown",
   "metadata": {},
   "source": [
    "Apply analysis to pressure-driven steady-state channel flow for no-slip walls. Assume $dp/dx=1$, and $y=-h/2$ to $h/2$. We consider the case in which the wall temperature of the channel $T_w$ is changing linearly along its length; that is,"
   ]
  },
  {
   "cell_type": "markdown",
   "metadata": {},
   "source": [
    "$$T_w (x) = C_1 x + C_2$$ (equation1) where $C_1$ and $C_2$ are constants."
   ]
  },
  {
   "cell_type": "markdown",
   "metadata": {},
   "source": [
    " Accordingly, we consider the temperature of the fluid at any point (x,y) is given by"
   ]
  },
  {
   "cell_type": "markdown",
   "metadata": {},
   "source": [
    "$$T(x,y) = C_1 x +C_2 + \\theta(y) = T_w(x) + \\theta(y)$$ (equation2) where $\\theta(y)$ is the difference between the fluid temperature and the wall temperature. "
   ]
  },
  {
   "cell_type": "markdown",
   "metadata": {},
   "source": [
    "<img src='img/P626.PNG' width = 700>\n",
    "Figure 8.1"
   ]
  },
  {
   "cell_type": "markdown",
   "metadata": {},
   "source": [
    "Derive the temperature equation in the cartesian coordinate."
   ]
  },
  {
   "cell_type": "markdown",
   "metadata": {},
   "source": [
    "First of all, let's use the general equation for velocity we derived in lecture 5 for the same channel flow problem."
   ]
  },
  {
   "cell_type": "markdown",
   "metadata": {},
   "source": [
    "With the boundary conditions of $u(y=\\pm h/2)=0$, we have"
   ]
  },
  {
   "cell_type": "markdown",
   "metadata": {},
   "source": [
    "$$u(y) = \\frac{1}{2\\mu}\\frac{dp}{dx}(y^2-\\frac{h^2}{4}) = 3\\bar{u}(\\frac{1}{2}-\\frac{2}{h^2}y^2)$$ (equation3)"
   ]
  },
  {
   "cell_type": "markdown",
   "metadata": {},
   "source": [
    "$$\\bar{u}(y)=-\\frac{1}{4\\mu}\\frac{dp}{dx}\\frac{h^2}{3}$$ (equation4)"
   ]
  },
  {
   "cell_type": "markdown",
   "metadata": {},
   "source": [
    "Then, we assume that the heat going into the system (i.e. any tiny red rectangle as shown in figure 8.2) equals to the heat going out of the system. This means that the net heat flowing into or out of the system due to wall heating should be the same amount of heat as the net heat flowing into or out of the system due to fluid flow. In a word, the net heat conduction in y-direction should be the same as the net heat advection in x-direction. However, we do not consider the heat being stored in the system, so the net heat rates must be balanced out."
   ]
  },
  {
   "cell_type": "markdown",
   "metadata": {},
   "source": [
    "The velocity profile we derived earlier will help us find the net heat advection in x-direction."
   ]
  },
  {
   "cell_type": "markdown",
   "metadata": {},
   "source": [
    "<img src='img/P626_4.PNG' width = 700>\n",
    "Figure 8.2"
   ]
  },
  {
   "cell_type": "markdown",
   "metadata": {},
   "source": [
    "As shown in the figure 8.2, the net heat advection rate (in the tiny red rectangle) is"
   ]
  },
  {
   "cell_type": "markdown",
   "metadata": {},
   "source": [
    "$$\\sum d\\dot{Q}_{adv} = d\\dot{Q}_{in} -d \\dot{Q}_{out} = dy (u \\rho c T(x)  - u \\rho c T(x+\\delta x)) $$ (equation5)"
   ]
  },
  {
   "cell_type": "markdown",
   "metadata": {},
   "source": [
    "Using the approximation that "
   ]
  },
  {
   "cell_type": "markdown",
   "metadata": {},
   "source": [
    "$$T(x+\\delta x) = T(x)+\\frac{\\delta T}{\\delta x}*dx$$ (equation6)"
   ]
  },
  {
   "cell_type": "markdown",
   "metadata": {},
   "source": [
    "We have the net rate of heat due to advection"
   ]
  },
  {
   "cell_type": "markdown",
   "metadata": {},
   "source": [
    "$$\\sum d\\dot{Q}_{adv} = -dyu\\rho c \\frac{\\delta T}{\\delta x}dx$$ (equation7)"
   ]
  },
  {
   "cell_type": "markdown",
   "metadata": {},
   "source": [
    "We can write the equation {eq}`equation7` in another form by replacing velocity $u$ with $\\frac{dx}{dt}$ to understand the physical unit (since we are all familiar with the famous equation $Q=cm\\Delta T$)."
   ]
  },
  {
   "cell_type": "markdown",
   "metadata": {},
   "source": [
    "$$\\sum d\\dot{Q}_{adv} = -dy \\frac{dx}{dt}\\rho c \\frac{dT}{dx}dx = \\frac{c \\cdot dm \\cdot \\Delta T}{t}$$ (equation8) where tiny mass of red rectangle $dm = dx dy \\rho$"
   ]
  },
  {
   "cell_type": "markdown",
   "metadata": {},
   "source": [
    "Since we know that the derivative of temperature $T(x,y)$ in {eq}`equation7` wrt. $x$ is $C_1$, and the velocity $u(y)$ from {eq}`equation3`, we can rewrite {eq}`equation7` as"
   ]
  },
  {
   "cell_type": "markdown",
   "metadata": {},
   "source": [
    "$$\\sum d\\dot{Q}_{adv} = -dy \\cdot  3\\bar{u}(\\frac{1}{2}-\\frac{2}{h^2}y^2) \\cdot \\rho c \\cdot C_1dx$$ (equation9)"
   ]
  },
  {
   "cell_type": "markdown",
   "metadata": {},
   "source": [
    "Next, we study the net heat conduction rate in the y-direction due to wall heating."
   ]
  },
  {
   "cell_type": "markdown",
   "metadata": {},
   "source": [
    "<img src='img/P626_5.PNG' width = 700>\n",
    "Figure 8.3"
   ]
  },
  {
   "cell_type": "markdown",
   "metadata": {},
   "source": [
    "$$\\sum d\\dot{Q}_{con} = d\\dot{Q}_{in} -d \\dot{Q}_{out} = dx (q_x(y+\\delta y)  - q_x(y)) $$ (equation10) where heat flux $q_x = - k \\frac{\\delta T}{\\delta y}$, and $k$ is the thermal conductivity of the fluid."
   ]
  },
  {
   "cell_type": "markdown",
   "metadata": {},
   "source": [
    "Again, using the first term of the Taylor expansion to approximate $q_x(y+\\delta y)$, we have"
   ]
  },
  {
   "cell_type": "markdown",
   "metadata": {},
   "source": [
    "$$q_x(y+\\delta y) = q_x(y)+\\frac{dq_x}{dy}*dy$$ (equation11)"
   ]
  },
  {
   "cell_type": "markdown",
   "metadata": {},
   "source": [
    "So equation {eq}`equation10` becomes "
   ]
  },
  {
   "cell_type": "markdown",
   "metadata": {},
   "source": [
    "$$\\sum d\\dot{Q}_{con} = dx \\frac{dq_x}{dy}dy = - dx \\cdot k \\frac{\\delta^2 T}{\\delta y^2}dy$$ (equation12)"
   ]
  },
  {
   "cell_type": "markdown",
   "metadata": {},
   "source": [
    "Finally, as we said before, the net heat rate of the system should be balanced by the conduction and convection. So we combine {eq}`equation9` and {eq}`equation12`, and have"
   ]
  },
  {
   "cell_type": "markdown",
   "metadata": {},
   "source": [
    "$$\\sum d\\dot{Q}_{con} + d\\dot{Q}_{adv} = - dx \\cdot k \\frac{\\delta^2 T}{\\delta y^2}dy  -dy \\cdot  3\\bar{u}(\\frac{1}{2}-\\frac{2}{h^2}y^2) \\cdot \\rho c \\cdot C_1dx = 0 $$ (equation13) where $\\frac{\\delta^2 T}{\\delta y^2}=\\frac{\\delta^2 \\theta}{\\delta y^2}$ from {eq}`equation2`."
   ]
  },
  {
   "cell_type": "markdown",
   "metadata": {},
   "source": [
    "Rearrange {eq}`equation13`, we have an equation of $\\frac{\\delta^2 \\theta}{\\delta y^2}$"
   ]
  },
  {
   "cell_type": "markdown",
   "metadata": {},
   "source": [
    "$$\\frac{\\delta^2 \\theta}{\\delta y^2} = \\frac{6 \\bar{u}}{k h^2}\\rho c C_1 y^2 - \\frac{3\\bar{u}}{2k}\\rho c C_1$$ (equation14)"
   ]
  },
  {
   "cell_type": "markdown",
   "metadata": {},
   "source": [
    "Integrate it twice, and apply two boundary conditions ($\\frac{\\delta \\theta}{\\delta y}=0$ at $y=0$ and $\\theta = 0$ at $y = \\pm h/2$), we will arrive at"
   ]
  },
  {
   "cell_type": "markdown",
   "metadata": {},
   "source": [
    "$$\\theta(y)=\\frac{ \\rho cC_1}{4k\\mu}\\frac{dp}{dx}(\\frac{1}{6}y^4-\\frac{1}{16}h^2y^2+\\frac{5}{1536}h^4)$$ (equation15)"
   ]
  },
  {
   "cell_type": "markdown",
   "metadata": {},
   "source": [
    "Using $\\kappa = \\frac{\\rho c}{\\mu}$, $\\frac{dp}{dx}=1$ and $d=\\frac{h}{2}$ to rewrite equation {eq}`equation15`, we will have the same answer as the book"
   ]
  },
  {
   "cell_type": "markdown",
   "metadata": {},
   "source": [
    "$$\\theta(y)=\\frac{ C_1}{4\\kappa\\mu}(\\frac{1}{6}y^4-\\frac{1}{4}d^2y^2+\\frac{5}{96}d^4)$$ (equation16)"
   ]
  },
  {
   "cell_type": "markdown",
   "metadata": {},
   "source": [
    "Finally, we have"
   ]
  },
  {
   "cell_type": "markdown",
   "metadata": {},
   "source": [
    "$$T(x,y)  = T_w(x) + \\theta(y) = C_1x + C_2 + \\frac{ C_1}{4\\kappa\\mu}(\\frac{1}{6}y^4-\\frac{1}{4}d^2y^2+\\frac{5}{96}d^4)$$ (equation17)"
   ]
  },
  {
   "cell_type": "code",
   "execution_count": 35,
   "metadata": {},
   "outputs": [
    {
     "data": {
      "image/png": "[encoded data removed]",
      "text/plain": [
       "<Figure size 504x360 with 1 Axes>"
      ]
     },
     "metadata": {
      "needs_background": "light"
     },
     "output_type": "display_data"
    }
   ],
   "source": [
    "from mpl_toolkits import mplot3d\n",
    "import numpy as np\n",
    "import matplotlib.pyplot as plt\n",
    "N  = 100    # number of points to plot (ignore)\n",
    "mu = 0.001    # viscosity of water\n",
    "dpdx = 1    # when pressure difference = 0, known as Couette ﬂow\n",
    "h = 10    # thickness of channel (m)\n",
    "d = h/2 \n",
    "C1 = 10\n",
    "C2 = 10\n",
    "rho = 1000    # density of water\n",
    "c = 4190    # specific heat capacity of water\n",
    "k = 4    # thermal conductivity of water at 20 degree = 4.18 in SI unit\n",
    "kappa = k/(rho*c)    # thermal diffusivity, sometimes called alpha\n",
    "x_range = 20    # length of the channel\n",
    "\n",
    "\n",
    "def T(x, y):\n",
    "    return C1*x +C2 + C1/(4*kappa*mu)*( (1/6)*y**4 - (1/4)*d**2 * y**2 + (5/96)*d**4 )\n",
    "\n",
    "\n",
    "x = np.linspace(0, x_range, N)\n",
    "y = np.linspace(-d, d, N)\n",
    "\n",
    "X, Y = np.meshgrid(x, y)\n",
    "Z = T(X, Y)\n",
    "\n",
    "fig = plt.figure(figsize=(7, 5))\n",
    "ax = plt.axes(projection='3d')\n",
    "ax.contour3D(X, Y, Z, 50)\n",
    "ax.set_xlabel('x')\n",
    "ax.set_ylabel('y')\n",
    "ax.set_zlabel('$T$')\n",
    "ax.view_init(90, 270)\n",
    "ax.set_title('Channel Flow Temperature Profile')\n",
    "plt.show()"
   ]
  },
  {
   "cell_type": "code",
   "execution_count": null,
   "metadata": {},
   "outputs": [],
   "source": []
  }
 ],
 "metadata": {
  "kernelspec": {
   "display_name": "Python 3",
   "language": "python",
   "name": "python3"
  },
  "language_info": {
   "codemirror_mode": {
    "name": "ipython",
    "version": 3
   },
   "file_extension": ".py",
   "mimetype": "text/x-python",
   "name": "python",
   "nbconvert_exporter": "python",
   "pygments_lexer": "ipython3",
   "version": "3.7.7"
  }
 },
 "nbformat": 4,
 "nbformat_minor": 4
}
