{
 "cells": [
  {
   "cell_type": "markdown",
   "metadata": {},
   "source": [
    "(One_D_Pipe_Flow)=\n",
    "# Lecture5_1D_Pipe_Flow"
   ]
  },
  {
   "cell_type": "code",
   "execution_count": 3,
   "metadata": {},
   "outputs": [
    {
     "data": {
      "application/javascript": [
       "MathJax.Hub.Config({\n",
       "    TeX: { equationNumbers: { autoNumber: \"AMS\" } }\n",
       "});\n",
       "MathJax.Hub.Queue(\n",
       "  [\"resetEquationNumbers\", MathJax.InputJax.TeX],\n",
       "  [\"PreProcess\", MathJax.Hub],\n",
       "  [\"Reprocess\", MathJax.Hub]\n",
       ");\n"
      ],
      "text/plain": [
       "<IPython.core.display.Javascript object>"
      ]
     },
     "metadata": {},
     "output_type": "display_data"
    }
   ],
   "source": [
    "%%javascript\n",
    "MathJax.Hub.Config({\n",
    "    TeX: { equationNumbers: { autoNumber: \"AMS\" } }\n",
    "});\n",
    "MathJax.Hub.Queue(\n",
    "  [\"resetEquationNumbers\", MathJax.InputJax.TeX],\n",
    "  [\"PreProcess\", MathJax.Hub],\n",
    "  [\"Reprocess\", MathJax.Hub]\n",
    ");"
   ]
  },
  {
   "cell_type": "markdown",
   "metadata": {},
   "source": [
    "## Channel Flow"
   ]
  },
  {
   "cell_type": "markdown",
   "metadata": {},
   "source": [
    "We consider the one-dimensional ﬂow of a Newtonian viscous ﬂuid in a channel between parallel plates as a model for channel ﬂow. "
   ]
  },
  {
   "cell_type": "markdown",
   "metadata": {},
   "source": [
    "<img src=\"img/F61.PNG\" width=\"500\">\n",
    "Figure 6.1: (a) The force balance on a layer of ﬂuid in a channel with an applied pressure gradient. (b) A typical velocity proﬁle."
   ]
  },
  {
   "cell_type": "markdown",
   "metadata": {},
   "source": [
    "For a Newtonian ﬂuid with constant viscosity $\\mu$, the shear stress $\\tau$ at any location in the channel is given by\n"
   ]
  },
  {
   "cell_type": "markdown",
   "metadata": {},
   "source": [
    "$$\\tau =\\mu \\frac{d u}{dy}$$ (equa1)"
   ]
  },
  {
   "cell_type": "markdown",
   "metadata": {},
   "source": [
    "It is not hard to prove that"
   ]
  },
  {
   "cell_type": "markdown",
   "metadata": {},
   "source": [
    "$$\\frac{d \\tau}{d y} = \\frac{dp}{dx} = -\\frac{p_1-p_0}{l}$$(eq2)"
   ]
  },
  {
   "cell_type": "markdown",
   "metadata": {},
   "source": [
    "Combining the equations {eq}`equa1` and {eq}`eq2`, and integrating the result we have the velocity $u$ profile as a function of $y$:"
   ]
  },
  {
   "cell_type": "markdown",
   "metadata": {},
   "source": [
    "$$u=\\frac{1}{2\\mu}\\frac{dp}{dx}y^2+c_1y+c_2$$ (eq3)"
   ]
  },
  {
   "cell_type": "markdown",
   "metadata": {},
   "source": [
    "To evaluate the constants, we must satisfy the boundary conditions. For example, for a no-slip boundary conditions as shown in figure 6.1, a viscous ﬂuid in contact with a solid boundary must have the same velocity as the boundary, so that $u=0$ at $y=h$ and $u=u_0$ at $y =0$. Hence, the equation becomes"
   ]
  },
  {
   "cell_type": "markdown",
   "metadata": {},
   "source": [
    "$$u=\\frac{1}{2\\mu}\\frac{dp}{dx}(y^2-hy)-\\frac{u_0y}{h}+u_0$$(eq4)"
   ]
  },
  {
   "cell_type": "code",
   "execution_count": 3,
   "metadata": {},
   "outputs": [
    {
     "data": {
      "image/png": "[encoded data removed]",
      "text/plain": [
       "<Figure size 432x288 with 1 Axes>"
      ]
     },
     "metadata": {
      "needs_background": "light"
     },
     "output_type": "display_data"
    }
   ],
   "source": [
    "import numpy as np\n",
    "import matplotlib.pyplot as plt\n",
    "N  = 10000    # number of points to plot (ignore)\n",
    "mu = 4*(10**19)    # viscosity\n",
    "dpdx = 0    # when pressure difference = 0, known as Couette ﬂow\n",
    "h = 200000    # thickness of channel (m)\n",
    "u0 = 1.5844   # boundary (max) velocity (m/s)\n",
    "\n",
    "def main():\n",
    "    y = np.linspace(0, h, N)\n",
    "    \n",
    "    u = (1/(2*mu)) * dpdx * (y*y - h*y) - (u0*y)/(h) + u0\n",
    "\n",
    "    plt.figure()\n",
    "    plt.plot(y, u)\n",
    "    plt.xlabel('$y (m)$')\n",
    "    plt.ylabel('$u (m/s)$')\n",
    "    plt.title('Velocity Profile')\n",
    "    \n",
    "    plt.show()\n",
    "\n",
    "if __name__ == '__main__':\n",
    "    main()"
   ]
  },
  {
   "cell_type": "markdown",
   "metadata": {},
   "source": [
    "## Problem 6.1"
   ]
  },
  {
   "cell_type": "markdown",
   "metadata": {},
   "source": [
    "Show that the mean velocity in the channel is given by\n",
    "$$\\bar{u}=-\\frac{h^2}{12\\mu}\\frac{dp}{dx}+\\frac{u_0}{2}$$(eq5)"
   ]
  },
  {
   "cell_type": "markdown",
   "metadata": {},
   "source": [
    "This can be easily proved by integrating velocity equation {eq}`eq4` wrt. $y$ from $0$ to $h$, and then divided by the thickness of channel $h$"
   ]
  },
  {
   "cell_type": "code",
   "execution_count": 5,
   "metadata": {},
   "outputs": [
    {
     "name": "stdout",
     "output_type": "stream",
     "text": [
      "[0.00000000e+00 2.00020002e+01 4.00040004e+01 ... 1.99959996e+05\n",
      " 1.99979998e+05 2.00000000e+05]\n"
     ]
    },
    {
     "data": {
      "image/png": "[encoded data removed]",
      "text/plain": [
       "<Figure size 432x288 with 1 Axes>"
      ]
     },
     "metadata": {
      "needs_background": "light"
     },
     "output_type": "display_data"
    }
   ],
   "source": [
    "import numpy as np\n",
    "import matplotlib.pyplot as plt\n",
    "from matplotlib.patches import Polygon\n",
    "\n",
    "\n",
    "def velocity_u(y):\n",
    "    return (1/(2*mu)) * dpdx * (y*y - h*y) - (u0*y)/(h) + u0\n",
    "\n",
    "\n",
    "a, b = 0, h  # integral limits\n",
    "y = np.linspace(a, b, N)\n",
    "print(y)\n",
    "u = velocity_u(y)\n",
    "\n",
    "fig, ax = plt.subplots()\n",
    "ax.plot(y, u, 'r', linewidth=2)\n",
    "ax.set_ylim(bottom=0)\n",
    "\n",
    "def mean_u(a,b,y):\n",
    "    bin_size = (b-a)/N\n",
    "    area = 0\n",
    "    for iy in y:\n",
    "        u = velocity_u(iy)\n",
    "        area += u * bin_size\n",
    "    return area/(b-a)\n",
    "\n",
    "x_coordinates = [a, b]\n",
    "y_coordinates = [mean_u(a,b,y), mean_u(a,b,y)]\n",
    "\n",
    "ax.plot(x_coordinates, y_coordinates, linestyle='dashed',label='Mean Velocity u')\n",
    "ax.legend()\n",
    "\n",
    "\n",
    "# Make the shaded region\n",
    "ix = np.linspace(a, b)\n",
    "iy = velocity_u(ix)\n",
    "verts = [(a, 0), *zip(ix, iy), (b, 0)]\n",
    "poly = Polygon(verts, facecolor='0.9', edgecolor='0.5')\n",
    "ax.add_patch(poly)\n",
    "\n",
    "ax.text(0.5 * (a + b), 0.5, r\"$\\int_0^h u(y)\\mathrm{d}y$\",\n",
    "        horizontalalignment='center', fontsize=20)\n",
    "\n",
    "fig.text(0.9, 0.05, '$y$')\n",
    "fig.text(0.1, 0.9, '$u$')\n",
    "\n",
    "ax.spines['right'].set_visible(False)\n",
    "ax.spines['top'].set_visible(False)\n",
    "ax.xaxis.set_ticks_position('bottom')\n",
    "\n",
    "ax.set_xticks((a, b))\n",
    "ax.set_xticklabels(('$0$', '$h$'))\n",
    "ax.set_yticks([])\n",
    "\n",
    "\n",
    "plt.show()"
   ]
  },
  {
   "cell_type": "markdown",
   "metadata": {},
   "source": [
    "## Problem 6.2"
   ]
  },
  {
   "cell_type": "markdown",
   "metadata": {},
   "source": [
    "Derive a general expression for the shear stress $\\tau$ at any location $y$ in the channel."
   ]
  },
  {
   "cell_type": "markdown",
   "metadata": {},
   "source": [
    "This can be easily derived by using equation {eq}`equ1`, in which the velocity $u$ is expressed by equation {eq}`eq4`. Hence the result is"
   ]
  },
  {
   "cell_type": "markdown",
   "metadata": {},
   "source": [
    "$$\\tau(y)=\\frac{1}{2}\\frac{dp}{dx}(2y-h) - \\mu\\frac{u_0}{h}$$ (eq6)"
   ]
  },
  {
   "cell_type": "markdown",
   "metadata": {},
   "source": [
    " What are the simpliﬁed forms of $\\tau$ for Couette ﬂow and for the case $u_0 = 0$?\n"
   ]
  },
  {
   "cell_type": "markdown",
   "metadata": {},
   "source": [
    "Since we know that the pressure difference $\\frac{dp}{dx}=0$ for Couette flow, then we can obtain"
   ]
  },
  {
   "cell_type": "markdown",
   "metadata": {},
   "source": [
    "$$\\tau=-\\mu\\frac{u_0}{h}$$ (eq7)"
   ]
  },
  {
   "cell_type": "markdown",
   "metadata": {},
   "source": [
    "Also, if the boundary velocity $u_0=0$, then"
   ]
  },
  {
   "cell_type": "markdown",
   "metadata": {},
   "source": [
    "$$\\tau=\\frac{1}{2}\\frac{dp}{dx}(2y-h)$$ (eq8)"
   ]
  },
  {
   "cell_type": "markdown",
   "metadata": {},
   "source": [
    "## Problem 6.3"
   ]
  },
  {
   "cell_type": "markdown",
   "metadata": {},
   "source": [
    "Find the point in the channel $y$ at which the velocity is a maximum."
   ]
  },
  {
   "cell_type": "markdown",
   "metadata": {},
   "source": [
    "At this point $y$, the derivative of the velocity (equation {eq}`eq4`) must be zero and the second derivative of it must be negative. Using this relationship, we can rearrange the equation and obtain"
   ]
  },
  {
   "cell_type": "markdown",
   "metadata": {},
   "source": [
    "$$y=\\frac{h}{2}+\\frac{u_0\\mu_0}{h(dp/dx)}$$(eq9)"
   ]
  },
  {
   "cell_type": "markdown",
   "metadata": {},
   "source": [
    "## Problem 6.4"
   ]
  },
  {
   "cell_type": "markdown",
   "metadata": {},
   "source": [
    "<img src=\"img/F62.PNG\" width=\"500\">\n",
    "Figure 6.3: Unidirectional ﬂow of a constant thickness layer of viscous ﬂuid down an inclined plane."
   ]
  },
  {
   "cell_type": "markdown",
   "metadata": {},
   "source": [
    "Consider the steady, unidirectional ﬂow of a viscous ﬂuid down the upper face of an inclined plane. Assume that the ﬂow occurs in a layer of constant thickness h, as shown in figure 6.3. Show that the velocity proﬁle is given by"
   ]
  },
  {
   "cell_type": "markdown",
   "metadata": {},
   "source": [
    "$$u(y)=\\frac{\\rho g sin\\alpha}{2\\mu}(h^2-y^2)$$(eq10)"
   ]
  },
  {
   "cell_type": "markdown",
   "metadata": {},
   "source": [
    "where $y$ is the coordinate measured perpendicular to the inclined plane ($y = h$ is the surface of the plane), $\\alpha$ is the inclination of the plane to the horizontal, and $g$ is the acceleration of gravity. "
   ]
  },
  {
   "cell_type": "markdown",
   "metadata": {},
   "source": [
    "Imagine we have a tiny rectangle in the liquid as shown in figure 6.3, there would be three forces acting on this body: the dragging force $F_{\\tau(y)}$ to the downhill direction caused by shear stress $\\tau(y)$, the gravitational force $F_g sin\\alpha$ pulling it to the downhill direction and the resisting drag force acting uphill $-F_{\\tau(y+\\delta y)}$ that is due to the shear stress $\\tau(y+\\delta y)$:"
   ]
  },
  {
   "cell_type": "markdown",
   "metadata": {},
   "source": [
    "$$F_{\\tau(y)}=l*\\tau(y)$$(eq11)"
   ]
  },
  {
   "cell_type": "markdown",
   "metadata": {},
   "source": [
    "$$-F_{\\tau(y+\\delta y)}=-l*\\tau(y+\\delta y)=-l*(\\tau(y)+\\frac{d\\tau}{dy}*\\delta y)$$(eq12)"
   ]
  },
  {
   "cell_type": "markdown",
   "metadata": {},
   "source": [
    "$$F_g sin \\alpha = mg*sin\\alpha =v\\rho*g*sin\\alpha= \\delta y * l * \\rho * g * sin\\alpha$$(eq13)"
   ]
  },
  {
   "cell_type": "markdown",
   "metadata": {},
   "source": [
    "If we assume that the fluid flows in a constant velocity, that is, there is zero acceleration, then the net forces in the x-direction would be 0, which means the sum of the equations {eq}`eq11`, {eq}`eq12` and {eq}`eq13` would be zero."
   ]
  },
  {
   "cell_type": "markdown",
   "metadata": {},
   "source": [
    "$$\\sum F_x = F_{\\tau(y)} - F{\\tau(y+\\delta y)} + F_g*sin\\alpha = 0$$(eq14)"
   ]
  },
  {
   "cell_type": "markdown",
   "metadata": {},
   "source": [
    "Rearrange equation {eq}`eq14`, we can obtain"
   ]
  },
  {
   "cell_type": "markdown",
   "metadata": {},
   "source": [
    "$$\\frac{d\\tau}{dy}=-\\rho g sin\\alpha$$(eq15)"
   ]
  },
  {
   "cell_type": "markdown",
   "metadata": {},
   "source": [
    "Applying the shear stress from equation {eq}`eq1` into equation {eq}`eq15`, we have"
   ]
  },
  {
   "cell_type": "markdown",
   "metadata": {},
   "source": [
    "$$\\mu \\frac{d^2 u}{d y^2} = -\\rho g sin\\alpha$$(eq16)"
   ]
  },
  {
   "cell_type": "markdown",
   "metadata": {},
   "source": [
    "Integrate equation {eq}`eq16` and we have"
   ]
  },
  {
   "cell_type": "markdown",
   "metadata": {},
   "source": [
    "$$\\frac{du}{dy}=-\\frac{\\rho g sin\\alpha}{\\mu}y+C_1$$ (eq17)"
   ]
  },
  {
   "cell_type": "markdown",
   "metadata": {},
   "source": [
    "Recall equation {eq}`eq1`, $\\frac{du}{dy}$ is related to shear stress $\\tau$. So we can apply the free surface condition ($\\tau=0$ at $y=0$), and obtain the constant $C_1 = 0$."
   ]
  },
  {
   "cell_type": "markdown",
   "metadata": {},
   "source": [
    "Integrate equation {eq}`eq16` again, we have"
   ]
  },
  {
   "cell_type": "markdown",
   "metadata": {},
   "source": [
    "$$u(y) = -\\frac{\\rho g sin\\alpha}{2\\mu}y^2+C_1 y+C_2$$(eq18) \n",
    "where $C_1=0$ from the free surface condition. "
   ]
  },
  {
   "cell_type": "markdown",
   "metadata": {},
   "source": [
    "Then, we apply no-slip condition ($u=0$) at $y=h$, and obtain $C_2$."
   ]
  },
  {
   "cell_type": "markdown",
   "metadata": {},
   "source": [
    "$$0 =  -\\frac{\\rho g sin\\alpha}{2\\mu}h^2+C_2$$(eq19)"
   ]
  },
  {
   "cell_type": "markdown",
   "metadata": {},
   "source": [
    "Finally, we plug in $C_1$ and $C_2$ into equation {eq}`eq18`, we can show that:"
   ]
  },
  {
   "cell_type": "markdown",
   "metadata": {},
   "source": [
    "$$u (y) = \\frac{\\rho g sin\\alpha}{2\\mu}(h^2-y^2)$$(eq20)"
   ]
  },
  {
   "cell_type": "markdown",
   "metadata": {},
   "source": [
    "It is not hard to obtain the mean veolocity in the layer by integrating the equation {eq}`eq20` from $0$ to $h$ and then divide it by $h$:"
   ]
  },
  {
   "cell_type": "markdown",
   "metadata": {},
   "source": [
    "$$\n",
    "\\bar{u} = \\frac{\\rho g h^2 sin\\alpha}{3\\mu}\n",
    "$$(eq21)"
   ]
  },
  {
   "cell_type": "markdown",
   "metadata": {},
   "source": [
    "What is the thickness of the layer whose rate of flow down the incline is $Q$ (per unit width in the direction perpendicular to the figure plane)?"
   ]
  },
  {
   "cell_type": "markdown",
   "metadata": {},
   "source": [
    "$$Q = \\bar{u} h$$(eq22)"
   ]
  },
  {
   "cell_type": "markdown",
   "metadata": {},
   "source": [
    "Rearrange we get"
   ]
  },
  {
   "cell_type": "markdown",
   "metadata": {},
   "source": [
    "$$h = (\\frac{3\\mu Q}{\\rho g sin\\alpha})^{1/3}$$(eq23)"
   ]
  },
  {
   "cell_type": "markdown",
   "metadata": {},
   "source": [
    "## Pipe Flow"
   ]
  },
  {
   "cell_type": "markdown",
   "metadata": {},
   "source": [
    "With subsequent applications to ﬂows in aquifers and volcanic conduits in mind, we next consider viscous ﬂow through a circular pipe. "
   ]
  },
  {
   "cell_type": "markdown",
   "metadata": {},
   "source": [
    "<img src=\"img/F66.PNG\" width=\"600\">\n",
    "Figure 6.6: Poiseuille ﬂow through a circular pipe."
   ]
  },
  {
   "cell_type": "markdown",
   "metadata": {},
   "source": [
    "If we assume the fluid flows in constant velocity, then the driving force and resisting force should be balanced like this"
   ]
  },
  {
   "cell_type": "markdown",
   "metadata": {},
   "source": [
    "$$(p_1-p_0)\\pi r^2 = -\\tau * 2\\pi r l$$(eq24)"
   ]
  },
  {
   "cell_type": "markdown",
   "metadata": {},
   "source": [
    "If we rearrange the equation, we have the shear stress"
   ]
  },
  {
   "cell_type": "markdown",
   "metadata": {},
   "source": [
    "$$-\\tau = \\frac{(p_1-p_0)\\pi r^2}{2\\pi r l} = \\frac{r}{2}\\frac{p_1-p_0}{l} = \\frac{r}{2}\\frac{dp}{dx}$$(eq25)\n",
    "where dp/dx is the pressure gradient along the pipe."
   ]
  },
  {
   "cell_type": "markdown",
   "metadata": {},
   "source": [
    "In the cylindrical geometry in Figure 6.6, the shear stress $\\tau$ is directly proportional to the radial gradient of the velocity $u$"
   ]
  },
  {
   "cell_type": "markdown",
   "metadata": {},
   "source": [
    "$$\n",
    "\\tau=\\mu\\frac{du}{dr}\n",
    "$$(_eq26)"
   ]
  },
  {
   "cell_type": "markdown",
   "metadata": {},
   "source": [
    "Combining equations {eq}`eq25` and {eq}`_eq26`, we have"
   ]
  },
  {
   "cell_type": "markdown",
   "metadata": {},
   "source": [
    "$$\\frac{du}{dr}=\\frac{r}{2\\mu}\\frac{dp}{dx}$$(eq27)"
   ]
  },
  {
   "cell_type": "markdown",
   "metadata": {},
   "source": [
    "which can be integrated to give"
   ]
  },
  {
   "cell_type": "markdown",
   "metadata": {},
   "source": [
    "$$u(r)=-\\frac{1}{4\\mu}\\frac{dp}{dx}(R^2-r^2)$$(eq28)"
   ]
  },
  {
   "cell_type": "markdown",
   "metadata": {},
   "source": [
    "We used the condition $u = 0$ at $r = R$. The velocity proﬁle in the pipe is a parabaloid of revolution; it is known as Poiseuille ﬂow. "
   ]
  },
  {
   "cell_type": "markdown",
   "metadata": {},
   "source": [
    "It is not hard to get the following quantities:"
   ]
  },
  {
   "cell_type": "markdown",
   "metadata": {},
   "source": [
    "$$Q=\\int^R_0 2\\pi r u dr = - \\frac{\\pi R^4}{8\\mu}\\frac{dp}{dx} = \\pi R^2 \\bar{\\mu}$$(eq29)"
   ]
  },
  {
   "cell_type": "markdown",
   "metadata": {},
   "source": [
    "where $\\mu$ is the mean velocity:"
   ]
  },
  {
   "cell_type": "markdown",
   "metadata": {},
   "source": [
    "$$\\bar{\\mu}=-\\frac{R^2}{8\\mu}\\frac{dp}{dx}=\\frac{1}{2}u_{max}$$(eq30)\n",
    "and $u_{max}$ is the maximum velocity."
   ]
  },
  {
   "cell_type": "markdown",
   "metadata": {},
   "source": [
    "$$u_{max}=-\\frac{R^2}{4\\mu}\\frac{dp}{dx}$$(eq31)"
   ]
  },
  {
   "cell_type": "markdown",
   "metadata": {},
   "source": [
    "It is often convenient in ﬂuid mechanics to work in terms of dimensionless variables. The relation between the mean velocity in the pipe and the pressure gradient {eq}`eq30` can be put into standard dimensionless form by introducing two quantities: a dimensionless pressure gradient or friction factor f and the Reynolds number Re. The friction factor is deﬁned as "
   ]
  },
  {
   "cell_type": "markdown",
   "metadata": {},
   "source": [
    "$$f=\\frac{-4R}{\\rho\\bar{\\mu}^2}\\frac{dp}{dx}$$(eq32)"
   ]
  },
  {
   "cell_type": "markdown",
   "metadata": {},
   "source": [
    "and the Reynolds number is given by"
   ]
  },
  {
   "cell_type": "markdown",
   "metadata": {},
   "source": [
    "$$Re = \\frac{\\rho \\bar{u}D}{\\mu}$$(eq33)\n",
    "where $D=2R$ is the pipe diameter."
   ]
  },
  {
   "cell_type": "markdown",
   "metadata": {},
   "source": [
    "Critical $Re$ is around $2200$ for pipe flow, above which the flow is turbulent and below which laminar. Although this number depends on the geometry of the pipe. Theoretically, for laminar flow, the relationship between $f$ and $Re$ is  "
   ]
  },
  {
   "cell_type": "markdown",
   "metadata": {},
   "source": [
    "$$f = \\frac{64}{Re}\n",
    "$$(eq34)"
   ]
  },
  {
   "cell_type": "markdown",
   "metadata": {},
   "source": [
    "Empirically, for turbulent flow, the relationship between $f$ and $Re$ is"
   ]
  },
  {
   "cell_type": "markdown",
   "metadata": {},
   "source": [
    "$$f=0.3164Re^{-1/4}$$(eq35)"
   ]
  },
  {
   "cell_type": "markdown",
   "metadata": {},
   "source": [
    "## Problem 6.7"
   ]
  },
  {
   "cell_type": "markdown",
   "metadata": {},
   "source": [
    "Determine $Re$ for asthenoshpheric type channel flow, assuming: $\\mu=4*10^{19}Pa*s, \\rho=3200 kg/m^3$, channel thickness is $200 km$ and the flow is driven solely by $50 mm/yr$ of motion of the overlying plate. "
   ]
  },
  {
   "cell_type": "markdown",
   "metadata": {},
   "source": [
    "$$Re= \\frac{3200*\\bar{u}*200000}{4*10^{19}}$$(eq36)"
   ]
  },
  {
   "cell_type": "code",
   "execution_count": 6,
   "metadata": {},
   "outputs": [
    {
     "name": "stdout",
     "output_type": "stream",
     "text": [
      "7.922000000000002e-10\n"
     ]
    }
   ],
   "source": [
    "dpdx = 0\n",
    "mu = 4* 10**19\n",
    "h = 200000\n",
    "u0 = 1.5844 * 10 ** (-9)\n",
    "a,b=0,h\n",
    "u_bar = mean_u(a,b,y)\n",
    "print(u_bar)"
   ]
  },
  {
   "cell_type": "markdown",
   "metadata": {},
   "source": [
    "$$Re= \\frac{3200*7.92*10^{-10}*200000}{4*10^{19}}= 1.27*10^{-20}$$(eq37)"
   ]
  },
  {
   "cell_type": "markdown",
   "metadata": {},
   "source": [
    " This problem illustrates that the viscosity of mantle rock is so high that the Reynolds number is generally small."
   ]
  },
  {
   "cell_type": "markdown",
   "metadata": {},
   "source": [
    "## Problem 6.8"
   ]
  },
  {
   "cell_type": "markdown",
   "metadata": {},
   "source": [
    "<img src=\"img/F69.PNG\" width=\"400\">\n",
    "Figure 6.9: A semicircular aquifer with a circular cross section (a toroid). A hydrostatic head b is available to drive the ﬂow.\n"
   ]
  },
  {
   "cell_type": "markdown",
   "metadata": {},
   "source": [
    "With the parameters provided below, what is the radius of the channel $R$, the average velocity $\\bar{u}$ and is the flow laminar or turbulent?"
   ]
  },
  {
   "cell_type": "code",
   "execution_count": 7,
   "metadata": {},
   "outputs": [],
   "source": [
    "b=50    # m, because the entrance of spring is 50 m above it\n",
    "Q = 1.667*10**(-3)    # Spring outputs: 100 L/min i.e.1.667*10**(-3) m3/s \n",
    "R_prime = 1000    # m, because entrance of spring 2km from outlet"
   ]
  },
  {
   "cell_type": "markdown",
   "metadata": {},
   "source": [
    "Now, we do not know if the flow is laminar or turbulent, but we can start with assuming the flow is laminar. Hence, the laminar flux is"
   ]
  },
  {
   "cell_type": "markdown",
   "metadata": {},
   "source": [
    "$$Q = - \\frac{\\pi R^4}{8\\mu}*\\frac{dp}{ds} = \\frac{\\rho g b R^4}{8\\mu R^{'}}$$(eq38)"
   ]
  },
  {
   "cell_type": "markdown",
   "metadata": {},
   "source": [
    "Rearrange the equation we have the radius of the channel $R$ (under the laminar flow assumption)"
   ]
  },
  {
   "cell_type": "markdown",
   "metadata": {},
   "source": [
    "$$R = \\sqrt[4]{\\frac{8Q\\mu R^{'}}{\\rho g b}} = 0.0133 m$$(eq39)"
   ]
  },
  {
   "cell_type": "markdown",
   "metadata": {},
   "source": [
    "The average velocity is therefore"
   ]
  },
  {
   "cell_type": "markdown",
   "metadata": {},
   "source": [
    "$$\\bar{u} = \\frac{Q}{A} = \\frac{\\rho g b R^4}{8\\mu R^{'} \\pi R^2} = 3.01 m/s$$ (eq40)"
   ]
  },
  {
   "cell_type": "markdown",
   "metadata": {},
   "source": [
    "Now, we can verify that if the flow is laminar or turbulent by calculating the $Re$, which is $1.49*10^7$. This is obviously larger than the threshold 2200, so the flow is actually turbulent. Thus, we need to recalculate the channel radius and mean velocity under the assumption that the flow is turbulent using the equation {eq}`eq35`."
   ]
  },
  {
   "cell_type": "markdown",
   "metadata": {},
   "source": [
    "Plugging in the $f$ (equation {eq}`eq32`) and $Re$ (equation {eq}`eq33`) we defined earlier into the relationship in {eq}`eq35`, we have the mean velocity $\\bar{u}$ after rearranging"
   ]
  },
  {
   "cell_type": "markdown",
   "metadata": {},
   "source": [
    "$$\\bar{u} = \\frac{2^{9/7}R^{5/7}\\frac{dp}{dy}^{4/7}}{0.3164^{4/7}\\mu^{1/7}\\rho^{3/7}} = 0.84 m/s$$(eq41)"
   ]
  },
  {
   "cell_type": "markdown",
   "metadata": {},
   "source": [
    "Using the simple relationship in the equation {eq}`eq40`, we can obtain the area, and thus the radius ($R=0.025m$) of the channel."
   ]
  },
  {
   "cell_type": "markdown",
   "metadata": {},
   "source": [
    "## Problem 6.9"
   ]
  },
  {
   "cell_type": "markdown",
   "metadata": {},
   "source": [
    "<img src=\"img/Rising_Magma1.PNG\" width=\"500\">\n",
    "Figure 6.10"
   ]
  },
  {
   "cell_type": "markdown",
   "metadata": {},
   "source": [
    "Determine the rate at which magma flows up a twodimensional channel of width $d$ under the buoyant pressure gradient $-(\\rho_s- \\rho_l)g$. Assume laminar flow.\n"
   ]
  },
  {
   "cell_type": "markdown",
   "metadata": {},
   "source": [
    "Again, we can assume that the fluid is steady and solve the force balance equation"
   ]
  },
  {
   "cell_type": "markdown",
   "metadata": {},
   "source": [
    "$$\\sum F_y = F_{\\tau(x)} - F{\\tau(x+\\delta x)} + F_p = 0$$ (eq42)"
   ]
  },
  {
   "cell_type": "markdown",
   "metadata": {},
   "source": [
    "$$F_{\\tau(x)}=\\tau(x)*l =\\mu \\frac{d u}{dx}*l$$(eq43)"
   ]
  },
  {
   "cell_type": "markdown",
   "metadata": {},
   "source": [
    "$$F_{\\tau(x+\\delta x)}=\\tau(x+\\delta x)*l= (\\tau(x)+\\frac{d \\tau}{d x}\\delta x*l =\\mu (\\frac{d u}{dx}+\\frac{d^2u}{dx^2})*l$$(eq44)"
   ]
  },
  {
   "cell_type": "markdown",
   "metadata": {},
   "source": [
    "$$F_p = (\\rho_s-\\rho_l)g*l*\\delta x $$ (eq45)"
   ]
  },
  {
   "cell_type": "markdown",
   "metadata": {},
   "source": [
    "Put equations {eq}`eq43`, {eq}`eq44` and {eq}`eq45` into {eq}`eq42`, we can obtain"
   ]
  },
  {
   "cell_type": "markdown",
   "metadata": {},
   "source": [
    "$$\\frac{d^2u}{dx^2} = \\frac{(\\rho_s-\\rho_l)g}{\\mu}$$(eq46)"
   ]
  },
  {
   "cell_type": "markdown",
   "metadata": {},
   "source": [
    "Integrating it twice we have"
   ]
  },
  {
   "cell_type": "markdown",
   "metadata": {},
   "source": [
    "$$u(x) = \\frac{(\\rho_s-\\rho_l)g}{2\\mu}x^2 + C_1 x + C_2$$(eq47) "
   ]
  },
  {
   "cell_type": "markdown",
   "metadata": {},
   "source": [
    "Because of the symmetry of the velocity profile, we can believe that $C_1$ is zero, otherwise the equation {eq}`eq47` would not be symmetric. And plugging in the no-slip boundary condition where $u=0$ at $x=\\pm\\frac{d}{2}$, we have $C_2 = - \\frac{(\\rho_s-\\rho_l)g}{8\\mu}d^2$."
   ]
  },
  {
   "cell_type": "markdown",
   "metadata": {},
   "source": [
    "As a result, the velocity profile for the channel is"
   ]
  },
  {
   "cell_type": "markdown",
   "metadata": {},
   "source": [
    "$$u(x) = \\frac{(\\rho_s-\\rho_l)g}{2\\mu}x^2 - \\frac{(\\rho_s-\\rho_l)g}{8\\mu}d^2$$(eq48)"
   ]
  },
  {
   "cell_type": "markdown",
   "metadata": {},
   "source": [
    "$$\\bar{u}=\\frac{1}{d}\\int^{d/2}_{-d/2} u(x) dx = \\frac{(\\rho_s-\\rho_l)g}{12\\mu}d^2$$(eq49)"
   ]
  },
  {
   "cell_type": "markdown",
   "metadata": {},
   "source": [
    "$$Q = \\bar{u} d = \\frac{(\\rho_s-\\rho_l)g}{12\\mu}d^3$$(eq50)"
   ]
  }
 ],
 "metadata": {
  "kernelspec": {
   "display_name": "Python 3",
   "language": "python",
   "name": "python3"
  },
  "language_info": {
   "codemirror_mode": {
    "name": "ipython",
    "version": 3
   },
   "file_extension": ".py",
   "mimetype": "text/x-python",
   "name": "python",
   "nbconvert_exporter": "python",
   "pygments_lexer": "ipython3",
   "version": "3.7.7"
  }
 },
 "nbformat": 4,
 "nbformat_minor": 4
}
