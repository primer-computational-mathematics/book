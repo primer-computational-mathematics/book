{
 "cells": [
  {
   "cell_type": "markdown",
   "metadata": {},
   "source": [
    "(Lecture6_Non_Linear_Viscosity_2D_Stokes) =\n",
    "\n",
    "# Lecture6_Non_Linear_Viscosity_2D_Stokes"
   ]
  },
  {
   "cell_type": "markdown",
   "metadata": {},
   "source": [
    "Although fracture is important in shallow crustal rock at low temperatures and pressures, there are many circumstances in which rock behaves as a ductile material. In determining the transition from brittle to ductile behavior, pressure, temperature, and strain rate are important. "
   ]
  },
  {
   "cell_type": "markdown",
   "metadata": {},
   "source": [
    "At temperatures that are a signiﬁcant fraction of the melt temperature the atoms and dislocations in a crystalline solid become suﬃciently mobile to result in creep when the solid is subjected to deviatoric stresses. At very low stresses diﬀusion processes dominate, and the crystalline solid behaves as a Newtonian ﬂuid with a viscosity that depends exponentially on pressure and the inverse absolute temperature. "
   ]
  },
  {
   "cell_type": "markdown",
   "metadata": {},
   "source": [
    "At higher stresses the motion of dislocations becomes the dominant creep process resulting in a non-Newtonian or nonlinear ﬂuid behavior that also has an exponential pressure and inverse absolute temperature dependence. "
   ]
  },
  {
   "cell_type": "markdown",
   "metadata": {},
   "source": [
    "<img src='img/strain_fluid.PNG' width=500>\n",
    "Figure 7.1: Shear strain in the fluid is measured by the displacement $dx$ between two nearby layers with a distance of $dy$."
   ]
  },
  {
   "cell_type": "markdown",
   "metadata": {},
   "source": [
    "$$ \\epsilon = \\frac{dx}{dy}$$ (equation1)"
   ]
  },
  {
   "cell_type": "markdown",
   "metadata": {},
   "source": [
    "The rate of strain measures the speed of deformation, and is defined by"
   ]
  },
  {
   "cell_type": "markdown",
   "metadata": {},
   "source": [
    "$$ \\dot{\\epsilon} = \\frac{dx}{dy} \\div t = \\frac{du}{dy}$$ (equation2)"
   ]
  },
  {
   "cell_type": "markdown",
   "metadata": {},
   "source": [
    "Recall that the cause for strain or deformation is stress, which is defined by"
   ]
  },
  {
   "cell_type": "markdown",
   "metadata": {},
   "source": [
    "$$ \\tau = \\sigma = \\mu \\frac{du}{dy}$$ (equation3)\n",
    "where $\\tau$ and $\\sigma$ are used interchangeably for stress, and $\\mu$ (or sometimes $\\eta$) is viscosity."
   ]
  },
  {
   "cell_type": "markdown",
   "metadata": {},
   "source": [
    "Therefore, we have obtained the relationship between stress and strain rate:"
   ]
  },
  {
   "cell_type": "markdown",
   "metadata": {},
   "source": [
    "$$ \\tau = \\mu *\\dot{\\epsilon} $$ (equation4)"
   ]
  },
  {
   "cell_type": "markdown",
   "metadata": {},
   "source": [
    "<img src='img/stress_strainRate.PNG' width=500>\n",
    "Figure 7.2: the gradient of the figure on the left hand side represents the inversity of viscosity. Dash line on the figure at the right represents the effective viscosity that changes with stress."
   ]
  },
  {
   "cell_type": "markdown",
   "metadata": {},
   "source": [
    "$$ \\dot{\\epsilon}=A\\sigma^n$$ (equation5)\n",
    "where $A = \\frac{1}{\\mu}$."
   ]
  },
  {
   "cell_type": "markdown",
   "metadata": {},
   "source": [
    "If the strain rate is linearly proportional to the change of stress (n = 1), then the fluid is Newtonian (diffusion creep)."
   ]
  },
  {
   "cell_type": "markdown",
   "metadata": {},
   "source": [
    "If $n>1$, the fluid is non-Newtonian (dislocation creep)."
   ]
  },
  {
   "cell_type": "markdown",
   "metadata": {},
   "source": [
    "If $n\\rightarrow\\infty$, the fluid is pseudo-plastic."
   ]
  },
  {
   "cell_type": "markdown",
   "metadata": {},
   "source": [
    "## Effective Viscosity"
   ]
  },
  {
   "cell_type": "markdown",
   "metadata": {},
   "source": [
    "The viscosity of drilling mud will change with a change in the shear rate because in some degree drilling fluids are shear-thinning. Because of its nature of drilling mud, people create the new term of viscosity called “Effective Viscosity” to compensate the change in shear rate of viscosity. By definition, the effective viscosity means the viscosity of Newtonian fluid that gives the same shear stress at the same shear rate."
   ]
  },
  {
   "cell_type": "markdown",
   "metadata": {},
   "source": [
    "As we can see from figure 7.2, the viscosity changes with stress in a non-Newtonian fluid. However, such change of viscosity (even with the same stress applied) would be different for different fluid. Based on lab experiments, the variable viscosity (not constant anymore), or effective viscosity, is dependent on many factors:"
   ]
  },
  {
   "cell_type": "markdown",
   "metadata": {},
   "source": [
    "$$ \\mu = C (\\frac{\\sigma}{G})^{1-n}exp[\\frac{E^{*}+pV^{*}}{RT}]\\;\\;\\;\\; \\;\\;\\;\\; C=\\frac{1}{2}(\\frac{G}{A}\\frac{d}{b})^{m}$$  (equation6) where the details of the equation can be found online."
   ]
  },
  {
   "cell_type": "markdown",
   "metadata": {},
   "source": [
    "## Problem 7.10"
   ]
  },
  {
   "cell_type": "markdown",
   "metadata": {},
   "source": [
    "Although we can obtain the viscosity from lab based on experiments, we can still get the analytical solution of effective viscosity for fluid in channel flow. Suppose we have no-slip boundary at $y=\\pm h/2$ and the strain rate obeys the power law."
   ]
  },
  {
   "cell_type": "markdown",
   "metadata": {},
   "source": [
    "<img src='img/1d_ChannelFlow.PNG' width =700>\n",
    "Figure 7.3: The velocity profile is symmetric due to the boundary conditions and the geometry of the channel."
   ]
  },
  {
   "cell_type": "markdown",
   "metadata": {},
   "source": [
    "Balancing viscous shear and pressure forces, we have"
   ]
  },
  {
   "cell_type": "markdown",
   "metadata": {},
   "source": [
    "$$\\frac{d\\tau}{dy}=\\frac{dp}{dx}$$ (equation7)"
   ]
  },
  {
   "cell_type": "markdown",
   "metadata": {},
   "source": [
    "Therefore, we can obtain the equation for stress by integrating wrt. y"
   ]
  },
  {
   "cell_type": "markdown",
   "metadata": {},
   "source": [
    "$$\\tau(y)=\\frac{dp}{dx}y+C$$ (equation8)"
   ]
  },
  {
   "cell_type": "markdown",
   "metadata": {},
   "source": [
    "Since we know that the stress can be expressed as"
   ]
  },
  {
   "cell_type": "markdown",
   "metadata": {},
   "source": [
    "$$\\tau = \\mu \\frac{du}{dy}$$ (equation9)"
   ]
  },
  {
   "cell_type": "markdown",
   "metadata": {},
   "source": [
    "and that the $\\frac{du}{dy}=0$ at $y=0$ by inspecting the velocity profile in figure 7.3, we can obtain"
   ]
  },
  {
   "cell_type": "markdown",
   "metadata": {},
   "source": [
    "$$\\tau (y=0) = 0$$ (equation10)"
   ]
  },
  {
   "cell_type": "markdown",
   "metadata": {},
   "source": [
    "So we know that the integral constant $C$ in {eq}`equation8` is zero."
   ]
  },
  {
   "cell_type": "markdown",
   "metadata": {},
   "source": [
    "Also, we have an non-linear relationship between the stress and strain rate for the non-Newtonian fluid as follow"
   ]
  },
  {
   "cell_type": "markdown",
   "metadata": {},
   "source": [
    "$$\\frac{du}{dy}=C_1\\tau^{n}$$ (equation11)"
   ]
  },
  {
   "cell_type": "markdown",
   "metadata": {},
   "source": [
    "We can plug in the $\\tau$ from {eq}`equation11` into {eq}`equation7` and arrive at"
   ]
  },
  {
   "cell_type": "markdown",
   "metadata": {},
   "source": [
    "$$\\frac{du}{dy}=C_1(\\frac{dp}{dx})^{n}y^n$$ (equation12)"
   ]
  },
  {
   "cell_type": "markdown",
   "metadata": {},
   "source": [
    "Further integrating {eq}`equation12`, and using the boundary condition $u(y=\\pm h/2)=0$, we have the velocity profile"
   ]
  },
  {
   "cell_type": "markdown",
   "metadata": {},
   "source": [
    "$$u=-\\frac{C_1}{n+1}(\\frac{dp}{dx})^n [(\\frac{h}{2})^{n+1}-y^{n+1}]$$ (equation13)"
   ]
  },
  {
   "cell_type": "markdown",
   "metadata": {},
   "source": [
    "We can also obtain the mean velocity across the channel"
   ]
  },
  {
   "cell_type": "markdown",
   "metadata": {},
   "source": [
    "$$\\bar{u}=\\frac{C_1}{n+2}(\\frac{dp}{dx})^n(\\frac{h}{2})^{n+1}$$ (equation14)"
   ]
  },
  {
   "cell_type": "markdown",
   "metadata": {},
   "source": [
    "Now, using the idea that the effective viscosity is the ratio between stress and strain rate, we have"
   ]
  },
  {
   "cell_type": "markdown",
   "metadata": {},
   "source": [
    "$$\\mu_{eff}=\\frac{\\tau}{\\frac{du}{dy}}=\\frac{\\frac{dp}{dx}y}{C_1(\\frac{dp}{dx})^{n}y^n} = \\frac{dp}{dx}\\frac{h^2}{4(n+2)\\bar{u}}(\\frac{2y}{h})^{1-n}$$ (equation15) where $\\frac{dp}{dx} = \\frac{p_1-p_0}{L}$"
   ]
  },
  {
   "cell_type": "markdown",
   "metadata": {},
   "source": [
    "And using the boundary condition, we can derive the scaled effective viscosity (as a function of $y/h$ or scaled $y$ distance where $-h/2 < y < h/2$)."
   ]
  },
  {
   "cell_type": "markdown",
   "metadata": {},
   "source": [
    "$$\\frac{\\mu_{eff}}{\\mu_{eff,wall}}=(\\frac{2y}{h})^{1-n}$$ (equation16)"
   ]
  },
  {
   "cell_type": "markdown",
   "metadata": {},
   "source": [
    "We can plot {eq}`equation16` for $n=1,3,5$ and for $-0.5<y/h<0.5$."
   ]
  },
  {
   "cell_type": "code",
   "execution_count": 25,
   "metadata": {},
   "outputs": [
    {
     "data": {
      "image/png": "[encoded data removed]",
      "text/plain": [
       "<Figure size 432x288 with 1 Axes>"
      ]
     },
     "metadata": {
      "needs_background": "light"
     },
     "output_type": "display_data"
    },
    {
     "data": {
      "image/png": "[encoded data removed]",
      "text/plain": [
       "<Figure size 432x288 with 1 Axes>"
      ]
     },
     "metadata": {
      "needs_background": "light"
     },
     "output_type": "display_data"
    },
    {
     "data": {
      "image/png": "[encoded data removed]",
      "text/plain": [
       "<Figure size 432x288 with 1 Axes>"
      ]
     },
     "metadata": {
      "needs_background": "light"
     },
     "output_type": "display_data"
    }
   ],
   "source": [
    "import numpy as np\n",
    "import matplotlib.pyplot as plt\n",
    "N  = 10000    # number of points to plot (ignore)\n",
    "\n",
    "n_list = [1,3,5]\n",
    "\n",
    "def main():\n",
    "    y_h = np.linspace(-0.5, 0.5, N)\n",
    "    \n",
    "   \n",
    "\n",
    "    for n in n_list:\n",
    "        scal_eff_mu = (2*y_h)**(1-n)\n",
    "        plt.figure()\n",
    "        plt.plot(y_h, scal_eff_mu)\n",
    "        plt.legend(str(n))\n",
    "        plt.xlabel('$y/h$')\n",
    "        plt.ylabel('$scaled effective viscosity$')\n",
    "        plt.title('Scaled Effective Viscosity Profile')\n",
    "        plt.ylim(0, 5)\n",
    "        plt.show()\n",
    "\n",
    "if __name__ == '__main__':\n",
    "    main()"
   ]
  },
  {
   "cell_type": "code",
   "execution_count": null,
   "metadata": {},
   "outputs": [],
   "source": []
  },
  {
   "cell_type": "code",
   "execution_count": null,
   "metadata": {},
   "outputs": [],
   "source": []
  },
  {
   "cell_type": "code",
   "execution_count": null,
   "metadata": {},
   "outputs": [],
   "source": []
  }
 ],
 "metadata": {
  "kernelspec": {
   "display_name": "Python 3",
   "language": "python",
   "name": "python3"
  },
  "language_info": {
   "codemirror_mode": {
    "name": "ipython",
    "version": 3
   },
   "file_extension": ".py",
   "mimetype": "text/x-python",
   "name": "python",
   "nbconvert_exporter": "python",
   "pygments_lexer": "ipython3",
   "version": "3.7.7"
  }
 },
 "nbformat": 4,
 "nbformat_minor": 4
}
