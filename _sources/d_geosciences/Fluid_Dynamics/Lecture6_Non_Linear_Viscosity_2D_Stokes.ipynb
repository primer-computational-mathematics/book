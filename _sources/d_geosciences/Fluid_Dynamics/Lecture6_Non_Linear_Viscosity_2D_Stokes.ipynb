{
 "cells": [
  {
   "cell_type": "markdown",
   "metadata": {},
   "source": [
    "(Lecture6_Non_Linear_Viscosity_2D_Stokes) =\n",
    "\n",
    "# Lecture6_Non_Linear_Viscosity_2D_Stokes"
   ]
  },
  {
   "cell_type": "markdown",
   "metadata": {},
   "source": [
    "Although fracture is important in shallow crustal rock at low temperatures and pressures, there are many circumstances in which rock behaves as a ductile material. In determining the transition from brittle to ductile behavior, pressure, temperature, and strain rate are important. "
   ]
  },
  {
   "cell_type": "markdown",
   "metadata": {},
   "source": [
    "At temperatures that are a signiﬁcant fraction of the melt temperature the atoms and dislocations in a crystalline solid become suﬃciently mobile to result in creep when the solid is subjected to deviatoric stresses. At very low stresses diﬀusion processes dominate, and the crystalline solid behaves as a Newtonian ﬂuid with a viscosity that depends exponentially on pressure and the inverse absolute temperature. "
   ]
  },
  {
   "cell_type": "markdown",
   "metadata": {},
   "source": [
    "At higher stresses the motion of dislocations becomes the dominant creep process resulting in a non-Newtonian or nonlinear ﬂuid behavior that also has an exponential pressure and inverse absolute temperature dependence. "
   ]
  },
  {
   "cell_type": "markdown",
   "metadata": {},
   "source": [
    "<img src='img/strain_fluid.PNG' width=500>\n",
    "Figure 7.1: Shear strain in the fluid is measured by the displacement $dx$ between two nearby layers with a distance of $dy$."
   ]
  },
  {
   "cell_type": "markdown",
   "metadata": {},
   "source": [
    "$$ \\epsilon = \\frac{dx}{dy}$$ (equation1)"
   ]
  },
  {
   "cell_type": "markdown",
   "metadata": {},
   "source": [
    "The rate of strain measures the speed of deformation, and is defined by"
   ]
  },
  {
   "cell_type": "markdown",
   "metadata": {},
   "source": [
    "$$ \\dot{\\epsilon} = \\frac{dx}{dy} \\div t = \\frac{du}{dy}$$ (equation2)"
   ]
  },
  {
   "cell_type": "markdown",
   "metadata": {},
   "source": [
    "Recall that the cause for strain or deformation is stress, which is defined by"
   ]
  },
  {
   "cell_type": "markdown",
   "metadata": {},
   "source": [
    "$$ \\tau = \\sigma = \\mu \\frac{du}{dy}$$ (equation3)\n",
    "where $\\tau$ and $\\sigma$ are used interchangeably for stress, and $\\mu$ (or sometimes $\\eta$) is viscosity."
   ]
  },
  {
   "cell_type": "markdown",
   "metadata": {},
   "source": [
    "Therefore, we have obtained the relationship between stress and strain rate:"
   ]
  },
  {
   "cell_type": "markdown",
   "metadata": {},
   "source": [
    "$$ \\tau = \\mu *\\dot{\\epsilon} $$ (equation4)"
   ]
  },
  {
   "cell_type": "markdown",
   "metadata": {},
   "source": [
    "<img src='img/stress_strainRate.PNG' width=500>\n",
    "Figure 7.2: the gradient of the figure on the left hand side represents the inversity of viscosity. Dash line on the figure at the right represents the effective viscosity that changes with stress."
   ]
  },
  {
   "cell_type": "markdown",
   "metadata": {},
   "source": [
    "$$ \\dot{\\epsilon}=A\\sigma^n$$ (equation5)\n",
    "where $A = \\frac{1}{\\mu}$."
   ]
  },
  {
   "cell_type": "markdown",
   "metadata": {},
   "source": [
    "If the strain rate is linearly proportional to the change of stress (n = 1), then the fluid is Newtonian (diffusion creep)."
   ]
  },
  {
   "cell_type": "markdown",
   "metadata": {},
   "source": [
    "If $n>1$, the fluid is non-Newtonian (dislocation creep)."
   ]
  },
  {
   "cell_type": "markdown",
   "metadata": {},
   "source": [
    "If $n\\rightarrow\\infty$, the fluid is pseudo-plastic."
   ]
  },
  {
   "cell_type": "markdown",
   "metadata": {},
   "source": [
    "## Effective Viscosity"
   ]
  },
  {
   "cell_type": "markdown",
   "metadata": {},
   "source": [
    "The viscosity of drilling mud will change with a change in the shear rate because in some degree drilling fluids are shear-thinning. Because of its nature of drilling mud, people create the new term of viscosity called “Effective Viscosity” to compensate the change in shear rate of viscosity. By definition, the effective viscosity means the viscosity of Newtonian fluid that gives the same shear stress at the same shear rate."
   ]
  },
  {
   "cell_type": "markdown",
   "metadata": {},
   "source": [
    "As we can see from figure 7.2, the viscosity changes with stress in a non-Newtonian fluid. However, based on lab experiments, the variable viscosity (not constant anymore), or effective viscosity, is dependent on not only stress $\\sigma$ but also many factors (e.g. temperature $T$):"
   ]
  },
  {
   "cell_type": "markdown",
   "metadata": {},
   "source": [
    "$$ \\mu = C (\\frac{\\sigma}{G})^{1-n}exp[\\frac{E^{*}+pV^{*}}{RT}]$$  (equation6) where the details of the equation can be found online and"
   ]
  },
  {
   "cell_type": "markdown",
   "metadata": {},
   "source": [
    "$$C=\\frac{1}{2}(\\frac{G}{A}\\frac{d}{b})^{m}$$ (equation6_1)"
   ]
  },
  {
   "cell_type": "markdown",
   "metadata": {},
   "source": [
    "In this chapter, we mainly discuss the channel flow of stress-dependent viscosity and temperature-dependent viscosity."
   ]
  },
  {
   "cell_type": "markdown",
   "metadata": {},
   "source": [
    "## Problem 7.10 (Stress-dependent viscosity)"
   ]
  },
  {
   "cell_type": "markdown",
   "metadata": {},
   "source": [
    "Suppose we assume the viscosity of the fluid is only stress-dependent, then the equation {eq}`equation6` can be simplified to a power-law (equation {eq}`equation5` ) with respect to stress $\\sigma$. Then, we can get the analytical solution of effective viscosity and other quantities for the fluid in channel flow. Suppose we have no-slip boundary at $y=\\pm h/2$ and the strain rate obeys the power law."
   ]
  },
  {
   "cell_type": "markdown",
   "metadata": {},
   "source": [
    "<img src='img/1d_ChannelFlow.PNG' width =700>\n",
    "Figure 7.3: The velocity profile is symmetric due to the boundary conditions and the geometry of the channel."
   ]
  },
  {
   "cell_type": "markdown",
   "metadata": {},
   "source": [
    "Balancing viscous shear and pressure forces, we have"
   ]
  },
  {
   "cell_type": "markdown",
   "metadata": {},
   "source": [
    "$$\\frac{d\\tau}{dy}=\\frac{dp}{dx}$$ (equation7)"
   ]
  },
  {
   "cell_type": "markdown",
   "metadata": {},
   "source": [
    "Therefore, we can obtain the equation for stress by integrating wrt. y"
   ]
  },
  {
   "cell_type": "markdown",
   "metadata": {},
   "source": [
    "$$\\tau(y)=\\frac{dp}{dx}y+C$$ (equation8)"
   ]
  },
  {
   "cell_type": "markdown",
   "metadata": {},
   "source": [
    "Since we know that the stress can be expressed as"
   ]
  },
  {
   "cell_type": "markdown",
   "metadata": {},
   "source": [
    "$$\\tau = \\mu \\frac{du}{dy}$$ (equation9)"
   ]
  },
  {
   "cell_type": "markdown",
   "metadata": {},
   "source": [
    "and that the $\\frac{du}{dy}=0$ at $y=0$ by inspecting the velocity profile in figure 7.3, we can obtain"
   ]
  },
  {
   "cell_type": "markdown",
   "metadata": {},
   "source": [
    "$$\\tau (y=0) = 0$$ (equation10)"
   ]
  },
  {
   "cell_type": "markdown",
   "metadata": {},
   "source": [
    "So we know that the integral constant $C$ in {eq}`equation8` is zero."
   ]
  },
  {
   "cell_type": "markdown",
   "metadata": {},
   "source": [
    "Also, we have an non-linear relationship between the stress and strain rate for the non-Newtonian fluid as follow"
   ]
  },
  {
   "cell_type": "markdown",
   "metadata": {},
   "source": [
    "$$\\frac{du}{dy}=C_1\\tau^{n}$$ (equation11)"
   ]
  },
  {
   "cell_type": "markdown",
   "metadata": {},
   "source": [
    "We can plug in the $\\tau$ from {eq}`equation11` into {eq}`equation7` and arrive at"
   ]
  },
  {
   "cell_type": "markdown",
   "metadata": {},
   "source": [
    "$$\\frac{du}{dy}=C_1(\\frac{dp}{dx})^{n}y^n$$ (equation12)"
   ]
  },
  {
   "cell_type": "markdown",
   "metadata": {},
   "source": [
    "Further integrating {eq}`equation12`, and using the boundary condition $u(y=\\pm h/2)=0$, we have the velocity profile"
   ]
  },
  {
   "cell_type": "markdown",
   "metadata": {},
   "source": [
    "$$u=-\\frac{C_1}{n+1}(\\frac{dp}{dx})^n [(\\frac{h}{2})^{n+1}-y^{n+1}]$$ (equation13)"
   ]
  },
  {
   "cell_type": "markdown",
   "metadata": {},
   "source": [
    "We can also obtain the mean velocity across the channel"
   ]
  },
  {
   "cell_type": "markdown",
   "metadata": {},
   "source": [
    "$$\\bar{u}=\\frac{C_1}{n+2}(\\frac{dp}{dx})^n(\\frac{h}{2})^{n+1}$$ (equation14)"
   ]
  },
  {
   "cell_type": "markdown",
   "metadata": {},
   "source": [
    "Now, using the idea that the effective viscosity is the ratio between stress and strain rate, we have"
   ]
  },
  {
   "cell_type": "markdown",
   "metadata": {},
   "source": [
    "$$\\mu_{eff}=\\frac{\\tau}{\\frac{du}{dy}}=\\frac{\\frac{dp}{dx}y}{C_1(\\frac{dp}{dx})^{n}y^n} = \\frac{dp}{dx}\\frac{h^2}{4(n+2)\\bar{u}}(\\frac{2y}{h})^{1-n}$$ (equation15) where $\\frac{dp}{dx} = \\frac{p_1-p_0}{L}$"
   ]
  },
  {
   "cell_type": "markdown",
   "metadata": {},
   "source": [
    "And using the boundary condition, we can derive the scaled effective viscosity (as a function of $y/h$ or scaled $y$ distance where $-h/2 < y < h/2$)."
   ]
  },
  {
   "cell_type": "markdown",
   "metadata": {},
   "source": [
    "$$\\frac{\\mu_{eff}}{\\mu_{eff,wall}}=(\\frac{2y}{h})^{1-n}$$ (equation16)"
   ]
  },
  {
   "cell_type": "markdown",
   "metadata": {},
   "source": [
    "We can plot {eq}`equation16` for $n=1,3,5$ and for $-0.5<y/h<0.5$."
   ]
  },
  {
   "cell_type": "code",
   "execution_count": 25,
   "metadata": {},
   "outputs": [
    {
     "data": {
      "image/png": "[encoded data removed]",
      "text/plain": [
       "<Figure size 432x288 with 1 Axes>"
      ]
     },
     "metadata": {
      "needs_background": "light"
     },
     "output_type": "display_data"
    },
    {
     "data": {
      "image/png": "[encoded data removed]",
      "text/plain": [
       "<Figure size 432x288 with 1 Axes>"
      ]
     },
     "metadata": {
      "needs_background": "light"
     },
     "output_type": "display_data"
    },
    {
     "data": {
      "image/png": "[encoded data removed]",
      "text/plain": [
       "<Figure size 432x288 with 1 Axes>"
      ]
     },
     "metadata": {
      "needs_background": "light"
     },
     "output_type": "display_data"
    }
   ],
   "source": [
    "import numpy as np\n",
    "import matplotlib.pyplot as plt\n",
    "N  = 10000    # number of points to plot (ignore)\n",
    "\n",
    "n_list = [1,3,5]\n",
    "\n",
    "def main():\n",
    "    y_h = np.linspace(-0.5, 0.5, N)\n",
    "    \n",
    "   \n",
    "\n",
    "    for n in n_list:\n",
    "        scal_eff_mu = (2*y_h)**(1-n)\n",
    "        plt.figure()\n",
    "        plt.plot(y_h, scal_eff_mu)\n",
    "        plt.legend(str(n))\n",
    "        plt.xlabel('$y/h$')\n",
    "        plt.ylabel('$scaled effective viscosity$')\n",
    "        plt.title('Scaled Effective Viscosity Profile')\n",
    "        plt.ylim(0, 5)\n",
    "        plt.show()\n",
    "\n",
    "if __name__ == '__main__':\n",
    "    main()"
   ]
  },
  {
   "cell_type": "markdown",
   "metadata": {},
   "source": [
    "## Problem 7.12 (T-dependent viscosity)"
   ]
  },
  {
   "cell_type": "markdown",
   "metadata": {},
   "source": [
    "Now, let's assume that the viscosity of the fluid is only temperature-dependent. We can determine the velocity profile $u(y)$ for a classic model as shown below:"
   ]
  },
  {
   "cell_type": "markdown",
   "metadata": {},
   "source": [
    "<img src='img/P7_12.PNG' width='500'>\n",
    "Figure 7.4: Icesheet with thickness $h$ on sloping bedrock, creeping downhill under its own weight. The temperature profile is linear and $(T_1-T_0)/T_0$ is small. It is no-slip at base."
   ]
  },
  {
   "cell_type": "markdown",
   "metadata": {},
   "source": [
    "First, we can write out the temperature profile"
   ]
  },
  {
   "cell_type": "markdown",
   "metadata": {},
   "source": [
    "$$T(y) = T_0+(T_1-T_0)\\frac{y}{h}$$ (equation17)"
   ]
  },
  {
   "cell_type": "markdown",
   "metadata": {},
   "source": [
    "We assume the temperature dependence of the pre-exponential factor as negligible compared with the temperature dependence of the exponential factor, so the equation {eq}`equation6` simplifies to"
   ]
  },
  {
   "cell_type": "markdown",
   "metadata": {},
   "source": [
    "$$\\mu=Ce^{E^{*}/RT}$$ (equation18)"
   ]
  },
  {
   "cell_type": "markdown",
   "metadata": {},
   "source": [
    "Plugging the equation {eq}`equation17` in {eq}`equation18`, and using Taylor expansion for the exponential term\\, we have"
   ]
  },
  {
   "cell_type": "markdown",
   "metadata": {},
   "source": [
    "$$\\mu=Cexp[\\frac{E^{*}}{RT_0}(1-\\frac{T_1-T_0}{T_0}\\frac{y}{h})]$$ (equation19)"
   ]
  },
  {
   "cell_type": "markdown",
   "metadata": {},
   "source": [
    "Also, from the forces analysis shown by figure 6.3 in lecture 5, we have"
   ]
  },
  {
   "cell_type": "markdown",
   "metadata": {},
   "source": [
    "$$\\frac{d\\tau}{dy}=sin\\alpha \\rho g$$ (equation20)"
   ]
  },
  {
   "cell_type": "markdown",
   "metadata": {},
   "source": [
    "Integrating it with the boundary condition $\\tau = 0$ at $y=0$, we have"
   ]
  },
  {
   "cell_type": "markdown",
   "metadata": {},
   "source": [
    "$$\\tau(y)=sin\\alpha \\rho g y$$ (equation21)"
   ]
  },
  {
   "cell_type": "markdown",
   "metadata": {},
   "source": [
    "Since effective viscosity is the ratio between stress $\\tau$ and strain rate $du/dy$, we can combine equations {eq}`equation19` and {eq}`equation21` and have"
   ]
  },
  {
   "cell_type": "markdown",
   "metadata": {},
   "source": [
    "$$\\frac{du}{dy}=\\frac{sin\\alpha \\rho g y}{Ce^{\\frac{E^{*}}{RT_0}}e^{-\\frac{E^{*}(T_1-T_0)y}{RT_0^2h}}}=G\\frac{y}{e^{-By}}=Gye^{By}$$ (equation22) where we defined constant $G$ and $B$ for simplicity."
   ]
  },
  {
   "cell_type": "markdown",
   "metadata": {},
   "source": [
    "After integration, we have"
   ]
  },
  {
   "cell_type": "markdown",
   "metadata": {},
   "source": [
    "$$u(y)=-\\frac{Ge^{By}}{B^2}+\\frac{Gye^{By}}{B}+C_1$$ (equation23)"
   ]
  },
  {
   "cell_type": "markdown",
   "metadata": {},
   "source": [
    "Since it is no-slip base, we have the boundary condition $u=0$ at $y=h$. Apply this boundary condition we can solve the constant "
   ]
  },
  {
   "cell_type": "markdown",
   "metadata": {},
   "source": [
    "$$C_1=\\frac{Ge^{Bh}}{B^2}-\\frac{Ghe^{Bh}}{B}$$ (equation24)"
   ]
  },
  {
   "cell_type": "markdown",
   "metadata": {},
   "source": [
    "Hence, the equation of the velocity profile can be obtained"
   ]
  },
  {
   "cell_type": "markdown",
   "metadata": {},
   "source": [
    "$$u(y)=-\\frac{Ge^{By}}{B^2}+\\frac{Gye^{By}}{B}+\\frac{Ge^{Bh}}{B^2}-\\frac{Ghe^{Bh}}{B}$$ (equation25)"
   ]
  },
  {
   "cell_type": "code",
   "execution_count": 47,
   "metadata": {},
   "outputs": [
    {
     "data": {
      "image/png": "[encoded data removed]",
      "text/plain": [
       "<Figure size 432x288 with 1 Axes>"
      ]
     },
     "metadata": {
      "needs_background": "light"
     },
     "output_type": "display_data"
    }
   ],
   "source": [
    "import numpy as np\n",
    "import matplotlib.pyplot as plt\n",
    "N  = 10000    # number of points to plot (ignore)\n",
    "\n",
    "h = 1    # ice sheet thickness\n",
    "alpha = 20    # slope \n",
    "rho = 1000    # density of ice\n",
    "g = 10    # gravitational acceleration\n",
    "C = 1000000  # term before expential in equation 6, tbh i didnt check the value for ice, just a random value here\n",
    "E = 75    # creep activation energies of ice\n",
    "R = 8     # universal gas constant\n",
    "T0 = 9    # surface temperature \n",
    "T1 = 10   # base temperature hotter because heat absorption and release\n",
    "\n",
    "G = np.sin(alpha)*rho*g/(C*np.exp(E/(R*T0)))\n",
    "B = E*(T1-T0)/(R*T0^2*h)\n",
    "C1 = G*np.exp(B*h)/(B*B) - G*h*np.exp(B*h)/B\n",
    "\n",
    "\n",
    "def main():\n",
    "    y = np.linspace(0, h, N)\n",
    "    u = G*np.exp(B*y)/(B*B) - G*y*np.exp(B*y)/B + C1\n",
    "    plt.figure()\n",
    "    plt.plot(y, u)\n",
    "    \n",
    "    plt.xlabel('$y(m)$')\n",
    "    plt.ylabel('$u(y)$')\n",
    "    plt.title('Velocity Profile for Ice-sheet on a Slope')\n",
    "    #plt.ylim(-10000, 10)\n",
    "    plt.show()\n",
    "    \n",
    "if __name__ == '__main__':\n",
    "    main()"
   ]
  },
  {
   "cell_type": "markdown",
   "metadata": {},
   "source": [
    "## 2-D Stokes"
   ]
  },
  {
   "cell_type": "markdown",
   "metadata": {},
   "source": [
    "## Problem 6.10"
   ]
  },
  {
   "cell_type": "markdown",
   "metadata": {},
   "source": [
    "Determine the stream function for the general one-dimensional channel flow in lecture 5."
   ]
  },
  {
   "cell_type": "markdown",
   "metadata": {},
   "source": [
    "$$u(y)=\\frac{1}{2\\mu}\\frac{dp}{dx}(y^2-hy)-\\frac{u_0y}{h}+u_0=-y+5$$ (equation26) where we let $\\frac{1}{2\\mu}\\frac{dp}{dx}=0$, $h=5$ and $u_0=5$ for simplicity."
   ]
  },
  {
   "cell_type": "markdown",
   "metadata": {},
   "source": [
    "| $y$ | $u$|\n",
    "|------|--------|\n",
    "|   0  | 5 |\n",
    "|   1  | 4 |\n",
    "|   2  | 3 |\n",
    "|   3  | 2 |\n",
    "|   4  | 1 |\n",
    "|   5  | 0 |"
   ]
  },
  {
   "cell_type": "markdown",
   "metadata": {},
   "source": [
    "<img src='img/1d_ChannelFlow3.PNG' width=500>\n",
    "Figure 7.5: One-dimensional Channel Flow."
   ]
  },
  {
   "cell_type": "markdown",
   "metadata": {},
   "source": [
    "The stream function is a function in connnection with a fluid flow denoted by $\\psi$ who partial differentiation with $y$ gives the velocity in $x$ direction (i.e. $u$), and negative partial differentiation with $x$ gives the velocity of fluid in $y$ direction (i.e. $v$). "
   ]
  },
  {
   "cell_type": "markdown",
   "metadata": {},
   "source": [
    "This is very confusing as in how the differentiation wiht $y$ gives the velocity in $x$ direction? It would certainly make more sense if it gives the velocity in $y$ direction...Do not worry, let's try to understand the stream function by looking at it in a one-dimensional channel flow before we move in to the two-dimensional case."
   ]
  },
  {
   "cell_type": "markdown",
   "metadata": {},
   "source": [
    "But let's take a look at the definition of stream function $\\psi(x,y)$ in a two-demensional case"
   ]
  },
  {
   "cell_type": "markdown",
   "metadata": {},
   "source": [
    "$$u=\\frac{d\\psi}{dy}$$ (equation27)"
   ]
  },
  {
   "cell_type": "markdown",
   "metadata": {},
   "source": [
    "$$v=-\\frac{d\\psi}{dx}$$ (equation28)"
   ]
  },
  {
   "cell_type": "markdown",
   "metadata": {},
   "source": [
    "For the one-dimensional channel flow problem I have shown above, there is no velocity in the vertical direction, and so we only consider the velocity in the x-direction."
   ]
  },
  {
   "cell_type": "markdown",
   "metadata": {},
   "source": [
    "$$u=\\frac{d\\psi}{dy}=-y+5$$ (equation29)"
   ]
  },
  {
   "cell_type": "markdown",
   "metadata": {},
   "source": [
    "If we integrate it wrt. $y$, then we can obtain the equation for the stream function"
   ]
  },
  {
   "cell_type": "markdown",
   "metadata": {},
   "source": [
    "$$\\psi=-\\frac{1}{2}y^2+5y+C(x)$$ (equation30)"
   ]
  },
  {
   "cell_type": "markdown",
   "metadata": {},
   "source": [
    "Discuss the physical meaning of $\\psi$ for this case."
   ]
  },
  {
   "cell_type": "markdown",
   "metadata": {},
   "source": [
    "So what does that $\\psi$ function mean?"
   ]
  },
  {
   "cell_type": "markdown",
   "metadata": {},
   "source": [
    "<img src='img/1d_ChannelFlow5.PNG' width=500>\n",
    "Figure 7.6: Volumetric Flow Rate of One-dimensional Channel Flow (with the width of z-direction equals 1)."
   ]
  },
  {
   "cell_type": "markdown",
   "metadata": {},
   "source": [
    "Let's look at the tiny volumetric flow rate $dQ$ through the tiny slice of thickness $dy$ as shown above."
   ]
  },
  {
   "cell_type": "markdown",
   "metadata": {},
   "source": [
    "$$dQ=u dy*1 = udy$$ (equation31)"
   ]
  },
  {
   "cell_type": "markdown",
   "metadata": {},
   "source": [
    "Then the overall volumetric flow rate through the whole section (from $y=1$ to $y=2$) as shown in between the blue lines is"
   ]
  },
  {
   "cell_type": "markdown",
   "metadata": {},
   "source": [
    "$$Q=\\int^2_1 udy=\\int^2_1 (-y+5)dy=-\\frac{1}{2}y^2+5y+C(x)|^2_1$$ (equation32)"
   ]
  },
  {
   "cell_type": "markdown",
   "metadata": {},
   "source": [
    "Compare the final part of equation {eq}`equation32` with {eq}`equation30`, we realise that the stream function represents volumetric flow rate in a sense"
   ]
  },
  {
   "cell_type": "markdown",
   "metadata": {},
   "source": [
    "$$Q = \\psi_2 - \\psi_1$$ (equation33)"
   ]
  },
  {
   "cell_type": "markdown",
   "metadata": {},
   "source": [
    "Now, we should finally understand the very confusing equation {eq}`equation27` we mentioned before, with the help of figure 7.6. The horizontal velocity $u$ equals the volumetric flow rate through the thin section $dQ$ divided by the vertical thickness $dy$, in this case"
   ]
  },
  {
   "cell_type": "markdown",
   "metadata": {},
   "source": [
    "$$u=\\frac{d\\psi}{dy}=\\frac{dQ}{dy} = \\frac{d}{dy}(-\\frac{1}{2}y^2+5y+C(x))= -y+5$$ (equation34)"
   ]
  },
  {
   "cell_type": "markdown",
   "metadata": {},
   "source": [
    "Sketch stream function and streamlines for the two end-member cases (Couette and P-driven). Pay attention to stream line orientation and spacing."
   ]
  },
  {
   "cell_type": "code",
   "execution_count": null,
   "metadata": {},
   "outputs": [],
   "source": []
  },
  {
   "cell_type": "code",
   "execution_count": null,
   "metadata": {},
   "outputs": [],
   "source": []
  }
 ],
 "metadata": {
  "kernelspec": {
   "display_name": "Python 3",
   "language": "python",
   "name": "python3"
  },
  "language_info": {
   "codemirror_mode": {
    "name": "ipython",
    "version": 3
   },
   "file_extension": ".py",
   "mimetype": "text/x-python",
   "name": "python",
   "nbconvert_exporter": "python",
   "pygments_lexer": "ipython3",
   "version": "3.7.7"
  }
 },
 "nbformat": 4,
 "nbformat_minor": 4
}
