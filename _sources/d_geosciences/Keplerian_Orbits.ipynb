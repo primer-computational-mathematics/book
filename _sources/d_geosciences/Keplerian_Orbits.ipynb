{
 "cells": [
  {
   "cell_type": "markdown",
   "metadata": {},
   "source": [
    "# Keplerian orbits\n",
    "```{index} Keplerian orbits\n",
    "```\n",
    "## Theory\n",
    "```{index} Kepler's laws\n",
    "```\n",
    "Kepler laws were published in 17th century by Johannes Kepler based on observations of motion of planetary objects in the sky. \n",
    "\n",
    "```{admonition} Kepler's laws:\n",
    "1. First law - the orbit of each planets is an ellipse with the Sun at the focus.\n",
    "2. Second law - the line joining the planet to the Sun sweeps out equal areas in equal times.\n",
    "3. Third law - $T^2\\propto a^3$, where $T$ is the period and $a$ is the distance from the Sun.\n",
    "```\n",
    "These laws are good approximations of planetary motion in Solar System and are a consequence of gravitational attraction between planetary bodies.\n",
    "```{index} Gravity force\n",
    "```\n",
    "The gravity force between two point masses is described as\n",
    "\n",
    "$$F_G =-G\\frac{mM}{r^2}\\hat{\\mathbf{r}},$$\n",
    "where $r$ is the distance between these masses, G is a gravitational constant $G=6.674210\\times 10^{-11}$ m$^3$kg$^{-1}$s$^{-2}$ and $\\hat{\\mathbf{r}}$ is the unit vector in the direction of two point masses.\n",
    "\n",
    "For two mutually gravitating bodies, an analytical solution to Kepler's first law exists. The equation of motion in Cartesian coordinates is:\n",
    "\n",
    "$$-\\frac{d^2\\mathbf{r}}{dt^2}+\\mu\\frac{\\mathbf{r}}{r^3}=0.$$\n",
    "\n",
    "The analytical solution to this equation reveals trajectories of bodies to be of conical sections:\n",
    "\n",
    "```{figure} ../images/conic_sections.png\n",
    ":width: 300px\n",
    "```\n",
    "\n",
    "For three body problem, only in restricted cases analytical solutions can be found. One of such cases is when a test particle is placed in a system that does not move with respect to the centre of mass of the system and does not rotate with respect to itself:\n",
    "\n",
    "```{figure} ../images/restricted_three_body_problem.PNG\n",
    ":width: 400px\n",
    "```\n",
    "The solution to this problem reveals Lagrangian equilibrium points, where the test particle will maintain its position relative to larger bodies:\n",
    "\n",
    "```{figure} ../images/lagrangian_points.PNG\n",
    ":width: 400px\n",
    "```\n",
    "\n",
    "## Restricted three-body problem - numerical solution\n",
    "\n",
    "In this notebook we will be solving a three body problem numerically using Runge-Kutta integration method. We will be solving coupled equations of motion for velocity and position:\n",
    "\n",
    "\\\\[\\frac{d\\mathbf{r}}{dt} = \\mathbf{v},\\\\]\n",
    "\\\\[\\frac{d\\mathbf{v}}{dt} = \\frac{\\mathbf{F}(\\mathbf{r(t)})}{m},\\\\]\n",
    "\n",
    "where $\\mathbf{r}$ is the position vector relative to centre of mass, $\\mathbf{v}$ is the velocity vector and $\\mathbf{F}$ is the net force on a body."
   ]
  },
  {
   "cell_type": "code",
   "execution_count": 1,
   "metadata": {},
   "outputs": [],
   "source": [
    "import numpy as np\n",
    "import matplotlib.pyplot as plt"
   ]
  },
  {
   "cell_type": "markdown",
   "metadata": {},
   "source": [
    "At first, let's define masses of our bodies, constants such as radius of planet's orbit and position vectors with Sun placed at [0, 0]. The planet will be placed along the x-axis and the test particle will be placed at 60$^\\circ$ from the Sun."
   ]
  },
  {
   "cell_type": "code",
   "execution_count": 2,
   "metadata": {},
   "outputs": [],
   "source": [
    "# Masses of bodies in the system\n",
    "m_sun = 1.989*1e30\n",
    "m_planet = 5.972*1e24\n",
    "m_particle = 1\n",
    "\n",
    "# Constants\n",
    "G = 6.673210*1e-11\n",
    "R = 151.99*1e6*1000\n",
    "\n",
    "# Position vectors\n",
    "r_sun = np.array([0,0])\n",
    "r_planet = np.array([R+r_sun[0],0])\n",
    "r_particle = np.array([R*np.cos(np.pi/3.), R*np.sin(np.pi/3.)])"
   ]
  },
  {
   "cell_type": "code",
   "execution_count": 3,
   "metadata": {
    "tags": [
     "hide-input"
    ]
   },
   "outputs": [
    {
     "data": {
      "image/png": "[encoded data removed]",
      "text/plain": [
       "<Figure size 360x360 with 1 Axes>"
      ]
     },
     "metadata": {
      "needs_background": "light"
     },
     "output_type": "display_data"
    }
   ],
   "source": [
    "# Plot position vectors\n",
    "plt.rcParams.update({'font.size': 12})\n",
    "plt.figure(figsize=(5,5))\n",
    "\n",
    "plt.scatter(r_sun[0], r_sun[1], marker='*', c=\"red\", s=100, label=\"Sun\")\n",
    "plt.scatter(r_planet[0], r_planet[1], marker='*', c=\"green\", s=50, label=\"Earth\")\n",
    "plt.scatter(r_particle[0], r_particle[1], marker='*', c=\"blue\", s=30, label=\"Test particle\")\n",
    "\n",
    "plt.legend(loc=\"best\")\n",
    "plt.gca().set_aspect(\"equal\")\n",
    "plt.xlabel(\"x position (km)\")\n",
    "plt.ylabel(\"y position (km)\")\n",
    "plt.title(\"Sun at [0,0]\")\n",
    "\n",
    "plt.show()"
   ]
  },
  {
   "cell_type": "markdown",
   "metadata": {},
   "source": [
    "### Centre of mass coordinate system\n",
    "The centre of mass of the system can be calculated with\n",
    "\\\\[R=\\frac{\\sum m_i r_i}{\\sum m_i}.\\\\]\n",
    "We can shift the position vectors with respect to the centre of mass then:"
   ]
  },
  {
   "cell_type": "code",
   "execution_count": 4,
   "metadata": {},
   "outputs": [
    {
     "name": "stdout",
     "output_type": "stream",
     "text": [
      "Position vectors with Sun at [0, 0]:\n",
      "Sun: [0 0]\n",
      "Earth: [1.5199e+11 0.0000e+00]\n",
      "Test particle: [7.59950000e+10 1.31627201e+11]\n",
      "\n",
      "\n",
      "Position vectors with centre of mass at [0, 0]:\n",
      "Sun: [-456350.70622101       0.        ]\n",
      "Earth: [1.51989544e+11 0.00000000e+00]\n",
      "Test particle: [7.59945436e+10 1.31627201e+11]\n"
     ]
    }
   ],
   "source": [
    "# Calculate centre of mass\n",
    "# Test particle has mass so small, can be omitted\n",
    "r_mass_centre = (r_planet*m_planet+r_sun*m_sun)/(m_planet+m_sun)\n",
    "\n",
    "print(\"Position vectors with Sun at [0, 0]:\")\n",
    "print(\"Sun:\", r_sun)\n",
    "print(\"Earth:\", r_planet)\n",
    "print(\"Test particle:\", r_particle)\n",
    "print(\"\\n\")\n",
    "\n",
    "# Convert into centre of mass coordinates\n",
    "r_sun = r_sun - r_mass_centre\n",
    "r_planet = r_planet - r_mass_centre\n",
    "r_particle = r_particle - r_mass_centre\n",
    "\n",
    "print(\"Position vectors with centre of mass at [0, 0]:\")\n",
    "print(\"Sun:\", r_sun)\n",
    "print(\"Earth:\", r_planet)\n",
    "print(\"Test particle:\", r_particle)"
   ]
  },
  {
   "cell_type": "markdown",
   "metadata": {},
   "source": [
    "The mass of Sun is so big, shifting to centre of mass coordinates is very small compared to the distance between the Sun and the Earth:"
   ]
  },
  {
   "cell_type": "code",
   "execution_count": 5,
   "metadata": {
    "tags": [
     "hide-input"
    ]
   },
   "outputs": [
    {
     "data": {
      "image/png": "[encoded data removed]",
      "text/plain": [
       "<Figure size 360x360 with 1 Axes>"
      ]
     },
     "metadata": {
      "needs_background": "light"
     },
     "output_type": "display_data"
    }
   ],
   "source": [
    "# Plot position vectors with centre of mass at [0, 0]\n",
    "plt.rcParams.update({'font.size': 12})\n",
    "plt.figure(figsize=(5,5))\n",
    "\n",
    "plt.scatter(r_sun[0], r_sun[1], marker='*', c=\"red\", s=100, label=\"Sun\")\n",
    "plt.scatter(r_planet[0], r_planet[1], marker='*', c=\"green\", s=50, label=\"Earth\")\n",
    "plt.scatter(r_particle[0], r_particle[1], marker='*', c=\"blue\", s=30, label=\"Test particle\")\n",
    "\n",
    "plt.legend(loc=\"best\")\n",
    "plt.gca().set_aspect(\"equal\")\n",
    "plt.xlabel(\"x position (km)\")\n",
    "plt.ylabel(\"y position (km)\")\n",
    "plt.title(\"Centre of mass at [0,0]\")\n",
    "\n",
    "plt.show()"
   ]
  },
  {
   "cell_type": "markdown",
   "metadata": {},
   "source": [
    "### Initial velocities\n",
    "\n",
    "Now, let's calculate the starting velocities of each object. According to Kepler's 3rd law, Earth's period can be calculated as:\n",
    "\n",
    "\\\\[T^2=\\frac{4\\pi^2}{\\mu}R^3,\\quad\\text{where }\\mu=G(m_{Sun}+m_{Earth}).\\\\]\n",
    "\n",
    "Thus, we can calculate the angular velocity in z-direction:\n",
    "\n",
    "\\\\[\\omega = \\frac{2\\pi}{T}=\\sqrt{\\frac{\\mu}{R^3}}.\\\\]\n",
    "\n",
    "Recall that, velocity vector and $\\mathbf{\\Omega}=[0,0, \\omega]$ are related by relationship:\n",
    "\n",
    "\\\\[\\mathbf{v}=\\mathbf{\\Omega}\\times\\mathbf{r}.\\\\]\n",
    "\n",
    "Therefore, we can calculate starting velocities of the system:"
   ]
  },
  {
   "cell_type": "code",
   "execution_count": 6,
   "metadata": {},
   "outputs": [
    {
     "name": "stdout",
     "output_type": "stream",
     "text": [
      "Omega: 1.9442983920749965e-07\n",
      "Sun's velocity: [-0.         -0.08872819]\n",
      "Planet's velocity: [   -0.         29551.30253295]\n",
      "Particle's velocity: [-25592.25554933  14775.60690238]\n"
     ]
    }
   ],
   "source": [
    "# Calculate angular velocity in z-direction\n",
    "mu = G*(m_planet+m_sun)\n",
    "omega = np.sqrt(mu/R**3)\n",
    "print(\"Omega:\", omega)\n",
    "\n",
    "# Take vector cross product between omega vector and position vectors\n",
    "v_sun = np.cross([0,0,omega],(r_sun))[:-1]\n",
    "v_planet = np.cross([0,0,omega],(r_planet))[:-1]\n",
    "v_particle = np.cross([0,0,omega], (r_particle))[:-1]\n",
    "\n",
    "# All of them are within the same plane so third coordinate can be omitted\n",
    "print(\"Sun's velocity:\", v_sun)\n",
    "print(\"Planet's velocity:\", v_planet)\n",
    "print(\"Particle's velocity:\", v_particle)"
   ]
  },
  {
   "cell_type": "markdown",
   "metadata": {},
   "source": [
    "### Gravity force\n",
    "Now we can define functions that we can use to solve the equations of motion. First, let's define gravitational force between two bodies $m_1$ and $m_2$, with position vectors $\\mathbf{r_1}$ and $\\mathbf{r_2}$ and vector between the bodies $\\mathbf{r}=\\mathbf{r_1}-\\mathbf{r_2}$. The gravity force is calculated from:\n",
    "\n",
    "\\\\[ F_G = -G\\frac{m_1 m_2}{r^2}\\hat{\\mathbf{r}}.\\\\]\n",
    "\n",
    "By definition $\\hat{\\mathbf{r}}=\\frac{\\mathbf{r}}{|\\mathbf{r}|}$, therefore gravity force is:\n",
    "\n",
    "\\\\[ F_g = -G\\frac{m_1 m_2}{r^3}\\mathbf{r}.\\\\]\n",
    "\n",
    "To obtain vector's length in Python we can use numpy function:\n",
    "    \n",
    "    np.linalg.norm(vector)\n",
    "    \n",
    "We can now define GravityForce() function that will return gravitational force for these bodies:"
   ]
  },
  {
   "cell_type": "code",
   "execution_count": 7,
   "metadata": {},
   "outputs": [],
   "source": [
    "def GravityForce(G, m1, r1, m2, r2):\n",
    "    return -G*(m1*m2)/np.linalg.norm(r1-r2)**3*(r1-r2)"
   ]
  },
  {
   "cell_type": "markdown",
   "metadata": {},
   "source": [
    "### Derivatives in the equations of motion\n",
    "\n",
    "Now we need write a function that will calculate the derivatives in the motion equations $\\frac{d\\mathbf{r}}{dt}=\\mathbf{v}$ and $\\frac{d\\mathbf{v}}{dt}=\\frac{\\mathbf{F}(\\mathbf{r}(t))}{m}$. The first one is easy, as it is the velocity vector. The second one takes the net force. For example, for Sun, the net force would be:\n",
    "\n",
    "\\\\[\\mathbf{F_{Sun}}=\\mathbf{F_{\\text{planet on Sun}}+\\mathbf{F_{\\text{particle on Sun}}}}.\\\\]\n",
    "\n",
    "For easier calculations we will define a main vector:\n",
    "\n",
    "\\\\[\\mathbf{y_{vector} = [r_{sun}, r_{planet}, r_{particle}, v_{sun}, v_{planet}, v_{particle}]}.\\\\]\n",
    "\n",
    "The function to calculate derivatives will take respective parts of the $\\mathbf{y_{vector}}$ and create an updated vector with these derivatives according to motion equations:"
   ]
  },
  {
   "cell_type": "code",
   "execution_count": 8,
   "metadata": {},
   "outputs": [],
   "source": [
    "def CalcDerivatives(t, G, m1, m2, m3, y_vector):\n",
    "    \n",
    "    r1 = y_vector[0]\n",
    "    r2 = y_vector[1]\n",
    "    r3 = y_vector[2]\n",
    "    drdt_1 = y_vector[3]\n",
    "    drdt_2 = y_vector[4]\n",
    "    drdt_3 = y_vector[5]\n",
    "    \n",
    "    dvdt_1 = (GravityForce(G, m1, r1, m2, r2) + GravityForce(G, m1, r1, m3, r3))/m1\n",
    "    dvdt_2 = (GravityForce(G, m2, r2, m1, r1) + GravityForce(G, m2, r2, m3, r3))/m2\n",
    "    dvdt_3 = (GravityForce(G, m3, r3, m2, r2) + GravityForce(G, m3, r3, m1, r1))/m3\n",
    "    \n",
    "    return np.array([drdt_1, drdt_2, drdt_3,dvdt_1, dvdt_2, dvdt_3])"
   ]
  },
  {
   "cell_type": "markdown",
   "metadata": {},
   "source": [
    "#### Runge-Kutta method\n",
    "We will use [Runge-Kutta method](https://en.wikipedia.org/wiki/Runge%E2%80%93Kutta_methods) method to integrate over time the position and velocity vector. The problem can be formulated as follows. We have an initial value $y(t_0)=y_0$ and the derivative equation $\\frac{d y}{dt}=f(t,y)$. We will iterate over $y$ and $t$ according to:\n",
    "\n",
    "\\\\[ y_{n+1}=y_n+\\frac{dt}{6}\\times(h_1+2\\times h_2+2\\times h_3+h_4),\\\\]\n",
    "\\\\[ t_{n+1}=t_n + dt,\\\\]\n",
    "\n",
    "where $h_1,$, $h_2$, $h_3$ and $h_4$ are slopes at the beginning of the interval, at the midpoint using $h_1$, at the midpoint using $h_2$ and at the end of interval. The graphical representation can be viewed [here](https://commons.wikimedia.org/wiki/File:Runge-Kutta_slopes.svg).\n",
    "\n",
    "The slopes are calculated according to:\n",
    "\n",
    "\\\\[h_1 = f(t_n, y_n),\\\\]\n",
    "\\\\[h_2 = f(t_n+\\frac{dt}{2}, y_n+dt\\times \\frac{h_1}{2}),\\\\]\n",
    "\\\\[h_3 = f(t_n+\\frac{dt}{2}, y_n + dt\\times \\frac{h_2}{2}),\\\\]\n",
    "\\\\[h_4 = f(t_n+dt, y_n + dt\\times h_3).\\\\]"
   ]
  },
  {
   "cell_type": "code",
   "execution_count": 9,
   "metadata": {},
   "outputs": [],
   "source": [
    "# Set y vector\n",
    "y_vector = np.array([r_sun, r_planet, r_particle, v_sun, v_planet, v_particle])\n",
    "\n",
    "# Set initial time and period\n",
    "t = 0\n",
    "period = np.sqrt(4*np.pi**2/(G*(m_planet+m_sun))*R**3)\n",
    "\n",
    "# Set time step\n",
    "dt = period/1000\n",
    "\n",
    "# Empty lists to plot positions later\n",
    "x_positions = []\n",
    "y_positions = []\n",
    "times = []\n",
    "\n",
    "# Create while loop\n",
    "while t < 0.5*period:\n",
    "    \n",
    "    # Append only position parts of the y vector\n",
    "    x_positions.append(y_vector[:3,0])\n",
    "    y_positions.append(y_vector[:3,1])\n",
    "    \n",
    "    # Calculate all slopes\n",
    "    h1 = CalcDerivatives(t, G, m_sun, m_planet, m_particle, y_vector)\n",
    "    h2 = CalcDerivatives(t+dt/2., G, m_sun, m_planet, m_particle, y_vector+dt/2.*h1)\n",
    "    h3 = CalcDerivatives(t+dt/2., G, m_sun, m_planet, m_particle, y_vector+dt/2.*h2)\n",
    "    h4 = CalcDerivatives(t+dt, G, m_sun, m_planet, m_particle, y_vector+dt*h3)\n",
    "\n",
    "    # Update y vector\n",
    "    y_vector = y_vector+dt/6.*(h1+2*h2+2*h3+h4)\n",
    "    \n",
    "    # Update time\n",
    "    t = t + dt\n",
    "    times.append(t)\n",
    "       \n",
    "x_positions, y_positions = np.array(x_positions), np.array(y_positions)"
   ]
  },
  {
   "cell_type": "markdown",
   "metadata": {},
   "source": [
    "### Solution in the intertial frame\n",
    "We can plot the trajectories in inertial frame:"
   ]
  },
  {
   "cell_type": "code",
   "execution_count": 10,
   "metadata": {
    "tags": [
     "hide-input"
    ]
   },
   "outputs": [
    {
     "data": {
      "image/png": "[encoded data removed]",
      "text/plain": [
       "<Figure size 504x504 with 1 Axes>"
      ]
     },
     "metadata": {
      "needs_background": "light"
     },
     "output_type": "display_data"
    }
   ],
   "source": [
    "plt.figure(figsize=(7,7))    \n",
    "\n",
    "plt.plot(x_positions[-1,0], y_positions[-1,0], '*',\n",
    "         color = 'r', mfc='w',ms=10, label='Sun - initial position')\n",
    "\n",
    "plt.plot(x_positions[0,2], y_positions[0,2], '*',\n",
    "         color = 'b', mfc='b',ms=10, label='Test particle - starting position')\n",
    "\n",
    "plt.plot(x_positions[-1,2], y_positions[-1,2], '*',\n",
    "         color = 'b', mfc='w',ms=10, label='Test particle - final position')\n",
    "\n",
    "\n",
    "plt.plot(x_positions[0,1], y_positions[0,1], '*',\n",
    "         color = 'g', mfc='g',ms=10, label='Earth - starting position')\n",
    "\n",
    "plt.plot(x_positions[-1,1], y_positions[-1,1], '*',\n",
    "         color = 'g', mfc='w',ms=10, label='Earth - final position')\n",
    "\n",
    "plt.plot(x_positions[:,0], y_positions[:,0], label=\"Sun trajectory\",\n",
    "        color=\"red\", dashes=(4,2))\n",
    "\n",
    "plt.plot(x_positions[:,1], y_positions[:,1], label=\"Earth trajectory\",\n",
    "        color=\"green\", dashes=(4,2))\n",
    "\n",
    "plt.plot(x_positions[:,2], y_positions[:,2], label=\"Test particle trajectory\",\n",
    "        color=\"blue\", dashes=(4,2))\n",
    "\n",
    "\n",
    "plt.xlabel('x position (km)')\n",
    "plt.ylabel('y position (km)')\n",
    "plt.title(r'Plot for $t = \\frac{T}{2}$ in the inertial frame')\n",
    "plt.gca().set_aspect('equal', adjustable='box')\n",
    "plt.legend(loc='best', fontsize=\"small\")\n",
    "\n",
    "plt.show()"
   ]
  },
  {
   "cell_type": "markdown",
   "metadata": {},
   "source": [
    "### Solution in the rotating frame\n",
    "```{index} Rotating coordinates\n",
    "```\n",
    "We can view the orbits in a frame where the planet is stationary. To do that we need to convert coordinates $(x,y)$ into rotating frame coordinates $(x',y')$. The rotating coordinates can be calculated with:\n",
    "\\\\[x' = x\\cos{(-\\theta)}-y\\sin{(-\\theta)},\\\\]\n",
    "\\\\[y' = x\\sin{(-\\theta)}+y\\cos{(-\\theta)},\\\\]\n",
    "where $\\theta$ is the angle between x-axis and position of the object we want the frame to be rotated to $(x_p, y_p)$ and can be calculated from $\\theta=\\tan^{-1}{(y_p/x_p)}$."
   ]
  },
  {
   "cell_type": "code",
   "execution_count": 11,
   "metadata": {},
   "outputs": [],
   "source": [
    "def TransformIntoRotatingFrame(r1, r2):\n",
    "    \n",
    "    theta = np.arctan2(r1[1], r1[0])\n",
    "    \n",
    "    return [r2[0]*np.cos(-theta)-r2[1]*np.sin(-theta),\n",
    "              r2[0]*np.sin(-theta)+r2[1]*np.cos(theta)]\n"
   ]
  },
  {
   "cell_type": "markdown",
   "metadata": {},
   "source": [
    "Previously we looked at a Lagranian equilibrium points. Instead, we can look at a particle placed at 45\\\\(^\\circ\\\\) from the Sun that will create a differently shaped orbit.\n",
    "\n",
    "```{admonition} Set up all variables\n",
    ":class: dropdown, tip\n",
    "\n",
    "\n",
    "    # Masses of bodies in the system\n",
    "    m_sun = 1.989*1e30\n",
    "    m_planet = 5.972*1e24\n",
    "    m_particle = 1\n",
    "\n",
    "    # Constants\n",
    "    G = 6.673210*1e-11\n",
    "    R = 151.99*1e6*1000\n",
    "\n",
    "    # Position vectors\n",
    "    r_sun = np.array([0,0])\n",
    "    r_planet = np.array([R+r_sun[0],0])\n",
    "    r_particle = np.array([R*np.cos(np.deg2rad(45)), R*np.sin(np.deg2rad(45))])\n",
    "```\n",
    "\n",
    "```{admonition} Calculate centre of mass and velocities\n",
    ":class: dropdown, tip\n",
    "    # Calculate centre of mass\n",
    "    # Test particle has mass so small, can be omitted\n",
    "    r_mass_centre = (r_planet*m_planet+r_sun*m_sun)/(m_planet+m_sun)\n",
    "\n",
    "    # Convert into centre of mass cooridantes\n",
    "    r_sun = r_sun - r_mass_centre\n",
    "    r_planet = r_planet - r_mass_centre\n",
    "    r_particle = r_particle - r_mass_centre\n",
    "    \n",
    "    \n",
    "    # Calculate angular velocity in z-direction\n",
    "    mu = G*(m_planet+m_sun)\n",
    "    omega = np.sqrt(mu/R**3)\n",
    "\n",
    "    # Take vector cross product between omega vector and position vectors\n",
    "    v_sun = np.cross([0,0,omega],(r_sun))[:-1]\n",
    "    v_planet = np.cross([0,0,omega],(r_planet))[:-1]\n",
    "    v_particle = np.cross([0,0,omega], (r_particle))[:-1]\n",
    "    \n",
    "```\n",
    "\n",
    "```{admonition} Calculate derivatives\n",
    ":class: dropdown, tip\n",
    "\n",
    "    # Set y vector\n",
    "    y_vector = np.array([r_sun, r_planet, r_particle, v_sun, v_planet, v_particle])\n",
    "\n",
    "    # Set initial time and period\n",
    "    t = 0\n",
    "    period = np.sqrt(4*np.pi**2/(G*(m_planet+m_sun))*R**3)\n",
    "\n",
    "    # Set time step\n",
    "    dt = period/1000\n",
    "\n",
    "    # Empty lists to plot positions later\n",
    "    x_positions = []\n",
    "    y_positions = []\n",
    "\n",
    "    rot_particle_positions = []\n",
    "\n",
    "    times = []\n",
    "\n",
    "    # Create while loop\n",
    "    while t < period:\n",
    "    \n",
    "        # Append only position parts of the y vector\n",
    "        x_positions.append(y_vector[:3,0])\n",
    "        y_positions.append(y_vector[:3,1])\n",
    "\n",
    "        x = y_vector[2,0]\n",
    "        y = y_vector[2,1]\n",
    "        xp = y_vector[1,0]\n",
    "        yp = y_vector[1,1]\n",
    "\n",
    "        rot_particle_positions.append(TransformIntoRotatingFrame([xp, yp], [x, y]))\n",
    "\n",
    "\n",
    "        # Calculate all slopes\n",
    "        h1 = CalcDerivatives(t, G, m_sun, m_planet, m_particle, y_vector)\n",
    "        h2 = CalcDerivatives(t+dt/2., G, m_sun, m_planet, m_particle, y_vector+dt/2.*h1)\n",
    "        h3 = CalcDerivatives(t+dt/2., G, m_sun, m_planet, m_particle, y_vector+dt/2.*h2)\n",
    "        h4 = CalcDerivatives(t+dt, G, m_sun, m_planet, m_particle, y_vector+dt*h3)\n",
    "\n",
    "        # Update y vector\n",
    "        y_vector = y_vector+dt/6.*(h1+2*h2+2*h3+h4)\n",
    "\n",
    "        # Update time\n",
    "        t = t + dt\n",
    "        times.append(t)\n",
    "```\n",
    "\n",
    "```{admonition} Plot results in the rotating frame\n",
    ":class: dropdown, tip\n",
    "\n",
    "    x_positions, y_positions = np.array(x_positions), np.array(y_positions)\n",
    "    rot_particle_positions = np.array(rot_particle_positions)\n",
    "\n",
    "    plt.figure(figsize=(7,7))    \n",
    "\n",
    "    plt.plot(x_positions[-1,0], y_positions[-1,0], '*',\n",
    "             color = 'r', mfc='w',ms=10, label='Sun')\n",
    "\n",
    "    plt.plot(x_positions[0,2], y_positions[0,2], '*',\n",
    "             color = 'b', mfc='b',ms=10, label='Test particle')\n",
    "\n",
    "\n",
    "    plt.plot(x_positions[0,1], y_positions[0,1], '*',\n",
    "             color = 'g', mfc='g',ms=10, label='Planet')\n",
    "\n",
    "    plt.plot(rot_particle_positions[:,0],rot_particle_positions[:,1], label=\"Test particle trajectory\",\n",
    "            color=\"blue\", dashes=(4,2))\n",
    "\n",
    "\n",
    "    plt.xlabel('x position')\n",
    "    plt.ylabel('y position')\n",
    "    plt.title(r'Plot for $t = T$ in rotating frame')\n",
    "\n",
    "    plt.gca().set_aspect('equal', adjustable='box')\n",
    "    plt.legend(loc='best', fontsize=\"small\")\n",
    "\n",
    "    plt.show()\n",
    "```"
   ]
  },
  {
   "cell_type": "code",
   "execution_count": 12,
   "metadata": {
    "tags": [
     "remove-input"
    ]
   },
   "outputs": [],
   "source": [
    "# Masses of bodies in the system\n",
    "m_sun = 1.989*1e30\n",
    "m_planet = 5.972*1e24\n",
    "m_particle = 1\n",
    "\n",
    "# Constants\n",
    "G = 6.673210*1e-11\n",
    "R = 151.99*1e6*1000\n",
    "\n",
    "# Position vectors\n",
    "r_sun = np.array([0,0])\n",
    "r_planet = np.array([R+r_sun[0],0])\n",
    "r_particle = np.array([R*np.cos(np.deg2rad(45)), R*np.sin(np.deg2rad(45))])\n",
    "\n",
    "# Calculate centre of mass\n",
    "# Test particle has mass so small, can be omitted\n",
    "r_mass_centre = (r_planet*m_planet+r_sun*m_sun)/(m_planet+m_sun)\n",
    "\n",
    "# Convert into centre of mass cooridantes\n",
    "r_sun = r_sun - r_mass_centre\n",
    "r_planet = r_planet - r_mass_centre\n",
    "r_particle = r_particle - r_mass_centre\n",
    "\n",
    "# Calculate angular velocity in z-direction\n",
    "mu = G*(m_planet+m_sun)\n",
    "omega = np.sqrt(mu/R**3)\n",
    "\n",
    "# Take vector cross product between omega vector and position vectors\n",
    "v_sun = np.cross([0,0,omega],(r_sun))[:-1]\n",
    "v_planet = np.cross([0,0,omega],(r_planet))[:-1]\n",
    "v_particle = np.cross([0,0,omega], (r_particle))[:-1]\n",
    "\n",
    "# Set y vector\n",
    "y_vector = np.array([r_sun, r_planet, r_particle, v_sun, v_planet, v_particle])\n",
    "\n",
    "# Set initial time and period\n",
    "t = 0\n",
    "period = np.sqrt(4*np.pi**2/(G*(m_planet+m_sun))*R**3)\n",
    "\n",
    "# Set time step\n",
    "dt = period/1000\n",
    "\n",
    "# Empty lists to plot positions later\n",
    "x_positions = []\n",
    "y_positions = []\n",
    "\n",
    "rot_particle_positions = []\n",
    "\n",
    "times = []\n",
    "\n",
    "# Create while loop\n",
    "while t < 400*period:\n",
    "    \n",
    "    # Append only position parts of the y vector\n",
    "    x_positions.append(y_vector[:3,0])\n",
    "    y_positions.append(y_vector[:3,1])\n",
    "    \n",
    "    x = y_vector[2,0]\n",
    "    y = y_vector[2,1]\n",
    "    xp = y_vector[1,0]\n",
    "    yp = y_vector[1,1]\n",
    "    \n",
    "    rot_particle_positions.append(TransformIntoRotatingFrame([xp, yp], [x, y]))\n",
    "\n",
    "    \n",
    "    # Calculate all slopes\n",
    "    h1 = CalcDerivatives(t, G, m_sun, m_planet, m_particle, y_vector)\n",
    "    h2 = CalcDerivatives(t+dt/2., G, m_sun, m_planet, m_particle, y_vector+dt/2.*h1)\n",
    "    h3 = CalcDerivatives(t+dt/2., G, m_sun, m_planet, m_particle, y_vector+dt/2.*h2)\n",
    "    h4 = CalcDerivatives(t+dt, G, m_sun, m_planet, m_particle, y_vector+dt*h3)\n",
    "\n",
    "    # Update y vector\n",
    "    y_vector = y_vector+dt/6.*(h1+2*h2+2*h3+h4)\n",
    "    \n",
    "    # Update time\n",
    "    t = t + dt\n",
    "    times.append(t)\n",
    "    \n",
    "x_positions, y_positions = np.array(x_positions), np.array(y_positions)\n",
    "rot_particle_positions = np.array(rot_particle_positions)"
   ]
  },
  {
   "cell_type": "code",
   "execution_count": 13,
   "metadata": {
    "tags": [
     "remove-input"
    ]
   },
   "outputs": [
    {
     "data": {
      "image/png": "[encoded data removed]",
      "text/plain": [
       "<Figure size 504x504 with 1 Axes>"
      ]
     },
     "metadata": {
      "needs_background": "light"
     },
     "output_type": "display_data"
    }
   ],
   "source": [
    "plt.figure(figsize=(7,7))    \n",
    "\n",
    "plt.plot(x_positions[-1,0], y_positions[-1,0], '*',\n",
    "         color = 'r', mfc='w',ms=10, label='Sun')\n",
    "\n",
    "plt.plot(x_positions[0,2], y_positions[0,2], '*',\n",
    "         color = 'b', mfc='b',ms=10, label='Test particle')\n",
    "\n",
    "\n",
    "plt.plot(x_positions[0,1], y_positions[0,1], '*',\n",
    "         color = 'g', mfc='g',ms=10, label='Planet')\n",
    "\n",
    "plt.plot(rot_particle_positions[:,0],rot_particle_positions[:,1], label=\"Test particle trajectory\",\n",
    "        color=\"blue\", dashes=(4,2))\n",
    "\n",
    "\n",
    "plt.xlabel('x position (km)')\n",
    "plt.ylabel('y position (km)')\n",
    "plt.title(r'Plot for $t = 400T$ in rotating frame')\n",
    "\n",
    "plt.gca().set_aspect('equal', adjustable='box')\n",
    "plt.legend(loc='best', fontsize=\"small\")\n",
    "plt.show()"
   ]
  },
  {
   "cell_type": "markdown",
   "metadata": {},
   "source": [
    "In the rotating frame, it looks that the particle has a tadpole orbit around Lagrangian point L4 in a very narrow band:"
   ]
  },
  {
   "cell_type": "code",
   "execution_count": 14,
   "metadata": {
    "tags": [
     "remove-input"
    ]
   },
   "outputs": [
    {
     "data": {
      "image/png": "[encoded data removed]",
      "text/plain": [
       "<Figure size 360x360 with 1 Axes>"
      ]
     },
     "metadata": {
      "needs_background": "light"
     },
     "output_type": "display_data"
    }
   ],
   "source": [
    "plt.figure(figsize=(5,5))\n",
    "plt.plot(rot_particle_positions[:,0], rot_particle_positions[:,1],\n",
    "         color=\"blue\", dashes=(4,2), label=\"Test particle trajectory\")\n",
    "\n",
    "plt.xlim(0.7e11, 0.8e11)\n",
    "plt.ylim(1.275e11, 1.359e11)\n",
    "plt.xlabel(\"x position (km)\")\n",
    "plt.ylabel(\"y position (km)\")\n",
    "plt.gca().set_aspect(\"equal\")\n",
    "plt.legend(loc=\"best\")\n",
    "\n",
    "plt.show()"
   ]
  },
  {
   "cell_type": "markdown",
   "metadata": {},
   "source": [
    "## Adding perturbations\n",
    "\n",
    "If we increase Earth's mass by a factor of 1000, we obtain a much wider orbit:"
   ]
  },
  {
   "cell_type": "code",
   "execution_count": 15,
   "metadata": {
    "tags": [
     "remove-input"
    ]
   },
   "outputs": [
    {
     "data": {
      "image/png": "[encoded data removed]",
      "text/plain": [
       "<Figure size 504x504 with 1 Axes>"
      ]
     },
     "metadata": {
      "needs_background": "light"
     },
     "output_type": "display_data"
    }
   ],
   "source": [
    "# Masses of bodies in the system\n",
    "m_sun = 1.989*1e30\n",
    "m_planet = 5.972*1e24*1e3\n",
    "m_particle = 1\n",
    "\n",
    "# Constants\n",
    "G = 6.673210*1e-11\n",
    "R = 151.99*1e6*1000\n",
    "\n",
    "# Position vectors\n",
    "r_sun = np.array([0,0])\n",
    "r_planet = np.array([R+r_sun[0],0])\n",
    "r_particle = np.array([R*np.cos(np.deg2rad(45)), R*np.sin(np.deg2rad(45))])\n",
    "\n",
    "# Calculate centre of mass\n",
    "# Test particle has mass so small, can be omitted\n",
    "r_mass_centre = (r_planet*m_planet+r_sun*m_sun)/(m_planet+m_sun)\n",
    "\n",
    "# Convert into centre of mass cooridantes\n",
    "r_sun = r_sun - r_mass_centre\n",
    "r_planet = r_planet - r_mass_centre\n",
    "r_particle = r_particle - r_mass_centre\n",
    "\n",
    "# Calculate angular velocity in z-direction\n",
    "mu = G*(m_planet+m_sun)\n",
    "omega = np.sqrt(mu/R**3)\n",
    "\n",
    "# Take vector cross product between omega vector and position vectors\n",
    "v_sun = np.cross([0,0,omega],(r_sun))[:-1]\n",
    "v_planet = np.cross([0,0,omega],(r_planet))[:-1]\n",
    "v_particle = np.cross([0,0,omega], (r_particle))[:-1]\n",
    "\n",
    "# Set y vector\n",
    "y_vector = np.array([r_sun, r_planet, r_particle, v_sun, v_planet, v_particle])\n",
    "\n",
    "# Set initial time and period\n",
    "t = 0\n",
    "period = np.sqrt(4*np.pi**2/(G*(m_planet+m_sun))*R**3)\n",
    "\n",
    "# Set time step\n",
    "dt = period/1000\n",
    "\n",
    "# Empty lists to plot positions later\n",
    "x_positions = []\n",
    "y_positions = []\n",
    "\n",
    "rot_particle_positions = []\n",
    "\n",
    "times = []\n",
    "\n",
    "# Create while loop\n",
    "while t < 7*period:\n",
    "    \n",
    "    # Append only position parts of the y vector\n",
    "    x_positions.append(y_vector[:3,0])\n",
    "    y_positions.append(y_vector[:3,1])\n",
    "    \n",
    "    x = y_vector[2,0]\n",
    "    y = y_vector[2,1]\n",
    "    xp = y_vector[1,0]\n",
    "    yp = y_vector[1,1]\n",
    "    \n",
    "    rot_particle_positions.append(TransformIntoRotatingFrame([xp, yp], [x, y]))\n",
    "\n",
    "    \n",
    "    # Calculate all slopes\n",
    "    h1 = CalcDerivatives(t, G, m_sun, m_planet, m_particle, y_vector)\n",
    "    h2 = CalcDerivatives(t+dt/2., G, m_sun, m_planet, m_particle, y_vector+dt/2.*h1)\n",
    "    h3 = CalcDerivatives(t+dt/2., G, m_sun, m_planet, m_particle, y_vector+dt/2.*h2)\n",
    "    h4 = CalcDerivatives(t+dt, G, m_sun, m_planet, m_particle, y_vector+dt*h3)\n",
    "\n",
    "    # Update y vector\n",
    "    y_vector = y_vector+dt/6.*(h1+2*h2+2*h3+h4)\n",
    "    \n",
    "    # Update time\n",
    "    t = t + dt\n",
    "    times.append(t)\n",
    "    \n",
    "x_positions, y_positions = np.array(x_positions), np.array(y_positions)\n",
    "rot_particle_positions = np.array(rot_particle_positions)\n",
    "\n",
    "plt.figure(figsize=(7,7))    \n",
    "\n",
    "plt.plot(x_positions[-1,0], y_positions[-1,0], '*',\n",
    "         color = 'r', mfc='w',ms=10, label='Sun')\n",
    "\n",
    "plt.plot(x_positions[0,2], y_positions[0,2], '*',\n",
    "         color = 'b', mfc='b',ms=10, label='Test particle')\n",
    "\n",
    "\n",
    "plt.plot(x_positions[0,1], y_positions[0,1], '*',\n",
    "         color = 'g', mfc='g',ms=10, label='Planet')\n",
    "\n",
    "plt.plot(rot_particle_positions[:,0],rot_particle_positions[:,1], label=\"Test particle trajectory\",\n",
    "        color=\"blue\", dashes=(4,2))\n",
    "\n",
    "\n",
    "plt.xlabel('x position (km)')\n",
    "plt.ylabel('y position (km)')\n",
    "plt.title(r'Plot for $t = 7\\times T$ in rotating frame')\n",
    "\n",
    "#plt.xlim(0.4e11, 0.5e11)\n",
    "#plt.ylim(1.4e11,1.5e11)\n",
    "\n",
    "plt.gca().set_aspect('equal', adjustable='box')\n",
    "plt.legend(loc='best', fontsize=\"small\")\n",
    "plt.show()"
   ]
  },
  {
   "cell_type": "markdown",
   "metadata": {},
   "source": [
    "Try yourself playing around with the numbers and placement of the test particle to see how the orbit can change!\n",
    "\n",
    "## References\n",
    "* Material used in this notebook was based on lecture content of Gravity, Magnetism and Orbital Dynamics at Earth Science and Engineering Department at Imperial College London"
   ]
  }
 ],
 "metadata": {
  "celltoolbar": "Tags",
  "kernelspec": {
   "display_name": "Python 3",
   "language": "python",
   "name": "python3"
  },
  "language_info": {
   "codemirror_mode": {
    "name": "ipython",
    "version": 3
   },
   "file_extension": ".py",
   "mimetype": "text/x-python",
   "name": "python",
   "nbconvert_exporter": "python",
   "pygments_lexer": "ipython3",
   "version": "3.7.3"
  }
 },
 "nbformat": 4,
 "nbformat_minor": 2
}
