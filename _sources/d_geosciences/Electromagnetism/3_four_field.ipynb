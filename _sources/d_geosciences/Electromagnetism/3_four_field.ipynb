{
 "cells": [
  {
   "cell_type": "markdown",
   "metadata": {},
   "source": [
    "# The four-field formalism\n",
    "\n",
    "The standard theoretical formalism for treating electromagnetic fields in matter introduces two new fields, $\\mathbf{D}$ and $\\mathbf{H}$. This notebook will introduce these fields and other basic properties associated with them, as well as their role in Maxwell's equations."
   ]
  },
  {
   "cell_type": "markdown",
   "metadata": {},
   "source": [
    "(d_field)=\n",
    "## Polarisation and the D field\n",
    "\n",
    "When an electric field is applied on a dielectric, the atoms become aligned electric dipoles. To study this property, we define  the *polarisation*, $\\mathbf{P}$, as the atomic dipole moment per volume\n",
    "\n",
    "$$\\mathbf{P} = N\\mathbf{p}$$\n",
    "\n",
    "where $N$ is the number of atoms per volume, and $\\mathbf{p}$ is the atomic dipole moment. Using this definition we can write \n",
    "\n",
    "$$\\mathbf{P} = \\chi_e \\epsilon_0 \\mathbf{E}$$\n",
    "\n",
    "where $\\chi_e$ is the *electric susceptibility* of the material. Now consider a small volume element inside the dielectric. Since the dielectric is neutral in charge we can write $Q_{inside} + Q_{surf} = 0$. This can be written as\n",
    "\n",
    "$$\\int \\rho_p dV + \\oint \\mathbf{P} \\cdot d\\mathbf{S} = 0$$\n",
    "\n",
    "where $\\rho_p$ is the polarisation charge density. Using Stoke's theorem we can write\n",
    "\n",
    "$$\\int \\rho_p dV + \\int \\nabla \\cdot \\mathbf{P} dV = 0$$\n",
    "\n",
    "$$\\rho_p = -\\nabla \\cdot \\mathbf{P}$$\n",
    "\n",
    "If P is time-varying then\n",
    "\n",
    "$$\\frac{∂\\mathbf{P}}{∂t} = N\\frac{∂\\mathbf{p}}{∂t} = Nq\\mathbf{v}$$\n",
    "\n",
    "But this is just the current density due to the movement of the bound charges, thus $\\mathbf{J}_p$ = polarization current density = $∂\\mathbf{P}/{∂t}$.\n",
    "\n",
    "Now consider Gauss's law, $\\nabla \\cdot \\mathbf{E} = \\rho/{\\epsilon_0}$. We can write the charge density as $\\rho = \\rho_f + \\rho_p$ where $\\rho_f$ is the charge density of free charges. Thus, Gauss's law becomes\n",
    "\n",
    "$$\\epsilon_0 \\nabla \\cdot \\mathbf{E} = \\rho_f - \\nabla \\cdot \\mathbf{P}$$\n",
    "\n",
    "$$\\nabla \\cdot (\\epsilon_0 \\mathbf{E} + \\mathbf{P}) = \\rho_f$$\n",
    "\n",
    "Now we define the $\\mathbf{D}$ field (sometiems called electric displacement) as \n",
    "\n",
    "$$\\mathbf{D} = \\epsilon_0 \\mathbf{E} + \\mathbf{P}$$\n",
    "\n",
    "Using $\\mathbf{P} = \\chi_e \\epsilon_0 \\mathbf{E}$ we can also write $\\mathbf{D} = \\epsilon \\mathbf{E}$, where $\\epsilon = \\epsilon_0 \\epsilon_r$ and $\\epsilon_r = 1 + \\chi_e$ = *relative permittivity*.\n",
    "\n",
    "Thus we can write Gauss's law as\n",
    "\n",
    "$$\\nabla \\cdot \\mathbf{D} = \\rho_f$$"
   ]
  },
  {
   "cell_type": "markdown",
   "metadata": {},
   "source": [
    "(h_field)=\n",
    "## Magnetisation and the H field\n",
    "\n",
    "To introduce the H field we must first talk about atomic magnetic dipole moments. These are in reality a quantum effect, but it can be helpful to visualise the atom as a tiny current loop. The atomic magnetic dipole moment is defined as\n",
    "\n",
    "$$\\mathbf{m} = I\\mathbf{A}$$\n",
    "\n",
    "where $I$ is the current and $\\mathbf{A}$ is the vector area enclosed by the loop (right-hand-rule). Define the magnetisation, $\\mathbf{M}$ as the atomic magnetic dipole moment per volume.\n",
    "\n",
    "$$\\mathbf{M} = N\\mathbf{m}$$\n",
    "\n",
    "Consider two adjacent current loops. It can be shown that a net current can be produced from the two loops. Thus, atomic magnetic dipole moments result to the formation of current. This is related to the magnetisation of the material by\n",
    "\n",
    "$$\\mathbf{J}_m = \\nabla \\times \\mathbf{M}$$\n",
    "\n",
    "where $\\mathbf{J}_m$ is the magnetisation current density. Now lets consider Maxwell's fourth equation\n",
    "\n",
    "$$\\nabla \\times \\mathbf{B} = \\mu_0\\mathbf{J} + \\mu_0 \\epsilon_0 \\frac {d\\mathbf{E}}{dt}$$\n",
    "\n",
    "We can write the current density as $\\mathbf{J} = \\mathbf{J}_c + \\mathbf{J}_m + \\mathbf{J}_p$ where $\\mathbf{J}_c$ is the conduction current density. Therefore we can write\n",
    "\n",
    "$$\\nabla \\times \\left(\\frac{\\mathbf{B}}{\\mu_0}\\right) = \\mathbf{J}_c + \\nabla \\times \\mathbf{M} + \\frac{∂\\mathbf{P}}{∂t} + \\epsilon_0 \\frac {d\\mathbf{E}}{dt}$$\n",
    "\n",
    "$$\\nabla \\times \\left(\\frac{\\mathbf{B}}{\\mu_0} - \\mathbf{M}\\right) = \\mathbf{J}_c + \\frac{∂}{∂t}\\left(\\epsilon_0 \\mathbf{E} + \\mathbf{P}\\right)$$\n",
    "\n",
    "Now we define the $\\mathbf{H}$ field as\n",
    "\n",
    "$$\\mathbf{H} = \\frac{\\mathbf{B}}{\\mu_0} - \\mathbf{M}$$\n",
    "\n",
    "and recall that $\\mathbf{D} = \\epsilon_0 \\mathbf{E} + \\mathbf{P}$. Thus, Maxwell's fourth equation becomes\n",
    "\n",
    "$$\\nabla \\times \\mathbf{H} = \\mathbf{J}_c +\\frac{∂\\mathbf{D}}{∂t}$$\n",
    "\n",
    "We can also define $\\mathbf{M} = \\chi_m \\mathbf{H}$ where $\\chi_m$ is the *magnetic susceptibility* of the material. Thus, from the definition of $\\mathbf{H}$, we can relate $\\mathbf{H}$ strictly to $\\mathbf{B}$:\n",
    "\n",
    "$$\\mathbf{H} = \\frac{\\mathbf{B}}{\\mu_0} - \\chi_m \\mathbf{H}$$\n",
    "\n",
    "$$\\mathbf{H} = \\frac{\\mathbf{B}}{\\mu_0 (1 + \\chi_m)} = \\frac{\\mathbf{B}}{\\mu}$$\n",
    "\n",
    "where $\\mu = \\mu_0 \\mu_r$ and $\\mu_r = 1 + \\chi_m$ = *relative permeability*."
   ]
  }
 ],
 "metadata": {
  "kernelspec": {
   "display_name": "Python 3",
   "language": "python",
   "name": "python3"
  },
  "language_info": {
   "codemirror_mode": {
    "name": "ipython",
    "version": 3
   },
   "file_extension": ".py",
   "mimetype": "text/x-python",
   "name": "python",
   "nbconvert_exporter": "python",
   "pygments_lexer": "ipython3",
   "version": "3.7.6"
  }
 },
 "nbformat": 4,
 "nbformat_minor": 2
}
