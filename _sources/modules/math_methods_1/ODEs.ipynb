{
 "cells": [
  {
   "cell_type": "code",
   "execution_count": null,
   "metadata": {
    "tags": [
     "hide_input"
    ]
   },
   "outputs": [],
   "source": [
    "# This cell just imports the relevant modules\n",
    "\n",
    "import numpy as np\n",
    "from math import pi, exp\n",
    "from sympy import sin, cos, Function, Symbol, diff, integrate, dsolve, checkodesol, solve, ode_order, classify_ode, pprint\n",
    "import mpmath\n",
    "from mpl_toolkits.mplot3d import Axes3D\n",
    "from matplotlib import cm\n",
    "%matplotlib inline\n",
    "import matplotlib.pyplot as plt\n",
    "from matplotlib import animation, rc\n",
    "from IPython.display import HTML"
   ]
  },
  {
   "cell_type": "markdown",
   "metadata": {},
   "source": [
    "# Order of an ODE\n",
    "\n",
    "Lecture 7, slide 9\n",
    "\n",
    "Use sympy to define dependent and independent variables, constants, ODE, and to find the order of ODEs."
   ]
  },
  {
   "cell_type": "code",
   "execution_count": null,
   "metadata": {},
   "outputs": [],
   "source": [
    "t = Symbol('t') # Independent variable\n",
    "eta = Symbol('eta') # Constant\n",
    "v = Function('v') # Dependent variable v(t)\n",
    "ode = diff(v(t),t) + eta*v(t) # The ODE we wish to solve. Make sure the RHS is equal to zero.\n",
    "print(\"ODE #1:\") \n",
    "pprint(ode)\n",
    "print(\"The order of ODE #1 is %d\" % ode_order(ode, v(t))) \n",
    "\n",
    "x = Function('x') # Dependent variable x(t)\n",
    "m = Symbol('m') # Constant\n",
    "k = Symbol('k') # Constant\n",
    "ode = m*diff(x(t),t,2) + k*x(t)\n",
    "print(\"ODE #2:\") \n",
    "pprint(ode)\n",
    "print(\"The order of ODE #2 is %d\" % ode_order(ode, x(t))) \n",
    "\n",
    "y = Function('y') # Dependent variable y(t)\n",
    "ode = diff(y(t),t,4) - diff(y(t),t,2)\n",
    "print(\"ODE #3:\") \n",
    "pprint(ode)\n",
    "print(\"The order of ODE #3 is %d\" % ode_order(ode, y(t))) "
   ]
  },
  {
   "cell_type": "markdown",
   "metadata": {},
   "source": [
    "# Analytical solutions\n",
    "\n",
    "Lecture 7, slide 14\n",
    "\n",
    "Solving ODEs analytically using sympy.dsolve"
   ]
  },
  {
   "cell_type": "code",
   "execution_count": null,
   "metadata": {},
   "outputs": [],
   "source": [
    "x = Symbol('x') # Independent variable\n",
    "y = Function('y') # Dependent variable y(x)\n",
    "\n",
    "# The ODE we wish to solve. Make sure the RHS is equal to zero.\n",
    "ode = diff(y(x),x) - 2*x*(1-y(x))\n",
    "solution = dsolve(ode, y(x)) # Solve the ode for function y(x).\n",
    "print(\"ODE #4:\") \n",
    "pprint(ode)\n",
    "print(\"The solution to ODE #4 is: \", solution) "
   ]
  },
  {
   "cell_type": "code",
   "execution_count": null,
   "metadata": {
    "tags": [
     "hide_input"
    ]
   },
   "outputs": [],
   "source": [
    "x_3d = np.arange(-5, 5, 0.01)\n",
    "y_3d = np.arange(-5, 5, 0.01)\n",
    "\n",
    "X, Y = np.meshgrid(x_3d, y_3d)\n",
    "\n",
    "dydx = 2 * X * (1-Y)\n",
    "\n",
    "x = np.linspace(-5, 5, 1000)\n",
    "\n",
    "y = np.zeros(len(x))\n",
    "\n",
    "for i in range(len(x)):\n",
    "    y[i] = 1 + exp(-x[i]**2)\n",
    "\n",
    "\n",
    "\n",
    "fig = plt.figure(figsize=(16,6))\n",
    "\n",
    "ax1 = fig.add_subplot(121, projection='3d')\n",
    "ax1.plot_surface(X, Y, dydx, cmap='seismic', edgecolor='k', lw=0.25)\n",
    "ax1.set_xlabel('x')\n",
    "ax1.set_ylabel('y(x)')\n",
    "ax1.set_zlabel('dy/dx')\n",
    "ax1.set_title('dy/dx = 2x(1-y)', fontsize=14)\n",
    "\n",
    "ax2 = fig.add_subplot(122)\n",
    "ax2.plot(x, y, 'k', label='y(x) = 1 + exp(-x**2)')\n",
    "ax2.set_xlabel('x')\n",
    "ax2.set_ylabel('y(x)')\n",
    "ax2.set_title(\"Solution to ODE 4\", fontsize=14)\n",
    "ax2.legend(loc='best')\n",
    "ax2.grid(True)\n",
    "\n",
    "plt.show()"
   ]
  },
  {
   "cell_type": "markdown",
   "metadata": {},
   "source": [
    "```{note}\n",
    "\n",
    "The function checkodesol checks that the result from dsolve is indeed a solution to the ode. Basically, it substitutes in 'solution' into 'ode' and checks that the RHS is zero. If it is, the function returns 'True'.\n",
    "\n",
    "```"
   ]
  },
  {
   "cell_type": "code",
   "execution_count": null,
   "metadata": {},
   "outputs": [],
   "source": [
    "print(\"Checking solution using checkodesol...\") \n",
    "check = checkodesol(ode, solution)\n",
    "\n",
    "print(\"Output from checkodesol:\", check)\n",
    "\n",
    "if(check[0] == True):\n",
    "    print(\"y(x) is indeed a solution to ODE #4\") \n",
    "else:\n",
    "    print(\"y(x) is NOT a solution to ODE #4\") "
   ]
  },
  {
   "cell_type": "markdown",
   "metadata": {},
   "source": [
    "```{note}\n",
    "\n",
    "The mpmath module can handle initial conditions (x0, y0) when solving an initial value problem, using the \n",
    "odefun function. However, this will not give you an analytical solution to the ODE, only a numerical solution.\n",
    "\n",
    "```"
   ]
  },
  {
   "cell_type": "code",
   "execution_count": null,
   "metadata": {},
   "outputs": [],
   "source": [
    "f = mpmath.odefun(lambda x, y: 2*x*(1-y), x0=0, y0=2)\n",
    "\n",
    "# compares the numerical solution f(x) with the values of the (already known) analytical solution \n",
    "# between x=0 and x=10\n",
    "for x in np.linspace(0, 10, 101):\n",
    "    print(\"x=%.1f\" % (x), \",\", f(x), \",\", 1+exp(-x**2))"
   ]
  },
  {
   "cell_type": "markdown",
   "metadata": {},
   "source": [
    "# Separation of variables\n",
    "\n",
    "Lecture 7, slide 20\n",
    "\n",
    "Solving ODE through separation of variables in Python using sympy.dsolve"
   ]
  },
  {
   "cell_type": "code",
   "execution_count": null,
   "metadata": {},
   "outputs": [],
   "source": [
    "x = Symbol('x') # Independent variable\n",
    "y = Function('y') # Dependent variable y(x)\n",
    "\n",
    "# The ODE we wish to solve.\n",
    "ode = (1.0/y(x))*diff(y(x),x) - cos(x)\n",
    "print(\"ODE #5:\") \n",
    "pprint(ode)\n",
    "\n",
    "# Solve the ode for function y(x).using separation of variables.\n",
    "solution = dsolve(ode, y(x), hint='separable')\n",
    "print(\"The solution to ODE #5 is: \", solution) "
   ]
  },
  {
   "cell_type": "markdown",
   "metadata": {},
   "source": [
    "```{note}\n",
    "\n",
    "Note that the optional 'hint' argument here has been used to tell SymPy how to solve the ODE. However, it is usually smart enough to work it out for itself.\n",
    "\n",
    "```"
   ]
  },
  {
   "cell_type": "code",
   "execution_count": null,
   "metadata": {
    "tags": [
     "hide_input"
    ]
   },
   "outputs": [],
   "source": [
    "x_3d = np.arange(-5, 5, 0.01)\n",
    "\n",
    "y_3d = np.arange(-5, 5, 0.01)\n",
    "\n",
    "X, Y = np.meshgrid(x_3d, y_3d)\n",
    "\n",
    "dydx = Y * np.cos(X) \n",
    "\n",
    "x = np.linspace(-5, 5, 1000)\n",
    "\n",
    "y = np.zeros(len(x))\n",
    "\n",
    "for i in range(len(x)):\n",
    "    y[i] = exp(sin(x[i]))\n",
    "\n",
    "    \n",
    "fig = plt.figure(figsize=(16, 6))\n",
    "\n",
    "ax1 = fig.add_subplot(121, projection='3d')\n",
    "ax1.plot_surface(X, Y, dydx, cmap='seismic', edgecolor='k', lw=0.25)\n",
    "ax1.set_xlabel('x')\n",
    "ax1.set_ylabel('y(x)')\n",
    "ax1.set_zlabel('dy/dx')\n",
    "ax1.set_title('dy/dx = ycos(x)', fontsize=14)\n",
    "\n",
    "ax2 = fig.add_subplot(122)\n",
    "ax2.plot(x, y, 'k', label='y(x) = exp(sin(x))')\n",
    "ax2.set_xlabel('x')\n",
    "ax2.set_ylabel('y(x)')\n",
    "ax2.set_title(\"Solution of ODE 5\", fontsize=14)\n",
    "ax2.legend(loc='best')\n",
    "ax2.grid(True)\n",
    "\n",
    "plt.show()"
   ]
  },
  {
   "cell_type": "markdown",
   "metadata": {},
   "source": [
    "# Integration factor\n",
    "\n",
    "Lecture 7, slide 23"
   ]
  },
  {
   "cell_type": "code",
   "execution_count": null,
   "metadata": {},
   "outputs": [],
   "source": [
    "x = Symbol('x') # Independent variable\n",
    "y = Function('y') # Dependent variable y(x)\n",
    "# The ODE we wish to solve.\n",
    "ode = diff(y(x),x) - 2*x + 2*x*y(x)\n",
    "print(\"ODE #6:\") \n",
    "pprint(ode)\n",
    "# Solve the ode for function y(x).using separation of variables\n",
    "solution = dsolve(ode, y(x))\n",
    "print(\"The solution to ODE #6 is: \", solution) "
   ]
  },
  {
   "cell_type": "markdown",
   "metadata": {},
   "source": [
    "# Application\n",
    "\n",
    "### Radioactive decay\n",
    "\n",
    "Lecture 7, slide 26"
   ]
  },
  {
   "cell_type": "code",
   "execution_count": null,
   "metadata": {},
   "outputs": [],
   "source": [
    "t = Symbol('t') # Independent variable\n",
    "N = Function('N') # Dependent variable N(t)\n",
    "l = Symbol('l') # Constant\n",
    "# The ODE we wish to solve.\n",
    "ode = diff(N(t),t) + l*N(t)\n",
    "print(\"ODE #7:\") \n",
    "pprint(ode)\n",
    "solution = dsolve(ode, N(t))\n",
    "print(\"The solution to ODE #7 is: \", solution) "
   ]
  },
  {
   "cell_type": "markdown",
   "metadata": {},
   "source": [
    "Example: 1 mole of carbon-14 at t=0"
   ]
  },
  {
   "cell_type": "code",
   "execution_count": null,
   "metadata": {
    "tags": [
     "hide_input"
    ]
   },
   "outputs": [],
   "source": [
    "l = 3.8394e-12\n",
    "\n",
    "C = 6.02e23 * exp(l)\n",
    "\n",
    "t_3d = np.arange(0, 1e12, 1e9)\n",
    "\n",
    "n_3d = np.arange(0, 6.02e23, 6.02e20)\n",
    "\n",
    "N, T = np.meshgrid(n_3d, t_3d)\n",
    "\n",
    "dNdt = -l * N\n",
    "\n",
    "\n",
    "t = np.linspace(0, 1e12, 1000)\n",
    "\n",
    "n = np.zeros(len(t))\n",
    "for i in range(len(t)):\n",
    "    n[i] = C * exp(-l*t[i])\n",
    "    \n",
    "t_years = t/(3600*24*365.25)\n",
    "\n",
    "    \n",
    "    \n",
    "fig = plt.figure(figsize=(16, 6))\n",
    "\n",
    "ax1 = fig.add_subplot(121, projection='3d')\n",
    "ax1.plot_surface(T, N, dNdt, cmap='seismic', edgecolor='k', lw=0.25)\n",
    "ax1.set_xlabel('t')\n",
    "ax1.set_ylabel('N(t)')\n",
    "ax1.set_zlabel('dN/dt')\n",
    "ax1.set_title('Rate of change in number of C-14 nuclei', fontsize=14)\n",
    "\n",
    "ax2 = fig.add_subplot(122)\n",
    "ax2.plot(t_years, n, 'k', label='N(t) = Cexp(-lt)')\n",
    "ax2.set_xlabel('Time (years)')\n",
    "ax2.set_ylabel('Number of C-14 nuclei')\n",
    "ax2.set_title(\"Number of C-14 nuclei over time\", fontsize=14)\n",
    "ax2.legend(loc='best', fontsize=12)\n",
    "ax2.grid(True)\n",
    "\n",
    "plt.show()"
   ]
  },
  {
   "cell_type": "markdown",
   "metadata": {},
   "source": [
    "```{note}\n",
    "\n",
    "The plane in the first graph shows that radioactive decay is independent of time, only dependent on the number of radioactive nuclei present.\n",
    "\n",
    "```"
   ]
  },
  {
   "cell_type": "markdown",
   "metadata": {},
   "source": [
    "### Particle settling\n",
    "\n",
    "Lecture 7, slide 31"
   ]
  },
  {
   "cell_type": "code",
   "execution_count": null,
   "metadata": {},
   "outputs": [],
   "source": [
    "t = Symbol('t') # Independent variable - time\n",
    "v = Function('v') # Dependent variable v(t) - the particle velocity\n",
    "# Physical constants\n",
    "rho_f = Symbol('rho_f') # Fluid density\n",
    "rho_p = Symbol('rho_p') # Particle density\n",
    "eta = Symbol('eta') # Viscosity\n",
    "g = Symbol('g') # Gravitational acceleration\n",
    "a = Symbol('a') # Particle radius\n",
    "# The ODE we wish to solve.\n",
    "ode = diff(v(t),t) - ((rho_p - rho_f)/rho_p)*g + (9*eta/(2*(a**2)*rho_p))*v(t)\n",
    "print(\"ODE #8:\") \n",
    "pprint(ode)\n",
    "solution = dsolve(ode, v(t))\n",
    "print(\"The solution to ODE #8 is: \", solution) "
   ]
  },
  {
   "cell_type": "markdown",
   "metadata": {},
   "source": [
    "Example: sand grain with density 2650kg/m3 and radius 1mm sinking in water.\n",
    "\n",
    "Initial conditions: v=0 when t=0"
   ]
  },
  {
   "cell_type": "code",
   "execution_count": null,
   "metadata": {
    "tags": [
     "hide_input"
    ]
   },
   "outputs": [],
   "source": [
    "rho_f = 1000\n",
    "rho_p = 2650\n",
    "eta = 0.89\n",
    "g = 9.81\n",
    "a = 1e-3\n",
    "\n",
    "C = -(2*a**2*rho_p)/(9*eta) * np.log((rho_p-rho_f)/rho_p)\n",
    "\n",
    "v_ode = np.linspace(0, 10, 1000)\n",
    "dvdt = (rho_p-rho_f)/rho_p - (9*eta*v_ode)/(2*a**2*rho_p)\n",
    "\n",
    "t = np.arange(0, 0.005, 0.00005)\n",
    "v = np.zeros(len(t))\n",
    "for i in range(len(t)):\n",
    "    v[i] = -2*a**2*g*rho_f + 2*a**2*g*rho_p + exp(eta*(C - 9*t[i]/(2*a**2*rho_p)))/(9*eta)\n",
    "\n",
    "\n",
    "\n",
    "fig = plt.figure(figsize=(16, 6))\n",
    "\n",
    "ax1 = fig.add_subplot(121)\n",
    "ax1.plot(v_ode, dvdt, 'r')\n",
    "ax1.set_xlabel('v')\n",
    "ax1.set_ylabel('dv/dt')\n",
    "ax1.set_title(\"Plot of dv/dt vs v\")\n",
    "ax1.grid(True)\n",
    "\n",
    "ax2 = fig.add_subplot(122)\n",
    "ax2.plot(t, v, 'b')\n",
    "ax2.set_xlabel('time (seconds)')\n",
    "ax2.set_ylabel('velocity (m/s)')\n",
    "ax2.set_title(\"Plot of velocity over time\")\n",
    "ax2.grid(True)\n",
    "\n",
    "plt.show()"
   ]
  }
 ],
 "metadata": {
  "celltoolbar": "Tags",
  "kernelspec": {
   "display_name": "Python 3",
   "language": "python",
   "name": "python3"
  },
  "language_info": {
   "codemirror_mode": {
    "name": "ipython",
    "version": 3
   },
   "file_extension": ".py",
   "mimetype": "text/x-python",
   "name": "python",
   "nbconvert_exporter": "python",
   "pygments_lexer": "ipython3",
   "version": "3.7.6"
  }
 },
 "nbformat": 4,
 "nbformat_minor": 4
}
