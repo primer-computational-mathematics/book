{
 "cells": [
  {
   "cell_type": "markdown",
   "metadata": {},
   "source": [
    "(logic)=\n",
    "# Logic and proof\n",
    "\n",
    "## Logic symbols"
   ]
  },
  {
   "cell_type": "markdown",
   "metadata": {},
   "source": [
    "```{index} Logic symbols\n",
    "```\n",
    "\n",
    "The origins of logic symbols stem from first attempts at creating a clear language to express logic statements. Everyday languages are not suitable for this as the use of them can easily lead to ambiguities and paradoxes. This is the case in mathematics as well, so general mathematics was influenced by this language and borrowed some of it. The use of logic symbols is more widespread in areas of mathematics where there is a need for a clear language, for example set theory (which is full of paradoxes!).\n",
    "\n",
    "Here we will list some more common logic symbols. For a full list visit [Wikipedia](https://en.wikipedia.org/wiki/List_of_logic_symbols).\n",
    "\n",
    "```{list-table} Common logic symbols\n",
    ":name: logic-symbols\n",
    ":header-rows: 1\n",
    ":widths: 10 20 20 25 25\n",
    ":align: center\n",
    "\n",
    "* - Symbol\n",
    "  - Name\n",
    "  - Read as\n",
    "  - Example\n",
    "  - Meaning\n",
    "* - $\\forall$\n",
    "  - universal quantification\n",
    "  - for all, for any, for each\n",
    "  - $\\forall x \\in \\mathbb{R}, x^2 \\geq 0$\n",
    "  - For all real numbers $x$, $x^2$ is greater or equal to $0$\n",
    "* - $\\exists$\n",
    "  - existential quantification\n",
    "  - there exists\n",
    "  - $\\forall n \\in \\mathbb{N}, \\exists x \\in \\mathbb{R} : | n - x | < 1$\n",
    "  - For all natural numbers $n$ there exists a real number $x$ such that $| n - x| < 1$\n",
    "* - $\\exists !$\n",
    "  - uniqueness quantification\n",
    "  - there exists exactly one\n",
    "  - $A \\subseteq \\mathbb{N} \\implies \\exists ! m \\in A : m \\geq n, \\forall n \\in A$\n",
    "  - If $A$ is a subset of $\\mathbb{N}$ then there exists a unique $m \\in A$ such that $m \\geq n$, for all $n \\in A$  \n",
    "* - $\\lnot$\n",
    "  - negation\n",
    "  - not\n",
    "  - $\\lnot (x = y) \\iff (x \\neq y)$\n",
    "  - $x = y$ is not true iff $x \\neq y$\n",
    "* - $\\land$\n",
    "  - conjunction\n",
    "  - and\n",
    "  - $((x \\leq 1) \\land (x \\geq 1)) \\iff x = 1$\n",
    "  - $x$ is less or equal than 1 and greater or equal to $1$ iff $x = 1$\n",
    "* - $\\lor$\n",
    "  - disjunction\n",
    "  - or\n",
    "  - $((x \\leq 0) \\lor (x \\geq 0)) \\iff x \\in \\mathbb{R}$\n",
    "  - $x \\leq 0$ or $x \\geq 0$ iff $x$ is a real number\n",
    "* - $\\implies$\n",
    "  - implication\n",
    "  - implies, if... then\n",
    "  - $n \\in \\mathbb{N} \\implies n \\in \\mathbb{Z}$\n",
    "  - If $n$ is element of $\\mathbb{N}$ then it is element of $\\mathbb{Z}$\n",
    "* - $\\iff$\n",
    "  - equivalence\n",
    "  - if and only if, iff\n",
    "  - ($x$ is prime) $\\land (x\\mod 2 = 0) \\iff x=2$\n",
    "  - $x=2$ if and only if $x$ is a prime number and $x \\mod 2 = 0$\n",
    "* - $:$, $|$, s.t.\n",
    "  - condition\n",
    "  - such that\n",
    "  - $\\forall x \\in \\mathbb{R} : x > 0, \\sqrt{x} > 0$\n",
    "  - For all $x$ element of $\\mathbb{R}$ such that x is greater than $0$, $\\sqrt{x}$ is greater than $0$\n",
    "  \n",
    "```"
   ]
  },
  {
   "cell_type": "code",
   "execution_count": null,
   "metadata": {},
   "outputs": [],
   "source": []
  }
 ],
 "metadata": {
  "kernelspec": {
   "display_name": "Python 3",
   "language": "python",
   "name": "python3"
  },
  "language_info": {
   "codemirror_mode": {
    "name": "ipython",
    "version": 3
   },
   "file_extension": ".py",
   "mimetype": "text/x-python",
   "name": "python",
   "nbconvert_exporter": "python",
   "pygments_lexer": "ipython3",
   "version": "3.7.3"
  }
 },
 "nbformat": 4,
 "nbformat_minor": 4
}
