{
 "cells": [
  {
   "cell_type": "markdown",
   "metadata": {},
   "source": [
    "# Introductory definitions and concepts\n",
    "\n",
    "Partial differential equations (PDEs) arise everywhere in Physics"
   ]
  },
  {
   "cell_type": "markdown",
   "metadata": {},
   "source": [
    "(pde_basic_partial_differentiation)=\n",
    "## Partial differentiation\n",
    "\n",
    "Let us quickly recall some important ... in partial differentiation.\n",
    "\n",
    "Given a function of $n$ variables $f(x_1, x_2, \\dots , x_n)$, its **total differential** is given by\n",
    "\n",
    "$$ df = \\frac{\\partial f}{\\partial x_1} dx_1 + \\frac{\\partial f}{\\partial x_2} dx_2 + \\cdots + \\frac{\\partial f}{\\partial x_n} dx_n $$\n",
    "\n",
    "Assume that now $x$ and $y$ are functions of another variable, say $t$. Dividing the above by $dt$ we get\n",
    "\n",
    "$$ \\frac{df}{dt} = \\frac{\\partial f}{\\partial x_1} \\frac{dx_1}{dt} + \\frac{\\partial f}{\\partial x_2} \\frac{dx_2}{dt} + \\cdots + \\frac{\\partial f}{\\partial x_n} \\frac{dx_n}{dt} $$\n",
    "\n",
    "which is the **chain rule** for partial differentiation and is how we calculate the total derivative of $f$ w.r.t. $t$."
   ]
  },
  {
   "cell_type": "markdown",
   "metadata": {},
   "source": [
    "\n",
    "\n"
   ]
  },
  {
   "cell_type": "markdown",
   "metadata": {},
   "source": [
    "(pde_basic_auxiliary_conditions)=\n",
    "## Auxiliary conditions\n",
    "\n",
    "Initial conditions\n",
    "\n",
    "**Boundary conditions**:\n",
    "\n",
    "- **Dirichlet** "
   ]
  },
  {
   "cell_type": "markdown",
   "metadata": {},
   "source": [
    "(pde_basic_well_posed)=\n",
    "## Well-posedness\n",
    "\n",
    "```{index} Well-posedness\n",
    "```\n",
    "\n",
    "A **well posed problem** is a problem consisting of a PDE in a domain together with the necessary auxiliary conditions such that:\n",
    "\n",
    "1. **Existence**: the solution exists\n",
    "2. **Uniqueness**: the solution is unique\n",
    "3. **Stability**: the solution depends on the auxiliary conditions in a continuous manner. This means that a small change in the auxiliary conditions produces a small change in the solution"
   ]
  },
  {
   "cell_type": "markdown",
   "metadata": {},
   "source": [
    "(pde_basic_classification)=\n",
    "## Elliptic, parabolic and hyperbolic PDEs\n",
    "\n",
    "When dealing with second-order PDEs, we will want to know whether they are an elliptic, parabolic or hyperbolic type. As we get more experience with solving PDEs, knowing which of the three types it belongs to will guide us in the choice of solution method and how we expect it to behave.\n",
    "\n",
    "A general linear PDE is of the form \n",
    "\n",
    "$$ \\mathcal{L}[u] = f, $$\n",
    "\n",
    "where $\\mathcal{L}$ is a linear differential operator and $f$ is some function. If there are $n$ independent variables $x_1, x_2, \\dots, x_n$, a general second-order linear PDE is of the form\n",
    "\n",
    "$$ \\mathcal{L}[u] = \\sum_{i,j=1}^n a_{ij} u_{x_i x_j} + \\text{lower-order terms} = 0 $$ (eq:general_simplified)\n",
    "\n",
    "where $A = A[a_{ij}]$ is a symmetric $n \\times n$ matrix of coefficients of the second derivatives. For example, a general second-order linear equation in **two** independent variables $\\mathbf{x} = (x, y)$ then has the form:\n",
    "\n",
    "$$ a_{11}u_{xx} + a_{12}u_{xy} + a_{22}u_{yy} + \\cdots = 0 $$\n",
    "\n",
    "and since $u_{xy} = u_{yx}$, the symmetric coefficient matrix $A$ is then\n",
    "\n",
    "$$ A = \\begin{pmatrix} a_{11} & \\frac{a_{12}}{2} \\\\ \\frac{a_{12}}{2} & a_{22} \\end{pmatrix} $$ (coeff_2d)\n",
    "\n",
    "Going back to the general $n$-dimensional case {eq}`eq:general_simplified`, we classify second-order PDEs based on the eigenvalues of $A$:\n",
    "\n",
    "1. **ELLIPTIC**: all $n$ eigenvalues are all positive or all negative\n",
    "2. **PARABOLIC**: 1 eigenvalue is zero and $n-1$ eigenvalues are all positive or all negative\n",
    "3. **HYPERBOLIC**: 1 eigenvalue is negative and $n-1$ eigenvalues are all positive, or vice versa\n",
    "\n",
    "As a simple example, let us find the eigenvalues of the 2-D coefficient matrix {eq}`coeff_2d`:\n",
    "\n",
    "$$ \\left | \\begin{array}{cc} a_{11} - \\lambda & \\frac{a_{12}}{2} \\\\ \\frac{a_{12}}{2} & a_{22} - \\lambda \\end{array} \\right | = (a_{11} - \\lambda)(a_{22} - \\lambda) - \\frac{a_{12}^2}{4} $$\n",
    "\n",
    "$$ \\lambda^2 - (a_{11} + a_{22})\\lambda + a_{11}a_{22} - \\frac{a_{12}^2}{4} = 0 $$\n",
    "\n",
    "Vieta's formula:\n",
    "\n",
    "$$ \\lambda_1 \\lambda_2 = a_{11}a_{22} - \\frac{a_{12}^2}{4} $$\n",
    "\n",
    "Therefore, if the equation is elliptic and $\\lambda_1$ and $\\lambda_2$ are both positive or negative, then $a_{11}a_{22} - \\frac{a_{12}^2}{4} > 0$. If one is positive and the other is negative, then $a_{11}a_{22} - \\frac{a_{12}^2}{4} < 0$ and the equation is hyperbolic. And if one eigenvalue is zero, $a_{11}a_{22} - \\frac{a_{12}^2}{4} = 0$ and the equation is parabolic. \n",
    "\n",
    "Let us see three very important examples.\n",
    "\n",
    "1. **Laplace's equation** $ \\nabla^2 u = 0 $\n",
    "\n",
    "Let us write it in the above form\n",
    "\n",
    "$$ \\frac{\\partial^2 u}{\\partial x^2} + \\frac{\\partial^2 u}{\\partial y^2} + \\frac{\\partial^2 u}{\\partial z^2} = 0 $$\n",
    "\n",
    "Here $A_{ij}$ is the diagonal matrix $A$ = diag$(1, 1, 1)$. Recall that the eigenvalues of diagonal matrices are the diagonal entries themselves, so the eigenvalues of $A$ are $1, 1, 1$. Since all 3 are positive, Laplace's equation is elliptic.\n",
    "\n",
    "2. **Heat (diffusion) equation** $ u_t - k \\nabla^2 u = 0, \\quad k > 0 $\n",
    "\n",
    "Note that now $n = 4$ as we have 1 + 3 dimensions (1 temporal and 3 spatial). Rewritten as\n",
    "\n",
    "$$ -k \\frac{\\partial^2 u}{\\partial x^2} -k \\frac{\\partial^2 u}{\\partial y^2} -k \\frac{\\partial^2 u}{\\partial z^2} + u_t = 0 $$\n",
    "\n",
    "we easily see that $A_{ij} =$ diag$(0, -k, -k, -k)$ because we have $ 0 \\times u_{tt} $. The heat equation is parabolic.\n",
    "\n",
    "3. **Wave equation** $ u_{tt} - c^2 \\nabla^2 u = 0 $\n",
    "\n",
    "Now the time derivative is second-order as well, so the coefficient matrix $A_{ij} =$ diag$(1, -c^2, -c^2, -c^2)$. We have 1 positive eigenvalue and all 3 other eigenvalues are negative, so the wave equation is hyperbolic.\n",
    "\n",
    "```{important}\n",
    "\n",
    "A PDE can change type in different parts of the domain if $a_{ij}$ are functions of $x_i$. However, the local type (at any given position) is invariant under coordinate transformations.\n",
    "\n",
    "```\n",
    "\n",
    "### Expected behaviour of solutions\n",
    "\n",
    "Copied from MM4 lecture 3. TODO: change\n",
    "\n",
    "- **Elliptic**. Solutions are \"smooth\", i.e. they vary in a sedate manner. The level of smoothness is partly dictated by the coefficients in the PDE. Solutions may be rough at boundaries. If one of the independent variables is time, then solutions will tend to become smoother with time. If both of the independent variables are space coordinates, then the solution will tend to be increasingly smooth in the interior of the region away from the boundaries.\n",
    "- **Parabolic**. Parabolic equations can always be transformed into a form equivalent to the diffusion equation by a suitable change of variables. In this form, the solutions always become smoother as the transformed time variable increases.\n",
    "- **Hyperbolic**. Solutions do not get smoother with time. INstead discontinuities in the initial conditions tend to propagate across space and time. Hyperbolic equations are often difficult to deal with because at large times and distances their solutions are still complicated."
   ]
  },
  {
   "cell_type": "code",
   "execution_count": null,
   "metadata": {},
   "outputs": [],
   "source": []
  }
 ],
 "metadata": {
  "kernelspec": {
   "display_name": "Python 3",
   "language": "python",
   "name": "python3"
  },
  "language_info": {
   "codemirror_mode": {
    "name": "ipython",
    "version": 3
   },
   "file_extension": ".py",
   "mimetype": "text/x-python",
   "name": "python",
   "nbconvert_exporter": "python",
   "pygments_lexer": "ipython3",
   "version": "3.7.4"
  }
 },
 "nbformat": 4,
 "nbformat_minor": 4
}
