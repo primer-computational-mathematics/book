{
 "cells": [
  {
   "cell_type": "markdown",
   "metadata": {},
   "source": [
    "# Series ODE"
   ]
  },
  {
   "cell_type": "markdown",
   "metadata": {},
   "source": [
    "We showed how to solve 2nd order linear ODES with constant coefficients, now consider ODEs where coefficients are functions of the independent variable - here we denote it by $x$\n",
    "\n",
    "It is sufficient to consider the homogeneous equation \n",
    "\n",
    "$$ P(x)y'' + Q(x)y' + R(x)y = 0 $$ (eq1)\n",
    "\n",
    "since the procedure for the corresponding inhomogeneous equation is similar.\n",
    "\n",
    "For now we will work with p q r that are polynomials and have no common factors, but can be extended to general analytic functions\n",
    "\n",
    "Suppose also that we wish to solve Eq. (1) in the neighborhood\n",
    "of a point x0. The solution of Eq. (1) in an interval containing x0 is closely associated\n",
    "with the behavior of P in that interval\n",
    "\n",
    "A point x0 such that P(x0)' = 0 is called an **ordinary point**. Since P is continuous, it follows that there is an interval about x0 in which P(x) is never zero. In that interval we can divide Eq. (1) by P(x) to obtain\n",
    "\n",
    "$$ y'' + p(x)y' + q(x)y = 0 $$ (eq2)\n",
    "\n",
    "where p(x), q(x) are continuous functions. Hence,\n",
    "according to the existence and uniqueness Theorem 3.2.1, there exists in that interval a\n",
    "unique solution of Eq. (1) that also satisfies the initial conditions y(x0) = y0, y'(x0) = y'0 for arbitrary values of y0 and y'0. In this and the following section we discuss the solution of Eq. (1) in the neighborhood of an ordinary point."
   ]
  },
  {
   "cell_type": "markdown",
   "metadata": {},
   "source": [
    "We look for solution of {eq}`eq1` in the form of a power series:\n",
    "\n",
    "$$ y = \\sum_{n=0}^{\\infty} a_n(x-x_0)^n $$\n",
    "\n",
    "and we assume that the series converges in the interval $ |x - x_0| < \\rho, \\ \\rho > 0 $."
   ]
  },
  {
   "cell_type": "markdown",
   "metadata": {},
   "source": [
    "# Series Solutions of ODEs\n",
    "\n",
    "{eq}`eq2` A point $x = x_0$ is an **ordinary point** if $p(x)$ and $q(x)$ are analytic on some interval about $x_0$, as opposed to a **singular point**. If $x_0$ is a singularity of functions $p(x)$ and $q(x)$ but such that $(x-x_0)p(x)$ and $(x-x_0)^2 q(x)$ are analytic at $x_0$, then $x_0$ is a **regular singular point**.\n",
    "\n",
    "Note that it is possible to translate the point $x_0$ to the origin. We can also analyse the behaviour at infinity with the transformation $x = 1/t$.\n",
    "\n",
    "## Power Series Method\n",
    "\n",
    "A **power series** in powers of $x-x_0$ is an infinite series\n",
    "\n",
    "$$ \\sum_{m=0}^{\\infty} a_m (x - x_0)^m $$\n",
    "\n",
    "where $x$ is a variable, $x_0$ is a constant called the centre of the series and $a_m$ are the coefficients of the series. It is possible to translate the point $x_0$ to the origin, so for convenience we will often want to assume $x_0 = 0$. Then\n",
    "\n",
    "$$ \\sum_{m=0}^{\\infty} a_m x^m $$\n",
    "\n",
    "We assume the solution of {eq}`eq2` to be of the form of the power series, so that\n",
    "\n",
    "$$ y' = \\sum_{m=0}^{\\infty} m a_m (x - x_0)^{m-1} \\\\\n",
    "y'' = \\sum_{m=0}^{\\infty} m(m-1) a_m (x - x_0)^{m-2} $$\n",
    "\n",
    "The idea to solve {eq}`eq2` is:\n",
    "1. Represent $p(x)$ and $q(x)$ by power series\n",
    "2. Substitute $y$ and its derivatives in {eq}`eq2`\n",
    "3. Equate coefficients of like powers of $x$ and determine them successively"
   ]
  },
  {
   "cell_type": "code",
   "execution_count": null,
   "metadata": {},
   "outputs": [],
   "source": []
  },
  {
   "cell_type": "markdown",
   "metadata": {},
   "source": [
    "## Frobenius method\n",
    "\n",
    "Consider a second-order linear ODE\n",
    "\n",
    "$$ y'' + p(x)y' + q(x)y = 0 $$\n",
    "\n",
    "<div style=\"box-shadow: 0px 0px 7px 1px #9DC1BD; padding:15px;\">\n",
    "\n",
    "**Theorem (Fuchs)** If $x = x_0$ is a regular singular point, then the solutions of a differential equation:\n",
    "    1. are analytic on some neighbourhood around $x_0$ \n",
    "    2. or they have a pole or a logarithmic term.\n",
    "    \n",
    "</div>\n",
    "\n",
    "Fuchs' theorem allows "
   ]
  }
 ],
 "metadata": {
  "kernelspec": {
   "display_name": "Python 3",
   "language": "python",
   "name": "python3"
  },
  "language_info": {
   "codemirror_mode": {
    "name": "ipython",
    "version": 3
   },
   "file_extension": ".py",
   "mimetype": "text/x-python",
   "name": "python",
   "nbconvert_exporter": "python",
   "pygments_lexer": "ipython3",
   "version": "3.7.4"
  }
 },
 "nbformat": 4,
 "nbformat_minor": 4
}
