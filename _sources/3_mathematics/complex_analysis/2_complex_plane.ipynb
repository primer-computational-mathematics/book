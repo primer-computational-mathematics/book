{
 "cells": [
  {
   "cell_type": "markdown",
   "metadata": {},
   "source": [
    "(complex_plane)=\n",
    "# Complex plane\n",
    "\n",
    "```{index} Complex plane\n",
    "```\n",
    "\n",
    "From the definition of complex numbers it is clear that there is a natural correspondence between a set of complex numbers $\\mathbb{C}$ and points in a plane: to every complex number $z = x +iy$ we can *uniquely* assign a point $P(x, y)$ in the $\\mathbb{R}^2$ plane. We call a plane in which every point has a corresponding complex number assigned to it a **complex plane** (or Argand plane). However, for simplicity we would normally simply say \"in a point $z$\" when we mean \"in a point (of a complex plane) assigned a complex number $z$.\""
   ]
  },
  {
   "cell_type": "code",
   "execution_count": 104,
   "metadata": {
    "tags": [
     "hide-input"
    ]
   },
   "outputs": [
    {
     "data": {
      "image/png": "[encoded data removed]",
      "text/plain": [
       "<Figure size 432x288 with 1 Axes>"
      ]
     },
     "metadata": {
      "needs_background": "light"
     },
     "output_type": "display_data"
    }
   ],
   "source": [
    "z = complex(3, 2)\n",
    "\n",
    "fig = plt.figure()\n",
    "ax = fig.add_subplot(111)\n",
    "    \n",
    "plt.plot(z.real, z.imag, 'o', zorder=10)\n",
    "plt.plot([3, 3], [0, 2], '--k', alpha=0.8)\n",
    "plt.plot([0, 3], [2, 2], '--k', alpha=0.8)\n",
    "\n",
    "ax.text(2.7, -0.25, \"$Re(z)$\", fontsize=12)\n",
    "ax.text(-0.7, 1.95, \"$Im(z)$\", fontsize=12)\n",
    "\n",
    "ax.arrow(-1., 0, 4.5, 0, shape='full', head_width=0.1, head_length=0.2)\n",
    "ax.arrow(0, -1.5, 0, 4, shape='full', head_width=0.1, head_length=0.2)\n",
    "\n",
    "ax.axis('equal')\n",
    "ax.set_xlim(-2, 4)\n",
    "ax.set_ylim(-2, 4)\n",
    "ax.axis('off')\n",
    "\n",
    "plt.show()"
   ]
  },
  {
   "cell_type": "markdown",
   "metadata": {},
   "source": [
    "Having represented complex numbers geometrically, let us revisit the terms we introduced in the first notebook.\n",
    "\n",
    "- Re $z$ is equal to the abscissa and Im $z$ to the ordinate of a point $P$. We therefore call x-axis the *real axis* and y-axis the *imaginary axis*.\n",
    "\n",
    "- The modulus of a complex number $|z|$ is equal to the distance between the corresponding point $P$ and the origin of the complex plane. In general, the distance between points $P_1$ and $P_2$ assigned to numbers $z_1$ and $z_2$ is equal to the modulus of the difference of those two points:\n",
    "\n",
    "$$ d(T_1, T_2) = \\sqrt{(x_1 - x_2)^2 + (y_1 - y_2)^2} = | z_1 - z_2 |$$\n",
    "\n",
    "- If a number $z$ is assigned a point $P(x, y)$, then the complex conjugate $z^*$ is assigned a point $P^*(x, -y)$, which is just a reflection of $P$ with respect to the real axis.\n",
    "\n",
    "- Every point $P(x, y)$ has a corresponding vector $\\vec{OP}$ from the origin to $P$. The sum $z_1 + z_2$ therefore represents vector addition \\\\( \\overrightarrow{OP_1} + \\overrightarrow{OP_2} \\\\).\n",
    "\n",
    "Because of the vector analogy, we can also say that complex numbers satisfy the *triangle inequalities*:\n",
    "\n",
    "$$ | z_1| - |z_2| \\leq |z_1 + z_2| \\leq |z_1| + |z_2| $$"
   ]
  },
  {
   "cell_type": "markdown",
   "metadata": {},
   "source": [
    "(comp_trig_form)=\n",
    "# Trigonometric form\n",
    "\n",
    "```{sidebar} Complex plane - Argand diagram\n",
    "<img src=\"https://upload.wikimedia.org/wikipedia/commons/thumb/6/69/Complex_conjugate_picture.svg/800px-Complex_conjugate_picture.svg.png\" height=\"300\">\n",
    "\n",
    "Source: [Wikipedia](https://en.wikipedia.org/wiki/Complex_plane)\n",
    "```\n",
    "\n",
    "We can also observe the complex plane in polar coordinates $(r, \\phi)$ which are related to the Cartesian coordinates $(x, y)$ through:\n",
    "\n",
    "$$ x = r \\cos \\varphi, \\quad y = r \\sin \\varphi $$\n",
    "\n",
    "This leads to the *trigonometric form* of a complex number $z$:\n",
    "\n",
    "$$ z = r(\\cos \\varphi + i \\sin \\varphi), $$\n",
    "\n",
    "where $r$ is the **modulus** (or magnitude), equal to the absolute value of the complex number, a direct consequence of Pythagora's theorem:\n",
    "\n",
    "$$ r = \\sqrt{x^2 + y^2} = |z| $$\n",
    "\n",
    "and the polar angle $\\varphi$ is defined (to a multiply $2\\pi$) by:\n",
    "\n",
    "$$ \\tan (\\varphi + 2n \\pi) = \\frac{y}{x}, \\quad n \\in \\mathbb{Z}, x \\neq 0. $$\n",
    "\n",
    "The angle $\\varphi$ is called the **argument** (or phase) of a complex number $z$ and we write $\\text{Arg}(z) = \\varphi$. A special case is the complex number $z=0$ for which $r = 0$ and its argument is not defined. \n",
    "\n",
    "Finding $\\varphi$ is delicate because $\\tan$ is a multivalued function. To avoid ambiguity, the simplest choice is $n = 0$ so that the interval is of length $2\\pi$ and \\\\( - \\pi < \\text{arg}(z) \\leq \\pi \\\\). The value of $\\text{Arg}(z)$ with $n=0$ is called the **principal value** of the argument. With this:\n",
    "\n",
    "$$ \\text{arg}(1) = 0, \\quad \\text{arg}(i) = \\frac{\\pi}{2}, \\quad \\text{arg}(-1) = \\pi, \\quad \\text{arg}(-i) = -\\frac{\\pi}{2}, \\quad \\text{etc.} $$\n",
    "\n",
    "THe relationship between $\\text{Arg}(z)$ and $\\text{arg}(z)$ is therefore:\n",
    "\n",
    "$$ \\text{Arg}(z) = \\text{arg}(z) + 2n \\pi, \\quad n \\in \\mathbb{Z}.$$\n",
    "\n",
    "Multiplying two complex numbers results in their absolute values being multiplied and the arguments being added:\n",
    "\n",
    "```{margin} Angle addition formulae\n",
    "$$ \\sin(\\alpha + \\beta) = \\sin \\alpha \\cos \\beta + \\cos \\alpha \\sin \\beta \\\\\n",
    "\\cos (\\alpha + \\beta) = \\cos \\alpha \\cos \\beta - \\sin \\alpha \\sin \\beta$$\n",
    "```\n",
    "\n",
    "$$ \\begin{align}\n",
    "z_1 \\cdot z_2 & = r_1(\\cos \\varphi_1 + i \\sin \\varphi_1) \\cdot r_2(\\cos \\varphi_2 + i \\sin \\varphi_2) \\\\\n",
    "& = r_1 r_2 (\\cos (\\varphi_1 + \\varphi_2) + i \\sin(\\varphi_1 + \\varphi_2))\n",
    "\\end{align} $$\n",
    "\n",
    "For the multiplicative inverse we have\n",
    "\n",
    "$$ \\begin{align}\n",
    "z^{-1} & = \\frac{1}{r(\\cos \\varphi + i \\sin \\varphi)} \\cdot \\frac{cos \\varphi - i \\sin \\varphi}{cos \\varphi - i \\sin \\varphi} = \\frac{\\cos \\varphi - i \\sin \\varphi}{r( \\cos^2 \\varphi + \\sin^2 \\varphi)} \\\\\n",
    "& = \\frac{1}{r} (\\cos \\varphi - i \\sin \\varphi) \\end{align} $$\n",
    "\n",
    "```{admonition} Properties of $|z|$ and arg($z$)\n",
    "Let us summarise our findings in the form of the following equalities:\n",
    "\n",
    "$$ | z_1 \\cdot z_2 | = |z_1| \\cdot |z_2| = r_1 r_2, \\quad \\text{arg}(z_1 \\cdot z_2) = \\text{arg}(z_1) + \\text{arg}(z_2), $$\n",
    "\n",
    "$$|z^{-1}| = |z|^{-1} = r^{-1}, \\quad \\text{arg}(z^{-1}) = -\\text{arg}(z) $$\n",
    "\n",
    "where $z_1, z_2 \\neq 0$. By induction we get:\n",
    "\n",
    "$$ |z^n| = |z|^n, \\quad \\text{arg}(z^n) = n\\text{arg}(z), \\quad \\forall n \\in \\mathbb{Z}. $$\n",
    "```"
   ]
  },
  {
   "cell_type": "markdown",
   "metadata": {},
   "source": [
    "(comp_polar_form)=\n",
    "# Polar form\n",
    "\n",
    "```{index} Polar form of complex numbers\n",
    "```\n",
    "\n",
    "The property \\\\( \\text{arg}(z_1 \\cdot z_2) = \\text{arg}(z_1) + \\text{arg}(z_2) \\\\) might remind us of logarithms, where $\\log (a \\cdot b) = \\log a + \\log b$. This is not a coincidence! \n",
    "\n",
    "The exponential function, which we will look at in the next chapter, allows us to write complex numbers in a *polar form*:\n",
    "\n",
    "$$ z = r e^{i \\varphi} $$\n",
    "\n",
    "```{margin} [Euler's identity](https://en.wikipedia.org/wiki/Euler%27s_identity)\n",
    "For a special angle $\\varphi = \\pi$ the Euler formula gives the Euler's identity:\n",
    "\n",
    "$$ e^{i \\pi} + 1 = 0 $$\n",
    "\n",
    "It is considered to be one of the most beautiful equations in mathematics.\n",
    "```\n",
    "\n",
    "where we have used the **Euler's formula**:\n",
    "\n",
    "$$ e^{i \\varphi} = \\cos(\\varphi) + i \\sin (\\varphi). $$\n",
    "\n",
    "In this representation, certain operations become much easier. For example,\n",
    "\n",
    "$$ z_1 \\cdot z_2 = r_1 r_2 e^{i(\\varphi_1 + \\varphi_2)}, \\quad z^n = r^n e^{in \\varphi} $$\n",
    "\n",
    "```{index} De Moivre's formula\n",
    "```\n",
    "\n",
    "for all powers $n \\in \\mathbb{Z}$. If we write this using a complex number with unit modulus we recover **de Moivre's formula**:\n",
    "\n",
    "$$ (\\cos \\varphi + i \\sin \\varphi)^n = (e^{i \\varphi})^n = e^{in \\varphi} = \\cos (n \\varphi) + i \\sin (n \\varphi). $$\n",
    "\n",
    "<div class=\"admonition tip\">\n",
    "<p class=\"admonition-title\">Tip: Trigonometric identities</p>\n",
    "\n",
    "Trigonometric identities are also much easier to be recovered this way. For example, let us think about angle addition $\\theta + \\varphi$.\n",
    "\n",
    "$$ e^{i(\\theta + \\varphi)} = e^{i \\theta} e^{i \\varphi} $$\n",
    "\n",
    "We Apply Euler's formula to each complex number.\n",
    "\n",
    "$$\\begin{align}\n",
    "\\cos (\\theta + \\varphi) + i \\sin(\\theta + \\varphi) \n",
    "& = (\\cos \\theta + i \\sin \\theta)(\\cos \\varphi + i \\sin \\varphi) \\\\\n",
    "& = \\cos \\theta \\cos \\varphi + i \\cos \\theta \\sin \\varphi + i \\sin \\theta \\cos \\varphi + i^2 \\sin \\theta \\sin \\varphi \\\\\n",
    "& = (\\cos \\theta \\cos \\varphi - \\sin \\theta \\sin \\varphi) + i(\\cos \\theta \\sin \\varphi + \\sin \\theta \\cos \\varphi) \\end{align} $$\n",
    "\n",
    "Equate real and imaginary parts on both sides:\n",
    "\n",
    "$$\\cos (\\theta + \\varphi) = \\cos \\theta \\cos \\varphi - \\sin \\theta \\sin \\varphi \\\\\n",
    "\\sin (\\theta + \\varphi ) = \\cos \\theta \\sin \\varphi + \\sin \\theta \\cos \\varphi $$\n",
    "\n",
    "The reader is encouraged to try to recover other trigonometric identities.\n",
    "    \n",
    "</div>"
   ]
  },
  {
   "cell_type": "markdown",
   "metadata": {},
   "source": []
  }
 ],
 "metadata": {
  "celltoolbar": "Tags",
  "kernelspec": {
   "display_name": "Python 3",
   "language": "python",
   "name": "python3"
  },
  "language_info": {
   "codemirror_mode": {
    "name": "ipython",
    "version": 3
   },
   "file_extension": ".py",
   "mimetype": "text/x-python",
   "name": "python",
   "nbconvert_exporter": "python",
   "pygments_lexer": "ipython3",
   "version": "3.7.3"
  }
 },
 "nbformat": 4,
 "nbformat_minor": 2
}
