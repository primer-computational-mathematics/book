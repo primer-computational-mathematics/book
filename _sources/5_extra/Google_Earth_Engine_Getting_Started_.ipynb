{
 "cells": [
  {
   "cell_type": "markdown",
   "metadata": {},
   "source": [
    "# Google Earth Engine getting started\n",
    "\n",
    "[Google Earth Engine (GEE)](https://earthengine.google.com) combines a multi-petabyte catalog of satellite imagery and geospatial datasets with planetary-scale analysis capabilities and makes it available for scientists, researchers, and developers to detect changes, map trends, and quantify differences on the Earth's surface through a cloud based platform. Hence offering the capability of running your algorithms and only requiring to export or visualise the output. The archive includes more than 30 years of historical imagery and scientific datasets, updated and expanded daily. \n",
    "\n",
    "For an informative background read on GEE and its applications see the following [hyperlink](https://www.sciencedirect.com/science/article/pii/S0034425717302900?via%3Dihub).\n",
    "\n",
    "The main [GEE guide](https://developers.google.com/earth-engine) covers everything from installation to available functions and usage, for an extensive range of examples see [here](https://github.com/giswqs/earthengine-py-notebooks). Here we will cover the basic important key points that should walk you through it.\n",
    "\n",
    "\n",
    "##  Installation\n",
    "\n",
    "Firstly, you should apply for access to use the GEE. follow this [link](https://code.earthengine.google.com/), if you cannot login yet it will tell you what steps you should follow to apply for access. Do this as soon as possible, I got access within a few minutes, however it says it can take a few days potentially. Referencing you are from Imperial and it is for research should get you access. \n",
    "\n",
    "If you decide to access GEE using python you can install geemap which will automatically install all its dependencies like earthengine-api, folium and ipyleaflet. This allows for several methods to intereact with Earh Engine data layers. \n",
    "\n",
    "**Important note**: A key difference between folium and ipyleaflet is that ipyleaflet is built upon ipywidgets and allows bidirectional communication between the front-end and the backend enabling the use of the map to capture user input, while folium is meant for displaying static data only. Note that Google Colab currently does not support ipyleaflet. Therefore, if you are using geemap with Google Colab, you should use import geemap.eefolium. If you are using geemap with binder or a local Jupyter notebook server, you can use import geemap, which provides more functionalities for capturing user input (e.g., mouse-clicking and moving)."
   ]
  },
  {
   "cell_type": "code",
   "execution_count": null,
   "metadata": {},
   "outputs": [],
   "source": [
    "# Installs geemap package\n",
    "import subprocess\n",
    "\n",
    "try:\n",
    "    import geemap\n",
    "except ImportError:\n",
    "    print('geemap package not installed. Installing ...')\n",
    "    subprocess.check_call([\"python\", '-m', 'pip', 'install', 'geemap'])\n",
    "\n",
    "# Checks whether this notebook is running on Google Colab\n",
    "try:\n",
    "    import google.colab\n",
    "    import geemap.eefolium as geemap\n",
    "except:\n",
    "    import geemap\n",
    "\n",
    "# Authenticates and initializes Earth Engine\n",
    "import ee\n",
    "\n",
    "try: #authentication only required once for a notebook\n",
    "    ee.Initialize()\n",
    "except Exception as e:\n",
    "    ee.Authenticate()\n",
    "    ee.Initialize()"
   ]
  },
  {
   "cell_type": "code",
   "execution_count": null,
   "metadata": {},
   "outputs": [],
   "source": [
    "# test by creating basemap\n",
    "Map = geemap.Map(center=[40,-100], zoom=4,)\n",
    "Map"
   ]
  },
  {
   "cell_type": "markdown",
   "metadata": {},
   "source": [
    "<img src=\"GEE_Getting_Started/1.png\" style=\"100%;\"/>"
   ]
  },
  {
   "cell_type": "markdown",
   "metadata": {},
   "source": [
    "##  Google Earth Engine apps\n",
    "\n",
    "[GEE apps](https://developers.google.com/earth-engine/apps) are a way to share your results for expert and non-expert audiences alike. It is typically done along with a publication as an easy and accesible way for people to access and interact with the results. Following this [link](https://philippgaertner.github.io/2019/04/earth-engine-apps-inventory/) you can find many examples of these apps and try them out. They can be very useful to obtain an idea of what exists and access some fully functioning examples. \n",
    "\n",
    "To clone any of the repositories you can acces the [GEE user list](https://earthengine.googlesource.com/users) and find the project and its git clone link. Firstly, however you will require to obtain access to clone these github repositories, this can be done as follows:\n",
    "- access this [link](https://earthengine.googlesource.com/users)\n",
    "- click generate password\n",
    "- sign in, this needs to be an email with GEE access I believe\n",
    "- instructions to copy paste into the git prompt will be shown\n",
    "\n",
    "Now you should be able to freely clone any of the github repositories."
   ]
  },
  {
   "cell_type": "markdown",
   "metadata": {},
   "source": [
    "##  Google Earth Engine code editor\n",
    "\n",
    "[GEE code editor](https://developers.google.com/earth-engine/playground) is a web-based IDE for the Earth Engine JavaScript API. Code Editor features are designed to make developing complex geospatial workflows fast and easy."
   ]
  },
  {
   "cell_type": "markdown",
   "metadata": {},
   "source": [
    "## Google Earth Engine database\n",
    "the [GEE database](https://earthengine.google.com) contains a variety of dataset that can be called within your scripts and be processed on the cloud. Before trying to call a dataset it is recommend to first look through the website. \n",
    "For each dataset there is also a few lines of code provided showing how to best access it and best colour palettes to be used."
   ]
  },
  {
   "cell_type": "markdown",
   "metadata": {},
   "source": [
    "##  General guidance "
   ]
  },
  {
   "cell_type": "markdown",
   "metadata": {},
   "source": [
    "- Using Azure notebook I encountered many problems regarding package versions not agreeing, using Jupyter via the Anaconda environment or google collab gave me zero problems\n",
    "- GEE has many built-in functions, make sure to look through the linked documentation before attempting to write a function for it\n",
    "- GEE has a per user [quota](https://developers.google.com/earth-engine/usage ) on concurrent queries. If needed however you can apply for more\n"
   ]
  }
 ],
 "metadata": {
  "kernelspec": {
   "display_name": "Python 3",
   "language": "python",
   "name": "python3"
  },
  "language_info": {
   "codemirror_mode": {
    "name": "ipython",
    "version": 3
   },
   "file_extension": ".py",
   "mimetype": "text/x-python",
   "name": "python",
   "nbconvert_exporter": "python",
   "pygments_lexer": "ipython3",
   "version": "3.7.3"
  }
 },
 "nbformat": 4,
 "nbformat_minor": 2
}
