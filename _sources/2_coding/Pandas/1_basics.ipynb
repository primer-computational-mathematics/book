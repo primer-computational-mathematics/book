{
 "cells": [
  {
   "cell_type": "markdown",
   "metadata": {},
   "source": [
    "(pandas_intro)=\n",
    "# Introduction\n",
    "\n",
    "```{index} Pandas: basics\n",
    "```\n",
    "\n",
    "\n",
    "[Pandas](https://pandas.pydata.org/docs/) is an open source library for Python that can be used for data manipulation and analysis. If your data can be put into a spreadsheet, Pandas is exactly what you need!\n",
    "\n",
    "Pandas is a very powerful tool with highly optimised performance. The full documentation can be found [here](https://pandas.pydata.org/docs/index.html).\n",
    "\n",
    "To start working with pandas you can simply import it. A standard alias used for pandas is \"pd\":"
   ]
  },
  {
   "cell_type": "code",
   "execution_count": 2,
   "metadata": {},
   "outputs": [],
   "source": [
    "import pandas as pd"
   ]
  },
  {
   "cell_type": "markdown",
   "metadata": {},
   "source": [
    "(pandas_objects)=\n",
    "## Pandas objects\n",
    "\n",
    "**DataFrame** is a 2D data structure with columns and rows, much like a table or Excel spreadsheet. To manually create a DataFrame, we can create a dictionary of lists. The keys are used as a table header and values in each list as rows:"
   ]
  },
  {
   "cell_type": "code",
   "execution_count": 3,
   "metadata": {},
   "outputs": [
    {
     "data": {
      "text/html": [
       "<div>\n",
       "<style scoped>\n",
       "    .dataframe tbody tr th:only-of-type {\n",
       "        vertical-align: middle;\n",
       "    }\n",
       "\n",
       "    .dataframe tbody tr th {\n",
       "        vertical-align: top;\n",
       "    }\n",
       "\n",
       "    .dataframe thead th {\n",
       "        text-align: right;\n",
       "    }\n",
       "</style>\n",
       "<table border=\"1\" class=\"dataframe\">\n",
       "  <thead>\n",
       "    <tr style=\"text-align: right;\">\n",
       "      <th></th>\n",
       "      <th>Rock_type</th>\n",
       "      <th>Density</th>\n",
       "      <th>Main_mineral</th>\n",
       "    </tr>\n",
       "  </thead>\n",
       "  <tbody>\n",
       "    <tr>\n",
       "      <th>0</th>\n",
       "      <td>granite</td>\n",
       "      <td>2.6</td>\n",
       "      <td>quartz</td>\n",
       "    </tr>\n",
       "    <tr>\n",
       "      <th>1</th>\n",
       "      <td>andesite</td>\n",
       "      <td>2.8</td>\n",
       "      <td>feldspar</td>\n",
       "    </tr>\n",
       "    <tr>\n",
       "      <th>2</th>\n",
       "      <td>limestone</td>\n",
       "      <td>2.3</td>\n",
       "      <td>calcite</td>\n",
       "    </tr>\n",
       "  </tbody>\n",
       "</table>\n",
       "</div>"
      ],
      "text/plain": [
       "   Rock_type  Density Main_mineral\n",
       "0    granite      2.6       quartz\n",
       "1   andesite      2.8     feldspar\n",
       "2  limestone      2.3      calcite"
      ]
     },
     "execution_count": 3,
     "metadata": {},
     "output_type": "execute_result"
    }
   ],
   "source": [
    "df = pd.DataFrame({\n",
    "     \"Rock_type\": [\"granite\",\n",
    "                   \"andesite\",\n",
    "                   \"limestone\"],\n",
    "     \"Density\": [2.6, 2.8, 2.3],\n",
    "     \"Main_mineral\": [\"quartz\",\n",
    "                      \"feldspar\",\n",
    "                      \"calcite\"]})\n",
    "\n",
    "# Use df.head() to display\n",
    "# top rows\n",
    "df.head()"
   ]
  },
  {
   "cell_type": "markdown",
   "metadata": {},
   "source": [
    "To extract data from specific column, we can call the column name in two ways:"
   ]
  },
  {
   "cell_type": "code",
   "execution_count": 4,
   "metadata": {},
   "outputs": [
    {
     "name": "stdout",
     "output_type": "stream",
     "text": [
      "0      granite\n",
      "1     andesite\n",
      "2    limestone\n",
      "Name: Rock_type, dtype: object\n",
      "0      granite\n",
      "1     andesite\n",
      "2    limestone\n",
      "Name: Rock_type, dtype: object\n"
     ]
    }
   ],
   "source": [
    "# First method\n",
    "# Similar to calling dictionary keys\n",
    "# Works for all column names\n",
    "print(df[\"Rock_type\"])\n",
    "\n",
    "# Second method\n",
    "# This will only work if the column name\n",
    "# has no spaces and is not named like\n",
    "# any pandas attribute, e.g. T will mean\n",
    "# transpose and it won't extract a column\n",
    "print(df.Rock_type)"
   ]
  },
  {
   "cell_type": "code",
   "execution_count": 5,
   "metadata": {},
   "outputs": [
    {
     "data": {
      "text/plain": [
       "0      granite\n",
       "1     andesite\n",
       "2    limestone\n",
       "dtype: object"
      ]
     },
     "execution_count": 5,
     "metadata": {},
     "output_type": "execute_result"
    }
   ],
   "source": [
    "pd.Series([\"granite\", \"andesite\", \"limestone\"])"
   ]
  },
  {
   "cell_type": "markdown",
   "metadata": {},
   "source": [
    "(reading_files)=\n",
    "## Reading files\n",
    "\n",
    "``` {index} Pandas: reading and writing files\n",
    "```\n",
    "Most of the time we will want to load data in different file formats, rather than manually creating a dataframe. Pandas have a very easy syntax for reading files:\n",
    "\n",
    "    pd.read_*\n",
    "    \n",
    "where * can be [csv](https://pandas.pydata.org/pandas-docs/stable/reference/api/pandas.read_csv.html), [excel](https://pandas.pydata.org/pandas-docs/stable/reference/api/pandas.read_excel.html), [html](https://pandas.pydata.org/pandas-docs/stable/reference/api/pandas.read_html.html), [sql](https://pandas.pydata.org/pandas-docs/stable/reference/api/pandas.read_sql.html) and so on. For .txt file extentions we can use\n",
    "\n",
    "    pd.read_csv(file_name, delimiter=\" \") or pd.read_fwf(file_name)\n",
    "   \n",
    "In this example we will look at New Zealand earthquake data in .csv format from [IRIS](https://ds.iris.edu/ieb/). With .head() we can specify how many rows to print, in this case, we want to display first 4 rows (that includes header):"
   ]
  },
  {
   "cell_type": "code",
   "execution_count": 7,
   "metadata": {},
   "outputs": [
    {
     "data": {
      "text/html": [
       "<div>\n",
       "<style scoped>\n",
       "    .dataframe tbody tr th:only-of-type {\n",
       "        vertical-align: middle;\n",
       "    }\n",
       "\n",
       "    .dataframe tbody tr th {\n",
       "        vertical-align: top;\n",
       "    }\n",
       "\n",
       "    .dataframe thead th {\n",
       "        text-align: right;\n",
       "    }\n",
       "</style>\n",
       "<table border=\"1\" class=\"dataframe\">\n",
       "  <thead>\n",
       "    <tr style=\"text-align: right;\">\n",
       "      <th></th>\n",
       "      <th>year</th>\n",
       "      <th>month</th>\n",
       "      <th>day</th>\n",
       "      <th>utc_time</th>\n",
       "      <th>mag</th>\n",
       "      <th>lat</th>\n",
       "      <th>lon</th>\n",
       "      <th>depth_km</th>\n",
       "      <th>region</th>\n",
       "      <th>iris_id</th>\n",
       "      <th>timestamp</th>\n",
       "    </tr>\n",
       "  </thead>\n",
       "  <tbody>\n",
       "    <tr>\n",
       "      <th>0</th>\n",
       "      <td>2009</td>\n",
       "      <td>7</td>\n",
       "      <td>15</td>\n",
       "      <td>09:22:31</td>\n",
       "      <td>7.8</td>\n",
       "      <td>-45.8339</td>\n",
       "      <td>166.6363</td>\n",
       "      <td>20.9</td>\n",
       "      <td>OFF W. COAST OF S. ISLAND, N.Z.</td>\n",
       "      <td>2871698</td>\n",
       "      <td>1247649751</td>\n",
       "    </tr>\n",
       "    <tr>\n",
       "      <th>1</th>\n",
       "      <td>2016</td>\n",
       "      <td>11</td>\n",
       "      <td>13</td>\n",
       "      <td>11:02:59</td>\n",
       "      <td>7.8</td>\n",
       "      <td>-42.7245</td>\n",
       "      <td>173.0647</td>\n",
       "      <td>22.0</td>\n",
       "      <td>SOUTH ISLAND, NEW ZEALAND</td>\n",
       "      <td>5197722</td>\n",
       "      <td>1479034979</td>\n",
       "    </tr>\n",
       "    <tr>\n",
       "      <th>2</th>\n",
       "      <td>2003</td>\n",
       "      <td>8</td>\n",
       "      <td>21</td>\n",
       "      <td>12:12:47</td>\n",
       "      <td>7.2</td>\n",
       "      <td>-45.0875</td>\n",
       "      <td>167.0892</td>\n",
       "      <td>6.8</td>\n",
       "      <td>SOUTH ISLAND, NEW ZEALAND</td>\n",
       "      <td>1628007</td>\n",
       "      <td>1061467967</td>\n",
       "    </tr>\n",
       "    <tr>\n",
       "      <th>3</th>\n",
       "      <td>2001</td>\n",
       "      <td>8</td>\n",
       "      <td>21</td>\n",
       "      <td>06:52:06</td>\n",
       "      <td>7.1</td>\n",
       "      <td>-36.8010</td>\n",
       "      <td>-179.7230</td>\n",
       "      <td>33.5</td>\n",
       "      <td>EAST OF NORTH ISLAND, N.Z.</td>\n",
       "      <td>1169374</td>\n",
       "      <td>998376726</td>\n",
       "    </tr>\n",
       "  </tbody>\n",
       "</table>\n",
       "</div>"
      ],
      "text/plain": [
       "   year  month  day  utc_time  mag      lat       lon  depth_km  \\\n",
       "0  2009      7   15  09:22:31  7.8 -45.8339  166.6363      20.9   \n",
       "1  2016     11   13  11:02:59  7.8 -42.7245  173.0647      22.0   \n",
       "2  2003      8   21  12:12:47  7.2 -45.0875  167.0892       6.8   \n",
       "3  2001      8   21  06:52:06  7.1 -36.8010 -179.7230      33.5   \n",
       "\n",
       "                            region  iris_id   timestamp  \n",
       "0  OFF W. COAST OF S. ISLAND, N.Z.  2871698  1247649751  \n",
       "1        SOUTH ISLAND, NEW ZEALAND  5197722  1479034979  \n",
       "2        SOUTH ISLAND, NEW ZEALAND  1628007  1061467967  \n",
       "3       EAST OF NORTH ISLAND, N.Z.  1169374   998376726  "
      ]
     },
     "execution_count": 7,
     "metadata": {},
     "output_type": "execute_result"
    }
   ],
   "source": [
    "nz_eqs = pd.read_csv(\"../../geosciences/data/nz_largest_eq_since_1970.csv\")\n",
    "nz_eqs.head(4)"
   ]
  },
  {
   "cell_type": "markdown",
   "metadata": {},
   "source": [
    "We can check DataFrame shape by using:"
   ]
  },
  {
   "cell_type": "code",
   "execution_count": 8,
   "metadata": {},
   "outputs": [
    {
     "data": {
      "text/plain": [
       "(25000, 11)"
      ]
     },
     "execution_count": 8,
     "metadata": {},
     "output_type": "execute_result"
    }
   ],
   "source": [
    "nz_eqs.shape"
   ]
  },
  {
   "cell_type": "markdown",
   "metadata": {},
   "source": [
    "We have 25,000 rows and 11 columns, that's a lot of data!\n",
    "\n",
    "(writing_files)=\n",
    "## Writing files\n",
    "\n",
    "Let's say we want to export this data as an excel spreadsheet but we only want to export magnitude, latitude, longitude and depth columns:"
   ]
  },
  {
   "cell_type": "code",
   "execution_count": 9,
   "metadata": {},
   "outputs": [],
   "source": [
    "nz_eqs.to_excel(\"../../geosciences/data/nz_eqs.xlsx\",\n",
    "                sheet_name=\"Earthquakes\",\n",
    "                columns=[\"mag\", \"lat\", \"lon\",\n",
    "                        \"depth_km\"])"
   ]
  },
  {
   "cell_type": "markdown",
   "metadata": {},
   "source": [
    "ExcelWriter object allows us to export more than one sheet into the same file:"
   ]
  },
  {
   "cell_type": "code",
   "execution_count": 11,
   "metadata": {},
   "outputs": [],
   "source": [
    "with pd.ExcelWriter(\"../../geosciences/data/nz_eqs.xlsx\") as writer:\n",
    "    nz_eqs.to_excel(writer, sheet_name=\"Earthquakes\",\n",
    "                   columns=[\"mag\", \"lat\", \"lon\",\n",
    "                        \"depth_km\"])\n",
    "    nz_eqs.to_excel(writer, sheet_name=\"Extra info\",\n",
    "                   columns=[\"region\", \"iris_id\",\n",
    "                            \"timestamp\"])"
   ]
  },
  {
   "cell_type": "markdown",
   "metadata": {},
   "source": [
    "# References\n",
    "The notebook was compiled based on these tutorials:\n",
    "* [Pandas official Getting Started tutorials](https://pandas.pydata.org/docs/getting_started/index.html#getting-started)\n",
    "* [Kaggle tutorial](https://www.kaggle.com/learn/pandas)"
   ]
  }
 ],
 "metadata": {
  "kernelspec": {
   "display_name": "Python 3",
   "language": "python",
   "name": "python3"
  },
  "language_info": {
   "codemirror_mode": {
    "name": "ipython",
    "version": 3
   },
   "file_extension": ".py",
   "mimetype": "text/x-python",
   "name": "python",
   "nbconvert_exporter": "python",
   "pygments_lexer": "ipython3",
   "version": "3.7.3"
  }
 },
 "nbformat": 4,
 "nbformat_minor": 2
}
