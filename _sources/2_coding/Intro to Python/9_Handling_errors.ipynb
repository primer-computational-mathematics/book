{
 "cells": [
  {
   "cell_type": "markdown",
   "metadata": {},
   "source": [
    "(handling_errors)=\n",
    "# Handling errors\n",
    "When an _error_ occurs in Python, an _exception_ is _raised_. \n",
    "\n",
    "(error_types)=\n",
    "## Error types\n",
    "The full list of built-in exceptions is available in the [documentation](https://docs.python.org/3/library/exceptions.html#concrete-exceptions).\n",
    "\n",
    "For example, when we create a tuple with only four elements and want to print the 5th element, we get this error message:\n",
    "\n",
    "```python\n",
    "    flower_names = (\"iris\", \"poppy\", \"dandelion\", \"rose\")\n",
    "\n",
    "    print(flower_names[4])\n",
    "\n",
    "    ---------------------------------------------------------------------------\n",
    "    IndexError                                Traceback (most recent call last)\n",
    "    <ipython-input-2-3497b57dd596> in <module>\n",
    "          4                 \"rose\")\n",
    "          5 \n",
    "    ----> 6 print(flower_names[4])\n",
    "\n",
    "    IndexError: tuple index out of range\n",
    "```\n",
    "    \n",
    "`IndexError` refers to incorrect index, such as out of bounds.\n",
    "\n",
    "(raising_errors)=\n",
    "## Raising errors\n",
    "In-built functions trigger or `raise` errors in Python. We can do that as well by using _raise_:\n",
    "\n",
    "```python\n",
    "    raise ValueError\n",
    "\n",
    "    ---------------------------------------------------------------------------\n",
    "    ValueError                                Traceback (most recent call last)\n",
    "    <ipython-input-5-e4c8e09828d5> in <module>\n",
    "    ----> 1 raise ValueError\n",
    "\n",
    "    ValueError:\n",
    "```\n",
    "    \n",
    "## Catching errors\n",
    "\n",
    "(try_except)=\n",
    "### Try and except blocks\n",
    "To handle errors in the code gracefully, we can use `try` and `except` blocks to avoid unnecessary crashes of the program. The `try` block executes the program and if the program fails, exception is raised and we can recover from the error. This is especially useful if we do not want our program to crash (imagine YouTube crashing!). The syntax is:\n",
    "\n",
    "```python\n",
    "    try:\n",
    "        # some code\n",
    "    except ExceptionName1:\n",
    "        # code to be executed if ExceptionName1 is raised\n",
    "    except ExceptionName2:\n",
    "        # code to be executed if ExceptionName2 is raised\n",
    "    …\n",
    "    except:\n",
    "        # lines to execute if there was an exception not caught above\n",
    "    else:\n",
    "        # lines to execute if there was no exception at all\n",
    "```\n",
    "\n",
    "`else` is optional, at least one `except` needs to be raised. An example code below:"
   ]
  },
  {
   "cell_type": "code",
   "execution_count": 5,
   "metadata": {},
   "outputs": [
    {
     "name": "stdout",
     "output_type": "stream",
     "text": [
      "ValueError.\n",
      "Please use digits in your string.\n"
     ]
    }
   ],
   "source": [
    "a = \"ten\"\n",
    "\n",
    "# Try to create a number out of a string\n",
    "try:\n",
    "    float(a)\n",
    "    \n",
    "# Raise an error if characters are not numbers    \n",
    "except ValueError:\n",
    "    print(\"ValueError.\\nPlease use digits in your string.\")"
   ]
  },
  {
   "cell_type": "markdown",
   "metadata": {},
   "source": [
    "(handling_errors_exercises)=\n",
    "## Exercises\n",
    "------------\n",
    "* **Identify** which errors will be thrown in the following code samples (without running it!):\n",
    "\n",
    "```python\n",
    "s += 1\n",
    "```\n",
    "\n",
    "```python\n",
    "s = [1,0,1,3,2,4]\n",
    "s[9]\n",
    "```\n",
    "\n",
    "```python\n",
    "\"str\" + 7\n",
    "```\n",
    "\n",
    "```python\n",
    "[0]*(2**5000)\n",
    "```"
   ]
  },
  {
   "cell_type": "markdown",
   "metadata": {},
   "source": [
    "```{admonition} Answer\n",
    ":class: dropdown\n",
    "\n",
    "1) NameError\n",
    "\n",
    "2) IndexError\n",
    "\n",
    "3) TypeError\n",
    "\n",
    "4) OverflowError\n",
    "```"
   ]
  },
  {
   "cell_type": "markdown",
   "metadata": {},
   "source": [
    "_________________\n",
    "* **Types are gone!** Say we have a list:\n",
    "\n",
    "```python\n",
    "        l = [1, True, 4, \"blob\", \"boom\", 5, 6, print]\n",
    "```\n",
    "        \n",
    "Compute the sum of the numerical elements of the list (do not use the `type()` function!). Is the sum what you expected? Do you notice anything interesting regarding the boolean constants?\n",
    "\n",
    "```{margin}\n",
    "You can look up here more on flow control statemnts, such as {ref}`pass statement <pass>`.\n",
    "```\n",
    "\n",
    "**HINT**: Consider using a `pass` statement in the `except` block which circumvents (*ignores*) the raised error and continues the execution."
   ]
  },
  {
   "cell_type": "markdown",
   "metadata": {},
   "source": [
    "````{admonition} Answer\n",
    ":class: dropdown    \n",
    "\n",
    "```python\n",
    "l = [1, True, 4, \"blob\", \"boom\", 5, 6, print]\n",
    "\n",
    "res = 0\n",
    "for element in l:\n",
    "    try:\n",
    "        res += element\n",
    "    except TypeError:\n",
    "        pass\n",
    "\n",
    "print(res)\n",
    "```\n",
    "\n",
    "````"
   ]
  },
  {
   "cell_type": "code",
   "execution_count": null,
   "metadata": {},
   "outputs": [],
   "source": []
  }
 ],
 "metadata": {
  "celltoolbar": "Tags",
  "kernelspec": {
   "display_name": "Python 3",
   "language": "python",
   "name": "python3"
  },
  "language_info": {
   "codemirror_mode": {
    "name": "ipython",
    "version": 3
   },
   "file_extension": ".py",
   "mimetype": "text/x-python",
   "name": "python",
   "nbconvert_exporter": "python",
   "pygments_lexer": "ipython3",
   "version": "3.7.3"
  }
 },
 "nbformat": 4,
 "nbformat_minor": 4
}
