{
 "cells": [
  {
   "cell_type": "markdown",
   "metadata": {},
   "source": [
    "(tuples)=\n",
    "# Tuples\n",
    "``` {index} Tuples (python)\n",
    "```\n",
    "Tuples are constant lists. They can be used like lists to store data but they cannot be modified (they are immutable). They are used for storing multiple values from functions. They are created like lists, but with round brackets:\n",
    "\n",
    "```python\n",
    "    tuple1 = (variable1, variable2, variable3)\n",
    "```\n",
    "   \n",
    "Tuples can have as many elements as you want and they don't have to be of the same type. Tuples are used, for example, in string formatting syntax:\n",
    "    \n",
    "```python\n",
    "    print(\"text %g, %g\" % (no1, no2)) # (no1, no2) is a tuple\n",
    "```\n",
    "    \n",
    "For functions that return multiple values, values from tuples can be extracted with this syntax:\n",
    "\n",
    "```python\n",
    "    value1, value2 = function1(some_variable)\n",
    "```"
   ]
  },
  {
   "cell_type": "code",
   "execution_count": 1,
   "metadata": {},
   "outputs": [
    {
     "name": "stdout",
     "output_type": "stream",
     "text": [
      "temp.pdf\n"
     ]
    }
   ],
   "source": [
    "t = (2, 4, 6, 'temp.pdf')   # Create a tuple.\n",
    "t =  2, 4, 6, 'temp.pdf'    # Create a tuple, without bracket\n",
    "\n",
    "print(t[3])                 # Indexing as usual"
   ]
  },
  {
   "cell_type": "markdown",
   "metadata": {},
   "source": [
    "What is the purpose of tuples, when lists have more functionality?\n",
    "- Tuples cannot be modified, even by accident.\n",
    "- They are faster than lists.\n",
    "- Widely used in Python.\n",
    "- Can be used as keys in dictionaries, while lists can't."
   ]
  },
  {
   "cell_type": "markdown",
   "metadata": {},
   "source": [
    "(tuples_exercises)=\n",
    "## Exercises\n",
    "\n",
    "--------------\n",
    "* **Define a function** which will return both maximum and minimum in terms of lexicographical order of a list consisting of tuples (pairs).\n",
    "\n",
    "**HINT**: in lexicographical order \\\\((a_1,b_1) > (a_2,b_2)\\\\) if and only if \\\\(a_1 > a_2\\\\) or \\\\((a_1 = a_2\\\\) and \\\\(b_1 > b_2) \\\\)"
   ]
  },
  {
   "cell_type": "code",
   "execution_count": 5,
   "metadata": {
    "tags": [
     "remove-output"
    ]
   },
   "outputs": [],
   "source": [
    "l = [(1,2), (1,3), (0,7), (0,5)] \n",
    "# here (1,3) is maximum and (0,5) is min "
   ]
  },
  {
   "cell_type": "markdown",
   "metadata": {},
   "source": [
    "````{admonition} Answer\n",
    ":class: dropdown\n",
    "\n",
    "```python\n",
    "def miniMaxi(l):\n",
    "    if len(l)==0:\n",
    "        return None\n",
    "\n",
    "    else:\n",
    "        max_ = l[0]\n",
    "        min_ = l[0]\n",
    "        for i in l:\n",
    "            if i[0] > max_[0] or (i[0]==max_[0] and i[1] > max_[1]):\n",
    "                max_= i\n",
    "\n",
    "            if i[0] < min_[0] or (i[0]==min_[0] and i[1] < min_[1]):\n",
    "                min_ = i   \n",
    "                \n",
    "    return (min_, max_)\n",
    "\n",
    "print(miniMaxi([(1,0),(1,3), (0,7), (0,0)])) \n",
    "```\n",
    "\n",
    "````"
   ]
  },
  {
   "cell_type": "code",
   "execution_count": null,
   "metadata": {},
   "outputs": [],
   "source": []
  }
 ],
 "metadata": {
  "celltoolbar": "Tags",
  "kernelspec": {
   "display_name": "Python 3",
   "language": "python",
   "name": "python3"
  },
  "language_info": {
   "codemirror_mode": {
    "name": "ipython",
    "version": 3
   },
   "file_extension": ".py",
   "mimetype": "text/x-python",
   "name": "python",
   "nbconvert_exporter": "python",
   "pygments_lexer": "ipython3",
   "version": "3.7.3"
  }
 },
 "nbformat": 4,
 "nbformat_minor": 4
}
