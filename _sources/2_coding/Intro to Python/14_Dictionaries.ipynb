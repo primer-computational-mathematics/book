{
 "cells": [
  {
   "cell_type": "markdown",
   "metadata": {},
   "source": [
    "(dictionaries)=\n",
    "# Dictionaries\n",
    "``` {index} Dictionaries (python)\n",
    "```\n",
    "A dictionary is a Python data structure that can store data as key-value pairs. The syntax is:\n",
    "\n",
    "```python\n",
    "    dict1 = {key1: value1, key2: value2, key3: value3, ...}\n",
    "```    \n",
    "  \n",
    "Keys can be strings or numbers and values can be anything: strings, numbers, lists, arrays, etc. Keys must be unique - if you set it twice, the second value replaces the first."
   ]
  },
  {
   "cell_type": "code",
   "execution_count": 1,
   "metadata": {},
   "outputs": [
    {
     "name": "stdout",
     "output_type": "stream",
     "text": [
      "{'basalt': 1, 'granite': 2, 'marl': 3, 'gneiss': 4, 'shale': 5}\n"
     ]
    }
   ],
   "source": [
    "rocks_dict = {\"basalt\": 1, \"granite\": 2,\n",
    "              \"marl\": 3, \"gneiss\": 4, \n",
    "              \"shale\": 5}\n",
    "print(rocks_dict)"
   ]
  },
  {
   "cell_type": "markdown",
   "metadata": {},
   "source": [
    "We can access and modify values based on their key:"
   ]
  },
  {
   "cell_type": "code",
   "execution_count": 2,
   "metadata": {},
   "outputs": [
    {
     "name": "stdout",
     "output_type": "stream",
     "text": [
      "1\n",
      "{'basalt': 1, 'granite': 2, 'marl': 3, 'gneiss': 4, 'shale': 5, 'sandstone': 6}\n",
      "{'basalt': 1, 'granite': 2, 'marl': 3, 'gneiss': 4, 'shale': 5, 'sandstone': 6, 'schist': 7}\n",
      "{'basalt': 1, 'granite': 2, 'marl': 3, 'gneiss': 4, 'shale': 5, 'schist': 7}\n",
      "{'basalt': 1, 'granite': 2, 'marl': 3, 'gneiss': 4, 'shale': 5}\n"
     ]
    }
   ],
   "source": [
    "# Access value with key 'basalt'\n",
    "print(rocks_dict[\"basalt\"])\n",
    "\n",
    "# Create a new key 'sandstone' with value 6\n",
    "rocks_dict[\"sandstone\"] = 6\n",
    "print(rocks_dict)\n",
    "\n",
    "# Add another key/valye pair to the dictionary\n",
    "rocks_dict.update({\"schist\": 7})\n",
    "print(rocks_dict)\n",
    "\n",
    "# Remove new entry\n",
    "del rocks_dict[\"sandstone\"]\n",
    "print(rocks_dict)\n",
    "\n",
    "# Remove entry\n",
    "rocks_dict.pop(\"schist\")\n",
    "print(rocks_dict)"
   ]
  },
  {
   "cell_type": "markdown",
   "metadata": {},
   "source": [
    "We can also search and iterate over keys:"
   ]
  },
  {
   "cell_type": "code",
   "execution_count": 3,
   "metadata": {},
   "outputs": [
    {
     "name": "stdout",
     "output_type": "stream",
     "text": [
      "2\n",
      "basalt 1\n",
      "granite 2\n",
      "marl 3\n",
      "gneiss 4\n",
      "shale 5\n"
     ]
    }
   ],
   "source": [
    "# Search if key 'granite' exists\n",
    "if \"granite\" in rocks_dict:\n",
    "    print(rocks_dict[\"granite\"])\n",
    "    \n",
    "# Iterate over keys in rocks_dict\n",
    "for key in rocks_dict:\n",
    "    print(key, rocks_dict[key])"
   ]
  },
  {
   "cell_type": "markdown",
   "metadata": {},
   "source": [
    "(dictionaries_exercises)=\n",
    "## Exercises\n",
    "\n",
    "-------------\n",
    "\n",
    "* **Countries per continent** Question very similair to the one in {ref}`File Handling <file_handling_exercises>` exercises. Change the following code, so that the result is a dictionary:\n",
    "\n"
   ]
  },
  {
   "cell_type": "code",
   "execution_count": 1,
   "metadata": {},
   "outputs": [
    {
     "name": "stdout",
     "output_type": "stream",
     "text": [
      "[['Asia', 58], ['Europe', 57], ['Antarctica', 5], ['Africa', 58], ['Oceania', 27], ['North America', 43], ['South America', 14]]\n"
     ]
    }
   ],
   "source": [
    "from pandas import read_csv\n",
    "\n",
    "df = read_csv('Data\\\\CountryContinent.csv')\n",
    "\n",
    "continents = df['Continent_Name'].unique()  # list of continent names from the file\n",
    "res = [[continent, 0] for continent in continents]  # initial list, not counted yet\n",
    "\n",
    "for index, row in df.iterrows():\n",
    "    if row[\"Three_Letter_Country_Code\"] != \"nan\":\n",
    "\n",
    "        for j in range(len(res)):\n",
    "            if row[\"Continent_Name\"] == res[j][0]:  # find correct continent\n",
    "                res[j][1] += 1  # increase country count by 1\n",
    "\n",
    "print(res)"
   ]
  },
  {
   "cell_type": "markdown",
   "metadata": {},
   "source": [
    "````{admonition} Answer\n",
    ":class: dropdown\n",
    "\n",
    "```python\n",
    "from pandas import read_csv\n",
    "\n",
    "df = read_csv('Data\\\\CountryContinent.csv')\n",
    "continents = df['Continent_Name'].unique()\n",
    "\n",
    "res = {}\n",
    "for i in continents:\n",
    "    res[i] = 0\n",
    "    \n",
    "for index, row in df.iterrows():\n",
    "    if row[\"Three_Letter_Country_Code\"] != \"nan\": \n",
    "        res[row[\"Continent_Name\"]] += 1\n",
    "\n",
    "print(res)\n",
    "```\n",
    "\n",
    "````"
   ]
  }
 ],
 "metadata": {
  "kernelspec": {
   "display_name": "Python 3",
   "language": "python",
   "name": "python3"
  },
  "language_info": {
   "codemirror_mode": {
    "name": "ipython",
    "version": 3
   },
   "file_extension": ".py",
   "mimetype": "text/x-python",
   "name": "python",
   "nbconvert_exporter": "python",
   "pygments_lexer": "ipython3",
   "version": "3.7.3"
  }
 },
 "nbformat": 4,
 "nbformat_minor": 4
}
