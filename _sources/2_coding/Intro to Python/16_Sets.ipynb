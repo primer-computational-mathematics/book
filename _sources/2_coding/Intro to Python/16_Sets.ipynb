{
 "cells": [
  {
   "cell_type": "markdown",
   "metadata": {},
   "source": [
    "(sets)=\n",
    "# Sets\n",
    "``` {index} Sets (python)\n",
    "```\n",
    "Sets are a type of Python container that are equivalent to sets in maths. They can only contain one copy of a particular element and they are not ordered. They don't have indices or keys. Elements in a set can be of any type.\n",
    "\n",
    "Sets are defined with curly brackets:\n",
    "\n",
    "```python\n",
    "    set1 = {variable1, variable2, variable3, etc...}\n",
    "```\n",
    "\n",
    "Sets only contain one copy of the same element, so even though we specify it twice, a set stores it once:"
   ]
  },
  {
   "cell_type": "code",
   "execution_count": 1,
   "metadata": {},
   "outputs": [
    {
     "name": "stdout",
     "output_type": "stream",
     "text": [
      "{1, 2, 3, 4, 5}\n"
     ]
    }
   ],
   "source": [
    "set1 = {1, 4, 5, 2, 3, 1}\n",
    "print(set1)"
   ]
  },
  {
   "cell_type": "markdown",
   "metadata": {},
   "source": [
    "We can see that the values are returned in no particular order.\n",
    "\n",
    "Sets cannot be added together with simple addition method like lists can. They cannot be sliced or indexed. Operations that can be done on a set:"
   ]
  },
  {
   "cell_type": "code",
   "execution_count": 2,
   "metadata": {},
   "outputs": [
    {
     "name": "stdout",
     "output_type": "stream",
     "text": [
      "{'carrot', 'banana', 'potato'}\n",
      "True\n",
      "None\n",
      "{4, 5, 'carrot', 'cucumber', 'banana', 'potato'}\n",
      "set()\n"
     ]
    }
   ],
   "source": [
    "set2 = {\"potato\", \"banana\", \"carrot\", 4, 5}\n",
    "\n",
    "set3 = set2 - set1 # Remove elements from set2 that are in set1\n",
    "print(set3)\n",
    "\n",
    "print(4 in set2)  # Check if 4 is in set2\n",
    "\n",
    "print(set2.add(\"cucumber\")) # Add an element to set\n",
    "print(set2)\n",
    "\n",
    "set4 = set() # Create an empty set\n",
    "print(set4)"
   ]
  },
  {
   "cell_type": "markdown",
   "metadata": {},
   "source": [
    "(sets_exercises)=\n",
    "## Exercises\n",
    "----------\n",
    "* **Define a function** which returns how many unique values there are in a list.\n",
    "\n",
    "**HINT**: use `set()`"
   ]
  },
  {
   "cell_type": "markdown",
   "metadata": {},
   "source": [
    "````{admonition} Answer\n",
    ":class: dropdown\n",
    "\n",
    "```python\n",
    "def lenUniq(l):\n",
    "    return len(set(l))\n",
    "\n",
    "print(lenUniq([1,2,3,3,3,4,4,5,5,5,5,5,7]))\n",
    "```    \n",
    "\n",
    "````"
   ]
  },
  {
   "cell_type": "markdown",
   "metadata": {},
   "source": [
    "-----------------\n",
    "* **Define a function** which calculates intersection of sets in a given list of sets.\n",
    "\n",
    "**HINT**: Use the `intersection()` function"
   ]
  },
  {
   "cell_type": "markdown",
   "metadata": {},
   "source": [
    "````{admonition} Answer\n",
    ":class: dropdown\n",
    "\n",
    "```python\n",
    "def interSets(sets):\n",
    "\n",
    "    res = sets[0]\n",
    "    for i in sets:\n",
    "        res = res.intersection(i)\n",
    "    return res\n",
    "\n",
    "print(interSets([set([1,2,3]),set([1,4,5]),set([0,4,1])]))             \n",
    "```\n",
    "\n",
    "````"
   ]
  },
  {
   "cell_type": "code",
   "execution_count": null,
   "metadata": {},
   "outputs": [],
   "source": []
  }
 ],
 "metadata": {
  "kernelspec": {
   "display_name": "Python 3",
   "language": "python",
   "name": "python3"
  },
  "language_info": {
   "codemirror_mode": {
    "name": "ipython",
    "version": 3
   },
   "file_extension": ".py",
   "mimetype": "text/x-python",
   "name": "python",
   "nbconvert_exporter": "python",
   "pygments_lexer": "ipython3",
   "version": "3.7.3"
  }
 },
 "nbformat": 4,
 "nbformat_minor": 4
}
