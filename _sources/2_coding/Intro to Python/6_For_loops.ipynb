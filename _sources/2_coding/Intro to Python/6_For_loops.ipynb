{
 "cells": [
  {
   "cell_type": "markdown",
   "metadata": {},
   "source": [
    "(for_loops)=\n",
    "# For loops\n",
    "``` {index} For loop (python)\n",
    "```\n",
    "`for` loops are used to iterate over elements in a list (or any other iterable object). Iterating means looping over. The syntax for this type of loop is:\n",
    "\n",
    "```python\n",
    "    for element in list:\n",
    "        # lines of code to be executed\n",
    "```\n",
    "        \n",
    "The code will loop over all elements in the list and execute the same code for each of them. The code inside `for` loop needs to be indented. For example:"
   ]
  },
  {
   "cell_type": "code",
   "execution_count": 4,
   "metadata": {},
   "outputs": [
    {
     "name": "stdout",
     "output_type": "stream",
     "text": [
      "[1, 3, 5, 7, 9, 11]\n",
      "6\n",
      "8\n",
      "10\n",
      "12\n",
      "14\n",
      "16\n",
      "[1, 3, 5, 7, 9, 11]\n"
     ]
    }
   ],
   "source": [
    "my_list = [1, 3, 5, 7, 9, 11]\n",
    "print(my_list)\n",
    "\n",
    "# For each element in my_list, add 5 and print it\n",
    "for element in my_list:\n",
    "    element += 5\n",
    "    print(element)\n",
    "\n",
    "print(my_list)  # The original list does not change"
   ]
  },
  {
   "cell_type": "markdown",
   "metadata": {},
   "source": [
    "Apart from looping over elements,`for` loops can be created for specified number of iterations using the `range()` function, which returns an iterable object. The syntax for `range()` is:\n",
    "\n",
    "    range([start], stop, [step])\n",
    "    \n",
    "This generates sort of a list with elements between start and stop, excluding stop. If step (increment) is not provided, every number is generated. If you use only one argument, `range(5)` treats it as a stop value and it starts from 0."
   ]
  },
  {
   "cell_type": "code",
   "execution_count": 9,
   "metadata": {},
   "outputs": [
    {
     "name": "stdout",
     "output_type": "stream",
     "text": [
      "range(0, 6, 1)\n",
      "0\n",
      "1\n",
      "2\n",
      "3\n",
      "4\n",
      "5\n",
      "range(0, 6, 2)\n",
      "0\n",
      "2\n",
      "4\n",
      "range(0, 6)\n",
      "0\n",
      "1\n",
      "2\n",
      "3\n",
      "4\n",
      "5\n",
      "range(6)\n",
      "0\n",
      "1\n",
      "2\n",
      "3\n",
      "4\n",
      "5\n"
     ]
    }
   ],
   "source": [
    "print(\"range(0, 6, 1)\")\n",
    "for i in range(0, 6, 1):\n",
    "    print(i)\n",
    "    \n",
    "print(\"range(0, 6, 2)\")\n",
    "for i in range(0, 6, 2):\n",
    "    print(i)\n",
    "    \n",
    "print(\"range(0, 6)\")\n",
    "for i in range(0, 6):\n",
    "    print(i)\n",
    "    \n",
    "print(\"range(6)\")\n",
    "for i in range(6):\n",
    "    print(i)"
   ]
  },
  {
   "cell_type": "markdown",
   "metadata": {},
   "source": [
    "We can generate an index with `range()` function to loop over elements in a list:"
   ]
  },
  {
   "cell_type": "code",
   "execution_count": 10,
   "metadata": {},
   "outputs": [
    {
     "name": "stdout",
     "output_type": "stream",
     "text": [
      "[1, 3, 5, 7, 9, 11]\n",
      "[2, 6, 10, 14, 18, 22]\n"
     ]
    }
   ],
   "source": [
    "my_list = [1, 3, 5, 7, 9, 11]\n",
    "print(my_list)\n",
    "\n",
    "for i in range(len(my_list)):  # Range from 0 to length of list\n",
    "    my_list[i] *= 2  # Modify values in the list\n",
    "    \n",
    "print(my_list)    "
   ]
  },
  {
   "cell_type": "markdown",
   "metadata": {},
   "source": [
    "(for_loop_exercises)=\n",
    "## Exercises\n",
    "_____________\n",
    "\n",
    "* **Create a `for` loop** to find Celsius temperatures for Fahrenheit temperatures between 20\\\\(^\\circ\\\\)F and 80\\\\(^\\circ\\\\)F at 5\\\\(^\\circ\\\\)F increments. The Fahrenheit-Celsius conversion formula is:\n",
    "\n",
    "\\\\[ T_{Celsius} = \\frac{5}{9}*(T_{Fahrenheit}-32).\\\\]"
   ]
  },
  {
   "cell_type": "markdown",
   "metadata": {},
   "source": [
    "````{admonition} Answer\n",
    ":class: dropdown\n",
    "\n",
    "```python\n",
    "for temp_F in range(20, 81, 5):\n",
    "    # Calculate the temperature in Celsius\n",
    "    temp_C = 5./9.*(temp_F - 32)\n",
    "\n",
    "    # Make a nicely formatted print statement\n",
    "    print(\"%.2f degrees Fahrenheit is %.2f degrees Celsius.\" % (temp_F, temp_C))\n",
    "```\n",
    "\n",
    "````"
   ]
  },
  {
   "cell_type": "markdown",
   "metadata": {},
   "source": [
    "_____________\n",
    "* **Triangles**: We want to create a triangle of \\\\(n\\\\) rows of numbers which looks as follows:\n",
    "\n",
    "        1\n",
    "        1 2\n",
    "        1 2 3\n",
    "        1 2 3 4 \n",
    "        1 2 3 4 5\n",
    "        \n",
    "**HINT**: Consider iterating over a range \\\\([1,...n]\\\\)"
   ]
  },
  {
   "cell_type": "markdown",
   "metadata": {},
   "source": [
    "````{admonition} Answer\n",
    ":class: dropdown\n",
    "\n",
    "```python\n",
    "n = 10\n",
    "   \n",
    "for i in range(1,n + 1):\n",
    "    line = ''  # empty string\n",
    "    for j in range(1,i+1):\n",
    "        line += str(j) + \" \"  # add a number and whitespace to the string\n",
    "\n",
    "    print(line)\n",
    "```\n",
    "\n",
    "````"
   ]
  }
 ],
 "metadata": {
  "kernelspec": {
   "display_name": "Python 3",
   "language": "python",
   "name": "python3"
  },
  "language_info": {
   "codemirror_mode": {
    "name": "ipython",
    "version": 3
   },
   "file_extension": ".py",
   "mimetype": "text/x-python",
   "name": "python",
   "nbconvert_exporter": "python",
   "pygments_lexer": "ipython3",
   "version": "3.7.3"
  }
 },
 "nbformat": 4,
 "nbformat_minor": 4
}
