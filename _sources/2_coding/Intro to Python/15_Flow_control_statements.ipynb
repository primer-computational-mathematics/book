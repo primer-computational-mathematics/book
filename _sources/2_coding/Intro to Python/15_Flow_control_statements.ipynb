{
 "cells": [
  {
   "cell_type": "markdown",
   "metadata": {},
   "source": [
    "(flow_control_statements)=\n",
    "# Flow control statements\n",
    "``` {index} Break and continue statements (python)\n",
    "```\n",
    "(break_continue)=\n",
    "## Break and continue statements\n",
    "\n",
    "The `break` and `continue` statements are used in loops (`while` or `for`) to modify the behaviour of the loop. `break` ends the loop, while `continue` ends the current iteration and continues onto the next one.\n",
    "\n",
    "Example use of `break` statement:"
   ]
  },
  {
   "cell_type": "code",
   "execution_count": 2,
   "metadata": {},
   "outputs": [
    {
     "name": "stdout",
     "output_type": "stream",
     "text": [
      "30\n"
     ]
    }
   ],
   "source": [
    "counter = 0\n",
    "while True:  # Create an infinite loop\n",
    "    counter += 1\n",
    "    \n",
    "    if counter > 29:\n",
    "        break  # Exit the loop if counter is 30 or more\n",
    "        \n",
    "print(counter)"
   ]
  },
  {
   "cell_type": "markdown",
   "metadata": {},
   "source": [
    "Example use of `continue` statement:"
   ]
  },
  {
   "cell_type": "code",
   "execution_count": 3,
   "metadata": {},
   "outputs": [
    {
     "name": "stdout",
     "output_type": "stream",
     "text": [
      "0\n",
      "2\n",
      "4\n",
      "6\n",
      "8\n"
     ]
    }
   ],
   "source": [
    "for i in range(10):\n",
    "    if i%2 == 1:  # Skip odd values\n",
    "        continue\n",
    "        \n",
    "    print(i)"
   ]
  },
  {
   "cell_type": "markdown",
   "metadata": {},
   "source": [
    "(pass)=\n",
    "## Pass statement\n",
    "``` {index} Pass statement (python)\n",
    "```\n",
    "`pass` statement is used in the code to \"do nothing\"."
   ]
  },
  {
   "cell_type": "code",
   "execution_count": 4,
   "metadata": {},
   "outputs": [
    {
     "name": "stdout",
     "output_type": "stream",
     "text": [
      "0\n",
      "1\n",
      "8\n",
      "3\n",
      "16\n",
      "5\n",
      "24\n",
      "7\n",
      "32\n",
      "9\n"
     ]
    }
   ],
   "source": [
    "for i in range(10):\n",
    "    \n",
    "    if i%2 == 1: # Do nothing for odd numbers\n",
    "        pass\n",
    "    else: # Multiply even numbers by 4\n",
    "        i *= 4\n",
    "        \n",
    "    print(i)"
   ]
  },
  {
   "cell_type": "markdown",
   "metadata": {},
   "source": [
    "(flow_control_statements_exercises)=\n",
    "## Exercises\n",
    "-----------------\n",
    "\n",
    "* **Floods** You are in charge of providing a software which will detect possible floods. You are given a time series of water levels (a list of integers) and a critical level (also an `int`). If water level rises, you should print `1` and if it falls print `-1`. If the level stays the same, the programme should do nothing. As soon as the detection is above the critical level, terminate the programme. \n"
   ]
  },
  {
   "cell_type": "code",
   "execution_count": 5,
   "metadata": {},
   "outputs": [],
   "source": [
    "water_level = [0,1,1,2,3,4,5,3,2,4,7,8]"
   ]
  },
  {
   "cell_type": "markdown",
   "metadata": {},
   "source": [
    "````{admonition} Answer\n",
    ":class: dropdown\n",
    "\n",
    "```python\n",
    "water_level = [0,1,1,2,1,4,5,3,2,4,7,8]\n",
    "\n",
    "critical_level = 4\n",
    "prev_level = water_level[0]\n",
    "\n",
    "for i in water_level:\n",
    "\n",
    "    if i > critical_level: \n",
    "        print(\"Flood!\")\n",
    "        break\n",
    "\n",
    "    if prev_level == i:\n",
    "        continue\n",
    "    elif prev_level < i:\n",
    "        print(\"1\")\n",
    "    else:\n",
    "        print(\"-1\")\n",
    "\n",
    "    prev_level = i      \n",
    "```\n",
    "\n",
    "````"
   ]
  }
 ],
 "metadata": {
  "kernelspec": {
   "display_name": "Python 3",
   "language": "python",
   "name": "python3"
  },
  "language_info": {
   "codemirror_mode": {
    "name": "ipython",
    "version": 3
   },
   "file_extension": ".py",
   "mimetype": "text/x-python",
   "name": "python",
   "nbconvert_exporter": "python",
   "pygments_lexer": "ipython3",
   "version": "3.7.3"
  }
 },
 "nbformat": 4,
 "nbformat_minor": 4
}
