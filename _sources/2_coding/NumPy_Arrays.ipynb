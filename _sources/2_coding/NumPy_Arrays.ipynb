{
 "cells": [
  {
   "cell_type": "markdown",
   "metadata": {},
   "source": [
    "# NumPy arrays\n",
    "```{index}\n",
    "NumPy arrays\n",
    "```\n",
    "Numerical Python (NumPy) provides excellent support for working with large arrays in python, along with an extensive library of mathematical functions to operate on these arrays. This notebook will introduce data types in NumPy, how to initialise an array of complex numbers, generating random arrays and array manipulation basics.\n",
    "\n",
    "## Creating and manipulating arrays\n",
    "\n",
    "It is important to correctly initialize the array, which includes assigning it a data type. The full list of supported data types in NumPy can be found [here](https://numpy.org/devdocs/user/basics.types.html). It is generally a good idea to work in double precision (float64 data type), unless we are confident in what we are doing.\n",
    "\n",
    "Each numpy array has an attribute dtype which lets you check its data type. Let us initialise a 2D array of integer numbers and demonstrate this."
   ]
  },
  {
   "cell_type": "code",
   "execution_count": 1,
   "metadata": {},
   "outputs": [
    {
     "name": "stdout",
     "output_type": "stream",
     "text": [
      "int32\n"
     ]
    }
   ],
   "source": [
    "import numpy as np\n",
    "\n",
    "A = np.array([[3, 3, 2],\n",
    "              [4, 4, 1],\n",
    "              [0, 6, 2],\n",
    "              [0, 8, 1]])\n",
    "\n",
    "print(A.dtype)"
   ]
  },
  {
   "cell_type": "markdown",
   "metadata": {},
   "source": [
    "To avoid this, we could have simply added a dot after an integer, which python then recognises as a floating point number (float64). NumPy offers several ways of assigning data types. Here are some of the more common ones:"
   ]
  },
  {
   "cell_type": "code",
   "execution_count": 13,
   "metadata": {},
   "outputs": [
    {
     "name": "stdout",
     "output_type": "stream",
     "text": [
      "<class 'int'> <class 'float'>\n",
      "[0 1 2 3 4 5 6 7 8 9]\n",
      "int32\n",
      "[0. 1. 2. 3. 4. 5. 6. 7. 8. 9.]\n",
      "float64\n",
      "[0. 1. 2. 3. 4. 5. 6. 7. 8. 9.]\n",
      "float64\n"
     ]
    }
   ],
   "source": [
    "a = 1   # integer\n",
    "b = 1.  # dot makes it a float\n",
    "print(type(a), type(b))\n",
    "\n",
    "A = np.arange(10)  # integers\n",
    "print(A)\n",
    "print(A.dtype)\n",
    "\n",
    "A = np.arange(10, dtype=np.float64)  # assign dtype\n",
    "print(A)\n",
    "print(A.dtype)\n",
    "\n",
    "A = np.arange(10).astype(type(b))  # make array same dtype as b\n",
    "print(A)\n",
    "print(A.dtype)"
   ]
  },
  {
   "cell_type": "markdown",
   "metadata": {},
   "source": [
    "NumPy also allows us to create (pseudo) **random** arrays using numpy.random. Let us initialise a random array of **complex** numbers, which have a real and imaginary component (in python, and often in engineering, the imaginary unit is $j$). We will also seed the generator using np.random.seed(), so that every time we run the code we will get the same 'random' numbers."
   ]
  },
  {
   "cell_type": "code",
   "execution_count": 3,
   "metadata": {},
   "outputs": [
    {
     "name": "stdout",
     "output_type": "stream",
     "text": [
      "[[0.5488135 +0.38344152j 0.71518937+0.79172504j 0.60276338+0.52889492j]\n",
      " [0.54488318+0.56804456j 0.4236548 +0.92559664j 0.64589411+0.07103606j]\n",
      " [0.43758721+0.0871293j  0.891773  +0.0202184j  0.96366276+0.83261985j]]\n",
      "complex128\n"
     ]
    }
   ],
   "source": [
    "np.random.seed(0)  # it does not matter what the seed is (here 0)\n",
    "B = np.random.rand(3, 3) + 1j * np.random.rand(3, 3)\n",
    "\n",
    "print(B)\n",
    "print(B.dtype)"
   ]
  },
  {
   "cell_type": "markdown",
   "metadata": {},
   "source": [
    "NumPy arrays are more difficult to manipulate than lists, where, for example, lists allow appending and arrays do not. There are, however, numpy functions which allow us to do this in a slightly more tedious way, but with much more control over it.\n",
    "\n",
    "For example, numpy.**concatenate** joins two or more arrays along an existing axis."
   ]
  },
  {
   "cell_type": "code",
   "execution_count": 30,
   "metadata": {},
   "outputs": [
    {
     "name": "stdout",
     "output_type": "stream",
     "text": [
      "axis=0: \n",
      " [[1 2]\n",
      " [3 4]\n",
      " [5 6]]\n",
      "axis=1: \n",
      " [[1 2 5]\n",
      " [3 4 6]]\n"
     ]
    }
   ],
   "source": [
    "a = np.array([[1, 2], \n",
    "              [3, 4]])\n",
    "b = np.array([[5, 6]])\n",
    "\n",
    "c = np.concatenate((a, b), axis=0)\n",
    "print('axis=0: \\n', c)\n",
    "\n",
    "c = np.concatenate((a, b.T), axis=1)\n",
    "print('axis=1: \\n', c)"
   ]
  },
  {
   "cell_type": "markdown",
   "metadata": {},
   "source": [
    "In the first example, the two arrays were joined along axis=0, i.e. a row was appended. In the second example we wanted to join them along axis=1, which is a column. NumPy arrays require that the lengths of rows and columns match in every column or row vector, so we had to **transpose** the vector b using b.T.\n",
    "\n",
    "What if we wanted to make a 3D array out of two 2D arrays? This is what NumPy calls **stacking** and has a general function numpy.stack() to achieve this, where we now specify a new axis along which we want to stack our arrays. Let us stack two 2D arrays along a vertical (depth) axis, axis=2."
   ]
  },
  {
   "cell_type": "code",
   "execution_count": 31,
   "metadata": {},
   "outputs": [
    {
     "name": "stdout",
     "output_type": "stream",
     "text": [
      "[[[1 5]\n",
      "  [2 6]]\n",
      "\n",
      " [[3 7]\n",
      "  [4 8]]]\n",
      "c.shape:  (2, 2, 2)\n"
     ]
    }
   ],
   "source": [
    "a = np.array([[1, 2], \n",
    "              [3, 4]])\n",
    "b = np.array([[5, 6],\n",
    "              [7, 8]])\n",
    "\n",
    "c = np.stack((a, b), axis=2)\n",
    "print(c)\n",
    "print('c.shape: ', c.shape)"
   ]
  },
  {
   "cell_type": "markdown",
   "metadata": {},
   "source": [
    "Some NumPy functions allow us to specify array shape while creating them. We can also **reshape** any array after they are created."
   ]
  },
  {
   "cell_type": "code",
   "execution_count": 36,
   "metadata": {},
   "outputs": [
    {
     "name": "stdout",
     "output_type": "stream",
     "text": [
      "[[0. 0. 0.]\n",
      " [0. 0. 0.]\n",
      " [0. 0. 0.]]\n",
      "[0 1 2 3 4 5 6 7]\n",
      "reshape((4,2)): \n",
      " [[0 1]\n",
      " [2 3]\n",
      " [4 5]\n",
      " [6 7]]\n",
      "reshape((2,2,2)): \n",
      " [[[0 1]\n",
      "  [2 3]]\n",
      "\n",
      " [[4 5]\n",
      "  [6 7]]]\n"
     ]
    }
   ],
   "source": [
    "A = np.zeros((3,3))  # 3x3 array filled with 0s\n",
    "\n",
    "print(A)\n",
    "\n",
    "a = np.arange(8)   # 1D array of 8 elements\n",
    "print(a)\n",
    "\n",
    "b = a.reshape((4,2))  # reshape to a 4x2 matrix\n",
    "print('reshape((4,2)): \\n', b)\n",
    "\n",
    "c = a.reshape((2,2,2))  # reshape to a 2x2x2\n",
    "print('reshape((2,2,2)): \\n', c)"
   ]
  },
  {
   "cell_type": "markdown",
   "metadata": {},
   "source": [
    "As stated before, numpy arrays require a consistent length of rows and columns. In the above example we initialised a 1D array of 8 elements, so the only possible shapes (after reshaping) are 8x1, 4x2, 2x4, 1x8 for 2D and 8x1x1, 4x2x1, 2x2x2, and so on for 3D. "
   ]
  },
  {
   "cell_type": "markdown",
   "metadata": {},
   "source": [
    "## Indexing and slicing\n",
    "\n",
    "NumPy arrays allow for some advanced indexing options, such as **negative indexing** and **boolean indexing**. "
   ]
  },
  {
   "cell_type": "code",
   "execution_count": 89,
   "metadata": {},
   "outputs": [
    {
     "name": "stdout",
     "output_type": "stream",
     "text": [
      "[[ 0  1  2  3]\n",
      " [ 4  5  6  7]\n",
      " [ 8  9 10 11]\n",
      " [12 13 14 15]]\n",
      "A[-1, 2] =  14\n",
      "A < 6 : [0 1 2 3 4 5]\n",
      "A > 5 and A < 10 : [6 7 8 9]\n"
     ]
    }
   ],
   "source": [
    "A = np.arange(16).reshape((4, 4))\n",
    "print(A)\n",
    "\n",
    "print('A[-1, 2] = ', A[-1, 2])  # last row, third column\n",
    "\n",
    "print('A < 6 :', A[A < 6])\n",
    "print('A > 5 and A < 10 :', A[np.logical_and(A > 5, A < 10)])"
   ]
  },
  {
   "cell_type": "markdown",
   "metadata": {},
   "source": [
    "If we are interested in finding the index of values equal to or less/greater than something, we could use **np.argwhere()**."
   ]
  },
  {
   "cell_type": "code",
   "execution_count": 62,
   "metadata": {},
   "outputs": [
    {
     "name": "stdout",
     "output_type": "stream",
     "text": [
      "A == 0: \n",
      " [[0 0]]\n",
      "A > 13: \n",
      " [[3 2]\n",
      " [3 3]]\n"
     ]
    }
   ],
   "source": [
    "print('A == 0: \\n', np.argwhere(A == 0))\n",
    "print('A > 13: \\n', np.argwhere(A > 13))"
   ]
  },
  {
   "cell_type": "markdown",
   "metadata": {},
   "source": [
    "Slicing arrays follows the usual format of A[start:stop:step], where we can specify the starting and stopping index and step size for each dimension, separated by a comma. If a starting index is not specified it is set to 0 by default. If the stop index is not specified, it is the last index (-1) by default. Default step size is 1. Analogue to negative indexing, we can also define slicing with negative start, stop and step sizes, which will then go from the end of the array."
   ]
  },
  {
   "cell_type": "code",
   "execution_count": 118,
   "metadata": {},
   "outputs": [
    {
     "name": "stdout",
     "output_type": "stream",
     "text": [
      "a = [ 10.  20.  30.  40.  50.  60.  70.  80.  90. 100.]\n",
      "a[3:10] = [ 40.  50.  60.  70.  80.  90. 100.]\n",
      "a[:6:2] = [10. 30. 50.]\n",
      "a[::-1] = [100.  90.  80.  70.  60.  50.  40.  30.  20.  10.]\n",
      "a[-1:-5:-1] = [100.  90.  80.  70.]\n",
      "\n",
      " A = \n",
      " [[ 0  1  2  3]\n",
      " [ 4  5  6  7]\n",
      " [ 8  9 10 11]\n",
      " [12 13 14 15]]\n",
      "A[:, 3] =  [ 3  7 11 15]\n",
      "\n",
      "A[:, ::-1] = \n",
      " [[ 3  2  1  0]\n",
      " [ 7  6  5  4]\n",
      " [11 10  9  8]\n",
      " [15 14 13 12]]\n"
     ]
    }
   ],
   "source": [
    "a = np.linspace(10, 100, 10)\n",
    "print('a =', a)\n",
    "\n",
    "print('a[3:10] =', a[3:10])  # default step=1\n",
    "print('a[:6:2] =', a[:6:2])  # up to 6th element, every 2nd element\n",
    "print('a[::-1] =', a[::-1])  # all elements, but backwards\n",
    "\n",
    "# start from the last element, go backwards up to 5th from last\n",
    "print('a[-1:-5:-1] =', a[-1:-5:-1])\n",
    "\n",
    "A = np.arange(16).reshape((4, 4))\n",
    "print('\\n A = \\n', A)\n",
    "\n",
    "print('A[:, 3] = ', A[:, 3])  # all row elements, only 3rd column\n",
    "\n",
    "# take all rows, reverse columns\n",
    "print('\\nA[:, ::-1] = \\n', A[:,::-1])"
   ]
  }
 ],
 "metadata": {
  "kernelspec": {
   "display_name": "Python 3",
   "language": "python",
   "name": "python3"
  },
  "language_info": {
   "codemirror_mode": {
    "name": "ipython",
    "version": 3
   },
   "file_extension": ".py",
   "mimetype": "text/x-python",
   "name": "python",
   "nbconvert_exporter": "python",
   "pygments_lexer": "ipython3",
   "version": "3.7.3"
  }
 },
 "nbformat": 4,
 "nbformat_minor": 2
}
