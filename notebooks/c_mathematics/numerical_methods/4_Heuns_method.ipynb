{
 "cells": [
  {
   "cell_type": "markdown",
   "metadata": {
    "tags": [
     "module-nm"
    ]
   },
   "source": [
    "(nm_heun_method)=\n",
    "# Heun's method\n",
    "```{index} Heun's method\n",
    "```\n",
    "{ref}`Euler's method <nm_euler_method>` is first-order accurate because it calculates the derivative using only the information available at the beginning of the time step. Higher-order convergence can be obtained if we also employ information from other points in the interval - the more points that we employ, the more accurate method for solving ODEs can be. [Heun's method](https://en.wikipedia.org/wiki/Heun%27s_method) uses 2 points compared to Euler's one single point, increasing accuracy. \n",
    "\n",
    "Heun's method may be derived by attempting to use derivative information at both the start and the end of the interval:\n",
    "\n",
    "$$u(t+\\Delta t)\\approx u(t)+\\frac{\\Delta t}{2}\\left(u'(t)+u'(t+\\Delta t)\\right),\\\\\\\\\\\\\n",
    "  u(t+\\Delta t)\\approx u(t)+\\frac{\\Delta t}{2}\\big(f(u(t),t)+f(u(t+\\Delta t),t+\\Delta t)\\big).$$\n",
    "\n",
    "The difficulty with this approach is that we now require $u(t+\\Delta t)$ in order to calculate the final term in the equation, and that's what we set out to calculate so we don't know it yet! So at this point we have an example of an implicit algorithm and at this stage the above ODE solver would be referred to as the trapezoidal method if we could solve it exactly for $u(t+\\Delta t)$.\n",
    "\n",
    "Heun's method, unlike Euler method, is an implicit method, meaning that we do not have all of the information needed. While we have the information about $u(t)$ and $f(u(t),t)$, we lack information about $u(t+\\Delta t)$ and $f(u(t+\\Delta t),t)$, and we have to deal with not knowing these things somehow. \n",
    "\n",
    "The simplest solution to this dilemma, the one adopted in Heun's method, is to use a first guess at $x(t+\\Delta t)$ calculated using Euler's method:\n",
    "\n",
    "$$ \\tilde{u}(t+\\Delta t)=u(t)+\\Delta tf(u(t),t). $$\n",
    "\n",
    "This first guess is then used to solve for $u(t+\\Delta t)$ using:\n",
    "\n",
    "$$ u(t+\\Delta t)\\approx u(t)+\\frac{\\Delta t}{2}\\big(f(u(t),t)+f(\\tilde{u}(t+\\Delta t),t+\\Delta t)\\big).$$\n",
    "\n",
    "The generic term for schemes of this type is **predictor-corrector**. The initial calculation of $\\tilde{u}(t+\\Delta t)$ is used to predict the new value of $u$ and then this is used in a more accurate calculation to produce a more correct value. \n",
    "\n",
    "Note that Heun's method is $O(\\Delta t^2)$, i.e. **2nd order accurate**.\n",
    "\n",
    "## Implementation\n",
    "\n",
    "We will write a function `heun(f,u0,t0,t_max,dt)` that takes as arguments the function $f(u,t)$ on the RHS of our ODE,\n",
    "an initial value for $u$, the start and end time of the integration, and the time step.\n",
    "\n",
    "We will use it to integrate the following ODEs up to time $t=10$\n",
    "\n",
    "$$u'(t)=u(t),\\quad u(0)=1,$$\n",
    "\n",
    "plot the results and compare them to Euler method.\n",
    "\n",
    "First let's define the functions:"
   ]
  },
  {
   "cell_type": "code",
   "execution_count": 9,
   "metadata": {},
   "outputs": [],
   "source": [
    "import matplotlib.pyplot as plt\n",
    "import numpy as np\n",
    "\n",
    "def euler(f,u0,t0,t_max,dt):\n",
    "    u=u0; t=t0; u_all=[u0]; t_all=[t0];\n",
    "    while t<t_max:\n",
    "        u = u + dt*f(u,t)\n",
    "        u_all.append(u)\n",
    "        t = t + dt\n",
    "        t_all.append(t)\n",
    "    return(u_all,t_all)\n",
    "\n",
    "def heun(f,u0,t0,t_max,dt):\n",
    "    u=u0; t=t0; u_all=[u0]; t_all=[t0];\n",
    "    while t<t_max:\n",
    "        ue = u + dt*f(u,t) # euler guess\n",
    "        u = u + 0.5*dt*(f(u,t) + f(ue,t+dt))\n",
    "        u_all.append(u)\n",
    "        t = t + dt\n",
    "        t_all.append(t)\n",
    "    return(u_all,t_all)\n",
    "\n",
    "def f1(u,t):\n",
    "    val = u\n",
    "    return val\n",
    "\n",
    "def f2(u,t):\n",
    "    val = np.cos(u)\n",
    "    return val"
   ]
  },
  {
   "cell_type": "markdown",
   "metadata": {},
   "source": [
    "Plot the solution for the first function:"
   ]
  },
  {
   "cell_type": "code",
   "execution_count": 11,
   "metadata": {
    "tags": [
     "hide-input"
    ]
   },
   "outputs": [
    {
     "data": {
      "image/png": "[encoded data removed]",
      "text/plain": [
       "<Figure size 504x360 with 1 Axes>"
      ]
     },
     "metadata": {
      "needs_background": "light"
     },
     "output_type": "display_data"
    }
   ],
   "source": [
    "dt = 0.4\n",
    "u0 = 1.0\n",
    "t0 = 0.0\n",
    "tf = 10.0\n",
    "\n",
    "# set up figure\n",
    "fig = plt.figure(figsize=(7, 5))\n",
    "ax1 = plt.subplot(111)\n",
    "\n",
    "(u_all,t_all) = euler(f1,u0,t0,tf,dt)\n",
    "ax1.plot(t_all, u_all,'b',label='euler')\n",
    "\n",
    "(u_all,t_all) = heun(f1,u0,t0,tf,dt)\n",
    "ax1.plot(t_all, u_all,'r',label='heun')\n",
    "\n",
    "# exact solution\n",
    "ax1.plot(t_all, np.exp(t_all),'k',label='exact')\n",
    "\n",
    "ax1.set_xlabel('t', fontsize=14)\n",
    "ax1.set_ylabel('u(t)', fontsize=14)\n",
    "ax1.grid(True)\n",
    "ax1.legend(loc='best')\n",
    "\n",
    "plt.show()"
   ]
  }
 ],
 "metadata": {
  "celltoolbar": "Tags",
  "kernelspec": {
   "display_name": "Python 3",
   "language": "python",
   "name": "python3"
  },
  "language_info": {
   "codemirror_mode": {
    "name": "ipython",
    "version": 3
   },
   "file_extension": ".py",
   "mimetype": "text/x-python",
   "name": "python",
   "nbconvert_exporter": "python",
   "pygments_lexer": "ipython3",
   "version": "3.7.3"
  }
 },
 "nbformat": 4,
 "nbformat_minor": 2
}
