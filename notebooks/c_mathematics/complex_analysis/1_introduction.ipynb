{
 "cells": [
  {
   "cell_type": "markdown",
   "metadata": {
    "tags": [
     "module-mm2"
    ]
   },
   "source": [
    "# Introduction\n",
    "\n",
    "(comp_numbers)=\n",
    "## Complex numbers\n",
    "```{index} Complex number\n",
    "```\n",
    "In complex analysis we are dealing with the set of complex numbers $\\mathbb{C}$ which are ordered pairs of the form $(x, y)$, where $x$ and $y$ are real numbers. If we introduce the imaginary unit $i = \\sqrt{-1}$ we can write it in its *rectangular form*:\n",
    "\n",
    "$$ z = x + iy $$ (rectform)\n",
    "\n",
    "Every complex number $z = x + iy$ has a **real part** Re$z = x$ and an **imaginary part** Im$z = y$. Sometimes $\\mathfrak{R}(z)$ and $\\mathfrak{I}(z)$ are used instead of Re and Im. Two complex numbers $z_1$ and $z_2$ are equal iff their real and imaginary parts are equal,\n",
    "\n",
    "$$ z_1 = z_2 \\iff \\text{Re}(z_1) = \\text{Re}(z_2) \\wedge \\text{Im}(z_1) = \\text{Im}(z_2). $$\n",
    "\n",
    "If Re$(z) = 0$ and Im$(z) \\neq 0$ we say that $z$ is *pure imaginary*. On the other hand, if Im$(z) = 0$ and Re$(z) \\neq 0$ we recover the *pure real* number $x$. Therefore, we identify real numbers as complex numbers whose imaginary part is equal to 0, so $\\mathbb{R}$ is a subset of $\\mathbb{C}$, i.e. $\\mathbb{R} \\subset \\mathbb{C}$."
   ]
  },
  {
   "cell_type": "markdown",
   "metadata": {
    "tags": [
     "module-mm2"
    ]
   },
   "source": [
    "(comp_algebra)=\n",
    "## Complex algebra\n",
    "```{index} Complex algebra\n",
    "```\n",
    "### Addition and multiplication\n",
    "\n",
    "Adding complex numbers is performed by adding real and imaginary parts separately:\n",
    "\n",
    "$$ z_1 \\pm z_2 = (x_1 + i y_1) \\pm (x_2 + iy_2) = (x_1 \\pm x_2) + i(y_1 \\pm y_2) $$\n",
    "\n",
    "Multiplying two complex numbers is done by expanding the brackets and grouping real and imaginary parts:\n",
    "\n",
    "$$ \\begin{align}\n",
    "z_1 \\cdot z_2 & = (x_1 + i y_1) \\cdot (x_2 + iy_2) = x_1 x_2 + i^2 y_1 y_2 + i x_1 y_2 + i x_2 y_1 \\\\\n",
    "& = (x_1 x_2 - y_1 y_2) + i(x_1 y_2 + x_2 y_1).\n",
    "\\end{align} $$\n",
    "\n",
    "### Complex conjugate\n",
    "```{index} Complex conjugate\n",
    "```\n",
    "\n",
    "For every complex number $z = x + iy$ we define its **complex conjugate** $z^*$ or $\\overline{z}$ by changing the sign of its imaginary part:\n",
    "\n",
    "$$ z^* \\equiv x - iy $$\n",
    "\n",
    "This is an [involutory operation](https://en.wikipedia.org/wiki/Involution_(mathematics)) since $ (z^*)^* = z $ with the following properties:\n",
    "\n",
    "$$ (z_1 \\pm z_2)^* = z_1^* \\pm z_2^* \\\\\n",
    "(z_1 \\cdot z_2)^* = z_1^* \\cdot z_2^* \\\\\n",
    "(z^{-1})^* = (z^*)^{-1} $$\n",
    "\n",
    "We can write the real and imaginary parts of $z$ using the complex conjugate:\n",
    "\n",
    "$$ \\text{Re}(z) = \\frac{1}{2} (z + z^*), \\quad \\text{Im}(z) = \\frac{1}{2i} (z - z^*) $$\n",
    "\n",
    "### Modulus \n",
    "\n",
    "```{index} Modulus\n",
    "```\n",
    "\n",
    "To every complex number $z$ we assign a modulus (absolute value) $| z |$, a non-negative real number defined as:\n",
    "\n",
    "$$ | z | \\equiv \\sqrt{x^2 + y^2} \n",
    "$$ (mdls)\n",
    "\n",
    "Zero is the only complex number whose modulus is 0. \n",
    "\n",
    "```{admonition} Properties\n",
    "\n",
    "The modulus of a complex number satisfies the following properties:\n",
    "\n",
    "$$ |z_1| \\cdot |z_2| = |z_1 z_2|, \\quad | z^{-1} | = |z|^{-1}, $$\n",
    "\n",
    "$$|z^*| = |z|, \\quad z^* \\cdot z = |z|^2 $$\n",
    "\n",
    "```\n",
    "\n",
    "### Division\n",
    "\n",
    "We divide a complex number $z_1$ by another complex number $z_2 \\neq 0$ by expanding the fraction such that the denominator becomes a real number. We do this by multiplying both the numerator and the denominator by $z_2^*$ (see the last property of a modulus above).\n",
    "\n",
    "$$ \\begin{align}\n",
    "\\frac{z_1}{z_2} & = \\frac{x_1 + iy_1}{x_2 + iy_2} = \\frac{x_1 + iy_1}{x_2 + iy_2} \\cdot \\frac{x_2 - iy_2}{x_2 - iy_2} \\\\\n",
    "& = \\left ( \\frac{x_1x_2 + y_1y_2}{x_2^2 + y_2^2} \\right ) + i \\left ( \\frac{x_2y_1- x_1y_2}{x_2^2 + y_2^2} \\right ) \n",
    "\\end{align} $$\n",
    "\n",
    "### Multiplicative inverse\n",
    "\n",
    "Let us find the reciprocal of a complex number $z = x + iy$:\n",
    "\n",
    "$$ \\begin{align}\n",
    "z^{-1} & = \\frac{1}{z} = \\frac{1}{x + iy} \\cdot \\frac{x - iy}{x -iy} = \\frac{x - iy}{x^2 + y^2} \\\\ & = \\frac{x}{x^2 + y^2} -i \\frac{y}{x^2 + y^2}\n",
    "\\end{align} $$\n",
    "\n",
    "### Powers and roots\n",
    "\n",
    "Some operations are quite tedious and much more difficult to perform on complex numbers in their rectangular form $z = x + iy$. Raising a complex number to some power and taking a root are one of such operations. We will therefore show the formula here for these operations for a complex number in its {ref}`comp_trig_form` (we introduce this in the next notebook).\n",
    "\n",
    "$$ z = r( cos \\varphi + i \\sin \\varphi) \\\\\n",
    "z^n = r^n ( cos n \\varphi + i \\sin n \\varphi) $$\n",
    "\n",
    "Let $w = z^{1/n} $, then\n",
    "\n",
    "$$ w = r^{1/n} \\left ( \\cos \\left ( \\frac{ \\varphi}{n} + \\frac{2k \\pi}{n} \\right ) + i \\sin \\left ( \\frac{ \\varphi}{n} + \\frac{2k \\pi}{n} \\right ) \\right ), $$\n",
    "\n",
    "where $k \\in \\mathbb{Z}$."
   ]
  }
 ],
 "metadata": {
  "celltoolbar": "Tags",
  "kernelspec": {
   "display_name": "Python 3",
   "language": "python",
   "name": "python3"
  },
  "language_info": {
   "codemirror_mode": {
    "name": "ipython",
    "version": 3
   },
   "file_extension": ".py",
   "mimetype": "text/x-python",
   "name": "python",
   "nbconvert_exporter": "python",
   "pygments_lexer": "ipython3",
   "version": "3.8.8"
  }
 },
 "nbformat": 4,
 "nbformat_minor": 4
}
