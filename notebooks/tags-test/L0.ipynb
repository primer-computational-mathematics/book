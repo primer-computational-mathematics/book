{
 "cells": [
  {
   "cell_type": "markdown",
   "id": "ea853dde",
   "metadata": {
    "tags": [
     "level-0",
     "level-1",
     "level-2",
     "level-3"
    ]
   },
   "source": [
    "# Introduction\n",
    "\n",
    "This notebook is intended for use as a tester to split up notebooks based on a hierarchical tag structure. At first, we intend to split up content across levels based on the amount of detail and complexity of the analysis to ensure that no student is overwhelmed with information that may or may not be relevant to their study plan. We might look to extend it further with subject-based tags, or a split between theory and implementation (code examples) for further customizability. The basic functionality we are after is the ability to tag content at cell-level (so as to ensure content creators have a relatively easy time with version control), and the ability to create bespoke notebooks based on these cell-level tags. \n",
    "\n",
    "This is a general introduction, intended for use across all levels of content."
   ]
  },
  {
   "cell_type": "markdown",
   "id": "c4d6cbff",
   "metadata": {
    "tags": [
     "level-0"
    ]
   },
   "source": [
    "## Level-0 content\n",
    "\n",
    "This is intended to be high-level content that really just introduces topics or concepts in a few lines. This is targeted perhaps at first-year undergraduates?"
   ]
  }
 ],
 "metadata": {
  "celltoolbar": "Tags",
  "kernelspec": {
   "display_name": "Python 3 (ipykernel)",
   "language": "python",
   "name": "python3"
  },
  "language_info": {
   "codemirror_mode": {
    "name": "ipython",
    "version": 3
   },
   "file_extension": ".py",
   "mimetype": "text/x-python",
   "name": "python",
   "nbconvert_exporter": "python",
   "pygments_lexer": "ipython3",
   "version": "3.9.8"
  }
 },
 "nbformat": 4,
 "nbformat_minor": 5
}
