{
 "cells": [
  {
   "cell_type": "markdown",
   "id": "ea853dde",
   "metadata": {
    "tags": [
     "level-0",
     "level-1",
     "level-2",
     "level-3"
    ]
   },
   "source": [
    "# Introduction\n",
    "\n",
    "This notebook is intended for use as a tester to split up notebooks based on a hierarchical tag structure. At first, we intend to split up content across levels based on the amount of detail and complexity of the analysis to ensure that no student is overwhelmed with information that may or may not be relevant to their study plan. We might look to extend it further with subject-based tags, or a split between theory and implementation (code examples) for further customizability. The basic functionality we are after is the ability to tag content at cell-level (so as to ensure content creators have a relatively easy time with version control), and the ability to create bespoke notebooks based on these cell-level tags. \n",
    "\n",
    "This is a general introduction, intended for use across all levels of content."
   ]
  },
  {
   "cell_type": "markdown",
   "id": "c4d6cbff",
   "metadata": {
    "tags": [
     "level-0"
    ]
   },
   "source": [
    "## Level-0 content\n",
    "\n",
    "This is intended to be high-level content that really just introduces topics or concepts in a few lines. This is targeted perhaps at first-year undergraduates?"
   ]
  },
  {
   "cell_type": "markdown",
   "id": "6476fbe2",
   "metadata": {
    "tags": [
     "level-1"
    ]
   },
   "source": [
    "## Level-1 content\n",
    "\n",
    "This is intended to be still relatively high-level content, but as the tag suggests, this type of content delves into a bit more detail than the level 0 content. Perhaps it differs in that it showcases some motivating examples and code examples. Targeted at perhaps third / final year undergraduates."
   ]
  },
  {
   "cell_type": "code",
   "execution_count": 2,
   "id": "80fa2e0c",
   "metadata": {
    "tags": [
     "level-1"
    ]
   },
   "outputs": [
    {
     "name": "stdout",
     "output_type": "stream",
     "text": [
      "Hello, world!\n"
     ]
    }
   ],
   "source": [
    "import numpy as np\n",
    "\n",
    "msg = np.array([72, 101, 108, 108, 111, 44, 32, 119, 111, 114, 108, 100, 33])\n",
    "print(\"\".join(chr(c) for c in msg))"
   ]
  },
  {
   "cell_type": "markdown",
   "id": "ff736b11",
   "metadata": {
    "tags": [
     "level-2"
    ]
   },
   "source": [
    "## Level-2 content\n",
    "\n",
    "This is content that delves into still more detail, perhaps explaining theory to a higher extent and having more detailed and real-world tangible examples of the same content. Perhaps the Level-0 and Level-1 content can be used to introduce this kind of level of detail. Since this is a tester notebook, we are going to write down some formulae to ensure that LaTeX still renders correctly / doesn't throw any weird edge case errors with the script intended to split cells. Shouldn't be a large issue but who knows, right?\n",
    "\n",
    "$$ e^{\\frac{i \\tau}{2}} + 1 = 0 $$\n",
    "\n",
    "Maybe some text between the maths?\n",
    "\n",
    "$$ x_{n+1} = x_{n} + x_{n-1} $$ \n",
    "\n",
    "Yeah that should be good."
   ]
  },
  {
   "cell_type": "markdown",
   "id": "f3fd72d2",
   "metadata": {
    "tags": [
     "level-3"
    ]
   },
   "source": [
    "## Level-3 content\n",
    "\n",
    "This is content fit for someone working on a thesis project or actively researching a particular field. There should be no reference material that is more advanced than this level, and perhaps there should be links to additional resources, textbooks, research papers in the field, etc.\n",
    "\n",
    "### References\n",
    "* Material used in this notebook was based on the Fourier Series lecture content of Maths Methods 2 module provided by the Earth Science and Engineering Department and on the \"Fourier Transforms\" course by professor Carlo Contaldi provided by the Physics Department."
   ]
  }
 ],
 "metadata": {
  "celltoolbar": "Tags",
  "kernelspec": {
   "display_name": "Python 3 (ipykernel)",
   "language": "python",
   "name": "python3"
  },
  "language_info": {
   "codemirror_mode": {
    "name": "ipython",
    "version": 3
   },
   "file_extension": ".py",
   "mimetype": "text/x-python",
   "name": "python",
   "nbconvert_exporter": "python",
   "pygments_lexer": "ipython3",
   "version": "3.9.8"
  }
 },
 "nbformat": 4,
 "nbformat_minor": 5
}
