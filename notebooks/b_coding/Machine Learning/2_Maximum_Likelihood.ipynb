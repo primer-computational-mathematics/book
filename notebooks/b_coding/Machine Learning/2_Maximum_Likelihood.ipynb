{
 "cells": [
  {
   "cell_type": "markdown",
   "metadata": {
    "tags": [
     "module-dsml"
    ]
   },
   "source": [
    "(Maximum_Likelihood)=\n",
    "# Chapter 2 -- Maximum Likelihood"
   ]
  },
  {
   "cell_type": "markdown",
   "metadata": {},
   "source": [
    "Now, with the probabilities of predictions given by the model, we need to consider what is a good model. Although all models (good or bad) can give us a probability of certain event, yet some models will have higher accuracy in terms prediction, and that infers it to be a better model."
   ]
  },
  {
   "cell_type": "markdown",
   "metadata": {},
   "source": [
    "For example, if an event actually happened, and the model thinks it is highly likely to happen, then this model is better than the model that thinks it is unlikely to happen. Let's look at the admission example again, the first AI model coded by Jianou has the following predictions:"
   ]
  },
  {
   "cell_type": "markdown",
   "metadata": {},
   "source": [
    "|   | Student A | Student B | Student C | Student D |\n",
    "|------|------|------|------|------|\n",
    "| Prob(Accepted)  | 0.7 | 0.8 | 0.2 | 0.4 |\n",
    "| Actual Result  | Y | N | Y | N |\n",
    "| Prob(Event)  | 0.7 | 0.2 | 0.2 | 0.6 |"
   ]
  },
  {
   "cell_type": "markdown",
   "metadata": {},
   "source": [
    "The AI above predicts that the student A has 70\\% of the chances to be accepted by the university. Student A actually was accepted (Y). So again, the AI thinks that the probability of this event (student A got accepted) to happen is 70\\%. For student B, however, the AI predicts that student B has a very high chance to be accepted (80\\%), but the student got rejected (N) in reality, so in that case, the AI thinks that this event (student B got rejected) has only 20\\% of the chances to actually happen. Same for the student C and D. For an evaluation of the overall performance of the AI, we can multiply the 4 Prob(Event)."
   ]
  },
  {
   "cell_type": "markdown",
   "metadata": {},
   "source": [
    "$$\n",
    " 0.7*0.2*0.2*0.6 = 1.68\\%\n",
    "$$ (eq2_1)"
   ]
  },
  {
   "cell_type": "markdown",
   "metadata": {},
   "source": [
    "The second AI model's predictions (shown below) are far closer to the actual results."
   ]
  },
  {
   "cell_type": "markdown",
   "metadata": {},
   "source": [
    "|   | Student A | Student B | Student C | Student D |\n",
    "|------|------|------|------|------|\n",
    "| Prob(Accepted)  | 0.7 | 0.3 | 0.8 | 0.2 |\n",
    "| Actual Result  | Y | N | Y | N |\n",
    "| Prob(Event)  | 0.7 | 0.7 | 0.8 | 0.8 |"
   ]
  },
  {
   "cell_type": "markdown",
   "metadata": {},
   "source": [
    "So the Prob(Event) is high for a more accurate prediction. In the contrary, if the Jianou's AI keeps making unsatisfying predictions such as it did for student B, then the Prob(Even) would be very low. Again, we can evaluate the performance of the AI quantitatively by multiplying Prob(Event) together."
   ]
  },
  {
   "cell_type": "markdown",
   "metadata": {},
   "source": [
    "$$\n",
    " 0.7*0.7*0.8*0.8 = 31.36\\%\n",
    "$$ (eq2_2)"
   ]
  },
  {
   "cell_type": "markdown",
   "metadata": {},
   "source": [
    "This quantitative comparison between the two model reveals that the second AI, the Cambridge Analytica, is a better prediction model. The approach of choosing the larger multiplication of Prob(Event) is known as `The Maximum Likelihood'."
   ]
  }
 ],
 "metadata": {
  "celltoolbar": "Tags",
  "kernelspec": {
   "display_name": "Python 3",
   "language": "python",
   "name": "python3"
  },
  "language_info": {
   "codemirror_mode": {
    "name": "ipython",
    "version": 3
   },
   "file_extension": ".py",
   "mimetype": "text/x-python",
   "name": "python",
   "nbconvert_exporter": "python",
   "pygments_lexer": "ipython3",
   "version": "3.8.8"
  }
 },
 "nbformat": 4,
 "nbformat_minor": 4
}
