{
 "cells": [
  {
   "cell_type": "markdown",
   "metadata": {
    "tags": [
     "module-dsml"
    ]
   },
   "source": [
    "(Gradient_Descent_1)=\n",
    "# Chapter 5 -- Gradient Descent 1"
   ]
  },
  {
   "cell_type": "markdown",
   "metadata": {},
   "source": [
    "In multi-variable calculus (recommend video in Khan Academy: https://www.youtube.com/watch?v=TrcCbdWwCBc&list=PLSQl0a2vh4HC5feHa6Rc5c0wbRTx56nF7), the gradient is defined by unit vector nabla:"
   ]
  },
  {
   "cell_type": "markdown",
   "metadata": {},
   "source": [
    "$$\n",
    "\\vec{\\nabla} = \\frac{\\delta}{\\delta x_1} \\vec{x_1} + \\frac{\\delta}{\\delta x_2} \\vec{x_2} + ...\n",
    "$$ (eq5_1)"
   ]
  },
  {
   "cell_type": "markdown",
   "metadata": {},
   "source": [
    "where $x$ is the variable and in this example, the variables are $w$ and $b$."
   ]
  },
  {
   "cell_type": "markdown",
   "metadata": {},
   "source": [
    "In this case, we have"
   ]
  },
  {
   "cell_type": "markdown",
   "metadata": {},
   "source": [
    "$$\n",
    "\\nabla C = \\frac{\\delta C}{\\delta w_1} + \\frac{\\delta C}{\\delta w_2} + ...\n",
    "$$ (eq5_2)"
   ]
  },
  {
   "cell_type": "markdown",
   "metadata": {},
   "source": [
    "where $C$ is the cost function."
   ]
  },
  {
   "cell_type": "markdown",
   "metadata": {},
   "source": [
    "For every small change in $C$"
   ]
  },
  {
   "cell_type": "markdown",
   "metadata": {},
   "source": [
    "$$\n",
    "\\Delta C \\approx \\frac{\\delta C}{\\delta w_1} \\Delta w_1+ \\frac{\\delta C}{\\delta w_2} \\Delta w_2 + ...\n",
    "$$ (eq5_3)"
   ]
  },
  {
   "cell_type": "markdown",
   "metadata": {},
   "source": [
    "the smaller the $\\Delta w$, the better the approximation."
   ]
  },
  {
   "cell_type": "markdown",
   "metadata": {},
   "source": [
    "With these definitions, the expression above for $\\Delta C$ can be rewritten as"
   ]
  },
  {
   "cell_type": "markdown",
   "metadata": {},
   "source": [
    "$$\n",
    "\\Delta C \\approx \\nabla C * \\Delta w\n",
    "$$ (eq5_3)"
   ]
  },
  {
   "cell_type": "markdown",
   "metadata": {},
   "source": [
    "This equation helps explain why $\\Delta C$ is called the gradient vector: $\\Delta C$ relates changes in $w$ to changes in $C$, just as we'd expect something called a gradient to do. But what's really exciting about the equation is that it lets us see how to choose $\\Delta w$ so as to make $\\Delta C$ negative. In particular, suppose we choose"
   ]
  },
  {
   "cell_type": "markdown",
   "metadata": {},
   "source": [
    "$$\n",
    "\\Delta w = -\\eta \\nabla C\n",
    "$$ (eq5_4)"
   ]
  },
  {
   "cell_type": "markdown",
   "metadata": {},
   "source": [
    "where $\\eta$ is a small positive number; it is the step size or learning rate."
   ]
  },
  {
   "cell_type": "markdown",
   "metadata": {},
   "source": [
    "Then equation above tells us that $\\Delta C \\approx −\\nabla C *\\eta \\nabla C=−\\eta ||C||^2$. Because $||C||^2 >=0$, this guarantees that $\\Delta C<=0$, i.e., $C$ will always decrease, never increase, if we change $w$ according to the prescription in the equation above. This is exactly the property we wanted! We'll use this property to compute a value for $\\delta w$, then move the position $w$ by that amount:"
   ]
  },
  {
   "cell_type": "markdown",
   "metadata": {},
   "source": [
    "$$\n",
    "w^{'}_n = w_n - \\eta \\nabla C = w_n - \\eta \\frac{\\delta C}{\\delta w_n}\n",
    "\\label{update weight}\n",
    "$$ (eq5_5)"
   ]
  },
  {
   "cell_type": "markdown",
   "metadata": {},
   "source": [
    "Similarly, we can update the bias term $b$ by "
   ]
  },
  {
   "cell_type": "markdown",
   "metadata": {},
   "source": [
    "$$\n",
    "b^{'}_n = b_n - \\eta \\nabla C = b_n - \\eta \\frac{\\delta C}{\\delta b_n}\n",
    "\\label{update bias}\n",
    "$$ (eq5_6)"
   ]
  }
 ],
 "metadata": {
  "celltoolbar": "Tags",
  "kernelspec": {
   "display_name": "Python 3",
   "language": "python",
   "name": "python3"
  },
  "language_info": {
   "codemirror_mode": {
    "name": "ipython",
    "version": 3
   },
   "file_extension": ".py",
   "mimetype": "text/x-python",
   "name": "python",
   "nbconvert_exporter": "python",
   "pygments_lexer": "ipython3",
   "version": "3.8.8"
  }
 },
 "nbformat": 4,
 "nbformat_minor": 4
}
