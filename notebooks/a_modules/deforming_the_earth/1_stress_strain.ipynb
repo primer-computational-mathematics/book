{
 "cells": [
  {
   "cell_type": "markdown",
   "metadata": {},
   "source": [
    "(1_stress_strain)=\n",
    "\n",
    "# Stress-Strain Curves\n",
    "\n",
    "## Stress\n",
    "Stress is defined as the force per unit area, $ \\frac{F}{A} $, applied on a body by external forces. There are two types of stress, **Normal** and **Shear**. Stresses are normal if a force acts perpendicularly to the surface of an object. Normal stresses can be compressional or tensional. Shear stress is the force per unit areain a direction parallel to the area to which it is applied. \n",
    "\n",
    "The units of stress are $\\text{N/m}^2$, Pa, or Bars ($\\text{10}^5$ Pa)\n",
    "\n",
    "## Strain\n",
    "Strain is the deformation (e.g. elongation/contraction) experienced by a body due to an applied strain. Stress can lead to changes in volume, size, and orientation of objects. **Homogenous** strain is when straight lines on the object remain straight, and where strain is the same throughout the body. **Heterogenous** strain is where strain is non-uniform throughout the body."
   ]
  },
  {
   "cell_type": "code",
   "execution_count": null,
   "metadata": {},
   "outputs": [],
   "source": []
  }
 ],
 "metadata": {
  "kernelspec": {
   "display_name": "Python 3",
   "language": "python",
   "name": "python3"
  },
  "language_info": {
   "codemirror_mode": {
    "name": "ipython",
    "version": 3
   },
   "file_extension": ".py",
   "mimetype": "text/x-python",
   "name": "python",
   "nbconvert_exporter": "python",
   "pygments_lexer": "ipython3",
   "version": "3.8.3"
  }
 },
 "nbformat": 4,
 "nbformat_minor": 4
}
