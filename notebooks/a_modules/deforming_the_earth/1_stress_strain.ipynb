{
 "cells": [
  {
   "cell_type": "markdown",
   "metadata": {},
   "source": [
    "(1_stress_strain)=\n",
    "\n",
    "# Stress-Strain Curves\n",
    "\n",
    "## Stress\n",
    "Stress is defined as the force per unit area, $ \\frac{F}{A} $, applied on a body by external forces. There are two types of stress, **Normal** and **Shear**. Stresses are normal if a force acts perpendicularly to the surface of an object. Normal stresses can be compressional or tensional. Shear stress is the force per unit areain a direction parallel to the area to which it is applied. \n",
    "\n",
    "The units of stress are $\\text{N/m}^2$, Pa, or Bars ($\\text{10}^5$ Pa)\n",
    "\n",
    "## Strain\n",
    "Strain is the deformation (e.g. elongation/contraction) experienced by a body due to an applied strain. Stress can lead to changes in volume, size, and orientation of objects. **Homogenous** strain is when straight lines on the object remain straight, and where strain is the same throughout the body. **Heterogenous** strain is where strain is non-uniform throughout the body.\n",
    "\n",
    "### Shear Strain\n",
    "Shear strain is the amount of deformation perpendicular to a given line rather than parallel to it. There can be **Pure** and **Simple** shear. \n",
    "\n",
    "* Pure shear will have strain axes the same as the original body\n",
    "* Simple shear is where deformation is rotational\n",
    "\n",
    "These components can be combined to define the homogenoues strain in a body.\n",
    "\n",
    "### Defining Strain\n",
    "**Linear Strain**: the ratio of the change in length of the body due to the deformation to its original length in the direction of the force. It is given by:\n",
    "$$ e = \\frac{(L-L_o)}{L_o} $$\n",
    "\n",
    "Where $e$ is the linear strain, $L_o$ is the original length of the body, and $L$ is the length of the body post-strain.\n",
    "\n",
    "**Stretch factor**: the ratio of change between the body's post-strain length original length\n",
    "\n",
    "$$ \\theta = \\frac{L}{L_0} = 1 + e $$"
   ]
  },
  {
   "cell_type": "code",
   "execution_count": null,
   "metadata": {},
   "outputs": [],
   "source": []
  }
 ],
 "metadata": {
  "kernelspec": {
   "display_name": "Python 3",
   "language": "python",
   "name": "python3"
  },
  "language_info": {
   "codemirror_mode": {
    "name": "ipython",
    "version": 3
   },
   "file_extension": ".py",
   "mimetype": "text/x-python",
   "name": "python",
   "nbconvert_exporter": "python",
   "pygments_lexer": "ipython3",
   "version": "3.8.3"
  }
 },
 "nbformat": 4,
 "nbformat_minor": 4
}
