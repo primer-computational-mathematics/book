{
 "cells": [
  {
   "cell_type": "markdown",
   "metadata": {},
   "source": [
    "(2_mohr_coloumb)=\n",
    "\n",
    "# Mohr's Circle and Coloumb Failure\n",
    "\n",
    "Brittle behaviour is observed when bodies no longer behave either plastically or elastically. This is when fractures occur in a body.\n",
    "\n",
    "Fractures are discontinuities in a rock or body which are associated with offset in mechanical properties such as strength, and spatial properties such as displacement.\n",
    "\n",
    "## Coulomb Failure Criterion\n"
   ]
  },
  {
   "cell_type": "code",
   "execution_count": null,
   "metadata": {},
   "outputs": [],
   "source": []
  }
 ],
 "metadata": {
  "kernelspec": {
   "display_name": "Python 3",
   "language": "python",
   "name": "python3"
  },
  "language_info": {
   "codemirror_mode": {
    "name": "ipython",
    "version": 3
   },
   "file_extension": ".py",
   "mimetype": "text/x-python",
   "name": "python",
   "nbconvert_exporter": "python",
   "pygments_lexer": "ipython3",
   "version": "3.8.3"
  }
 },
 "nbformat": 4,
 "nbformat_minor": 4
}
