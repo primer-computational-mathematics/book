{
 "cells": [
  {
   "cell_type": "markdown",
   "metadata": {},
   "source": [
    "(2_mohr_coloumb)=\n",
    "\n",
    "# Mohr's Circle and Coloumb Failure\n",
    "\n",
    "Brittle behaviour is observed when bodies no longer behave either plastically or elastically. This is when fractures occur in a body.\n",
    "\n",
    "Fractures are discontinuities in a rock or body which are associated with offset in mechanical properties such as strength, and spatial properties such as displacement.\n",
    "\n",
    "## Brittle Failure\n",
    "A material can be defined as brittle if it fails when subjected to an applied stres without any significant deformation. This means there will be little to no permanent strain prior to failre.\n",
    "\n",
    "Failure can be in both compression or tension, but is most commonly seen in extension than in compression for rocks.\n",
    "\n",
    "Brittle behaviour is most commonly seen in the upper crust, whilst plastic behaviour is seen in the lower crust, with a brittle-plastic transition occuring in between.\n",
    "\n",
    "## Couloumb Failure\n",
    "There is, in general, an apparent linear relationship between the normal and shear stresses on failure:\n",
    "\n",
    "$$ \\tau=\\sigma_n\\mu+c $$\n",
    "\n",
    "Where $\\tau$, $\\sigma_n$, $\\mu$, and $c$ are the shear stress, normal stress, angle of internal friction, and cohesion, respectively.\n",
    "\n",
    "The other shear plane can be defined by:\n",
    "\n",
    "$$ \\tau=\\sigma_n(-\\mu)+c $$\n",
    "\n",
    "Coloumb's equation can then be related to real failure in rocks. The gradient is the tangent of the internal angle. "
   ]
  },
  {
   "cell_type": "code",
   "execution_count": null,
   "metadata": {},
   "outputs": [],
   "source": []
  }
 ],
 "metadata": {
  "kernelspec": {
   "display_name": "Python 3",
   "language": "python",
   "name": "python3"
  },
  "language_info": {
   "codemirror_mode": {
    "name": "ipython",
    "version": 3
   },
   "file_extension": ".py",
   "mimetype": "text/x-python",
   "name": "python",
   "nbconvert_exporter": "python",
   "pygments_lexer": "ipython3",
   "version": "3.8.3"
  }
 },
 "nbformat": 4,
 "nbformat_minor": 4
}
