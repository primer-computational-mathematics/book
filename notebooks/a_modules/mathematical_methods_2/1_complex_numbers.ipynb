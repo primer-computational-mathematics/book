{
 "cells": [
  {
   "cell_type": "markdown",
   "metadata": {},
   "source": [
    "(1_complex_numbers)=\n",
    "\n",
    "# Complex Numbers"
   ]
  },
  {
   "cell_type": "code",
   "execution_count": 8,
   "metadata": {},
   "outputs": [],
   "source": [
    "# Import relevent modules\n",
    "import numpy as np\n",
    "import cmath\n",
    "from math import pi"
   ]
  },
  {
   "cell_type": "markdown",
   "metadata": {},
   "source": [
    "## Background On Complex Numbers\n",
    "\n",
    "### Imaginary Numbers\n",
    "Imaginary numbers are numbers outside of the real number system.\n",
    "\n",
    "These numbers are represented by:\n",
    "\n",
    "$$ i = \\sqrt{-1} $$\n",
    "\n",
    "Although these may seem abstract, operations which use imaginary numbers can produce physically meaningful results.\n",
    "\n",
    "Basic behaviours of this number are shown below:\n",
    "\n",
    "$$ i^2 = (\\sqrt{-1})^2 = -1 \\\\ i^3 = i \\times i^2 = -i \\\\ i^4 = i^2 \\times i^2 = 1$$\n",
    "\n",
    "and\n",
    "\n",
    "$$ \\frac{1}{i} = \\frac{1}{i}\\times\\frac{i}{i}=\\frac{i}{i^2}=-i\\\\ \\frac{1}{i^2} = -1\\\\ \\frac{1}{i^3} = i\\\\ \\frac{1}{i^4} = 1$$\n",
    "\n",
    "### Complex Numbers\n",
    "Complex numbers, denoted by $z$ are a set of numbers with both a <em>real</em> and an <em>imaginary</em> part. These are written as:\n",
    "$$ z = x + iy $$\n",
    "\n",
    "Where:\n",
    "$$ x = \\text{Re}(z)\\\\ y = \\text{Im}(z) $$\n",
    "\n",
    "can be used to notate the real and imaginary parts of a complex number\n",
    "\n",
    "### Creating Complex Numbers in Python"
   ]
  },
  {
   "cell_type": "code",
   "execution_count": 4,
   "metadata": {},
   "outputs": [
    {
     "data": {
      "text/plain": [
       "complex"
      ]
     },
     "execution_count": 4,
     "metadata": {},
     "output_type": "execute_result"
    }
   ],
   "source": [
    "# Complex numbers can be represented by z = x + jy\n",
    "# 'j' is used instead of 'i' within python script\n",
    "\n",
    "# Defining a complex number\n",
    "z = 0-1j\n",
    "\n",
    "# Complex numbers can be directly typed into the source code,\n",
    "# And its type will be defined as 'complex'\n",
    "type(z)"
   ]
  },
  {
   "cell_type": "markdown",
   "metadata": {},
   "source": [
    "#### Aside: Why is j used instead of i?\n",
    "* It is a convention adopted by engineers to avoid name collisions with electric current, which is denoted by `i`\n",
    "* In computing, `i` is often used for indexig variables in loops\n",
    "* In source code, `i` can be easily confused with `l` or `1`\n",
    "\n",
    "### Extracting Real and Imaginary Parts\n",
    "`.real` and `.imag` can be used to extract real and imaginary parts from a complex number in python, however these are **read-only** so trying to assign numbers will not work"
   ]
  },
  {
   "cell_type": "code",
   "execution_count": null,
   "metadata": {},
   "outputs": [],
   "source": [
    "# Using z from the code above:\n",
    "# Extracting the real part from complex number z\n",
    "z.real"
   ]
  },
  {
   "cell_type": "code",
   "execution_count": 11,
   "metadata": {},
   "outputs": [
    {
     "data": {
      "text/plain": [
       "-1.0"
      ]
     },
     "execution_count": 11,
     "metadata": {},
     "output_type": "execute_result"
    }
   ],
   "source": [
    "# Extracting the imaginary part from complex number z\n",
    "z.imag"
   ]
  },
  {
   "cell_type": "code",
   "execution_count": 12,
   "metadata": {},
   "outputs": [
    {
     "ename": "AttributeError",
     "evalue": "readonly attribute",
     "output_type": "error",
     "traceback": [
      "\u001b[0;31m---------------------------------------------------------------------------\u001b[0m",
      "\u001b[0;31mAttributeError\u001b[0m                            Traceback (most recent call last)",
      "\u001b[0;32m<ipython-input-12-3fa478c9c312>\u001b[0m in \u001b[0;36m<module>\u001b[0;34m\u001b[0m\n\u001b[1;32m      1\u001b[0m \u001b[0;31m# Showing that .real and .imag are read only\u001b[0m\u001b[0;34m\u001b[0m\u001b[0;34m\u001b[0m\u001b[0;34m\u001b[0m\u001b[0m\n\u001b[0;32m----> 2\u001b[0;31m \u001b[0mz\u001b[0m\u001b[0;34m.\u001b[0m\u001b[0mreal\u001b[0m \u001b[0;34m=\u001b[0m \u001b[0;36m3.14\u001b[0m\u001b[0;34m\u001b[0m\u001b[0;34m\u001b[0m\u001b[0m\n\u001b[0m",
      "\u001b[0;31mAttributeError\u001b[0m: readonly attribute"
     ]
    }
   ],
   "source": [
    "# Showing that .real and .imag are read only\n",
    "z.real = 3.14"
   ]
  },
  {
   "cell_type": "markdown",
   "metadata": {},
   "source": [
    "### The Complex Conjugate\n",
    "For eevry complex number, $ z = x +iy $, we cam define its **complex conjugate**, denoted by $ z^* $ or $ \\bar{z} $ by changing the sign of the imaginary component:\n",
    "$$ z^* \\equiv x - iy $$\n",
    "\n",
    "This is an [involutory operation](https://en.wikipedia.org/wiki/Involution_(mathematics)) since \\\\( (z^*)^* = z \\\\) with the following properties:\n",
    "\n",
    "$$ (z_1 \\pm z_2)^* = z_1^* \\pm z_2^* \\\\\n",
    "(z_1 \\cdot z_2)^* = z_1^* \\cdot z_2^* \\\\\n",
    "(z^{-1})^* = (z^*)^{-1} $$\n",
    "\n",
    "We can then write the real and imaginary parts of $ z $ using the complex conjugate:\n",
    "$$ \\text{Re}(z)=\\frac{1}{2}(z+z^*),\\enspace\\text{Im}(z)=\\frac{1}{2i}(z-z^*) $$"
   ]
  },
  {
   "cell_type": "code",
   "execution_count": 5,
   "metadata": {},
   "outputs": [
    {
     "data": {
      "text/plain": [
       "1j"
      ]
     },
     "execution_count": 5,
     "metadata": {},
     "output_type": "execute_result"
    }
   ],
   "source": [
    "# Similar to extracting the real and imaginary parts from a complex\n",
    "# number, we can use '.conjugate()'\n",
    "\n",
    "# Using the value of z from earlier\n",
    "z.conjugate()"
   ]
  },
  {
   "cell_type": "markdown",
   "metadata": {},
   "source": [
    "## Arithmetic with Complex Numbers\n",
    "\n",
    "### Equality\n",
    "Complex numbers can only be equal to each other if the real and imaginary parts are equal to each other\n",
    "\n",
    "### Addition and Subtraction\n",
    "Both of these operations work by adding like terms:\n",
    "$$ (x + iy) \\pm (u + iv) = (x \\pm u) + i(y \\pm v) $$"
   ]
  },
  {
   "cell_type": "code",
   "execution_count": 2,
   "metadata": {},
   "outputs": [
    {
     "data": {
      "text/plain": [
       "(8+9j)"
      ]
     },
     "execution_count": 2,
     "metadata": {},
     "output_type": "execute_result"
    }
   ],
   "source": [
    "# Adding or subtracting complex numbers in python is a case of simply\n",
    "# just doing so!\n",
    "z1 = 3 + 2j \n",
    "z2 = 5 + 7j\n",
    "z1 + z2"
   ]
  },
  {
   "cell_type": "markdown",
   "metadata": {},
   "source": [
    "### Multiplication\n",
    "Multiplying two complex numbers is done by expanding the brackets and grouping real and imaginary parts:\n",
    "$$ (x+iy)(u+iv)=xu+i^2yv+iyu+ixv\\\\=(xu-yv)+iyu+ixv$$"
   ]
  },
  {
   "cell_type": "code",
   "execution_count": 2,
   "metadata": {},
   "outputs": [
    {
     "data": {
      "text/plain": [
       "(1+31j)"
      ]
     },
     "execution_count": 2,
     "metadata": {},
     "output_type": "execute_result"
    }
   ],
   "source": [
    "# Multiplication between complex numbers is performed using '*':\n",
    "z1 * z2"
   ]
  },
  {
   "cell_type": "markdown",
   "metadata": {},
   "source": [
    "### Division\n",
    "Division of complex numbers is completed by using the complex conjugate to make the denominator real:\n",
    "\n",
    "$$ \\frac{u+iv}{x+iy}=\\frac{u+iv}{x+iy}\\frac{x-iy}{x-iy}\\\\\\,\\,\\,=\\frac{ux-vy+i(vx-uy)}{x^2+y^2}\\\\\\,\\,\\,=\\frac{ux-vy}{x^2+y^2}+i\\frac{vx-uy}{x^2+y^2} $$"
   ]
  },
  {
   "cell_type": "code",
   "execution_count": 3,
   "metadata": {},
   "outputs": [
    {
     "data": {
      "text/plain": [
       "(0.39189189189189183-0.14864864864864866j)"
      ]
     },
     "execution_count": 3,
     "metadata": {},
     "output_type": "execute_result"
    }
   ],
   "source": [
    "# Similar to multiplication, division between complex numbers is\n",
    "# performed using '/'\n",
    "z1 / z2"
   ]
  },
  {
   "cell_type": "code",
   "execution_count": null,
   "metadata": {},
   "outputs": [],
   "source": []
  }
 ],
 "metadata": {
  "kernelspec": {
   "display_name": "Python 3",
   "language": "python",
   "name": "python3"
  },
  "language_info": {
   "codemirror_mode": {
    "name": "ipython",
    "version": 3
   },
   "file_extension": ".py",
   "mimetype": "text/x-python",
   "name": "python",
   "nbconvert_exporter": "python",
   "pygments_lexer": "ipython3",
   "version": "3.8.3"
  }
 },
 "nbformat": 4,
 "nbformat_minor": 4
}
