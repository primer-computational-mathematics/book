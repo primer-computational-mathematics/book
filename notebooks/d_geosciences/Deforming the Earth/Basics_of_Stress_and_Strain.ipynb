{
 "cells": [
  {
   "cell_type": "markdown",
   "metadata": {
    "tags": [
     "module-dte"
    ]
   },
   "source": [
    "# Basics of Stress and Strain\n",
    "\n",
    "Deformation, in relation to the Earth's crust, is the process of physical change within the rock body by the action of applied forces, namely gravity and tectonics. The physical change - strain, is caused by an applied stress\n",
    "\n",
    "## Stress\n",
    "```{Index} Stress\n",
    "```\n",
    "\n",
    "Stresses are pressures or tension exerted on a material body. These stresses can be either Normal or Shear, with respect to the direction in which they occur. Stresses are defined as a force acting over an area - $\\text{Stress}=\\frac{F}{A}$. The units for stress are $Nm^{-2}$, Pa, or Bars.\n",
    "\n",
    "**Normal Stresses** act perpendicular to the body's surface. These could be compressional or tensional.\n",
    "**Shear Stresses** act paralllel to the area to which it is applied.\n",
    "\n",
    "If there is no overall acceleration on a body where the sum of the forces actiing on the body is equal to zero, 3 mutually perpendicular planes of zero shear stress can always be found. \n",
    "\n",
    "The **Principle Stress Axes** are axes of normal compressive stresses perpendicular to the planes of zero shear stresses mentioned above. These are denoted by $\\omega_1,\\,\\omega_2,\\,\\text{and}\\,\\omega_3$, and are called the maximum, intermediate, and minimum principle stress axes. $\\omega_1>\\omega_2>\\omega_3$.\n",
    "\n",
    "Stress can lead to changes in volume, size, and/or orientation. This is an example of **strain**, which is what stresses results in.\n",
    "\n",
    "\n",
    "## Strain\n",
    "```{Index} Strain\n",
    "```\n",
    "Strain is the magnitude of a deformation, equal to the change in the dimension of a deformed object divided by its original dimension.\n",
    "\n",
    "These can either be homogeneous, or heterogeneous.\n",
    "\n",
    "**Homogeneous** strain produces the same distortion everywhere. As a result the strain is uniform throughout the body, and straight lines are kept straight. Homogeneous strain can be:\n",
    "\n",
    "* **Pure**: Where the strain axes remain the same as the original body.\n",
    "* **Simple**: Where the strain results in a rotation of the original body.\n",
    "\n",
    "For homogeneous strain, pure and simple strain components are enough to define a body.\n",
    "\n",
    "**Heterogeneous** strain is the opposite of this, where strain is no longer uniform throughout the body.\n",
    "\n",
    "Strain can be defined as below:\n",
    "\n",
    "**Linear Strain**, $e = \\frac{(L - L_0)}{L_0}$, where $e$ is the linear strain, $L_0$ is the length of the body before deformation, and, $L$ being the new length post deformation\n"
   ]
  }
 ],
 "metadata": {
  "celltoolbar": "Tags",
  "kernelspec": {
   "display_name": "Python 3 (ipykernel)",
   "language": "python",
   "name": "python3"
  },
  "language_info": {
   "codemirror_mode": {
    "name": "ipython",
    "version": 3
   },
   "file_extension": ".py",
   "mimetype": "text/x-python",
   "name": "python",
   "nbconvert_exporter": "python",
   "pygments_lexer": "ipython3",
   "version": "3.9.8"
  }
 },
 "nbformat": 4,
 "nbformat_minor": 4
}
