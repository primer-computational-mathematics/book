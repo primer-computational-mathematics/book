{
 "cells": [
  {
   "cell_type": "markdown",
   "id": "c16665f9",
   "metadata": {
    "tags": [
     "all"
    ]
   },
   "source": [
    "# Runge-Kutta method - biology example\n",
    "\n",
    "[Runge-Kutta](https://en.wikipedia.org/wiki/Runge%E2%80%93Kutta_methods) (RK4) is most commonly used method for integrating {ref}`Ordinary Differential Equations (ODEs) <ode_linear>`. This method takes into account slope at the beginning, middle (twice) and the end of interval to integrate an ODE with a 4th order accuracy.\n",
    "\n",
    "## 1st order ODE integration\n",
    "\n",
    "Consider a continuous function $f(x,y)$, where $x$ is the independent variable and $y$ is the dependent variable -\n",
    "\n",
    "$$\\frac{dy}{dx}=f(x,y)\\text{.}$$\n",
    "\n",
    "Our aim is to find $y(x)$ and to achieve that, we need to:\n",
    "* know the value of $y=y_0$ at some initial value of $x=x_0$\n",
    "* step forward from the initial point using finite steps of size $\\Delta x$\n",
    "* know how much $y$ changes for each step in $x$\n",
    "\n",
    "In RK4 method, the independent variable is incremented in steps and the new value for the dependent variable is calculated at the end of each step according to -\n",
    "\n",
    "$$y_{i+1} = y_i + \\frac{1}{6}(k_1+2k_2+2k_3+k_4)\\text{,}$$\n",
    "\n",
    "$$x_{i+1} = x_i + \\Delta x,$$\n",
    "\n",
    "where $\\Delta x$ is the increment, $k_1, k_2, k_3$ and $k_4$ are slopes calculated as follows -\n",
    "\n",
    "$$k_1 = \\Delta x f(x_i, y_i),\\\\\\\\\\\\\n",
    "k_2 = \\Delta x f(x_i + 0.5 \\Delta x, y_i + 0.5 k_1),\\\\\\\\\\\\\n",
    "k_3 = \\Delta x f(x_i + 0.5 \\Delta x, y_i + 0.5 k_2).\\\\\\\\\\\\\n",
    "k_4 = \\Delta x f(x_i + \\Delta x, y_i + k_3).$$\n",
    "\n",
    "In this notebook, we will learn how to integrate ODEs with this method.\n",
    "\n",
    "At first, let's create a `RungeKutta` function that will calculate slopes and return $x$ and $y$ at new step."
   ]
  },
  {
   "cell_type": "code",
   "execution_count": 1,
   "id": "fe29bb0d",
   "metadata": {
    "tags": [
     "hide-input",
     "all"
    ]
   },
   "outputs": [],
   "source": [
    "import matplotlib.pyplot as plt\n",
    "import numpy as np\n",
    "plt.rcParams.update({'font.size': 12})"
   ]
  },
  {
   "cell_type": "code",
   "execution_count": 2,
   "id": "afc48ff6",
   "metadata": {
    "tags": [
     "all"
    ]
   },
   "outputs": [],
   "source": [
    "def RungeKutta(x, y, dx, dydx):\n",
    "    \n",
    "    # Calculate slopes\n",
    "    k1 = dx*dydx(x, y)\n",
    "    k2 = dx*dydx(x+dx/2., y+k1/2.)\n",
    "    k3 = dx*dydx(x+dx/2., y+k2/2.)\n",
    "    k4 = dx*dydx(x+dx, y+k3)\n",
    "    \n",
    "    # Calculate new x and y\n",
    "    y = y + 1./6*(k1+2*k2+2*k3+k4)\n",
    "    x = x + dx\n",
    "    \n",
    "    return x, y"
   ]
  },
  {
   "cell_type": "markdown",
   "id": "483cedc5",
   "metadata": {
    "tags": [
     "all"
    ]
   },
   "source": [
    "Analytical solution to the ODE\n",
    "\n",
    "$$f(x,y)=\\frac{dy}{dx}=x^2,$$\n",
    "\n",
    "with initial values $x_0 = 1$ and $y_0=1$ is\n",
    "\n",
    "$$y(x)=\\frac{x^3}{3}+\\frac{2}{3}.$$\n",
    "\n",
    "Let's solve this equation numerically with RK4 method, with increment $\\Delta x=0.1$ and final position $x_{end}=2.$\n",
    "\n",
    "At first we will define our function $f(x,y)$ as `dxdy1` and analaytical solution as `y1`:"
   ]
  },
  {
   "cell_type": "code",
   "execution_count": 3,
   "id": "5f2a90b2",
   "metadata": {
    "tags": [
     "all"
    ]
   },
   "outputs": [],
   "source": [
    "def dydx1(x, y):\n",
    "    return x**2\n",
    "\n",
    "def y1(x):\n",
    "    return x**3/3.+2/3."
   ]
  },
  {
   "cell_type": "markdown",
   "id": "dc01f34f",
   "metadata": {
    "tags": [
     "all"
    ]
   },
   "source": [
    "Now we need to set up initial values in the problem - starting positions $x_0$ and $y_0$, as well as the increment and ending position:"
   ]
  },
  {
   "cell_type": "code",
   "execution_count": 4,
   "id": "5aea3c3f",
   "metadata": {
    "tags": [
     "all"
    ]
   },
   "outputs": [],
   "source": [
    "x0 = 1.\n",
    "y0 = 1.\n",
    "dx = 0.1\n",
    "x_end = 2."
   ]
  },
  {
   "cell_type": "markdown",
   "id": "d30613c7",
   "metadata": {
    "tags": [
     "all"
    ]
   },
   "source": [
    "To find a solution with RK4 method, we will need to loop over $x$ values, increasing them by $\\Delta x$ each step until they reach $x_{\\text{end}}$. We will also create lists that calculated $x$ and $y$ values will be appended to, so that we can plot them afterwards."
   ]
  },
  {
   "cell_type": "code",
   "execution_count": 5,
   "id": "1a3877fc",
   "metadata": {
    "tags": [
     "all"
    ]
   },
   "outputs": [],
   "source": [
    "x_rk = [x0]\n",
    "y_rk = [y0]\n",
    "\n",
    "y = y0\n",
    "x = x0\n",
    "\n",
    "while x <= x_end:\n",
    "    \n",
    "    x, y = RungeKutta(x, y, dx, dydx1)\n",
    "\n",
    "    x_rk.append(x)\n",
    "    y_rk.append(y)"
   ]
  },
  {
   "cell_type": "code",
   "execution_count": 6,
   "id": "fa16471b",
   "metadata": {
    "tags": [
     "all"
    ]
   },
   "outputs": [],
   "source": [
    "def Euler(x, y, dx, dydx):\n",
    "    return x+dx, y+dx*dydx(x, y)\n",
    "\n",
    "x_eu = [x0]\n",
    "y_eu = [y0]\n",
    "\n",
    "y = y0\n",
    "x = x0\n",
    "\n",
    "while x <= x_end:\n",
    "    \n",
    "    x, y = Euler(x, y, dx, dydx1)\n",
    "\n",
    "    x_eu.append(x)\n",
    "    y_eu.append(y)"
   ]
  },
  {
   "cell_type": "markdown",
   "id": "1b83a2c0",
   "metadata": {
    "tags": [
     "all"
    ]
   },
   "source": [
    "We can plot results together on one graph:"
   ]
  },
  {
   "cell_type": "code",
   "execution_count": 7,
   "id": "f62c1f85",
   "metadata": {
    "tags": [
     "all"
    ]
   },
   "outputs": [
    {
     "data": {
      "image/png": "[encoded data removed]",
      "text/plain": [
       "<Figure size 700x500 with 1 Axes>"
      ]
     },
     "metadata": {},
     "output_type": "display_data"
    }
   ],
   "source": [
    "plt.figure(figsize=(7,5))\n",
    "\n",
    "plt.plot(np.linspace(1,2,50), y1(np.linspace(1,2,50)), \n",
    "         label=\"Analytical solution\",color=\"red\", lw=2)\n",
    "\n",
    "plt.plot(x_rk, y_rk, label=\"Numerical solution:\\nRunge-Kutta\", dashes=(3,2), color=\"blue\",\n",
    "        lw=3)\n",
    "plt.plot(x_eu, y_eu, label=\"Numerical solution:\\nEuler\", dashes=(3,2), color=\"green\",\n",
    "        lw=3)\n",
    "\n",
    "plt.legend(loc=\"best\", fontsize=12)\n",
    "plt.title(r\"Solution to ODE: $\\quad\\frac{dy}{dx}=x^2$\")\n",
    "plt.xlabel(\"x\", fontsize=12)\n",
    "plt.ylabel(\"y\", fontsize=12)\n",
    "plt.show()"
   ]
  },
  {
   "cell_type": "markdown",
   "id": "eefa7610",
   "metadata": {
    "tags": [
     "all"
    ]
   },
   "source": [
    "As we can see, Runge-Kutta is much more accurate than Euler method. That's the reson why it is more often used when integrating ODEs. In this case Euler method underestimated the analytical solution."
   ]
  },
  {
   "cell_type": "code",
   "execution_count": 8,
   "id": "c9e88a89",
   "metadata": {
    "tags": [
     "all",
     "hide-input"
    ]
   },
   "outputs": [],
   "source": [
    "def RungeKutta(x, y, dx, dydx):\n",
    "    # Calculate slopes\n",
    "    k1 = dx*dydx(x, y)\n",
    "    k2 = dx*dydx(x+dx/2., y+k1/2.)\n",
    "    k3 = dx*dydx(x+dx/2., y+k2/2.)\n",
    "    k4 = dx*dydx(x+dx, y+k3)\n",
    "    \n",
    "    # Calculate new x and y\n",
    "    y = y + 1./6*(k1+2*k2+2*k3+k4)\n",
    "    x = x + dx\n",
    "    \n",
    "    return x, y\n",
    "\n",
    "\n",
    "def dydx1(x, y, k=0.02):\n",
    "    return -k*x\n",
    "\n",
    "def RK4(x0, y0, x_end, dx, dydx1):\n",
    "    x_rk = [x0]\n",
    "    y_rk = [y0]\n",
    "\n",
    "    y = y0\n",
    "    x = x0\n",
    "\n",
    "    while x <= x_end:\n",
    "\n",
    "        x, y = RungeKutta(x, y, dx, dydx1)\n",
    "\n",
    "        x_rk.append(x)\n",
    "        y_rk.append(y)\n",
    "    return x_rk, y_rk"
   ]
  }
 ],
 "metadata": {
  "celltoolbar": "Tags",
  "kernelspec": {
   "display_name": "Python 3",
   "language": "python",
   "name": "python3"
  },
  "language_info": {
   "codemirror_mode": {
    "name": "ipython",
    "version": 3
   },
   "file_extension": ".py",
   "mimetype": "text/x-python",
   "name": "python",
   "nbconvert_exporter": "python",
   "pygments_lexer": "ipython3",
   "version": "3.7.10"
  }
 },
 "nbformat": 4,
 "nbformat_minor": 5
}
