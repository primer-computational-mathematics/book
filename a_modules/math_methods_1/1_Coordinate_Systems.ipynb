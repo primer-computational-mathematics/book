{
 "cells": [
  {
   "cell_type": "code",
   "execution_count": 1,
   "metadata": {
    "tags": [
     "hide-input"
    ]
   },
   "outputs": [
    {
     "name": "stdout",
     "output_type": "stream",
     "text": [
      "Populating the interactive namespace from numpy and matplotlib\n"
     ]
    }
   ],
   "source": [
    "## This cell just imports necessary modules\n",
    "%pylab notebook\n",
    "from mpl_toolkits.mplot3d import Axes3D # For 3D plotting of Cylindrical and Spherical coordinates"
   ]
  },
  {
   "cell_type": "markdown",
   "metadata": {
    "tags": [
     "module-mm1"
    ]
   },
   "source": [
    "# Coordinate systems\n",
    "```{index} Coordinate systems\n",
    "```\n",
    "\n",
    "This notebook will illustrate how to apply the maths discussed in the lecture using Python.\n",
    "\n",
    "In these notebooks, we will adopt the following prefix convention when naming variables:\n",
    "\n",
    "```\n",
    "'s' (e.g. sDotProduct) means the variable is a scalar\n",
    "'v' (e.g. vCrossProduct) means the variable is a vector\n",
    "'m' (e.g. mA) means the variable is a matrix\n",
    "```\n",
    "\n",
    "To help us apply coordinate transformations, we start by writing a number of functions for each of the different changes of coordinate that we may wish to apply. Note that we could write each of these functions much more efficiently, but as we are quite new to Python we will err on the side of clarity. First, let's consider the function for converting from 2D Cartesian coordinates to Polar coordinates."
   ]
  },
  {
   "cell_type": "markdown",
   "metadata": {},
   "source": [
    "## Interactive plots\n",
    "\n",
    "This notebook uses interactive plots that can't be used on the website. Please download this notebook into jupyter notebooks to gain access to the interactive plots."
   ]
  },
  {
   "cell_type": "markdown",
   "metadata": {},
   "source": [
    "## Functions\n"
   ]
  },
  {
   "cell_type": "code",
   "execution_count": 2,
   "metadata": {
    "tags": [
     "hide-input"
    ]
   },
   "outputs": [],
   "source": [
    "def cartesian_to_polar(x,y):\n",
    "    '''Converts 2D Cartesian coordinates to Polar coordinates.'''\n",
    "    vCoordinate = [x, y]\n",
    "    # Interpret input\n",
    "    sX = vCoordinate[0] # The first component of the input vector is the x-coordinate\n",
    "    sY = vCoordinate[1] # The second component of the input vector is the y-coordinate\n",
    "\n",
    "    # Coordinate transform\n",
    "    sR = sqrt(sX**2 + sY**2)     # Pythagoras' theorem\n",
    "    sTheta = numpy.arctan(sY/sX) # Simple trigonometry: 'TOA', Tangent = opposite/adjacent\n",
    "   \n",
    "    # Remember: we might have to modify sTheta\n",
    "    # depending on which 'quadrant' we are in.\n",
    "    sTheta = check_angle(sX, sY, sTheta)\n",
    "      \n",
    "    return (sR, sTheta)"
   ]
  },
  {
   "cell_type": "markdown",
   "metadata": {
    "tags": [
     "hide-input"
    ]
   },
   "source": [
    "Notice that this function itself calls a function, because there will be circumstances when we need to resolve the ambiguity in the angle theta because the tangent fucntion repeats every 180 (or pi) degrees. Let's write a function `check_angle` to handle these situations."
   ]
  },
  {
   "cell_type": "code",
   "execution_count": 3,
   "metadata": {
    "tags": [
     "hide-input"
    ]
   },
   "outputs": [],
   "source": [
    "def check_angle(sX, sY, sAngle):\n",
    "    '''Adjust Polar coordinate angle based on quadrant, returning angle in\n",
    "    radians between 0 and 2*pi.'''\n",
    "    \n",
    "    if(sX < 0 and sY >= 0):\n",
    "        # We are in the upper left quadrant\n",
    "        # so add 180 degrees (pi radians)\n",
    "        # onto sAngle\n",
    "        sAngle = sAngle + pi\n",
    "    elif(sX < 0 and sY < 0):\n",
    "        # We are in the lower left quadrant\n",
    "        # so add 180 degrees (pi radians)\n",
    "        # onto sAngle\n",
    "        sAngle = sAngle + pi\n",
    "    elif(sX >= 0 and sY < 0):\n",
    "        # We are in the lower right quadrant\n",
    "        # so add 360 degrees (2*pi radians)\n",
    "        # onto sAngle\n",
    "        sAngle = sAngle + 2*pi\n",
    "     \n",
    "    return sAngle"
   ]
  },
  {
   "cell_type": "markdown",
   "metadata": {
    "tags": [
     "hide-input"
    ]
   },
   "source": [
    "Now consider the reverse function that converts from Polar coordinates to 2D Cartesian."
   ]
  },
  {
   "cell_type": "code",
   "execution_count": 16,
   "metadata": {
    "tags": [
     "hide-input"
    ]
   },
   "outputs": [],
   "source": [
    "def polar_to_cartesian(vCoordinate):\n",
    "    '''A function to convert 2D Polar coordinates to Cartesian coordinates.'''\n",
    "    # Interpret input\n",
    "    sR = vCoordinate[0]\n",
    "    sTheta = vCoordinate[1]\n",
    "   \n",
    "    # Coordinate transform\n",
    "    sX = sR*cos(sTheta)\n",
    "    sY = sR*sin(sTheta)\n",
    "   \n",
    "    return (sX, sY)"
   ]
  },
  {
   "cell_type": "markdown",
   "metadata": {
    "tags": [
     "hide-input"
    ]
   },
   "source": [
    "We can follow this same procedure to define the other functions we might need."
   ]
  },
  {
   "cell_type": "code",
   "execution_count": 5,
   "metadata": {
    "tags": [
     "hide-input"
    ]
   },
   "outputs": [],
   "source": [
    "def cartesian_to_cylindrical(x,y,z):\n",
    "    '''Converts 3D Cartesian coordinates to Cylindrical coordinates.'''\n",
    "    vCoordinate = [x, y, z] # 3D Cartesian coordinate vector\n",
    "    # Convert to cylindrical coordinates (r, phi, z)\n",
    "    \n",
    "    # Interpret input\n",
    "    sX = vCoordinate[0]\n",
    "    sY = vCoordinate[1]\n",
    "    sZ = vCoordinate[2]\n",
    "    \n",
    "    # Coordinate transform\n",
    "    sR = sqrt(sX**2 + sY**2)\n",
    "    sPhi = numpy.arctan(sY/sX)\n",
    "   \n",
    "    # Again, check that we have the right value of sPhi\n",
    "    # for the quadrant we are in.\n",
    "    sPhi = check_angle(sX, sY, sPhi)\n",
    "      \n",
    "    return (sR, sPhi, sZ)\n",
    "  \n",
    "def cylindrical_to_cartesian(vCoordinate):\n",
    "    '''Converts 3D Cylindrical coordinates to Cartesian coordinates.'''\n",
    "\n",
    "    # Interpret input\n",
    "    sR = vCoordinate[0]\n",
    "    sPhi = vCoordinate[1]\n",
    "    sZ = vCoordinate[2]\n",
    "\n",
    "    # Coordinate transform\n",
    "    sX = sR*cos(sPhi)\n",
    "    sY = sR*sin(sPhi)\n",
    "    sZ = sZ\n",
    "   \n",
    "    return (sX, sY, sZ)\n",
    "   \n",
    "def spherical_to_cartesian(vCoordinate):\n",
    "    '''Converts 3D Cartesian coordinates to Spherical coordinates.'''\n",
    "\n",
    "    # Interpret inputs\n",
    "    sR = vCoordinate[0]\n",
    "    sPhi = vCoordinate[1]\n",
    "    sTheta = vCoordinate[2]\n",
    "   \n",
    "    # Coordinate transform\n",
    "    sX = sR*sin(sTheta)*cos(sPhi)\n",
    "    sY = sR*sin(sTheta)*sin(sPhi)\n",
    "    sZ = sR*cos(sTheta)\n",
    "   \n",
    "    return (sX, sY, sZ)\n",
    "      \n",
    "def cartesian_to_spherical(x,y,z):\n",
    "    '''Converts 3D Spherical coordinates to Cartesian coordinates.'''\n",
    "    vCoordinate = [x, y, z] # 3D Cartesian coordinate vector\n",
    "    # Convert to spherical coordinates (r, phi, theta)\n",
    "    # Interpret inputs\n",
    "    sX = vCoordinate[0]\n",
    "    sY = vCoordinate[1]\n",
    "    sZ = vCoordinate[2]\n",
    "   \n",
    "    # Coordinate transform\n",
    "    sR = sqrt(sX**2 + sY**2 + sZ**2)\n",
    "    sPhi = numpy.arctan(sY/sX)\n",
    "    sTheta = numpy.arccos(sZ/sR)\n",
    "   \n",
    "    # Again, check that we have the right value of sPhi\n",
    "    # for the quadrant we are in.\n",
    "    sPhi = check_angle(sX, sY, sPhi)\n",
    "\n",
    "    return (sR, sPhi, sTheta)"
   ]
  },
  {
   "cell_type": "markdown",
   "metadata": {
    "tags": [
     "hide-input"
    ]
   },
   "source": [
    "Finally, we'll write a function to help us plot the coordinates for illustrative purposes. Don't worry about this function for now. "
   ]
  },
  {
   "cell_type": "code",
   "execution_count": 6,
   "metadata": {
    "tags": [
     "hide-input"
    ]
   },
   "outputs": [],
   "source": [
    "def plot_coordinates(x,y,xSystem=\"Cart2D\",projection=False):\n",
    "    '''Plots 2D or 3D coordinates of a point on formatted axes with the \n",
    "    option of showing the projection of the point onto the x-y-(z) axes.'''\n",
    "    vCoordinate = [x, y]\n",
    "    xlimits=[-5,5]\n",
    "    ylimits=[-5,5]\n",
    "    if (xSystem == 'Cart2D'):\n",
    "        \n",
    "        fig, ax = plt.subplots()\n",
    "\n",
    "        # Set the spines to go through the origin\n",
    "        ax.spines['left'].set_position(('data',0.))\n",
    "        ax.spines['right'].set_color('none') # turn off the right spine/ticks\n",
    "        ax.yaxis.tick_left()\n",
    "        ax.spines['bottom'].set_position(('data',0.))\n",
    "        ax.spines['top'].set_color('none') # turn off the top spine/ticks\n",
    "        ax.xaxis.tick_bottom()\n",
    "        ax.set_xlabel('x')\n",
    "        ax.xaxis.set_label_coords(1.,0.475)\n",
    "        ax.set_ylabel('y')\n",
    "        ax.yaxis.set_label_coords(0.475,1.)\n",
    "        ax.set_xlim(xlimits)\n",
    "        ax.set_ylim(ylimits)\n",
    "        \n",
    "    elif (xSystem == 'Polar'):\n",
    "        (sR, sTheta) = cartesian_to_polar(x,y)\n",
    "        vCoordinate =[sTheta, sR]\n",
    "        print(\"r = %.3f\" % sR)\n",
    "        print(\"theta = %.3f\\n (radians)\" % sTheta)\n",
    "        fig = pylab.figure()\n",
    "        ax = fig.add_axes([0.1, 0.1, 0.8, 0.8], polar=True)\n",
    "        \n",
    "\n",
    "    # Plot the projections\n",
    "    if (projection):\n",
    "            ax.plot([0.,vCoordinate[0]],[0.,vCoordinate[1]],'b-',alpha=0.5)\n",
    "            if (xSystem == 'Cart2D'):\n",
    "                ax.plot([vCoordinate[0],vCoordinate[0]],[0.,vCoordinate[1]],'k--',alpha=0.5)\n",
    "                ax.plot([0.,vCoordinate[0]],[vCoordinate[1],vCoordinate[1]],'k--',alpha=0.5)\n",
    "\n",
    "    # Plot the point\n",
    "    if (xSystem == 'Cylindrical' or xSystem == 'Spherical'):\n",
    "        ax.plot([sX],[sY],[sZ],'ro')\n",
    "    else:\n",
    "        ax.plot(vCoordinate[0],vCoordinate[1],'ro')\n",
    "        \n",
    "    # Add a grid\n",
    "    ax.grid(True)"
   ]
  },
  {
   "cell_type": "code",
   "execution_count": 7,
   "metadata": {
    "tags": [
     "hide-input"
    ]
   },
   "outputs": [],
   "source": [
    "def plot_vcoordinates(vCoordinate, xSystem=\"Cart2D\", \n",
    "                       xlimits=[0.,1.], ylimits=[0.,1.], projection=False):\n",
    "    '''Plots 2D or 3D coordinates of a point on formatted axes with the \n",
    "    option of showing the projection of the point onto the x-y-(z) axes.'''\n",
    "\n",
    "    if (xSystem == 'Cart2D'):\n",
    "        \n",
    "        fig, ax = plt.subplots()\n",
    "\n",
    "        # Set the spines to go through the origin\n",
    "        ax.spines['left'].set_position(('data',0.))\n",
    "        ax.spines['right'].set_color('none') # turn off the right spine/ticks\n",
    "        ax.yaxis.tick_left()\n",
    "        ax.spines['bottom'].set_position(('data',0.))\n",
    "        ax.spines['top'].set_color('none') # turn off the top spine/ticks\n",
    "        ax.xaxis.tick_bottom()\n",
    "        ax.set_xlabel('x')\n",
    "        ax.xaxis.set_label_coords(1.,0.475)\n",
    "        ax.set_ylabel('y')\n",
    "        ax.yaxis.set_label_coords(0.475,1.)\n",
    "        ax.set_xlim(xlimits)\n",
    "        ax.set_ylim(ylimits)\n",
    "        \n",
    "    elif (xSystem == 'Polar'):\n",
    "        \n",
    "        fig = pylab.figure()\n",
    "        ax = fig.add_axes([0.1, 0.1, 0.8, 0.8], polar=True)\n",
    "        \n",
    "    elif (xSystem == 'Cylindrical' or xSystem == 'Spherical'):\n",
    "        \n",
    "        fig = pylab.figure()\n",
    "        ax = Axes3D(fig)\n",
    "        ax.set_xlabel(\"X\")\n",
    "        ax.set_ylabel(\"Y\")\n",
    "        ax.set_zlabel(\"Z\")\n",
    "        ax.plot([0.,1.2*vCoordinate[0]],[0.,0.],[0.,0.],'k-')\n",
    "        ax.plot([0.,0.],[0.,1.2*vCoordinate[1]],[0.,0.],'k-')\n",
    "        ax.plot([0.,0.],[0.,0.],[0.,1.2*vCoordinate[2]],'k-')\n",
    "        [sX, sY, sZ] = vCoordinate\n",
    "\n",
    "    # Plot the projections\n",
    "    if (projection):\n",
    "        if (xSystem == 'Cylindrical'):\n",
    "            ax.plot([0.,sX],[0.,sY],[sZ,sZ],'b-',alpha=0.5)\n",
    "            ax.plot([0.,sX],[0.,sY],[0.,0.],'k--',alpha=0.5)\n",
    "            ax.plot([sX,sX],[sY,sY],[0.,sZ],'k:',alpha=0.5)\n",
    "            ax.plot([sX],[sY],[0.],'ko',alpha=0.5)\n",
    "        elif (xSystem == 'Spherical'):\n",
    "            ax.plot([0.,sX],[0.,sY],[0.,sZ],'b-',alpha=0.5)\n",
    "            ax.plot([0.,sX],[0.,sY],[0.,0.],'k--',alpha=0.5)\n",
    "            ax.plot([sX,sX],[sY,sY],[0.,sZ],'k:',alpha=0.5)\n",
    "            ax.plot([sX],[sY],[0.],'ko',alpha=0.5)\n",
    "        else:\n",
    "            ax.plot([0.,vCoordinate[0]],[0.,vCoordinate[1]],'b-',alpha=0.5)\n",
    "            if (xSystem == 'Cart2D'):\n",
    "                ax.plot([vCoordinate[0],vCoordinate[0]],[0.,vCoordinate[1]],'k--',alpha=0.5)\n",
    "                ax.plot([0.,vCoordinate[0]],[vCoordinate[1],vCoordinate[1]],'k--',alpha=0.5)\n",
    "\n",
    "    # Plot the point\n",
    "    if (xSystem == 'Cylindrical' or xSystem == 'Spherical'):\n",
    "        ax.plot([sX],[sY],[sZ],'ro')\n",
    "    else:\n",
    "        ax.plot(vCoordinate[0],vCoordinate[1],'ro')\n",
    "        \n",
    "    # Add a grid\n",
    "    ax.grid(True)"
   ]
  },
  {
   "cell_type": "code",
   "execution_count": 8,
   "metadata": {
    "tags": [
     "hide-input"
    ]
   },
   "outputs": [],
   "source": [
    "def plot_3Dcoordinates(x,y,z,xSystem=\"Cart2D\",projection=False):\n",
    "    '''Plots 3D coordinates of a point on formatted axes with the \n",
    "    option of showing the projection of the point onto the x-y-(z) axes.'''\n",
    "    vCoordinate = [x, y, z]\n",
    "    xlimits=[-5,5]\n",
    "    ylimits=[-5,5]\n",
    "    if (xSystem == 'Cylindrical'):\n",
    "        (sR, sPhi, sZ) = cartesian_to_cylindrical(x,y,z)\n",
    "        print(\"Plotting cylindrical coordinates R, Phi(radians) and Z:\", (sR, sPhi, sZ))\n",
    "        fig = pylab.figure()\n",
    "        ax = Axes3D(fig)\n",
    "        ax.set_xlabel(\"R\")\n",
    "        ax.set_ylabel(\"Phi\")\n",
    "        ax.set_zlabel(\"Z\")\n",
    "        ax.plot([0.,1.2*vCoordinate[0]],[0.,0.],[0.,0.],'k-')\n",
    "        ax.plot([0.,0.],[0.,1.2*vCoordinate[1]],[0.,0.],'k-')\n",
    "        ax.plot([0.,0.],[0.,0.],[0.,1.2*vCoordinate[2]],'k-')\n",
    "        [sX, sY, sZ] = vCoordinate\n",
    "    elif (xSystem == 'Spherical'):\n",
    "        (sR, sPhi, sTheta) = cartesian_to_spherical(x,y,z)\n",
    "        print(\"Plotting spherical coordinates R, Phi(radians) and Theta(radians):\", (sR, sPhi, sTheta))\n",
    "        fig = pylab.figure()\n",
    "        ax = Axes3D(fig)\n",
    "        ax.set_xlabel(\"R\")\n",
    "        ax.set_ylabel(\"Phi\")\n",
    "        ax.set_zlabel(\"Theta\")\n",
    "        ax.plot([0.,1.2*vCoordinate[0]],[0.,0.],[0.,0.],'k-')\n",
    "        ax.plot([0.,0.],[0.,1.2*vCoordinate[1]],[0.,0.],'k-')\n",
    "        ax.plot([0.,0.],[0.,0.],[0.,1.2*vCoordinate[2]],'k-')\n",
    "        [sX, sY, sZ] = vCoordinate\n",
    "    if (projection):\n",
    "        if (xSystem == 'Cylindrical'):\n",
    "            ax.plot([0.,sX],[0.,sY],[sZ,sZ],'b-',alpha=0.5)\n",
    "            ax.plot([0.,sX],[0.,sY],[0.,0.],'k--',alpha=0.5)\n",
    "            ax.plot([sX,sX],[sY,sY],[0.,sZ],'k:',alpha=0.5)\n",
    "            ax.plot([sX],[sY],[0.],'ko',alpha=0.5)\n",
    "        elif (xSystem == 'Spherical'):\n",
    "            ax.plot([0.,sX],[0.,sY],[0.,sZ],'b-',alpha=0.5)\n",
    "            ax.plot([0.,sX],[0.,sY],[0.,0.],'k--',alpha=0.5)\n",
    "            ax.plot([sX,sX],[sY,sY],[0.,sZ],'k:',alpha=0.5)\n",
    "            ax.plot([sX],[sY],[0.],'ko',alpha=0.5)\n",
    "    # Plot the point\n",
    "    if (xSystem == 'Cylindrical' or xSystem == 'Spherical'):\n",
    "        ax.plot([sX],[sY],[sZ],'ro')\n",
    "    else:\n",
    "        ax.plot(vCoordinate[0],vCoordinate[1],'ro')\n",
    "        \n",
    "    # Add a grid\n",
    "    ax.grid(True)"
   ]
  },
  {
   "cell_type": "markdown",
   "metadata": {},
   "source": [
    "## Cartesian coordinates\n",
    "\n",
    "**Lecture 1, slide 3**\n",
    "\n",
    "Right, so let's now utilise our functions to convert between different coordinate systems. Let's start by defining a point in 2D Cartesian coordinates and plotting the point."
   ]
  },
  {
   "cell_type": "code",
   "execution_count": 9,
   "metadata": {},
   "outputs": [
    {
     "data": {
      "application/vnd.jupyter.widget-view+json": {
       "model_id": "bf15f899d8ec48c2adbf8022cd827f27",
       "version_major": 2,
       "version_minor": 0
      },
      "text/plain": [
       "interactive(children=(IntSlider(value=0, description='x', max=5, min=-5), IntSlider(value=0, description='y', …"
      ]
     },
     "metadata": {},
     "output_type": "display_data"
    }
   ],
   "source": [
    "# A Cartesian coordinate vector in the form (x, y).\n",
    "from ipywidgets import interactive\n",
    "%matplotlib inline\n",
    "# %matplotlib widget\n",
    "\n",
    "# Let's plot coordinates on the X-Y plane using the sliders.\n",
    "interactive_plot = interactive(plot_coordinates, x=(-5,5), y=(-5,5))\n",
    "interactive_plot"
   ]
  },
  {
   "cell_type": "markdown",
   "metadata": {},
   "source": [
    "## Cartesian to polar conversion\n",
    "**Lecture 1, slide 4**\n",
    "\n",
    "We can convert these coordinates to Polar coordinates using our function and plot on a Polar diagram."
   ]
  },
  {
   "cell_type": "code",
   "execution_count": 10,
   "metadata": {},
   "outputs": [
    {
     "data": {
      "application/vnd.jupyter.widget-view+json": {
       "model_id": "039cca13366b45e3972732f370d840e5",
       "version_major": 2,
       "version_minor": 0
      },
      "text/plain": [
       "interactive(children=(IntSlider(value=0, description='x', max=5, min=-5), IntSlider(value=0, description='y', …"
      ]
     },
     "metadata": {},
     "output_type": "display_data"
    }
   ],
   "source": [
    "#Cartesian to polar sliders\n",
    "# Remember: theta will be in RADIANS\n",
    "\n",
    "#Change the xSystems tab to 'Polar' to see the 2D cartesian coordinates converted \n",
    "# to Polar coordinates on a Polar diagram\n",
    "\n",
    "systems = ['Cart2D', 'Polar']\n",
    "\n",
    "interactive_plot = interactive(plot_coordinates, xSystem=systems, x=(-5,5), y=(-5,5))\n",
    "interactive_plot"
   ]
  },
  {
   "cell_type": "markdown",
   "metadata": {},
   "source": [
    "We can also convert the Polar coordinates back to Cartesian coordinates"
   ]
  },
  {
   "cell_type": "markdown",
   "metadata": {},
   "source": [
    "## Polar to cartesian conversion\n",
    "\n",
    "Lecture 1, slide 4"
   ]
  },
  {
   "cell_type": "code",
   "execution_count": 17,
   "metadata": {},
   "outputs": [
    {
     "name": "stdout",
     "output_type": "stream",
     "text": [
      "Converting r = 6400.00, theta = 1.97 back to Cartesian coordinates\n",
      "x = -2490.39\n",
      "y = 5895.59\n"
     ]
    }
   ],
   "source": [
    "# Let's define some polar coordinates. . .\n",
    "sR = 6400.0\n",
    "# Convert angles in degrees to radians\n",
    "sTheta = 112.9*(pi/180)\n",
    "\n",
    "print(\"Converting r = %.2f, theta = %.2f back to Cartesian coordinates\" % (sR, sTheta))\n",
    "vCoordinate = [sR, sTheta]\n",
    "(sX, sY) = polar_to_cartesian(vCoordinate)\n",
    "print(\"x = %.2f\" % sX)\n",
    "print(\"y = %.2f\" % sY)"
   ]
  },
  {
   "cell_type": "markdown",
   "metadata": {},
   "source": [
    "## Cylindrical and spherical coordinates\n",
    "\n",
    "Lecture 1, slide 7\n",
    "\n",
    "Lecture 1, slide 10"
   ]
  },
  {
   "cell_type": "code",
   "execution_count": 12,
   "metadata": {},
   "outputs": [
    {
     "data": {
      "application/vnd.jupyter.widget-view+json": {
       "model_id": "833505d996244bd09a5b99c39c8322ac",
       "version_major": 2,
       "version_minor": 0
      },
      "text/plain": [
       "interactive(children=(FloatSlider(value=0.0, description='x', max=5.0, min=-5.0), FloatSlider(value=0.0, descr…"
      ]
     },
     "metadata": {},
     "output_type": "display_data"
    }
   ],
   "source": [
    "#Change the xSystems tab to 'Cylindrical' and 'Spherical' to see the \n",
    "# 3D cartesian coordinates converted to Cylindrical and Spherical coordinates respectively\n",
    "systems = ['Cylindrical','Spherical']\n",
    "\n",
    "interactive_plot = interactive(plot_3Dcoordinates, xSystem=systems, x=(-5,5,0.1), y=(-5,5,0.1), z=(-5,5,0.1))\n",
    "interactive_plot"
   ]
  },
  {
   "cell_type": "markdown",
   "metadata": {},
   "source": [
    "## Spherical to cartesian"
   ]
  },
  {
   "cell_type": "code",
   "execution_count": 13,
   "metadata": {},
   "outputs": [
    {
     "name": "stdout",
     "output_type": "stream",
     "text": [
      "Plotting spherical coordinates  (6400.0, 5.529203070318037, 1.9704767255015982)  in 3D Cartesian space\n"
     ]
    },
    {
     "data": {
      "image/png": "[encoded data removed]",
      "text/plain": [
       "<Figure size 432x288 with 1 Axes>"
      ]
     },
     "metadata": {
      "needs_background": "light"
     },
     "output_type": "display_data"
    }
   ],
   "source": [
    "# Let's define some spherical coordinates. . .\n",
    "sR = 6400.0\n",
    "# Convert angles in degrees to radians\n",
    "sPhi = 316.8*(pi/180)\n",
    "sTheta = 112.9*(pi/180)\n",
    "\n",
    "print(\"Plotting spherical coordinates \", (sR, sPhi, sTheta), \" in 3D Cartesian space\")\n",
    "\n",
    "# Convert back to Cartesian for 3D plotting purposes\n",
    "vCoordinate = [sR, sPhi, sTheta]\n",
    "(sX, sY, sZ) = spherical_to_cartesian(vCoordinate)\n",
    "\n",
    "# Plot the 3D Cartesian coordinates \n",
    "plot_vcoordinates([sX,sY,sZ], xSystem = 'Spherical', projection=True)\n",
    "\n",
    "#fig = pylab.figure()        \n",
    "#axes = Axes3D(fig)\n",
    "#axes.plot([0.],[0.],[0.],'oy')\n",
    "#axes.plot([sX],[sY],[sZ],'or')\n",
    "#axes.plot([0.,sX],[0.,sY],[0.,sZ],'b-')\n",
    "#axes.plot([0.,sX],[0.,sY],[0.,0.],'k--')\n",
    "#axes.plot([sX,sX],[sY,sY],[0.,sZ],'k:')\n",
    "#axes.plot([sX],[sY],[0.],'ok')\n",
    "#axes.set_xlabel(\"X\")\n",
    "#axes.set_ylabel(\"Y\")\n",
    "#axes.set_zlabel(\"Z\")\n"
   ]
  },
  {
   "cell_type": "markdown",
   "metadata": {},
   "source": [
    "## Final tip\n",
    "\n",
    "So what did I mean when I said we could write these functions much more efficiently?\n",
    "\n",
    "Well, let's try writing the first function again in as few lines as possible:"
   ]
  },
  {
   "cell_type": "code",
   "execution_count": 14,
   "metadata": {},
   "outputs": [],
   "source": [
    "def cartesian_to_polar(vC):\n",
    "    '''Converts 2D Cartesian coordinates to Polar coordinates.'''\n",
    "          \n",
    "    return sqrt(vC[0]**2 + vC[1]**2), check_angle(vC[0], vC[1], numpy.arctan(vC[1]/vC[0]))"
   ]
  },
  {
   "cell_type": "markdown",
   "metadata": {},
   "source": [
    "It turns out we can write this function in just one line of code, because there was no need to rename the input vector components as scalars and we can write the transformation formulae (and the `check_angle` function in the return statement."
   ]
  },
  {
   "cell_type": "markdown",
   "metadata": {},
   "source": [
    "## Notebook extensions"
   ]
  },
  {
   "cell_type": "markdown",
   "metadata": {},
   "source": [
    "To improve this notebook you could add interactive plots for the conversions from polar, cylindrical and spherical coordinates back to cartesian coordinates."
   ]
  }
 ],
 "metadata": {
  "celltoolbar": "Tags",
  "hide_input": false,
  "kernelspec": {
   "display_name": "Python 3",
   "language": "python",
   "name": "python3"
  },
  "language_info": {
   "codemirror_mode": {
    "name": "ipython",
    "version": 3
   },
   "file_extension": ".py",
   "mimetype": "text/x-python",
   "name": "python",
   "nbconvert_exporter": "python",
   "pygments_lexer": "ipython3",
   "version": "3.8.8"
  },
  "toc": {
   "base_numbering": 1,
   "nav_menu": {},
   "number_sections": true,
   "sideBar": true,
   "skip_h1_title": false,
   "title_cell": "Table of Contents",
   "title_sidebar": "Contents",
   "toc_cell": false,
   "toc_position": {},
   "toc_section_display": true,
   "toc_window_display": false
  }
 },
 "nbformat": 4,
 "nbformat_minor": 4
}
