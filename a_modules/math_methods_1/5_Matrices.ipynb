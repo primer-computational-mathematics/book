{
 "cells": [
  {
   "cell_type": "markdown",
   "metadata": {
    "tags": [
     "module-mm1"
    ]
   },
   "source": [
    "# Matrices\n",
    "```{index} Matrices\n",
    "```\n",
    "```{thebe-button}\n",
    "```"
   ]
  },
  {
   "cell_type": "markdown",
   "metadata": {},
   "source": [
    "## Defining a matrix\n",
    "\n",
    "**Slide 3** \n",
    "\n",
    "Remember: when stating the dimension of a matrix (e.g. \\\\(3 \\times 3\\\\), \\\\(2 \\times 4\\\\), etc) it's **R**ows Fi**R**st, **C**olumns Se**C**ond. \n",
    "\n",
    "Define matrices using `numpy.array`, and find their dimensions using `numpy.shape`."
   ]
  },
  {
   "cell_type": "code",
   "execution_count": 1,
   "metadata": {},
   "outputs": [
    {
     "name": "stdout",
     "output_type": "stream",
     "text": [
      "The dimension of A is (3, 3)\n",
      "The dimension of B is (2, 4)\n"
     ]
    }
   ],
   "source": [
    "# import necessary modules\n",
    "import numpy as np\n",
    "\n",
    "# mA is a SQUARE matrix\n",
    "mA = np.array([[2, 3, -4],\n",
    "                [3, -1, 2],\n",
    "                [4, 2, 2]])\n",
    "\n",
    "# mB is a NON-SQUARE matrix\n",
    "mB = np.array([[2, -4, 1, -2],\n",
    "               [7, 8, 0, 3]])\n",
    "\n",
    "# So, mA is 3 x 3 matrix, mB is a 2 x 4 matrix.\n",
    "\n",
    "print(\"The dimension of A is\", np.shape(mA))\n",
    "print(\"The dimension of B is\", np.shape(mB))"
   ]
  },
  {
   "cell_type": "markdown",
   "metadata": {},
   "source": [
    "## Matrix-scalar multiplication\n",
    "\n",
    "**Slide 5**"
   ]
  },
  {
   "cell_type": "code",
   "execution_count": 2,
   "metadata": {},
   "outputs": [
    {
     "name": "stdout",
     "output_type": "stream",
     "text": [
      "3*D =\n",
      "[[  6 -12   3  -6]\n",
      " [ 21  24   0   9]]\n"
     ]
    }
   ],
   "source": [
    "mD = np.matrix([[2, -4, 1, -2],\n",
    "                [7, 8, 0, 3]])\n",
    "\n",
    "print(\"3*D =\")\n",
    "print(3*mD)"
   ]
  },
  {
   "cell_type": "markdown",
   "metadata": {},
   "source": [
    "## Matrix addition and subtraction\n",
    "\n",
    "**Slide 6, 7**"
   ]
  },
  {
   "cell_type": "code",
   "execution_count": 3,
   "metadata": {},
   "outputs": [
    {
     "name": "stdout",
     "output_type": "stream",
     "text": [
      "E + F =\n",
      "[[ 6 -4]\n",
      " [ 9  7]]\n",
      "E - F =\n",
      "[[-2 -4]\n",
      " [ 5  9]]\n"
     ]
    }
   ],
   "source": [
    "mE = np.array([[2, -4],\n",
    "               [7, 8]])\n",
    "\n",
    "mF = np.array([[4, 0],\n",
    "               [2, -1]])\n",
    "\n",
    "print(\"E + F =\")\n",
    "print(mE + mF)\n",
    "\n",
    "print(\"E - F =\")\n",
    "print(mE - mF)"
   ]
  },
  {
   "cell_type": "markdown",
   "metadata": {},
   "source": [
    "The two matrices being added together must have the same dimension. If they do not, Python will give `ValueError`. \n",
    "\n",
    "Adding mE ( \\\\(2 \\times 2\\\\) ) and mB ( \\\\(2 \\times 4\\\\) ): "
   ]
  },
  {
   "cell_type": "code",
   "execution_count": 4,
   "metadata": {},
   "outputs": [
    {
     "ename": "ValueError",
     "evalue": "operands could not be broadcast together with shapes (2,2) (2,4) ",
     "output_type": "error",
     "traceback": [
      "\u001b[1;31m---------------------------------------------------------------------------\u001b[0m",
      "\u001b[1;31mValueError\u001b[0m                                Traceback (most recent call last)",
      "\u001b[1;32m<ipython-input-4-5f7c0614b2fd>\u001b[0m in \u001b[0;36m<module>\u001b[1;34m\u001b[0m\n\u001b[1;32m----> 1\u001b[1;33m \u001b[0mprint\u001b[0m\u001b[1;33m(\u001b[0m\u001b[0mmE\u001b[0m \u001b[1;33m+\u001b[0m \u001b[0mmB\u001b[0m\u001b[1;33m)\u001b[0m\u001b[1;33m\u001b[0m\u001b[1;33m\u001b[0m\u001b[0m\n\u001b[0m",
      "\u001b[1;31mValueError\u001b[0m: operands could not be broadcast together with shapes (2,2) (2,4) "
     ]
    }
   ],
   "source": [
    "print(mE + mB)"
   ]
  },
  {
   "cell_type": "markdown",
   "metadata": {},
   "source": [
    "## Matrix-matrix multiplication\n",
    "\n",
    "**Slide 10**\n",
    "\n",
    "Matrix-matrix multiplication of two numpy arrays is performed with the `@` operator."
   ]
  },
  {
   "cell_type": "code",
   "execution_count": null,
   "metadata": {},
   "outputs": [],
   "source": [
    "mE = np.array([[2, -4],\n",
    "               [7, 8],\n",
    "               [3, 2]])\n",
    "mH = np.array([[4, 0, 0, 1],\n",
    "               [2, -1, 3, -2]])\n",
    "\n",
    "print(\"E @ H =\")\n",
    "print(mE @ mH)"
   ]
  },
  {
   "cell_type": "markdown",
   "metadata": {},
   "source": [
    "## Matrix transpose\n",
    "\n",
    "**Slide 12, 13**\n",
    "\n",
    "Finding the transpose of a matrix using `numpy.transpose`."
   ]
  },
  {
   "cell_type": "code",
   "execution_count": null,
   "metadata": {},
   "outputs": [],
   "source": [
    "# Non-square matrix\n",
    "mB = np.array([[2, -4],\n",
    "               [7, 8],\n",
    "               [3, 2]])\n",
    "\n",
    "mB_transpose = np.transpose(mB)\n",
    "print(\"The transpose of (non-square) B =\")\n",
    "print(mB_transpose)\n",
    "\n",
    "# Square matrix\n",
    "mB = np.array([[2, 3, -4],\n",
    "               [3, -1, 2],\n",
    "               [4, 2, 2]])\n",
    "\n",
    "mB_transpose = np.transpose(mB)\n",
    "print(\"The transpose of (square) B =\")\n",
    "print(mB_transpose)"
   ]
  },
  {
   "cell_type": "markdown",
   "metadata": {},
   "source": [
    "## Identity matrix\n",
    "\n",
    "**Slide 15**\n",
    "\n",
    "Create identity matrix using `numpy.identity`."
   ]
  },
  {
   "cell_type": "code",
   "execution_count": null,
   "metadata": {},
   "outputs": [],
   "source": [
    "mI = np.identity(3)\n",
    "\n",
    "print(\"I=\")\n",
    "print(mI)\n",
    "\n",
    "mB = np.array([[2, 3, -4],\n",
    "               [3, -1, 2],\n",
    "               [4, 2, 2]])\n",
    "\n",
    "mIB = mI @ mB\n",
    "print(\"I @ B =\")\n",
    "print(mIB)\n",
    "\n",
    "# mIB should be equal to mB\n",
    "if np.allclose(mB, mIB) == True:\n",
    "    print(\"B = I @ B\")\n",
    "else:\n",
    "    print(\"Error\")"
   ]
  },
  {
   "cell_type": "markdown",
   "metadata": {},
   "source": [
    "## Determinants\n",
    "\n",
    "**Slide 16**\n",
    "\n",
    "Finding determinants of matrices using `numpy.linalg.deg`"
   ]
  },
  {
   "cell_type": "code",
   "execution_count": null,
   "metadata": {},
   "outputs": [],
   "source": [
    "# 2 x 2 example\n",
    "mD = np.array([[1, 4],\n",
    "               [-3, 5]])\n",
    "sDet = np.linalg.det(mD)\n",
    "print(\"det(D) = %.2f\" % sDet) \n",
    "\n",
    "# 3 x 3 example\n",
    "mA = np.array([[1, 2, 4],\n",
    "               [-3, 1, -2],\n",
    "               [3, 2, 5]])\n",
    "sDet = np.linalg.det(mA)\n",
    "print(\"det(A) = %.2f\" % sDet) "
   ]
  },
  {
   "cell_type": "markdown",
   "metadata": {},
   "source": [
    "## Solving systems of linear equations \n",
    "\n",
    "Find solutions of a system of linear equations of the form \\\\( A \\mathbf{x} = \\mathbf{b} \\\\) using `numpy.linalg.solve(A, b)`."
   ]
  },
  {
   "cell_type": "code",
   "execution_count": null,
   "metadata": {},
   "outputs": [],
   "source": [
    "# Set up a system of the form Ax = b\n",
    "mA = np.array([[2, 3, -4],\n",
    "               [3, -1, 2],\n",
    "               [4, 2, 2]])\n",
    "vb = np.array([10, 3, 8])\n",
    "\n",
    "# Solve the system of linear equations\n",
    "vX = np.linalg.solve(mA, vb)\n",
    "\n",
    "print(\"The solution to Ax = b is:\")\n",
    "print(vX)"
   ]
  },
  {
   "cell_type": "markdown",
   "metadata": {},
   "source": [
    "## Existence of solutions\n",
    "\n",
    "Is the solution above unique?"
   ]
  },
  {
   "cell_type": "code",
   "execution_count": null,
   "metadata": {},
   "outputs": [],
   "source": [
    "# Compute the determinant of the square matrix A\n",
    "sDet = np.linalg.det(mA)\n",
    "print(\"Determinant of A = %.3f\" % sDet) \n",
    "if(sDet != 0):\n",
    "    print(\"The system Ax = b has a UNIQUE solution.\") \n",
    "else:\n",
    "    print(\"The system Ax = b has either infinite solutions or no solutions.\") "
   ]
  },
  {
   "cell_type": "markdown",
   "metadata": {},
   "source": [
    "## Inverse of a matrix\n",
    "\n",
    "Compute the inverse of a matrix using `numpy.linalg.inv`"
   ]
  },
  {
   "cell_type": "code",
   "execution_count": null,
   "metadata": {},
   "outputs": [],
   "source": [
    "mA_inv = np.linalg.inv(mA)\n",
    "print(\"The inverse of A is:\") \n",
    "print(mA_inv) "
   ]
  },
  {
   "cell_type": "markdown",
   "metadata": {},
   "source": [
    "````{note}\n",
    "A is an object with a set of methods (you'll learn more about these in the Programming for Geophysicists course). Therefore, you could also use the method `getI()` to compute the inverse by typing \n",
    "\n",
    "```python\n",
    "A.getI()\n",
    "```\n",
    "\n",
    "````\n",
    "\n",
    "Let us check that `A @ A_inv` gives the identity matrix I. Note: You may find that some elements of the matrix are around `1e-16` (i.e. \\\\(10^{-16}\\\\) ) instead of exactly zero."
   ]
  },
  {
   "cell_type": "code",
   "execution_count": null,
   "metadata": {},
   "outputs": [],
   "source": [
    "print(\"A @ A_inv=\") \n",
    "print(mA @ mA_inv) \n",
    "\n",
    "mI = np.identity(3)\n",
    "\n",
    "if np.allclose(mI, mA @ mA_inv) == True:\n",
    "    print(\"A*A_inv gives the identity matrix\")\n",
    "else:\n",
    "    print(\"Error\")"
   ]
  },
  {
   "cell_type": "code",
   "execution_count": null,
   "metadata": {},
   "outputs": [],
   "source": []
  }
 ],
 "metadata": {
  "celltoolbar": "Tags",
  "kernelspec": {
   "display_name": "Python 3",
   "language": "python",
   "name": "python3"
  },
  "language_info": {
   "codemirror_mode": {
    "name": "ipython",
    "version": 3
   },
   "file_extension": ".py",
   "mimetype": "text/x-python",
   "name": "python",
   "nbconvert_exporter": "python",
   "pygments_lexer": "ipython3",
   "version": "3.8.8"
  }
 },
 "nbformat": 4,
 "nbformat_minor": 4
}
