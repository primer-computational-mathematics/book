{
 "cells": [
  {
   "cell_type": "markdown",
   "metadata": {},
   "source": [
    "# Temporal Aliasing"
   ]
  },
  {
   "cell_type": "markdown",
   "metadata": {},
   "source": [
    "## What is it?\n",
    "At high frequencies, data exceeding the Nyquist frequency will be aliased, and should be removed. At these frequencies the temporal sampling rate of our data is unable to constrain the signal, and will lead to noise in our data. (e.g. if the data is sampled at 4ms, the Nyquist frequency will be 125 Hz)\n",
    "\n",
    "$$f_{Nyq}=\\frac{1}{2{\\delta}t}$$\n",
    "\n",
    "$${\\delta}t\\leq\\frac{1}{2f_{Nyq}}$$\n",
    "\n",
    "Time dimension $t$ is controlled by the temporal sampling of our traces (e.g. 4ms in our dataset), while distance/offset dimension $x$ is controlled by the spacing of our traces. For a given lateral wavenumber $k_{x}$, the FK migration is remapping the temporal frequency ${\\omega}$ to a new vertical wavenumber $k_{z}$.\n",
    "\n",
    "$${\\omega}=\\frac{v}{2}\\sqrt{k_{x}^2+k_{z}^2}$$\n",
    "\n",
    "Filtering in seismic data processing is used to remove noise at very high or low frequencies (i.e. outside of the bandwidth of the main signal). This is one of the most effective noise removal steps, and should be done as early as possible in the processing flow."
   ]
  },
  {
   "cell_type": "markdown",
   "metadata": {},
   "source": [
    "### Practice 1\n",
    "A marine seismic survey is carried out using a shot interval of 20 m, and a cable containing 120 non-overlapping hydrophone groups with a spacing of 10 m. The hydrophones in water are at a depth of 8 meter. Given sound speed in water is 1500 m/s.\n",
    "- Work out the notch frequencies, which limits the available frequencies in the seismic data.\n",
    "- Accroding to the notch frequency, work out the maximum time sampling rate (in integer ms) needed in field data acquisition."
   ]
  },
  {
   "cell_type": "code",
   "execution_count": 3,
   "metadata": {},
   "outputs": [
    {
     "name": "stdout",
     "output_type": "stream",
     "text": [
      "The notch frequency is  93.75 Hz.\n"
     ]
    }
   ],
   "source": [
    "# work out the delay time by distance / velocity\n",
    "\n",
    "delay_t = 8 / 1500\n",
    "notch_freq = 1 / (2 * delay_t)\n",
    "\n",
    "print(\"The notch frequency is \", notch_freq, \"Hz.\")\n"
   ]
  },
  {
   "cell_type": "code",
   "execution_count": 5,
   "metadata": {},
   "outputs": [
    {
     "name": "stdout",
     "output_type": "stream",
     "text": [
      "The maximum time sampling rate is  5 ms.\n"
     ]
    }
   ],
   "source": [
    "# work out the max delta t by the Nyquist equation\n",
    "\n",
    "max_delta_t = 1 / (2 * notch_freq) # in seconds\n",
    "\n",
    "print(\"The maximum time sampling rate is \", int(max_delta_t*1000), \"ms.\")"
   ]
  },
  {
   "cell_type": "markdown",
   "metadata": {},
   "source": [
    "### Reference\n",
    "2022 notes and practical from Lecture 5 of the module ESE 60023 Seismic Processing and Lecture 2 of the module ESE 70015 Advance Seismic Processing."
   ]
  },
  {
   "cell_type": "code",
   "execution_count": null,
   "metadata": {},
   "outputs": [],
   "source": []
  }
 ],
 "metadata": {
  "kernelspec": {
   "display_name": "Python 3",
   "language": "python",
   "name": "python3"
  },
  "language_info": {
   "codemirror_mode": {
    "name": "ipython",
    "version": 3
   },
   "file_extension": ".py",
   "mimetype": "text/x-python",
   "name": "python",
   "nbconvert_exporter": "python",
   "pygments_lexer": "ipython3",
   "version": "3.8.3"
  }
 },
 "nbformat": 4,
 "nbformat_minor": 4
}
