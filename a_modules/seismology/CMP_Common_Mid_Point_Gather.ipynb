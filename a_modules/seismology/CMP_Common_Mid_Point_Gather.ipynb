{
 "cells": [
  {
   "cell_type": "markdown",
   "metadata": {
    "tags": [
     "module-psdp",
     "module-gagp"
    ]
   },
   "source": [
    "# Common Mid-point Gather\n",
    "```{index} Common Mid-point Gather\n",
    "```"
   ]
  },
  {
   "cell_type": "markdown",
   "metadata": {},
   "source": [
    "## What is it?\n",
    "Common mid-point (CMP) gather is a collection of traces that share a common mid-point (often also referred to as CDP, common depth-point, when the layer is horizontal). <br>\n",
    "\n",
    "<img src=\"images/cmp.png\" style=\"width:300px;height:200px\" align=\"center\"/>\n",
    "\n",
    "Different shots have information on the same midpoints. Reordering (sorting) them can produce data with the same midpoints, which provide redundant information on reflection points. The redundancy is exploited in velocity analysis and stacking. \n",
    "1. Traces are sorted by surface geometry to approximate a single reflection point in the earth. \n",
    "2. Data from several shots and receivers are combined into a single gather. \n",
    "3. The traces are sorted by offset in order to perform velocity analysis for data processing and hyperbolic moveout correction.\n"
   ]
  },
  {
   "cell_type": "markdown",
   "metadata": {},
   "source": [
    "## Survey Geometries\n",
    "Survey area is divided into equally sized CMP bins. This process is often referred to “binning”. Traces whose mid-point falls within that bin are assigned to that CMP (with the total number of traces per bin being our survey fold!). This is straightforward for marine surveys with simple geometries, where the CMP bins are usually spaced at half the receiver (group) interval. \n",
    "\n",
    "$$NF=\\frac{{\\Delta}X_{R}}{2{\\Delta}X_{S}}NC$$\n",
    "\n",
    "where $NF$ is no. of fold; $NC$ is no. of channel; $X_{R}$ is the receiver interval; $X_{S}$ is the source interval.\n",
    "\n",
    "For 3D surveys this will take the form of a regular grid.\n",
    "\n",
    "<img src=\"images/geom.png\" style=\"width:300px;height:300px\" align=\"center\"/>"
   ]
  },
  {
   "cell_type": "markdown",
   "metadata": {},
   "source": [
    "### Practice 1\n",
    "A marine seismic survey is carried out using a shot interval of 20 m, and a cable containing 120 non-overlapping hydrophone groups with a spacing of 10 m. The hydrophones in water are at a depth of 8 meter.\n",
    "- What is the maximum fold of the survey?\n",
    "- What is the midpoint spacing?"
   ]
  },
  {
   "cell_type": "code",
   "execution_count": 4,
   "metadata": {},
   "outputs": [
    {
     "name": "stdout",
     "output_type": "stream",
     "text": [
      "The maximum fold of the survey is 30 .\n"
     ]
    }
   ],
   "source": [
    "NC = 120\n",
    "X_r = 10\n",
    "X_s = 20\n",
    "\n",
    "def max_fold(NC, X_r, X_s):\n",
    "    NF = X_r / (2 * X_s) * NC\n",
    "    return NF\n",
    "\n",
    "print(\"The maximum fold of the survey is\", int(max_fold(NC, X_r, X_s)),\".\")"
   ]
  },
  {
   "cell_type": "code",
   "execution_count": 7,
   "metadata": {},
   "outputs": [
    {
     "name": "stdout",
     "output_type": "stream",
     "text": [
      "The midpoint spacing is 5 m.\n"
     ]
    }
   ],
   "source": [
    "X_r = 10\n",
    "\n",
    "def midpt_spacing(X_r):\n",
    "    return X_r/2\n",
    "\n",
    "print(\"The midpoint spacing is\", int(midpt_spacing(X_r)),\"m.\")"
   ]
  },
  {
   "cell_type": "markdown",
   "metadata": {},
   "source": [
    "## Complex Survey Geometries\n",
    "For less simple survey geometries, binning can become a lot more difficult. More complex bin arrangements have to be designed. This may result in irregularly shaped bins, whilst trying to maintain even fold, trace-offset distribution and trace-azimuth distribution throughout the survey area. Complex survey geometries are the most common in land surveying.\n",
    "\n",
    "<img src=\"images/landgeom.png\" style=\"width:300px;height:300px\" align=\"center\"/>"
   ]
  },
  {
   "cell_type": "markdown",
   "metadata": {},
   "source": [
    "### Reference\n",
    "2022 notes and practical from Lecture 2 of the module ESE 60023 Seismic Processing and Lecture 4 of the module ESE 70015 Advance Seismic Processing."
   ]
  },
  {
   "cell_type": "code",
   "execution_count": null,
   "metadata": {},
   "outputs": [],
   "source": []
  }
 ],
 "metadata": {
  "celltoolbar": "Tags",
  "kernelspec": {
   "display_name": "Python 3",
   "language": "python",
   "name": "python3"
  },
  "language_info": {
   "codemirror_mode": {
    "name": "ipython",
    "version": 3
   },
   "file_extension": ".py",
   "mimetype": "text/x-python",
   "name": "python",
   "nbconvert_exporter": "python",
   "pygments_lexer": "ipython3",
   "version": "3.8.8"
  }
 },
 "nbformat": 4,
 "nbformat_minor": 4
}
