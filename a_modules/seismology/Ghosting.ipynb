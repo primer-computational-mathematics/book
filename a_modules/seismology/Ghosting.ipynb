{
 "cells": [
  {
   "cell_type": "markdown",
   "metadata": {
    "tags": [
     "module-psdp",
     "module-gagp"
    ]
   },
   "source": [
    "(Ghosting)=\n",
    "\n",
    "# Ghosting"
   ]
  },
  {
   "cell_type": "markdown",
   "metadata": {},
   "source": [
    "## What is it?\n",
    "In marine acquisition, the source and receiver are both towed slightly below the sea surface, this leads to a reflection from the sea surface just above the source receiver. This reflection is refered as \"ghosting\".\n",
    "\n",
    "<img src=\"images/ghost.png\" style=\"width:300px;height:200px\" align=\"center\"/>\n",
    "\n",
    "Ghosting results in a noisier trace. The interaction of these two signals also leads to regular “notches” in the frequency spectrum, which can limit the bandwidth. The location of these notches $f_{n}$ is dependant on the depth $d$ of the source and receivers.\n",
    "\n",
    "$$f_{n}=\\frac{v}{2d}$$\n",
    "\n",
    "When designing survey, we need to achieve a delicate balance between the depth of the sources and receivers (deeper = quieter!) and the expected location of the notch (deeper = notch at lower frequency i.e. more reduced bandwidth!).\n",
    "\n",
    "<img src=\"images/notch.png\" style=\"width:300px;height:400px\" align=\"center\"/>\n",
    "\n",
    "Specific operators can be designed to remove the ghost and balance the amplitude of the frequencies in the ghost notch during processing, Where possible may be more convenient to filter out the notched data."
   ]
  },
  {
   "cell_type": "markdown",
   "metadata": {},
   "source": [
    "### Practice 1\n",
    "Calculate the notch frequency when the receiver is towed at 25 m."
   ]
  },
  {
   "cell_type": "code",
   "execution_count": 2,
   "metadata": {},
   "outputs": [
    {
     "name": "stdout",
     "output_type": "stream",
     "text": [
      "The notch frequency when the receiver is towed at 25 m is 30 Hz.\n"
     ]
    }
   ],
   "source": [
    "v = 1500 #velocity of sound in water\n",
    "d = 25\n",
    "\n",
    "def notch_freq(v,d):\n",
    "    return v / (2 * d)\n",
    "\n",
    "print(\"The notch frequency when the receiver is towed at 25 m is\", int(notch_freq(v,d)), \"Hz.\")"
   ]
  },
  {
   "cell_type": "markdown",
   "metadata": {},
   "source": [
    "## Surface Ghost in Dipole\n",
    "Ghosting can be described by a two-point filter (dipole). Assumes 1D plane waves (i.e. “far field”):\n",
    "\n",
    "<img src=\"images/dipole.png\" style=\"width:200px;height:150px\" align=\"center\"/>\n",
    "\n",
    "$$G(z)=1+Rz^{\\frac{2d}{v{\\Delta}t}}$$<br>\n",
    "$$n=\\frac{2d}{v{\\Delta}t};\\:\\:z=e^{-i{\\omega}{\\Delta}t};\\:\\:{\\omega}=2{\\pi}f $$<br>\n",
    "In practice $|R| < 1$. We refer $n$ as time index and $z$ as unit time delay. In the following calculation, we assume $R = -1$.\n",
    "\n",
    "$$G(z)=1-z^{\\frac{2d}{v{\\Delta}t}}$$<br>\n",
    "$$G(f)=1-e^{-i\\frac{4{\\pi}fd}{v}}$$<br>\n",
    "$$G(f)=e^{-i\\frac{2{\\pi}fd}{v}}(e^{i\\frac{2{\\pi}fd}{v}}-e^{-i\\frac{2{\\pi}fd}{v}})$$<br>\n",
    "$$G(f)=2{\\sin}(\\frac{2{\\pi}fd}{v})e^{-i(\\frac{2{\\pi}fd}{v}-\\frac{{\\pi}}{2})}$$<br>\n",
    "where $2{\\sin}(\\frac{2{\\pi}fd}{v})$ is the amplitude and $e^{-i(\\frac{2{\\pi}fd}{v}-\\frac{{\\pi}}{2})}$ is the phase.\n",
    "\n",
    "The amplitude spectrum is \n",
    "$$|G(f)|=2|{\\sin}(\\frac{2{\\pi}fd}{v})|$$\n",
    "\n",
    "<img src=\"images/gf.png\" style=\"width:400px;height:300px\" align=\"center\"/>"
   ]
  },
  {
   "cell_type": "markdown",
   "metadata": {},
   "source": [
    "### Practice 2\n",
    "If the Fourier Transform of the operator G(z) is\n",
    "\n",
    "$$G(f)=2{\\sin}(\\frac{2{\\pi}fd}{v})e^{-i(\\frac{2{\\pi}fd}{v}-\\frac{{\\pi}}{2})}$$<br>\n",
    "Calculate the first and second notch frequency for a streamer at depth 5 m and using a velocity of water of 1500 m/sec. "
   ]
  },
  {
   "cell_type": "markdown",
   "metadata": {},
   "source": [
    "$\\frac{2{\\pi}f_{n}d}{v}=k{\\pi},\\:\\:k=0,1,2...$<br><br>\n",
    "$f_{n}=k\\frac{v}{2d}$"
   ]
  },
  {
   "cell_type": "code",
   "execution_count": 4,
   "metadata": {},
   "outputs": [
    {
     "name": "stdout",
     "output_type": "stream",
     "text": [
      "The first notch frequency is 150 Hz.\n",
      "The second notch frequency is 300 Hz.\n"
     ]
    }
   ],
   "source": [
    "v = 1500\n",
    "d = 5\n",
    "\n",
    "def notch_f(k,v,d):\n",
    "    return (k * v) / (2 * d)\n",
    "\n",
    "print(\"The first notch frequency is\", int(notch_f(1,v,d)),\"Hz.\")\n",
    "print(\"The second notch frequency is\", int(notch_f(2,v,d)),\"Hz.\")"
   ]
  },
  {
   "cell_type": "markdown",
   "metadata": {},
   "source": [
    "### Reference\n",
    "2022 notes and practical from Lecture 3 of the module ESE 60023 Seismic Processing and Lecture 1 of the module ESE 70015 Advance Seismic Processing."
   ]
  },
  {
   "cell_type": "code",
   "execution_count": null,
   "metadata": {},
   "outputs": [],
   "source": []
  }
 ],
 "metadata": {
  "celltoolbar": "Tags",
  "kernelspec": {
   "display_name": "Python 3",
   "language": "python",
   "name": "python3"
  },
  "language_info": {
   "codemirror_mode": {
    "name": "ipython",
    "version": 3
   },
   "file_extension": ".py",
   "mimetype": "text/x-python",
   "name": "python",
   "nbconvert_exporter": "python",
   "pygments_lexer": "ipython3",
   "version": "3.8.8"
  }
 },
 "nbformat": 4,
 "nbformat_minor": 4
}
