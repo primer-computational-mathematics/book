{
 "cells": [
  {
   "cell_type": "markdown",
   "metadata": {
    "tags": [
     "module-toto"
    ]
   },
   "source": [
    "# Heat Flow\n",
    "```{index} Heat Flow\n",
    "```"
   ]
  },
  {
   "cell_type": "markdown",
   "metadata": {},
   "source": [
    "## Half-space Cooling Model\n",
    "\n",
    "<img src=\"images/halfspace_cooling_model.png\" style=\"width:500px;height:250px\" align=\"center\"/><br>\n",
    "Heat equation is as follow: <br><br>\n",
    "$$ \\frac{\\partial^{2}T}{\\partial x^{2}} + \\frac{\\partial^{2}T}{\\partial z^{2}} = \\frac{v}{\\kappa}\\:\\frac{\\partial{T}}{\\partial x} $$\n",
    "\n",
    "where $T$ is temperature and $\\kappa$ is the thermal diffusivity. The first term represents the lateral diffusion of heat, the second term represents the vertical diffusion of heat, and the third term (on the right side) is the advection of heat by the motion of the plate.<br>\n",
    "\n",
    "Away from the ridge axis ($x$ >> 0), one can show that the lateral heat diffusion is much smaller than the vertical heat diffusion. As this is a 2-dimensional problem with no heat sources so the heat equation has only diffusive and advective terms:<br><br>\n",
    "$$\\frac{\\partial^{2}T}{\\partial z^{2}} = \\frac{v}{\\kappa}\\:\\frac{\\partial{T}}{\\partial x} $$ \n",
    "\n",
    "Dropping this term simplifies the differential equation. The boundary and initial conditions are:<br>\n",
    "\n",
    "$$T(0,t) = T_{0}$$\n",
    "$$T({\\infty},t) = T_{m}$$\n",
    "$$T(z,0) = T_{m}$$\n",
    "\n",
    "The inifinite half-space has constant thermal diffusivity and an initially constant temperature $T_{m}$. At times greater than zero, the surface temperature reduced to $T_{0}$. The temperature will evolve with time. Note for this problem, time also corresponds to the age of the cooling oceanic lithosphere.\n",
    "\n",
    "The solution of the half-space cooling equation is:<br>\n",
    "\n",
    "$$T(z,t) = (T_{m} - T_{0})\\:erf\\left(\\frac{z}{2\\sqrt{\\kappa t}}\\right) + T_{0}$$\n",
    "\n",
    "where $T_{m}$ is the temperature of mantle/asthenosphere, $T_{0}$ is the surface temperature, $T_{z}$ is the temperature at depth $z$, $t$ is the age of the lithosphere, $\\kappa$ is the thermal diffusivity (~$10^{-6}\\: Wm^{-1}K^{-1}$)\n",
    "\n",
    "The definition of the error function $erf(x)$:<br>\n",
    "\n",
    "$$erf(x) = \\frac{2}{\\sqrt{\\pi}}\\int_{x}^{0} e^{-t^{2}} dt \\$$\n",
    "\n",
    "Error function table\n",
    "\n",
    "<img src=\"images/erf_table.png\" style=\"width:500px;height:500px\" align=\"center\"/><br>"
   ]
  },
  {
   "cell_type": "markdown",
   "metadata": {},
   "source": [
    "### Practical 3.2\n",
    "Calculate the $60 Ma$ geotherm $T_{z}$ in the oceanic lithosphere for the half-space cooling model.\n",
    "What is the thickness of $60Ma$ oceanic lithosphere? Use a surface temperature of $0°C$; an\n",
    "asthenospheric temperature of $1300°C$; and a temperature of $1150°C$ for the base of the lithosphere.\n",
    "Assume a thermal conductivity $\\kappa$ of $10^{-6}\\: Wm^{-1}K^{-1}$"
   ]
  },
  {
   "cell_type": "code",
   "execution_count": 1,
   "metadata": {},
   "outputs": [],
   "source": [
    "import math\n",
    "import numpy as np\n",
    "import matplotlib.pyplot as plt"
   ]
  },
  {
   "cell_type": "code",
   "execution_count": 2,
   "metadata": {},
   "outputs": [
    {
     "name": "stdout",
     "output_type": "stream",
     "text": [
      "The thickness of the oceanic lithosphere is 97.04 km\n"
     ]
    }
   ],
   "source": [
    "# Convert years to seconds\n",
    "t = 60 * 10**(6) * 365.25 * 24 * 60 * 60\n",
    "T_m = 1300\n",
    "T_0 = 0\n",
    "T_z = 1150\n",
    "k = 10**(-6)\n",
    "\n",
    "def erf(T_m, T_0, T_z):\n",
    "    err_f = (T_z - T_0) / (T_m - T_0)\n",
    "    return err_f\n",
    "\n",
    "# compare err_f with table\n",
    "# you should obtain 1.115\n",
    "\n",
    "z = 1.115 * 2 * math.sqrt(k * t)/1000\n",
    "print(\"The thickness of the oceanic lithosphere is\", round(z,2), \"km\")"
   ]
  },
  {
   "cell_type": "markdown",
   "metadata": {},
   "source": [
    "# Water Depth and Plate Models\n",
    "## Isotasy Model\n",
    "The model assumes that the lithosphere is a simply cooled asthenosphere.\n",
    "\n",
    "<img src=\"images/isostasy_model.png\" style=\"width:500px;height:250px\" align=\"center\"/><br>\n",
    "The two columns shown are isostatically balanced. They have the same mass per unit area, because the older column contains water to offset the added weight of dense lithospheric rock.\n",
    "## Half-space Model\n",
    "We can now use a heat conduction formulation and isostatic balancing and calculate the masses per unit area in these two columns to derive a formula for the depth of the ocean floor $w$ as a function of age $t$ . The solution will be applicable to columns of all ages.\n",
    "\n",
    "Depth ($w$) vs. age ($t$) for the ocean floor:<br><br>\n",
    "$$w = w_{0} + \\frac{2 {\\rho}_{a}\\:{\\alpha}_{v}\\:T_{a}}{{\\rho}_{a}\\:{\\rho}_{w}}\\sqrt{\\frac{{\\kappa}t}{\\pi}}$$\n",
    "\n",
    "By using the following values,<br><br>\n",
    "${\\rho}_{w} = 1000\\:kg\\:m^{-3}$ (density of water)<br>\n",
    "${\\rho}_{a} = 3300\\:kg\\:m^{-3}$ (density of top asthenosphere)<br>\n",
    "${\\alpha} = 3 \\times 10^{-5}\\:°C^{-1}$ (coefficient of thermal expansion)<br>\n",
    "${\\kappa} = 10^{-6}\\:m^{2}\\:s^{-1}$ (thermal conductivity)<br>\n",
    "$T_{a} = 1300\\:°C$ (temperature at the base of the plate)<br>\n",
    "$w_{0} = 2500\\:m$ (depth of ridge)<br>\n",
    "\n",
    "we can obtain a simplified formula as given by (Parson and Sclater, 1997):<br><br>\n",
    "$$w = 2500 + 350\\sqrt{t}$$<br>\n",
    "\n",
    "This formula satisties observational constrains quite well for ocean crust younger than 80 ma. Note: $w$ = depth of ocean floor = water depth\n",
    "\n",
    "<img src=\"images/halfspace_model.png\" style=\"width:310px;height:300px\" align=\"center\"/><br>\n",
    "\n",
    "The ocean depth with age curve \"flattens\" for ages older than 80-100 Ma, i.e. the observed subsidence is smaller than expected from the half-space cooling model. One possibility to explain the observed \"flattening“ is that by some means there is more heat beneath old lithosphere than predicted by the half-space cooling model.\n",
    "\n",
    "Possible mechanisms include:\n",
    "1. small scale convection,\n",
    "2. radioactive heat decay,\n",
    "3. phase changes, and\n",
    "4. mantle plumes."
   ]
  },
  {
   "cell_type": "code",
   "execution_count": 3,
   "metadata": {},
   "outputs": [
    {
     "data": {
      "image/png": "[encoded data removed]",
      "text/plain": [
       "<Figure size 432x288 with 1 Axes>"
      ]
     },
     "metadata": {
      "needs_background": "light"
     },
     "output_type": "display_data"
    }
   ],
   "source": [
    "# Half space model age vs depth plot\n",
    "\n",
    "x = np.arange(4, 170, 1)\n",
    "y = (2500+350*np.sqrt(x))/1000\n",
    "\n",
    "plt.plot(x, y, label='Half-space Model')\n",
    "plt.yticks(range(2, 9))\n",
    "plt.xticks(range(0, 200, 50))\n",
    "plt.gca().invert_yaxis()\n",
    "plt.title(\"Half space model age vs depth\")\n",
    "plt.xlabel('Age (Ma)')\n",
    "plt.ylabel('Depth (km)')\n",
    "plt.legend()\n",
    "plt.show()\n"
   ]
  },
  {
   "cell_type": "markdown",
   "metadata": {},
   "source": [
    "## Stein and Stein Plate Model\n",
    "A popular alternative to the half-space cooling model is the so-called plate (PSM) model first proposed by Parsons and Sclater (1977) and refined to GDH1 model by Stein & Stein (1992):\n",
    "\n",
    "<img src=\"images/thermal_model.png\" style=\"width:600px;height:200px\" align=\"center\"/><br>\n",
    "\n",
    "For the plate model beyond a critical age the lithosphere is assumed to be a constant thickness $L$, with a constant temperature $T_{a}$ at its base. The proposed mechanism for the required supply of heat is small-scale convection in a lower thermal boundary layer.\n",
    "\n",
    "The subsidence is obtained by isostatic balancing:\n",
    "\n",
    "$$w = w_{final} - T_{m}L\\frac{{\\rho}_{a}}{{\\rho}_{a}-{\\rho}_{w}}4{\\alpha}\\:\\sum_{n=1,3,5,...} \\frac{1}{n^{2}{\\pi}^{2}}exp\\left(-\\frac{n^{2}{\\pi}^{2}{\\kappa}t}{L^{2}}\\right)$$<br>\n",
    "$$= 6400 - 3200\\:exp^{-(t/62.8)}\\:\\:\\:for\\: t > 20 ma$$ <br>\n",
    "where $w_{final}$ is the equilibrium depth (Parsons and Sclater, 1977).\n",
    "\n",
    "<img src=\"images/sns_model.png\" style=\"width:310px;height:300px\" align=\"center\"/><br>\n",
    "Note: at age 0, the depth is 2.6 km."
   ]
  },
  {
   "cell_type": "code",
   "execution_count": 4,
   "metadata": {},
   "outputs": [
    {
     "data": {
      "image/png": "[encoded data removed]",
      "text/plain": [
       "<Figure size 432x288 with 1 Axes>"
      ]
     },
     "metadata": {
      "needs_background": "light"
     },
     "output_type": "display_data"
    }
   ],
   "source": [
    "# Half space and plate model age vs depth plot\n",
    "\n",
    "x = np.arange(4, 170, 1)\n",
    "y = (2500+350*np.sqrt(x))/1000\n",
    "x2 = np.arange(20, 170, 1)\n",
    "y2 = (6400 - 3200 * np.exp(-x2/62.8))/1000\n",
    "\n",
    "plt.plot(x2, y2, label='Plate Model')\n",
    "plt.plot(x, y, label='Half-space Model')\n",
    "plt.yticks(range(2, 9))\n",
    "plt.xticks(range(0, 200, 50))\n",
    "plt.gca().invert_yaxis()\n",
    "plt.title(\"Half space model age vs depth\")\n",
    "plt.xlabel('Age (Ma)')\n",
    "plt.ylabel('Depth (km)')\n",
    "plt.legend()\n",
    "plt.show()"
   ]
  },
  {
   "cell_type": "markdown",
   "metadata": {},
   "source": [
    "### Practical 3.3\n",
    "(a) Using the Stein and Stein half space model, calculate the difference in depth of the seabed at the intersection of a mid-ocean ridge and a transform fault. Assume that the mid-ocean ridge is spreading at 4 cm yr -1 (full rate) and that the ridge is offset 300 km by the transform fault."
   ]
  },
  {
   "cell_type": "code",
   "execution_count": 5,
   "metadata": {},
   "outputs": [
    {
     "name": "stdout",
     "output_type": "stream",
     "text": [
      "The difference in depth of the seabed at the intersection of a mid-ocean ridge and a transform fault is 1.36 km.\n"
     ]
    }
   ],
   "source": [
    "def halfspace_model(age):\n",
    "    depth = (2500+350*np.sqrt(age))/1000\n",
    "    return depth #in km\n",
    "\n",
    "age_ridge = 0\n",
    "age_offset = 300 * 1000 * 100 / (4 / 2) / 10**6 #age in Ma\n",
    "\n",
    "depth_difference = np.abs(halfspace_model(age_ridge) - halfspace_model(age_offset))\n",
    "\n",
    "print(\"The difference in depth of the seabed at the intersection of a mid-ocean ridge and a transform fault is\", \n",
    "      round(depth_difference, 2), \"km.\" )"
   ]
  },
  {
   "cell_type": "markdown",
   "metadata": {},
   "source": [
    "(b) Calculate the difference in depth on either side of the same fault at 1000/1300 km from the ridge\n",
    "axis."
   ]
  },
  {
   "cell_type": "code",
   "execution_count": 6,
   "metadata": {},
   "outputs": [
    {
     "name": "stdout",
     "output_type": "stream",
     "text": [
      "The difference in depth on either side of the same fault at 1000/1300 km from the ridge axis is 0.21 km.\n"
     ]
    }
   ],
   "source": [
    "def plate_model(age):\n",
    "    depth = (5.65 - 2.47 * np.exp(-age/36))\n",
    "#   depth = (6400 - 3200 * np.exp(-age/62.8))/1000\n",
    "    return depth #in km\n",
    "\n",
    "age_1000 = 1000 * 1000 * 100 / (4 / 2) / 10**6\n",
    "age_1300 = 1300 * 1000 * 100 / (4 / 2) / 10**6\n",
    "\n",
    "depth_difference = np.abs(plate_model(age_1000) - plate_model(age_1300))\n",
    "\n",
    "print(\"The difference in depth on either side of the same fault at 1000/1300 km from the ridge axis is\", \n",
    "      round(depth_difference, 2), \"km.\" )"
   ]
  },
  {
   "cell_type": "markdown",
   "metadata": {},
   "source": [
    "## Plate models contraints\n",
    "We still can’t discriminate between the different plate models because:\n",
    "1. The quality of heat flow data varies substantially\n",
    "2. The sediment thickness is often not known well enough to be corrected for\n",
    "3. The oceanic crustal thickness is not known well enough in areas where it deviates from normal ocean crust (i.e. oceanic plateaus)\n",
    "4. Different ocean basins may have subsided from different ridge elevations at zero age\n",
    "5. The thermal effects of hotspots are difficult to constrain, as they varying both in time and space"
   ]
  },
  {
   "cell_type": "markdown",
   "metadata": {},
   "source": [
    "### Reference\n",
    "2022 notes and practical from Lecture 3 of the module ESE 60028 Tectonics of the Ocean"
   ]
  }
 ],
 "metadata": {
  "celltoolbar": "Tags",
  "kernelspec": {
   "display_name": "Python 3",
   "language": "python",
   "name": "python3"
  },
  "language_info": {
   "codemirror_mode": {
    "name": "ipython",
    "version": 3
   },
   "file_extension": ".py",
   "mimetype": "text/x-python",
   "name": "python",
   "nbconvert_exporter": "python",
   "pygments_lexer": "ipython3",
   "version": "3.8.8"
  }
 },
 "nbformat": 4,
 "nbformat_minor": 4
}
